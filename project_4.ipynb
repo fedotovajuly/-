{
 "cells": [
  {
   "cell_type": "markdown",
   "id": "f2d88aee",
   "metadata": {},
   "source": [
    "#  Статистический анализ данных сервиса аренды самокатов GoFast "
   ]
  },
  {
   "cell_type": "markdown",
   "id": "203a1210",
   "metadata": {},
   "source": [
    "В нашем распроряжении данные о некоторых пользователях из нескольких городов, а также об их поездках. Проанализируем данные и проверим некоторые гипотезы, которые могут помочь бизнесу вырасти. Перечень гипотез, проверяемых в данной работе, приведен ниже в разделе \"Проверка гипотез\".\n",
    "\n",
    "Чтобы совершать поездки по городу, пользователи сервиса GoFast пользуются мобильным приложением. Сервисом можно пользоваться:\n",
    "- без подписки\n",
    "  - абонентская плата отсутствует;\n",
    "  - стоимость одной минуты поездки — 8 рублей;\n",
    "  - стоимость старта (начала поездки) — 50 рублей;\n",
    "- с подпиской Ultra\n",
    "  - абонентская плата — 199 рублей в месяц;\n",
    "  - стоимость одной минуты поездки — 6 рублей;\n",
    "  - стоимость старта — бесплатно.\n",
    "  \n",
    "Ход выполнения работы:\n",
    "1. Загрузить данные. Изучите общую информацию о каждом датафрейме.\n",
    "2. Провести предобработку данных. Проверить наличие пропущенных значений и дубликатов в датафреймах. Привести формат даты к datetime. Создать столбец с номером месяца на основе столбца с датой поездки.\n",
    "3. Провести исследовательский анализ данных.- Оцененить и визуализировать частоту встречаемости городов, соотношение пользователей с подпиской и без подписки, возраст пользователей, расстояние, которое пользователь преодолел за одну поездку и продолжительность поездок. \n",
    "4. Объединить данные из трёх датасетов в один общий. После чего на его основе создать два датасета с данными о пользователях с подпиской и без неё.\n",
    "5. Произвести подсчёт выручки. Создать сводную таблицу о суммарном расстоянии, количестве поездок и суммарном времени для каждого пользователя за каждый месяц. Добавить столбец в данную таблицу с помесячной выручкой, но перед этим произвести округление значений в столбце с продолжительностью поездки в исходном датасете.\n",
    "6. Произвести проверку гипотез с помощью t-тестов:\n",
    "- Пользователи с подпиской тратят больше времени на поездки, чем пользователи на бесплатном тарифе\n",
    "- Пользователи с подпиской проезжают расстояние, не превышающее 3130 метров за одну поездку\n",
    "- Помесячная выручка от пользователей с подпиской выше, чем выручка от пользователей без подписки\n",
    "7. Определить минимальное количество промокодов, которые нужно разослать, чтобы как минимум 100 существующих клиентов должны продлить эту подписку и вероятность не выполнить план была примерно 5 %. А так же, оцененить вероятность того, что уведомление откроют не более 399,5 тыс. пользователей из 1 млн разосланный уведомлений с вероятностью открытия 40%. \n"
   ]
  },
  {
   "cell_type": "markdown",
   "id": "7bda0c46",
   "metadata": {},
   "source": [
    "**Для ознакомления с данными и дальнейшего их анализа импортируем библиотеки**"
   ]
  },
  {
   "cell_type": "code",
   "execution_count": 1,
   "id": "2bfd2252",
   "metadata": {},
   "outputs": [],
   "source": [
    "import pandas as pd\n",
    "from scipy import stats as st\n",
    "from scipy.stats import binom, norm\n",
    "import matplotlib.pyplot as plt\n",
    "import numpy as np\n",
    "from math import sqrt"
   ]
  },
  {
   "cell_type": "markdown",
   "id": "c42cbe00",
   "metadata": {},
   "source": [
    "#### Шаг 1. Загрузка данных"
   ]
  },
  {
   "cell_type": "code",
   "execution_count": 2,
   "id": "eff9f206",
   "metadata": {},
   "outputs": [
    {
     "data": {
      "text/html": [
       "<div>\n",
       "<style scoped>\n",
       "    .dataframe tbody tr th:only-of-type {\n",
       "        vertical-align: middle;\n",
       "    }\n",
       "\n",
       "    .dataframe tbody tr th {\n",
       "        vertical-align: top;\n",
       "    }\n",
       "\n",
       "    .dataframe thead th {\n",
       "        text-align: right;\n",
       "    }\n",
       "</style>\n",
       "<table border=\"1\" class=\"dataframe\">\n",
       "  <thead>\n",
       "    <tr style=\"text-align: right;\">\n",
       "      <th></th>\n",
       "      <th>user_id</th>\n",
       "      <th>name</th>\n",
       "      <th>age</th>\n",
       "      <th>city</th>\n",
       "      <th>subscription_type</th>\n",
       "    </tr>\n",
       "  </thead>\n",
       "  <tbody>\n",
       "    <tr>\n",
       "      <th>1560</th>\n",
       "      <td>829</td>\n",
       "      <td>Федор</td>\n",
       "      <td>29</td>\n",
       "      <td>Пятигорск</td>\n",
       "      <td>free</td>\n",
       "    </tr>\n",
       "    <tr>\n",
       "      <th>1561</th>\n",
       "      <td>809</td>\n",
       "      <td>Юрий</td>\n",
       "      <td>26</td>\n",
       "      <td>Сочи</td>\n",
       "      <td>free</td>\n",
       "    </tr>\n",
       "    <tr>\n",
       "      <th>1562</th>\n",
       "      <td>307</td>\n",
       "      <td>Ясмина</td>\n",
       "      <td>19</td>\n",
       "      <td>Краснодар</td>\n",
       "      <td>ultra</td>\n",
       "    </tr>\n",
       "    <tr>\n",
       "      <th>1563</th>\n",
       "      <td>47</td>\n",
       "      <td>Юрий</td>\n",
       "      <td>28</td>\n",
       "      <td>Тюмень</td>\n",
       "      <td>ultra</td>\n",
       "    </tr>\n",
       "    <tr>\n",
       "      <th>1564</th>\n",
       "      <td>1045</td>\n",
       "      <td>Артемий</td>\n",
       "      <td>28</td>\n",
       "      <td>Ростов-на-Дону</td>\n",
       "      <td>free</td>\n",
       "    </tr>\n",
       "  </tbody>\n",
       "</table>\n",
       "</div>"
      ],
      "text/plain": [
       "      user_id     name  age            city subscription_type\n",
       "1560      829    Федор   29       Пятигорск              free\n",
       "1561      809     Юрий   26            Сочи              free\n",
       "1562      307   Ясмина   19       Краснодар             ultra\n",
       "1563       47     Юрий   28          Тюмень             ultra\n",
       "1564     1045  Артемий   28  Ростов-на-Дону              free"
      ]
     },
     "metadata": {},
     "output_type": "display_data"
    }
   ],
   "source": [
    "users = pd.read_csv('/datasets/users_go.csv')\n",
    "display(users.tail())"
   ]
  },
  {
   "cell_type": "markdown",
   "id": "cb28be85",
   "metadata": {},
   "source": [
    "В файле users содержится следующаяя информация:\n",
    "- user_id - уникальный идентификатор пользователя\n",
    "- name - имя пользователя\n",
    "- age - возраст\n",
    "- city - город\n",
    "- subscription_type - тип подписки (free - без подписки, ultra - с подпиской)"
   ]
  },
  {
   "cell_type": "code",
   "execution_count": 3,
   "id": "de57a68c",
   "metadata": {},
   "outputs": [
    {
     "data": {
      "text/html": [
       "<div>\n",
       "<style scoped>\n",
       "    .dataframe tbody tr th:only-of-type {\n",
       "        vertical-align: middle;\n",
       "    }\n",
       "\n",
       "    .dataframe tbody tr th {\n",
       "        vertical-align: top;\n",
       "    }\n",
       "\n",
       "    .dataframe thead th {\n",
       "        text-align: right;\n",
       "    }\n",
       "</style>\n",
       "<table border=\"1\" class=\"dataframe\">\n",
       "  <thead>\n",
       "    <tr style=\"text-align: right;\">\n",
       "      <th></th>\n",
       "      <th>user_id</th>\n",
       "      <th>distance</th>\n",
       "      <th>duration</th>\n",
       "      <th>date</th>\n",
       "    </tr>\n",
       "  </thead>\n",
       "  <tbody>\n",
       "    <tr>\n",
       "      <th>18063</th>\n",
       "      <td>1534</td>\n",
       "      <td>3781.098080</td>\n",
       "      <td>19.822962</td>\n",
       "      <td>2021-11-04</td>\n",
       "    </tr>\n",
       "    <tr>\n",
       "      <th>18064</th>\n",
       "      <td>1534</td>\n",
       "      <td>2840.423057</td>\n",
       "      <td>21.409799</td>\n",
       "      <td>2021-11-16</td>\n",
       "    </tr>\n",
       "    <tr>\n",
       "      <th>18065</th>\n",
       "      <td>1534</td>\n",
       "      <td>3826.185507</td>\n",
       "      <td>18.435051</td>\n",
       "      <td>2021-11-18</td>\n",
       "    </tr>\n",
       "    <tr>\n",
       "      <th>18066</th>\n",
       "      <td>1534</td>\n",
       "      <td>2902.308661</td>\n",
       "      <td>16.674362</td>\n",
       "      <td>2021-11-27</td>\n",
       "    </tr>\n",
       "    <tr>\n",
       "      <th>18067</th>\n",
       "      <td>1534</td>\n",
       "      <td>2371.711192</td>\n",
       "      <td>15.893917</td>\n",
       "      <td>2021-12-29</td>\n",
       "    </tr>\n",
       "  </tbody>\n",
       "</table>\n",
       "</div>"
      ],
      "text/plain": [
       "       user_id     distance   duration        date\n",
       "18063     1534  3781.098080  19.822962  2021-11-04\n",
       "18064     1534  2840.423057  21.409799  2021-11-16\n",
       "18065     1534  3826.185507  18.435051  2021-11-18\n",
       "18066     1534  2902.308661  16.674362  2021-11-27\n",
       "18067     1534  2371.711192  15.893917  2021-12-29"
      ]
     },
     "metadata": {},
     "output_type": "display_data"
    }
   ],
   "source": [
    "rides = pd.read_csv('/datasets/rides_go.csv')\n",
    "display(rides.tail())"
   ]
  },
  {
   "cell_type": "markdown",
   "id": "17b0725a",
   "metadata": {},
   "source": [
    "В файле rides содержится следующаяя информация:\n",
    "- user_id  - уникальный идентификатор пользователя\n",
    "- distance - расстояние, которое пользователь проехал в текущей сессии (в метрах)\n",
    "- duration - продолжительность сессии (в минутах) — время с того момента, как пользователь нажал кнопку «Начать поездку» до момента, как он нажал кнопку «Завершить поездку»\n",
    "- date - дата совершения поездки"
   ]
  },
  {
   "cell_type": "code",
   "execution_count": 4,
   "id": "47947ce5",
   "metadata": {},
   "outputs": [
    {
     "data": {
      "text/html": [
       "<div>\n",
       "<style scoped>\n",
       "    .dataframe tbody tr th:only-of-type {\n",
       "        vertical-align: middle;\n",
       "    }\n",
       "\n",
       "    .dataframe tbody tr th {\n",
       "        vertical-align: top;\n",
       "    }\n",
       "\n",
       "    .dataframe thead th {\n",
       "        text-align: right;\n",
       "    }\n",
       "</style>\n",
       "<table border=\"1\" class=\"dataframe\">\n",
       "  <thead>\n",
       "    <tr style=\"text-align: right;\">\n",
       "      <th></th>\n",
       "      <th>subscription_type</th>\n",
       "      <th>minute_price</th>\n",
       "      <th>start_ride_price</th>\n",
       "      <th>subscription_fee</th>\n",
       "    </tr>\n",
       "  </thead>\n",
       "  <tbody>\n",
       "    <tr>\n",
       "      <th>0</th>\n",
       "      <td>free</td>\n",
       "      <td>8</td>\n",
       "      <td>50</td>\n",
       "      <td>0</td>\n",
       "    </tr>\n",
       "    <tr>\n",
       "      <th>1</th>\n",
       "      <td>ultra</td>\n",
       "      <td>6</td>\n",
       "      <td>0</td>\n",
       "      <td>199</td>\n",
       "    </tr>\n",
       "  </tbody>\n",
       "</table>\n",
       "</div>"
      ],
      "text/plain": [
       "  subscription_type  minute_price  start_ride_price  subscription_fee\n",
       "0              free             8                50                 0\n",
       "1             ultra             6                 0               199"
      ]
     },
     "execution_count": 4,
     "metadata": {},
     "output_type": "execute_result"
    }
   ],
   "source": [
    "subscriptions = pd.read_csv('/datasets/subscriptions_go.csv')\n",
    "subscriptions"
   ]
  },
  {
   "cell_type": "markdown",
   "id": "c286a85c",
   "metadata": {},
   "source": [
    "В файле subscriptions_go содержится следующаяя информация:\n",
    "- subscription_type - тип подписки\n",
    "- minute_price - стоимость одной минуты поездки по данной подписке\n",
    "- start_ride_price - стоимость начала поездки\n",
    "- subscription_fee - стоимость ежемесячного платежа"
   ]
  },
  {
   "cell_type": "markdown",
   "id": "5be714db",
   "metadata": {},
   "source": [
    "**Ознакомимся с информацией о данных**"
   ]
  },
  {
   "cell_type": "code",
   "execution_count": 5,
   "id": "37a9aa17",
   "metadata": {},
   "outputs": [
    {
     "name": "stdout",
     "output_type": "stream",
     "text": [
      "<class 'pandas.core.frame.DataFrame'>\n",
      "RangeIndex: 1565 entries, 0 to 1564\n",
      "Data columns (total 5 columns):\n",
      " #   Column             Non-Null Count  Dtype \n",
      "---  ------             --------------  ----- \n",
      " 0   user_id            1565 non-null   int64 \n",
      " 1   name               1565 non-null   object\n",
      " 2   age                1565 non-null   int64 \n",
      " 3   city               1565 non-null   object\n",
      " 4   subscription_type  1565 non-null   object\n",
      "dtypes: int64(2), object(3)\n",
      "memory usage: 61.3+ KB\n"
     ]
    }
   ],
   "source": [
    "users.info()"
   ]
  },
  {
   "cell_type": "markdown",
   "id": "3e96dee0",
   "metadata": {},
   "source": [
    "Пропусков в данных не обнаружено. Перевод форматов данных не требуется."
   ]
  },
  {
   "cell_type": "code",
   "execution_count": 6,
   "id": "6e3a9b42",
   "metadata": {},
   "outputs": [
    {
     "name": "stdout",
     "output_type": "stream",
     "text": [
      "<class 'pandas.core.frame.DataFrame'>\n",
      "RangeIndex: 18068 entries, 0 to 18067\n",
      "Data columns (total 4 columns):\n",
      " #   Column    Non-Null Count  Dtype  \n",
      "---  ------    --------------  -----  \n",
      " 0   user_id   18068 non-null  int64  \n",
      " 1   distance  18068 non-null  float64\n",
      " 2   duration  18068 non-null  float64\n",
      " 3   date      18068 non-null  object \n",
      "dtypes: float64(2), int64(1), object(1)\n",
      "memory usage: 564.8+ KB\n"
     ]
    }
   ],
   "source": [
    "rides.info()"
   ]
  },
  {
   "cell_type": "markdown",
   "id": "e2ba9abc",
   "metadata": {},
   "source": [
    "Пропусков в данных не обнаружено. Требуется перевод формата данных о дате поездки в формат datetime."
   ]
  },
  {
   "cell_type": "code",
   "execution_count": 7,
   "id": "e298f121",
   "metadata": {},
   "outputs": [
    {
     "name": "stdout",
     "output_type": "stream",
     "text": [
      "<class 'pandas.core.frame.DataFrame'>\n",
      "RangeIndex: 2 entries, 0 to 1\n",
      "Data columns (total 4 columns):\n",
      " #   Column             Non-Null Count  Dtype \n",
      "---  ------             --------------  ----- \n",
      " 0   subscription_type  2 non-null      object\n",
      " 1   minute_price       2 non-null      int64 \n",
      " 2   start_ride_price   2 non-null      int64 \n",
      " 3   subscription_fee   2 non-null      int64 \n",
      "dtypes: int64(3), object(1)\n",
      "memory usage: 192.0+ bytes\n"
     ]
    }
   ],
   "source": [
    "subscriptions.info()"
   ]
  },
  {
   "cell_type": "markdown",
   "id": "09bb67c7",
   "metadata": {},
   "source": [
    "Пропусков в данных не обнаружено. Перевод форматов данных не требуется."
   ]
  },
  {
   "cell_type": "markdown",
   "id": "b91bffe4",
   "metadata": {},
   "source": [
    "**Ознакомимся со сводной статистикой данных**"
   ]
  },
  {
   "cell_type": "code",
   "execution_count": 8,
   "id": "035aa42a",
   "metadata": {},
   "outputs": [
    {
     "data": {
      "text/html": [
       "<div>\n",
       "<style scoped>\n",
       "    .dataframe tbody tr th:only-of-type {\n",
       "        vertical-align: middle;\n",
       "    }\n",
       "\n",
       "    .dataframe tbody tr th {\n",
       "        vertical-align: top;\n",
       "    }\n",
       "\n",
       "    .dataframe thead th {\n",
       "        text-align: right;\n",
       "    }\n",
       "</style>\n",
       "<table border=\"1\" class=\"dataframe\">\n",
       "  <thead>\n",
       "    <tr style=\"text-align: right;\">\n",
       "      <th></th>\n",
       "      <th>count</th>\n",
       "      <th>mean</th>\n",
       "      <th>std</th>\n",
       "      <th>min</th>\n",
       "      <th>25%</th>\n",
       "      <th>50%</th>\n",
       "      <th>75%</th>\n",
       "      <th>max</th>\n",
       "    </tr>\n",
       "  </thead>\n",
       "  <tbody>\n",
       "    <tr>\n",
       "      <th>user_id</th>\n",
       "      <td>1565.0</td>\n",
       "      <td>762.633866</td>\n",
       "      <td>443.260155</td>\n",
       "      <td>1.0</td>\n",
       "      <td>378.0</td>\n",
       "      <td>762.0</td>\n",
       "      <td>1146.0</td>\n",
       "      <td>1534.0</td>\n",
       "    </tr>\n",
       "    <tr>\n",
       "      <th>age</th>\n",
       "      <td>1565.0</td>\n",
       "      <td>24.922045</td>\n",
       "      <td>4.553496</td>\n",
       "      <td>12.0</td>\n",
       "      <td>22.0</td>\n",
       "      <td>25.0</td>\n",
       "      <td>28.0</td>\n",
       "      <td>43.0</td>\n",
       "    </tr>\n",
       "  </tbody>\n",
       "</table>\n",
       "</div>"
      ],
      "text/plain": [
       "          count        mean         std   min    25%    50%     75%     max\n",
       "user_id  1565.0  762.633866  443.260155   1.0  378.0  762.0  1146.0  1534.0\n",
       "age      1565.0   24.922045    4.553496  12.0   22.0   25.0    28.0    43.0"
      ]
     },
     "execution_count": 8,
     "metadata": {},
     "output_type": "execute_result"
    }
   ],
   "source": [
    "users.describe().T"
   ]
  },
  {
   "cell_type": "markdown",
   "id": "4cb4a56e",
   "metadata": {},
   "source": [
    "Исходя из таблицы со сводной статистикой о пользователях сервиса можно увидеть, что минимальный возраст пользователя - 12 лет, а максимальный - 43 года. Медианный возраст пользователя - 25 лет. "
   ]
  },
  {
   "cell_type": "code",
   "execution_count": 9,
   "id": "2495249a",
   "metadata": {},
   "outputs": [
    {
     "data": {
      "text/html": [
       "<div>\n",
       "<style scoped>\n",
       "    .dataframe tbody tr th:only-of-type {\n",
       "        vertical-align: middle;\n",
       "    }\n",
       "\n",
       "    .dataframe tbody tr th {\n",
       "        vertical-align: top;\n",
       "    }\n",
       "\n",
       "    .dataframe thead th {\n",
       "        text-align: right;\n",
       "    }\n",
       "</style>\n",
       "<table border=\"1\" class=\"dataframe\">\n",
       "  <thead>\n",
       "    <tr style=\"text-align: right;\">\n",
       "      <th></th>\n",
       "      <th>count</th>\n",
       "      <th>mean</th>\n",
       "      <th>std</th>\n",
       "      <th>min</th>\n",
       "      <th>25%</th>\n",
       "      <th>50%</th>\n",
       "      <th>75%</th>\n",
       "      <th>max</th>\n",
       "    </tr>\n",
       "  </thead>\n",
       "  <tbody>\n",
       "    <tr>\n",
       "      <th>user_id</th>\n",
       "      <td>18068.0</td>\n",
       "      <td>842.869936</td>\n",
       "      <td>434.734317</td>\n",
       "      <td>1.000000</td>\n",
       "      <td>487.000000</td>\n",
       "      <td>889.000000</td>\n",
       "      <td>1213.250000</td>\n",
       "      <td>1534.000000</td>\n",
       "    </tr>\n",
       "    <tr>\n",
       "      <th>distance</th>\n",
       "      <td>18068.0</td>\n",
       "      <td>3070.659976</td>\n",
       "      <td>1116.831209</td>\n",
       "      <td>0.855683</td>\n",
       "      <td>2543.226360</td>\n",
       "      <td>3133.609994</td>\n",
       "      <td>3776.222735</td>\n",
       "      <td>7211.007745</td>\n",
       "    </tr>\n",
       "    <tr>\n",
       "      <th>duration</th>\n",
       "      <td>18068.0</td>\n",
       "      <td>17.805011</td>\n",
       "      <td>6.091051</td>\n",
       "      <td>0.500000</td>\n",
       "      <td>13.597563</td>\n",
       "      <td>17.678395</td>\n",
       "      <td>21.724800</td>\n",
       "      <td>40.823963</td>\n",
       "    </tr>\n",
       "  </tbody>\n",
       "</table>\n",
       "</div>"
      ],
      "text/plain": [
       "            count         mean          std       min          25%  \\\n",
       "user_id   18068.0   842.869936   434.734317  1.000000   487.000000   \n",
       "distance  18068.0  3070.659976  1116.831209  0.855683  2543.226360   \n",
       "duration  18068.0    17.805011     6.091051  0.500000    13.597563   \n",
       "\n",
       "                  50%          75%          max  \n",
       "user_id    889.000000  1213.250000  1534.000000  \n",
       "distance  3133.609994  3776.222735  7211.007745  \n",
       "duration    17.678395    21.724800    40.823963  "
      ]
     },
     "execution_count": 9,
     "metadata": {},
     "output_type": "execute_result"
    }
   ],
   "source": [
    "rides.describe().T"
   ]
  },
  {
   "cell_type": "markdown",
   "id": "21f60740",
   "metadata": {},
   "source": [
    "Минимальное расстояние, проезжаемое пользователями примерно 86 см, что может быть обусловлено нежеланием пользователя продолжать поездку или тем, что выбранный пользователем самокат мог быть разряженным. Медианное расстояние, проезжаемое пользователями сервися 3,134 км, а максимальное же - 7,211 км.  "
   ]
  },
  {
   "cell_type": "markdown",
   "id": "e95ebca7",
   "metadata": {},
   "source": [
    "#### Шаг 2. Предобработка данных"
   ]
  },
  {
   "cell_type": "markdown",
   "id": "1bf71596",
   "metadata": {},
   "source": [
    "Приведем формат даты в файле с информацией о поездках (rides) в формат datetime"
   ]
  },
  {
   "cell_type": "code",
   "execution_count": 10,
   "id": "69587a4a",
   "metadata": {},
   "outputs": [],
   "source": [
    "rides['date'] = pd.to_datetime(rides['date'], format='%Y-%m-%d')"
   ]
  },
  {
   "cell_type": "markdown",
   "id": "64a3513b",
   "metadata": {},
   "source": [
    "Создаём новый столбец с номером месяца на основе столбца date"
   ]
  },
  {
   "cell_type": "code",
   "execution_count": 11,
   "id": "d1d24803",
   "metadata": {},
   "outputs": [],
   "source": [
    "rides['month'] = rides['date'].dt.month "
   ]
  },
  {
   "cell_type": "markdown",
   "id": "33364ae4",
   "metadata": {},
   "source": [
    "Проверка дат поездок, а именно определение года - периода, за который у нас есть данные. "
   ]
  },
  {
   "cell_type": "code",
   "execution_count": 12,
   "id": "0d9560cb",
   "metadata": {},
   "outputs": [
    {
     "data": {
      "text/plain": [
       "array([2021])"
      ]
     },
     "execution_count": 12,
     "metadata": {},
     "output_type": "execute_result"
    }
   ],
   "source": [
    "rides['date'].dt.year.unique() "
   ]
  },
  {
   "cell_type": "markdown",
   "id": "3fdb58bc",
   "metadata": {},
   "source": [
    "Данные за 2021 год, поэтому номер месяца соответствует номеру месяца 2021 года."
   ]
  },
  {
   "cell_type": "markdown",
   "id": "7a4c6575",
   "metadata": {},
   "source": [
    "**Работа с дубликатами**"
   ]
  },
  {
   "cell_type": "markdown",
   "id": "81abc6cf",
   "metadata": {},
   "source": [
    "Найдём количество явных дубликатов в файлах, предоставляенных на исследование:"
   ]
  },
  {
   "cell_type": "code",
   "execution_count": 13,
   "id": "cd21b34d",
   "metadata": {},
   "outputs": [
    {
     "data": {
      "text/plain": [
       "31"
      ]
     },
     "execution_count": 13,
     "metadata": {},
     "output_type": "execute_result"
    }
   ],
   "source": [
    "users.duplicated().sum()"
   ]
  },
  {
   "cell_type": "markdown",
   "id": "ea77f12e",
   "metadata": {},
   "source": [
    "В файле users обнаружен 31 дубликат. Удалим эти дубликаты."
   ]
  },
  {
   "cell_type": "code",
   "execution_count": 14,
   "id": "38a63858",
   "metadata": {},
   "outputs": [],
   "source": [
    "users = users.drop_duplicates()"
   ]
  },
  {
   "cell_type": "code",
   "execution_count": 15,
   "id": "74efa1cf",
   "metadata": {},
   "outputs": [
    {
     "data": {
      "text/plain": [
       "0"
      ]
     },
     "execution_count": 15,
     "metadata": {},
     "output_type": "execute_result"
    }
   ],
   "source": [
    "rides.duplicated().sum()"
   ]
  },
  {
   "cell_type": "markdown",
   "id": "76e7e122",
   "metadata": {},
   "source": [
    "В файле rides явные дубликаты не обнаружены."
   ]
  },
  {
   "cell_type": "code",
   "execution_count": 16,
   "id": "de97813f",
   "metadata": {},
   "outputs": [
    {
     "data": {
      "text/plain": [
       "0"
      ]
     },
     "execution_count": 16,
     "metadata": {},
     "output_type": "execute_result"
    }
   ],
   "source": [
    "subscriptions.duplicated().sum()"
   ]
  },
  {
   "cell_type": "markdown",
   "id": "2d555aeb",
   "metadata": {},
   "source": [
    "В файле subscriptions явные дубликаты не обнаружены."
   ]
  },
  {
   "cell_type": "markdown",
   "id": "e92f81c3",
   "metadata": {},
   "source": [
    "Неявные дубликаты могут быть в файле users в столбце с городами, обусловленные некорреректной записью города."
   ]
  },
  {
   "cell_type": "code",
   "execution_count": 17,
   "id": "be4fb2a2",
   "metadata": {},
   "outputs": [
    {
     "data": {
      "text/plain": [
       "array(['Тюмень', 'Омск', 'Москва', 'Ростов-на-Дону', 'Краснодар',\n",
       "       'Пятигорск', 'Екатеринбург', 'Сочи'], dtype=object)"
      ]
     },
     "execution_count": 17,
     "metadata": {},
     "output_type": "execute_result"
    }
   ],
   "source": [
    "users['city'].unique()"
   ]
  },
  {
   "cell_type": "markdown",
   "id": "78b34a34",
   "metadata": {},
   "source": [
    "Разной записи одних и тех же городов не обнаружено. Следовательно, обрабатывать города не требуется. Соответственно, все дубликаты, присутствующие в предоставленных на исследование данных обработаны, т.е. удалены."
   ]
  },
  {
   "cell_type": "markdown",
   "id": "212593c7",
   "metadata": {},
   "source": [
    "#### Шаг 3. Исследовательский анализ данных"
   ]
  },
  {
   "cell_type": "markdown",
   "id": "f98a464a",
   "metadata": {},
   "source": [
    "Опишем и визуализируем общую информацию о пользователях и поездках.\n",
    "Начнем **с частоты встречаемости городов.**"
   ]
  },
  {
   "cell_type": "code",
   "execution_count": 18,
   "id": "bd5877b1",
   "metadata": {},
   "outputs": [
    {
     "data": {
      "text/plain": [
       "Пятигорск         219\n",
       "Екатеринбург      204\n",
       "Ростов-на-Дону    198\n",
       "Краснодар         193\n",
       "Сочи              189\n",
       "Омск              183\n",
       "Тюмень            180\n",
       "Москва            168\n",
       "Name: city, dtype: int64"
      ]
     },
     "execution_count": 18,
     "metadata": {},
     "output_type": "execute_result"
    }
   ],
   "source": [
    "sities = users['city'].value_counts()\n",
    "sities"
   ]
  },
  {
   "cell_type": "markdown",
   "id": "15220102",
   "metadata": {},
   "source": [
    "В файле users представлены данные о пользователях из следующих городов:\n",
    "- Пятигорск,\n",
    "- Екатеринбург,\n",
    "- Ростов-на-Дону,\n",
    "- Краснодар,\n",
    "- Сочи,\n",
    "- Омск,\n",
    "- Тюмень,\n",
    "- Москва.\n",
    "\n",
    "Наибольшее количество пользователей сервисом в Пятигорске (219), наименьшее - в Москве (168).\n",
    "\n",
    "Получим процентное распределение пользователей сервиса по городам."
   ]
  },
  {
   "cell_type": "code",
   "execution_count": 19,
   "id": "d66a9061",
   "metadata": {},
   "outputs": [
    {
     "data": {
      "text/plain": [
       "Пятигорск         14.28\n",
       "Екатеринбург      13.30\n",
       "Ростов-на-Дону    12.91\n",
       "Краснодар         12.58\n",
       "Сочи              12.32\n",
       "Омск              11.93\n",
       "Тюмень            11.73\n",
       "Москва            10.95\n",
       "Name: city, dtype: float64"
      ]
     },
     "execution_count": 19,
     "metadata": {},
     "output_type": "execute_result"
    }
   ],
   "source": [
    "sities['part'] = round(users['city'].value_counts()/ sities.sum(),4)*100\n",
    "sities['part']"
   ]
  },
  {
   "cell_type": "markdown",
   "id": "82f5954f",
   "metadata": {},
   "source": [
    "14.28% пользователей из Пятигорска, а из Москвы - 10.95%\n",
    "\n",
    "Визуализируем полученные даннные. Для начала построим столбчатую диаграмму для абсолютных значений числа пользователей сервисом."
   ]
  },
  {
   "cell_type": "code",
   "execution_count": 20,
   "id": "55a8a997",
   "metadata": {},
   "outputs": [
    {
     "data": {
      "image/png": "[encoded data removed]",
      "text/plain": [
       "<Figure size 648x504 with 1 Axes>"
      ]
     },
     "metadata": {
      "needs_background": "light"
     },
     "output_type": "display_data"
    }
   ],
   "source": [
    "users['city'].value_counts(ascending=True).plot(\n",
    "    kind = 'barh', \n",
    "    y = sities,\n",
    "    figsize=(9,7), \n",
    "    color = 'green',\n",
    "    title = 'Распределение пользователей сервиса GoFast по городам',\n",
    "    xlabel = 'Количество пользователей',\n",
    "    ylabel= 'Названия городов');"
   ]
  },
  {
   "cell_type": "markdown",
   "id": "c2841a97",
   "metadata": {},
   "source": [
    "Построим круговую диаграмму для процентного распределения пользователей сервисом по городам."
   ]
  },
  {
   "cell_type": "code",
   "execution_count": 21,
   "id": "122780b8",
   "metadata": {
    "scrolled": true
   },
   "outputs": [
    {
     "data": {
      "image/png": "[encoded data removed]",
      "text/plain": [
       "<Figure size 648x504 with 1 Axes>"
      ]
     },
     "metadata": {},
     "output_type": "display_data"
    }
   ],
   "source": [
    "users['city'].value_counts().plot(\n",
    "    kind = 'pie', \n",
    "    y = sities,\n",
    "    autopct='%1.2f%%',\n",
    "    colors=['olive', 'green', 'cyan', 'yellow', 'grey', 'pink', 'silver', 'orange'], \n",
    "    shadow=True,\n",
    "    figsize=(9,7), \n",
    "    title = 'Распределение пользователей сервиса GoFast по городам');"
   ]
  },
  {
   "cell_type": "markdown",
   "id": "12213df7",
   "metadata": {},
   "source": [
    "Из круговой диаграммы хорошо видно, что в среднем пользователи равномерно распределились по городам, без силььного перекоса числа пользователей в каком - то из городов. Есть небольшое смещение в количестве пользователей в Пятигорске и в Москве. В Пятигорске большее количество пользователей, скорее всего, обусловлено тем, что, это небольшой курортный город, в котором туристам удобнее передвигаться между достопримечательностями на самокате. В Москве же меньшее количество пользователее, скорее обусловлено, тем, что в столице существуют и другие сервисы проката самокатов, соответственно присутствует конкуренция за пользователей.   "
   ]
  },
  {
   "cell_type": "markdown",
   "id": "cd57fa73",
   "metadata": {},
   "source": [
    "**Соотношение пользователей с подпиской и без подписки.**"
   ]
  },
  {
   "cell_type": "code",
   "execution_count": 22,
   "id": "e915b906",
   "metadata": {},
   "outputs": [
    {
     "data": {
      "text/plain": [
       "free     835\n",
       "ultra    699\n",
       "Name: subscription_type, dtype: int64"
      ]
     },
     "execution_count": 22,
     "metadata": {},
     "output_type": "execute_result"
    }
   ],
   "source": [
    "#соотношение пользователей в абсолютных значениях\n",
    "subs = users['subscription_type'].value_counts()\n",
    "subs"
   ]
  },
  {
   "cell_type": "markdown",
   "id": "198d0eb4",
   "metadata": {},
   "source": [
    "Пользователей без подписки на 136 человек больше, чем с подпиской. Это может быть обусловлено тем, что не всем пользователям нужно часто передвигаться на самокате, поэтому подписка на сервис им не нужна. \n",
    "\n",
    "Рассмотрим процентное соотношение пользователей с подпиской и без неё."
   ]
  },
  {
   "cell_type": "code",
   "execution_count": 23,
   "id": "1c7401c9",
   "metadata": {},
   "outputs": [
    {
     "data": {
      "text/plain": [
       "free     54.43\n",
       "ultra    45.57\n",
       "Name: subscription_type, dtype: float64"
      ]
     },
     "execution_count": 23,
     "metadata": {},
     "output_type": "execute_result"
    }
   ],
   "source": [
    "#соотношение пользователей в процентных значениях\n",
    "subs['subscription_type'] = round(users['subscription_type'].value_counts()/ subs.sum(),4)*100\n",
    "subs['subscription_type']"
   ]
  },
  {
   "cell_type": "markdown",
   "id": "5e969546",
   "metadata": {},
   "source": [
    "Визуализируем полученные данные. Начнём с абсолютных значений распроеделения пользователей сервисом с подпиской и без неё."
   ]
  },
  {
   "cell_type": "code",
   "execution_count": 24,
   "id": "522675fc",
   "metadata": {},
   "outputs": [
    {
     "data": {
      "image/png": "[encoded data removed]",
      "text/plain": [
       "<Figure size 648x504 with 1 Axes>"
      ]
     },
     "metadata": {
      "needs_background": "light"
     },
     "output_type": "display_data"
    }
   ],
   "source": [
    "users['subscription_type'].value_counts().plot(\n",
    "    kind = 'bar', \n",
    "    y = subs,\n",
    "    figsize=(9,7), \n",
    "    title = 'Распределение пользователей сервиса GoFast с подпиской и без неё');"
   ]
  },
  {
   "cell_type": "markdown",
   "id": "f9366e78",
   "metadata": {},
   "source": [
    "Для более наглядного представления данных о пользователях воспользуемся процентным соотношением и визуализируем его в виде круговой диаграммы."
   ]
  },
  {
   "cell_type": "code",
   "execution_count": 25,
   "id": "5d481908",
   "metadata": {},
   "outputs": [
    {
     "data": {
      "image/png": "[encoded data removed]",
      "text/plain": [
       "<Figure size 648x504 with 1 Axes>"
      ]
     },
     "metadata": {},
     "output_type": "display_data"
    }
   ],
   "source": [
    "users['subscription_type'].value_counts().plot(\n",
    "    kind = 'pie', \n",
    "    y = subs,\n",
    "    autopct='%1.2f%%',\n",
    "    colors=['silver', 'cyan'], \n",
    "    shadow=True,\n",
    "    figsize=(9,7), \n",
    "    title = 'Распределение пользователей сервиса GoFast с подпиской и без неё');"
   ]
  },
  {
   "cell_type": "markdown",
   "id": "6e8af60f",
   "metadata": {},
   "source": [
    "На диаграмме отчётливо видно, что количество пользователей без подписки на 9% больше, чем с подпиской. Как было подмечено мной ранее, это может быть обусловлено тем, что не всем пользователям нужно часто передвигаться на самокате, поэтому подписка на сервис им просто не нужна."
   ]
  },
  {
   "cell_type": "markdown",
   "id": "147c742d",
   "metadata": {},
   "source": [
    "**Возраст пользователей сервиса**"
   ]
  },
  {
   "cell_type": "markdown",
   "id": "3d025019",
   "metadata": {},
   "source": [
    "Ранее при ознакомлении с данными, предоставленными на анализ, была задана таблица со сводной статистикой. Вызовем её еще раз. "
   ]
  },
  {
   "cell_type": "code",
   "execution_count": 26,
   "id": "eaee599f",
   "metadata": {},
   "outputs": [
    {
     "data": {
      "text/html": [
       "<div>\n",
       "<style scoped>\n",
       "    .dataframe tbody tr th:only-of-type {\n",
       "        vertical-align: middle;\n",
       "    }\n",
       "\n",
       "    .dataframe tbody tr th {\n",
       "        vertical-align: top;\n",
       "    }\n",
       "\n",
       "    .dataframe thead th {\n",
       "        text-align: right;\n",
       "    }\n",
       "</style>\n",
       "<table border=\"1\" class=\"dataframe\">\n",
       "  <thead>\n",
       "    <tr style=\"text-align: right;\">\n",
       "      <th></th>\n",
       "      <th>count</th>\n",
       "      <th>mean</th>\n",
       "      <th>std</th>\n",
       "      <th>min</th>\n",
       "      <th>25%</th>\n",
       "      <th>50%</th>\n",
       "      <th>75%</th>\n",
       "      <th>max</th>\n",
       "    </tr>\n",
       "  </thead>\n",
       "  <tbody>\n",
       "    <tr>\n",
       "      <th>user_id</th>\n",
       "      <td>1534.0</td>\n",
       "      <td>767.50000</td>\n",
       "      <td>442.971971</td>\n",
       "      <td>1.0</td>\n",
       "      <td>384.25</td>\n",
       "      <td>767.5</td>\n",
       "      <td>1150.75</td>\n",
       "      <td>1534.0</td>\n",
       "    </tr>\n",
       "    <tr>\n",
       "      <th>age</th>\n",
       "      <td>1534.0</td>\n",
       "      <td>24.90352</td>\n",
       "      <td>4.572367</td>\n",
       "      <td>12.0</td>\n",
       "      <td>22.00</td>\n",
       "      <td>25.0</td>\n",
       "      <td>28.00</td>\n",
       "      <td>43.0</td>\n",
       "    </tr>\n",
       "  </tbody>\n",
       "</table>\n",
       "</div>"
      ],
      "text/plain": [
       "          count       mean         std   min     25%    50%      75%     max\n",
       "user_id  1534.0  767.50000  442.971971   1.0  384.25  767.5  1150.75  1534.0\n",
       "age      1534.0   24.90352    4.572367  12.0   22.00   25.0    28.00    43.0"
      ]
     },
     "execution_count": 26,
     "metadata": {},
     "output_type": "execute_result"
    }
   ],
   "source": [
    "users.describe().T"
   ]
  },
  {
   "cell_type": "markdown",
   "id": "90753f4b",
   "metadata": {},
   "source": [
    "Как ранее и было отмечено, что исходя из таблицы со сводной статистикой о пользователях сервиса можно увидеть, что минимальный возраст пользователя - 12 лет, а максимальный - 43 года. Медианный возраст пользователя - 25 лет. "
   ]
  },
  {
   "cell_type": "markdown",
   "id": "025d820a",
   "metadata": {},
   "source": [
    "Рассмотрим гистограмму распределения возрастов пользователей сервиса аренды самокатов."
   ]
  },
  {
   "cell_type": "code",
   "execution_count": 27,
   "id": "27c98df6",
   "metadata": {},
   "outputs": [
    {
     "data": {
      "image/png": "[encoded data removed]",
      "text/plain": [
       "<Figure size 720x648 with 1 Axes>"
      ]
     },
     "metadata": {
      "needs_background": "light"
     },
     "output_type": "display_data"
    }
   ],
   "source": [
    "users['age'].hist(bins = 33,  range  = (10,44), figsize=(10, 9), ec='black', legend=True)\n",
    "plt.title('Возраст пользователей сервиса')\n",
    "plt.xlabel('Лет')\n",
    "plt.ylabel('Количество пользователей')\n",
    "plt.show()"
   ]
  },
  {
   "cell_type": "markdown",
   "id": "f65a77d8",
   "metadata": {},
   "source": [
    "Распределение возрастов пользователей близко к нормальному. Самый часто встречающийся возраст пользователя - 25 лет. Большая часть пользователей имеет возраст в пределах 22 - 28 лет. "
   ]
  },
  {
   "cell_type": "markdown",
   "id": "74c0ad4c",
   "metadata": {},
   "source": [
    "**Расстояние, которое пользователь преодолел за одну поездку.**"
   ]
  },
  {
   "cell_type": "markdown",
   "id": "f7706f00",
   "metadata": {},
   "source": [
    "Аналогично данным о возрасте, снова вызовем таблицу со сводной статистикой данных о поездках, рассмотрим строку с расстояниями, пройденными пользователями за одну поездку."
   ]
  },
  {
   "cell_type": "code",
   "execution_count": 28,
   "id": "abd25941",
   "metadata": {},
   "outputs": [
    {
     "data": {
      "text/html": [
       "<div>\n",
       "<style scoped>\n",
       "    .dataframe tbody tr th:only-of-type {\n",
       "        vertical-align: middle;\n",
       "    }\n",
       "\n",
       "    .dataframe tbody tr th {\n",
       "        vertical-align: top;\n",
       "    }\n",
       "\n",
       "    .dataframe thead th {\n",
       "        text-align: right;\n",
       "    }\n",
       "</style>\n",
       "<table border=\"1\" class=\"dataframe\">\n",
       "  <thead>\n",
       "    <tr style=\"text-align: right;\">\n",
       "      <th></th>\n",
       "      <th>count</th>\n",
       "      <th>mean</th>\n",
       "      <th>std</th>\n",
       "      <th>min</th>\n",
       "      <th>25%</th>\n",
       "      <th>50%</th>\n",
       "      <th>75%</th>\n",
       "      <th>max</th>\n",
       "    </tr>\n",
       "  </thead>\n",
       "  <tbody>\n",
       "    <tr>\n",
       "      <th>user_id</th>\n",
       "      <td>18068.0</td>\n",
       "      <td>842.869936</td>\n",
       "      <td>434.734317</td>\n",
       "      <td>1.000000</td>\n",
       "      <td>487.000000</td>\n",
       "      <td>889.000000</td>\n",
       "      <td>1213.250000</td>\n",
       "      <td>1534.000000</td>\n",
       "    </tr>\n",
       "    <tr>\n",
       "      <th>distance</th>\n",
       "      <td>18068.0</td>\n",
       "      <td>3070.659976</td>\n",
       "      <td>1116.831209</td>\n",
       "      <td>0.855683</td>\n",
       "      <td>2543.226360</td>\n",
       "      <td>3133.609994</td>\n",
       "      <td>3776.222735</td>\n",
       "      <td>7211.007745</td>\n",
       "    </tr>\n",
       "    <tr>\n",
       "      <th>duration</th>\n",
       "      <td>18068.0</td>\n",
       "      <td>17.805011</td>\n",
       "      <td>6.091051</td>\n",
       "      <td>0.500000</td>\n",
       "      <td>13.597563</td>\n",
       "      <td>17.678395</td>\n",
       "      <td>21.724800</td>\n",
       "      <td>40.823963</td>\n",
       "    </tr>\n",
       "    <tr>\n",
       "      <th>month</th>\n",
       "      <td>18068.0</td>\n",
       "      <td>6.486772</td>\n",
       "      <td>3.437410</td>\n",
       "      <td>1.000000</td>\n",
       "      <td>4.000000</td>\n",
       "      <td>6.000000</td>\n",
       "      <td>9.000000</td>\n",
       "      <td>12.000000</td>\n",
       "    </tr>\n",
       "  </tbody>\n",
       "</table>\n",
       "</div>"
      ],
      "text/plain": [
       "            count         mean          std       min          25%  \\\n",
       "user_id   18068.0   842.869936   434.734317  1.000000   487.000000   \n",
       "distance  18068.0  3070.659976  1116.831209  0.855683  2543.226360   \n",
       "duration  18068.0    17.805011     6.091051  0.500000    13.597563   \n",
       "month     18068.0     6.486772     3.437410  1.000000     4.000000   \n",
       "\n",
       "                  50%          75%          max  \n",
       "user_id    889.000000  1213.250000  1534.000000  \n",
       "distance  3133.609994  3776.222735  7211.007745  \n",
       "duration    17.678395    21.724800    40.823963  \n",
       "month        6.000000     9.000000    12.000000  "
      ]
     },
     "execution_count": 28,
     "metadata": {},
     "output_type": "execute_result"
    }
   ],
   "source": [
    "rides.describe().T"
   ]
  },
  {
   "cell_type": "markdown",
   "id": "f9565585",
   "metadata": {},
   "source": [
    "Как было отмечено ранее, минимальное расстояние, проезжаемое пользователями примерно 86 см, что может быть обусловлено нежеланием пользователя продолжать поездку или тем, что выбранный пользователем самокат мог быть разряженным. Медианное расстояние, проезжаемое пользователями сервися 3,134 км, а максимальное же - 7,211 км.  \n",
    "\n",
    "Построим гистограмму распределения расстояний, пройденных пользователями за одну поездку."
   ]
  },
  {
   "cell_type": "code",
   "execution_count": 29,
   "id": "ad8a8c2e",
   "metadata": {},
   "outputs": [
    {
     "data": {
      "image/png": "[encoded data removed]",
      "text/plain": [
       "<Figure size 720x648 with 1 Axes>"
      ]
     },
     "metadata": {
      "needs_background": "light"
     },
     "output_type": "display_data"
    }
   ],
   "source": [
    "rides['distance'].hist(bins = 50,  range  = (0,7300), figsize=(10, 9), ec='black', legend=True)\n",
    "plt.title('Расстояние, пройденное пользователями сервиса')\n",
    "plt.xlabel('м')\n",
    "plt.ylabel('Количество пользователей')\n",
    "plt.show()"
   ]
  },
  {
   "cell_type": "markdown",
   "id": "c55a6c8c",
   "metadata": {},
   "source": [
    "На визуализации отчетливо видно 2 колоколообразных распределения, близких к нормальному, с вершинами: для малого колокола около 700 м, для большого - 3,1 км. Два близких к нормальному распределения скорее всего соответствуют двум типам пользователей:\n",
    "1. Пользователи, арендующие самокат для коротких поездок (до 1.5 км).\n",
    "2. Пользователи, арендующие самокат для поездок на относительно длинные поездки (от 1.5 км и более).\n",
    "\n",
    "Наибольшее число пользователей проезжают за одну поездку от 2,5 до 3,8 км. Наиболее часто встречающиеся расстояние, проходимое пользователями сервиса 3.1 км. Что соответствует медианному значению из таблицы с описательной статистикой. "
   ]
  },
  {
   "cell_type": "markdown",
   "id": "d7481169",
   "metadata": {},
   "source": [
    "**Продолжительность поездок.**"
   ]
  },
  {
   "cell_type": "markdown",
   "id": "669682b7",
   "metadata": {},
   "source": [
    "Аналогично данным о возрасте, снова вызовем таблицу со сводной статистикой данных о поездках, рассмотрим строку с продолжительностью одной поездки."
   ]
  },
  {
   "cell_type": "code",
   "execution_count": 30,
   "id": "0ed5539e",
   "metadata": {},
   "outputs": [
    {
     "data": {
      "text/html": [
       "<div>\n",
       "<style scoped>\n",
       "    .dataframe tbody tr th:only-of-type {\n",
       "        vertical-align: middle;\n",
       "    }\n",
       "\n",
       "    .dataframe tbody tr th {\n",
       "        vertical-align: top;\n",
       "    }\n",
       "\n",
       "    .dataframe thead th {\n",
       "        text-align: right;\n",
       "    }\n",
       "</style>\n",
       "<table border=\"1\" class=\"dataframe\">\n",
       "  <thead>\n",
       "    <tr style=\"text-align: right;\">\n",
       "      <th></th>\n",
       "      <th>count</th>\n",
       "      <th>mean</th>\n",
       "      <th>std</th>\n",
       "      <th>min</th>\n",
       "      <th>25%</th>\n",
       "      <th>50%</th>\n",
       "      <th>75%</th>\n",
       "      <th>max</th>\n",
       "    </tr>\n",
       "  </thead>\n",
       "  <tbody>\n",
       "    <tr>\n",
       "      <th>user_id</th>\n",
       "      <td>18068.0</td>\n",
       "      <td>842.869936</td>\n",
       "      <td>434.734317</td>\n",
       "      <td>1.000000</td>\n",
       "      <td>487.000000</td>\n",
       "      <td>889.000000</td>\n",
       "      <td>1213.250000</td>\n",
       "      <td>1534.000000</td>\n",
       "    </tr>\n",
       "    <tr>\n",
       "      <th>distance</th>\n",
       "      <td>18068.0</td>\n",
       "      <td>3070.659976</td>\n",
       "      <td>1116.831209</td>\n",
       "      <td>0.855683</td>\n",
       "      <td>2543.226360</td>\n",
       "      <td>3133.609994</td>\n",
       "      <td>3776.222735</td>\n",
       "      <td>7211.007745</td>\n",
       "    </tr>\n",
       "    <tr>\n",
       "      <th>duration</th>\n",
       "      <td>18068.0</td>\n",
       "      <td>17.805011</td>\n",
       "      <td>6.091051</td>\n",
       "      <td>0.500000</td>\n",
       "      <td>13.597563</td>\n",
       "      <td>17.678395</td>\n",
       "      <td>21.724800</td>\n",
       "      <td>40.823963</td>\n",
       "    </tr>\n",
       "    <tr>\n",
       "      <th>month</th>\n",
       "      <td>18068.0</td>\n",
       "      <td>6.486772</td>\n",
       "      <td>3.437410</td>\n",
       "      <td>1.000000</td>\n",
       "      <td>4.000000</td>\n",
       "      <td>6.000000</td>\n",
       "      <td>9.000000</td>\n",
       "      <td>12.000000</td>\n",
       "    </tr>\n",
       "  </tbody>\n",
       "</table>\n",
       "</div>"
      ],
      "text/plain": [
       "            count         mean          std       min          25%  \\\n",
       "user_id   18068.0   842.869936   434.734317  1.000000   487.000000   \n",
       "distance  18068.0  3070.659976  1116.831209  0.855683  2543.226360   \n",
       "duration  18068.0    17.805011     6.091051  0.500000    13.597563   \n",
       "month     18068.0     6.486772     3.437410  1.000000     4.000000   \n",
       "\n",
       "                  50%          75%          max  \n",
       "user_id    889.000000  1213.250000  1534.000000  \n",
       "distance  3133.609994  3776.222735  7211.007745  \n",
       "duration    17.678395    21.724800    40.823963  \n",
       "month        6.000000     9.000000    12.000000  "
      ]
     },
     "execution_count": 30,
     "metadata": {},
     "output_type": "execute_result"
    }
   ],
   "source": [
    "rides.describe().T"
   ]
  },
  {
   "cell_type": "markdown",
   "id": "fb65a8ca",
   "metadata": {},
   "source": [
    "Наименьшее время поездки - полминуты. Наибольшее - почти 41 минута. Медианная продолжительность поездки - почти 18 минут."
   ]
  },
  {
   "cell_type": "code",
   "execution_count": 31,
   "id": "6c6e601c",
   "metadata": {},
   "outputs": [
    {
     "data": {
      "image/png": "[encoded data removed]",
      "text/plain": [
       "<Figure size 720x648 with 1 Axes>"
      ]
     },
     "metadata": {
      "needs_background": "light"
     },
     "output_type": "display_data"
    }
   ],
   "source": [
    "rides['duration'].hist(bins = 40,  range  = (0,41), figsize=(10, 9), ec='black', legend=True)\n",
    "plt.title('Длительность одной поездки')\n",
    "plt.xlabel('мин')\n",
    "plt.ylabel('Количество пользователей')\n",
    "plt.show()"
   ]
  },
  {
   "cell_type": "markdown",
   "id": "a7c876bd",
   "metadata": {},
   "source": [
    "На визуализации виден небольшой пик значений длительности поезки около 1 минуты. Исходя из расстояний, проезжаемых пользователями сервиса за одну поездку, можно сделать вывод, что это не выбросы, так как такая длительность поездки соответствует малым расстояниям, проходимым пользователями.\n",
    "\n",
    "Длительность поездок имеет распределение, близкое к нормальному. Типичные поездки имеют длительность в диапазоне от 13 до 22 минут. Наиболее часто встречаются поездки длительностью 18 минут, что соотвествует медианному значению."
   ]
  },
  {
   "cell_type": "markdown",
   "id": "4042e00c",
   "metadata": {},
   "source": [
    "**Промежуточный вывод**\n",
    "\n",
    "Пользователи равномерно распределились по городам. Есть небольшое смещение в двух городах. В Пятигорске количество пользователей - 219, в Москве - 168. \n",
    "\n",
    "Пользователей без подписки - 835 человек, с  подпиской - 699. Пользователей без подписки на 136 человек больше, чем с подпиской.\n",
    "\n",
    "Минимальный возраст пользователя - 12 лет, а максимальный - 43 года. Медианный возраст пользователя - 25 лет. Наибольшее количество пользователей возрастом 22 - 28 лет.\n",
    "\n",
    "Минимальное расстояние, проезжаемое пользователями примерно 86 см. Медианное расстояние, проезжаемое пользователями сервися 3,134 км, а максимальное же - 7,211 км. Наиболее часто продолеваемые пользователями растояния за одну поездку находятся в диапазоне от 2,5 до 3,8 км.\n",
    "Исходя из визуализации можно предположить, что существуют два типа пользователей:\n",
    "1. Пользователи, арендующие самокат для коротких поездок (до 1.5 км).\n",
    "2. Пользователи, арендующие самокат для поездок на относительно длинные поездки (от 1.5 км и более).\n",
    "\n",
    "Наименьшее время поездки - полминуты. Наибольшее - почти 41 минута. Медианная продолжительность поездки - почти 18 минут. Типичные поездки имеют длительность в диапазоне от 13 до 22 минут."
   ]
  },
  {
   "cell_type": "markdown",
   "id": "4ef51331",
   "metadata": {},
   "source": [
    "#### Шаг 4. Объединение данных"
   ]
  },
  {
   "cell_type": "markdown",
   "id": "b96545c2",
   "metadata": {},
   "source": [
    "Объединим данные о пользователях, поездках и типах подписок в один датафрейм."
   ]
  },
  {
   "cell_type": "code",
   "execution_count": 32,
   "id": "1e70e2f7",
   "metadata": {
    "scrolled": true
   },
   "outputs": [
    {
     "data": {
      "text/html": [
       "<div>\n",
       "<style scoped>\n",
       "    .dataframe tbody tr th:only-of-type {\n",
       "        vertical-align: middle;\n",
       "    }\n",
       "\n",
       "    .dataframe tbody tr th {\n",
       "        vertical-align: top;\n",
       "    }\n",
       "\n",
       "    .dataframe thead th {\n",
       "        text-align: right;\n",
       "    }\n",
       "</style>\n",
       "<table border=\"1\" class=\"dataframe\">\n",
       "  <thead>\n",
       "    <tr style=\"text-align: right;\">\n",
       "      <th></th>\n",
       "      <th>user_id</th>\n",
       "      <th>name</th>\n",
       "      <th>age</th>\n",
       "      <th>city</th>\n",
       "      <th>subscription_type</th>\n",
       "      <th>distance</th>\n",
       "      <th>duration</th>\n",
       "      <th>date</th>\n",
       "      <th>month</th>\n",
       "      <th>minute_price</th>\n",
       "      <th>start_ride_price</th>\n",
       "      <th>subscription_fee</th>\n",
       "    </tr>\n",
       "  </thead>\n",
       "  <tbody>\n",
       "    <tr>\n",
       "      <th>0</th>\n",
       "      <td>1</td>\n",
       "      <td>Кира</td>\n",
       "      <td>22</td>\n",
       "      <td>Тюмень</td>\n",
       "      <td>ultra</td>\n",
       "      <td>4409.919140</td>\n",
       "      <td>25.599769</td>\n",
       "      <td>2021-01-01</td>\n",
       "      <td>1</td>\n",
       "      <td>6</td>\n",
       "      <td>0</td>\n",
       "      <td>199</td>\n",
       "    </tr>\n",
       "    <tr>\n",
       "      <th>1</th>\n",
       "      <td>1</td>\n",
       "      <td>Кира</td>\n",
       "      <td>22</td>\n",
       "      <td>Тюмень</td>\n",
       "      <td>ultra</td>\n",
       "      <td>2617.592153</td>\n",
       "      <td>15.816871</td>\n",
       "      <td>2021-01-18</td>\n",
       "      <td>1</td>\n",
       "      <td>6</td>\n",
       "      <td>0</td>\n",
       "      <td>199</td>\n",
       "    </tr>\n",
       "    <tr>\n",
       "      <th>2</th>\n",
       "      <td>1</td>\n",
       "      <td>Кира</td>\n",
       "      <td>22</td>\n",
       "      <td>Тюмень</td>\n",
       "      <td>ultra</td>\n",
       "      <td>754.159807</td>\n",
       "      <td>6.232113</td>\n",
       "      <td>2021-04-20</td>\n",
       "      <td>4</td>\n",
       "      <td>6</td>\n",
       "      <td>0</td>\n",
       "      <td>199</td>\n",
       "    </tr>\n",
       "    <tr>\n",
       "      <th>3</th>\n",
       "      <td>1</td>\n",
       "      <td>Кира</td>\n",
       "      <td>22</td>\n",
       "      <td>Тюмень</td>\n",
       "      <td>ultra</td>\n",
       "      <td>2694.783254</td>\n",
       "      <td>18.511000</td>\n",
       "      <td>2021-08-11</td>\n",
       "      <td>8</td>\n",
       "      <td>6</td>\n",
       "      <td>0</td>\n",
       "      <td>199</td>\n",
       "    </tr>\n",
       "    <tr>\n",
       "      <th>4</th>\n",
       "      <td>1</td>\n",
       "      <td>Кира</td>\n",
       "      <td>22</td>\n",
       "      <td>Тюмень</td>\n",
       "      <td>ultra</td>\n",
       "      <td>4028.687306</td>\n",
       "      <td>26.265803</td>\n",
       "      <td>2021-08-28</td>\n",
       "      <td>8</td>\n",
       "      <td>6</td>\n",
       "      <td>0</td>\n",
       "      <td>199</td>\n",
       "    </tr>\n",
       "    <tr>\n",
       "      <th>...</th>\n",
       "      <td>...</td>\n",
       "      <td>...</td>\n",
       "      <td>...</td>\n",
       "      <td>...</td>\n",
       "      <td>...</td>\n",
       "      <td>...</td>\n",
       "      <td>...</td>\n",
       "      <td>...</td>\n",
       "      <td>...</td>\n",
       "      <td>...</td>\n",
       "      <td>...</td>\n",
       "      <td>...</td>\n",
       "    </tr>\n",
       "    <tr>\n",
       "      <th>18063</th>\n",
       "      <td>1534</td>\n",
       "      <td>Альберт</td>\n",
       "      <td>25</td>\n",
       "      <td>Краснодар</td>\n",
       "      <td>free</td>\n",
       "      <td>3781.098080</td>\n",
       "      <td>19.822962</td>\n",
       "      <td>2021-11-04</td>\n",
       "      <td>11</td>\n",
       "      <td>8</td>\n",
       "      <td>50</td>\n",
       "      <td>0</td>\n",
       "    </tr>\n",
       "    <tr>\n",
       "      <th>18064</th>\n",
       "      <td>1534</td>\n",
       "      <td>Альберт</td>\n",
       "      <td>25</td>\n",
       "      <td>Краснодар</td>\n",
       "      <td>free</td>\n",
       "      <td>2840.423057</td>\n",
       "      <td>21.409799</td>\n",
       "      <td>2021-11-16</td>\n",
       "      <td>11</td>\n",
       "      <td>8</td>\n",
       "      <td>50</td>\n",
       "      <td>0</td>\n",
       "    </tr>\n",
       "    <tr>\n",
       "      <th>18065</th>\n",
       "      <td>1534</td>\n",
       "      <td>Альберт</td>\n",
       "      <td>25</td>\n",
       "      <td>Краснодар</td>\n",
       "      <td>free</td>\n",
       "      <td>3826.185507</td>\n",
       "      <td>18.435051</td>\n",
       "      <td>2021-11-18</td>\n",
       "      <td>11</td>\n",
       "      <td>8</td>\n",
       "      <td>50</td>\n",
       "      <td>0</td>\n",
       "    </tr>\n",
       "    <tr>\n",
       "      <th>18066</th>\n",
       "      <td>1534</td>\n",
       "      <td>Альберт</td>\n",
       "      <td>25</td>\n",
       "      <td>Краснодар</td>\n",
       "      <td>free</td>\n",
       "      <td>2902.308661</td>\n",
       "      <td>16.674362</td>\n",
       "      <td>2021-11-27</td>\n",
       "      <td>11</td>\n",
       "      <td>8</td>\n",
       "      <td>50</td>\n",
       "      <td>0</td>\n",
       "    </tr>\n",
       "    <tr>\n",
       "      <th>18067</th>\n",
       "      <td>1534</td>\n",
       "      <td>Альберт</td>\n",
       "      <td>25</td>\n",
       "      <td>Краснодар</td>\n",
       "      <td>free</td>\n",
       "      <td>2371.711192</td>\n",
       "      <td>15.893917</td>\n",
       "      <td>2021-12-29</td>\n",
       "      <td>12</td>\n",
       "      <td>8</td>\n",
       "      <td>50</td>\n",
       "      <td>0</td>\n",
       "    </tr>\n",
       "  </tbody>\n",
       "</table>\n",
       "<p>18068 rows × 12 columns</p>\n",
       "</div>"
      ],
      "text/plain": [
       "       user_id     name  age       city subscription_type     distance  \\\n",
       "0            1     Кира   22     Тюмень             ultra  4409.919140   \n",
       "1            1     Кира   22     Тюмень             ultra  2617.592153   \n",
       "2            1     Кира   22     Тюмень             ultra   754.159807   \n",
       "3            1     Кира   22     Тюмень             ultra  2694.783254   \n",
       "4            1     Кира   22     Тюмень             ultra  4028.687306   \n",
       "...        ...      ...  ...        ...               ...          ...   \n",
       "18063     1534  Альберт   25  Краснодар              free  3781.098080   \n",
       "18064     1534  Альберт   25  Краснодар              free  2840.423057   \n",
       "18065     1534  Альберт   25  Краснодар              free  3826.185507   \n",
       "18066     1534  Альберт   25  Краснодар              free  2902.308661   \n",
       "18067     1534  Альберт   25  Краснодар              free  2371.711192   \n",
       "\n",
       "        duration       date  month  minute_price  start_ride_price  \\\n",
       "0      25.599769 2021-01-01      1             6                 0   \n",
       "1      15.816871 2021-01-18      1             6                 0   \n",
       "2       6.232113 2021-04-20      4             6                 0   \n",
       "3      18.511000 2021-08-11      8             6                 0   \n",
       "4      26.265803 2021-08-28      8             6                 0   \n",
       "...          ...        ...    ...           ...               ...   \n",
       "18063  19.822962 2021-11-04     11             8                50   \n",
       "18064  21.409799 2021-11-16     11             8                50   \n",
       "18065  18.435051 2021-11-18     11             8                50   \n",
       "18066  16.674362 2021-11-27     11             8                50   \n",
       "18067  15.893917 2021-12-29     12             8                50   \n",
       "\n",
       "       subscription_fee  \n",
       "0                   199  \n",
       "1                   199  \n",
       "2                   199  \n",
       "3                   199  \n",
       "4                   199  \n",
       "...                 ...  \n",
       "18063                 0  \n",
       "18064                 0  \n",
       "18065                 0  \n",
       "18066                 0  \n",
       "18067                 0  \n",
       "\n",
       "[18068 rows x 12 columns]"
      ]
     },
     "execution_count": 32,
     "metadata": {},
     "output_type": "execute_result"
    }
   ],
   "source": [
    "full_data = users.merge(rides)\n",
    "full_data = full_data.merge(subscriptions)\n",
    "full_data"
   ]
  },
  {
   "cell_type": "markdown",
   "id": "78286f9d",
   "metadata": {},
   "source": [
    "Проверка корректности объединения файлов. Определим количество строк в файле rides до объединения и в full_data после объединения. А так же посмотрим количество уникальных пользователей в users до объединения и в объединённой таблице full_data."
   ]
  },
  {
   "cell_type": "code",
   "execution_count": 33,
   "id": "225019bb",
   "metadata": {},
   "outputs": [
    {
     "name": "stdout",
     "output_type": "stream",
     "text": [
      "Количество поездок в файле 'rides': 18068\n",
      "Количество поездок в объединенном датасете 'full_data': 18068\n",
      "\n",
      "Количество уникальных пользователей в 'users': 1534\n",
      "Количество уникальных пользователей в 'full_data': 1534\n"
     ]
    }
   ],
   "source": [
    "print(\"Количество поездок в файле 'rides':\", rides['user_id'].count())\n",
    "print(\"Количество поездок в объединенном датасете 'full_data':\", full_data['user_id'].count())\n",
    "print()\n",
    "print(\"Количество уникальных пользователей в 'users':\", len(users['user_id'].unique()))\n",
    "print(\"Количество уникальных пользователей в 'full_data':\", len(full_data['user_id'].unique()))"
   ]
  },
  {
   "cell_type": "markdown",
   "id": "811718b9",
   "metadata": {},
   "source": [
    "Количества строк и уникальных пользователй в объединённой таблице совпадают с исходными данными. Т.е. совокупный размер датафрейма совпадает с количеством строк в исходной таблице\n",
    "\n",
    "Определим количество дубликатов и пропусков в объединённой таблице:"
   ]
  },
  {
   "cell_type": "code",
   "execution_count": 34,
   "id": "447bd45d",
   "metadata": {},
   "outputs": [
    {
     "data": {
      "text/plain": [
       "0"
      ]
     },
     "execution_count": 34,
     "metadata": {},
     "output_type": "execute_result"
    }
   ],
   "source": [
    "full_data.duplicated().sum()"
   ]
  },
  {
   "cell_type": "code",
   "execution_count": 35,
   "id": "af19dadb",
   "metadata": {},
   "outputs": [
    {
     "data": {
      "text/plain": [
       "0"
      ]
     },
     "execution_count": 35,
     "metadata": {},
     "output_type": "execute_result"
    }
   ],
   "source": [
    "full_data.isna().sum().sum()"
   ]
  },
  {
   "cell_type": "markdown",
   "id": "619fbdc6",
   "metadata": {},
   "source": [
    "Дубликаты и пропущенные значения не обнаружены."
   ]
  },
  {
   "cell_type": "markdown",
   "id": "cd97bcfa",
   "metadata": {},
   "source": [
    "Создаём датафрейм c данными о пользователях без подписки."
   ]
  },
  {
   "cell_type": "code",
   "execution_count": 36,
   "id": "93beac96",
   "metadata": {},
   "outputs": [
    {
     "data": {
      "text/html": [
       "<div>\n",
       "<style scoped>\n",
       "    .dataframe tbody tr th:only-of-type {\n",
       "        vertical-align: middle;\n",
       "    }\n",
       "\n",
       "    .dataframe tbody tr th {\n",
       "        vertical-align: top;\n",
       "    }\n",
       "\n",
       "    .dataframe thead th {\n",
       "        text-align: right;\n",
       "    }\n",
       "</style>\n",
       "<table border=\"1\" class=\"dataframe\">\n",
       "  <thead>\n",
       "    <tr style=\"text-align: right;\">\n",
       "      <th></th>\n",
       "      <th>user_id</th>\n",
       "      <th>name</th>\n",
       "      <th>age</th>\n",
       "      <th>city</th>\n",
       "      <th>subscription_type</th>\n",
       "      <th>distance</th>\n",
       "      <th>duration</th>\n",
       "      <th>date</th>\n",
       "      <th>month</th>\n",
       "      <th>minute_price</th>\n",
       "      <th>start_ride_price</th>\n",
       "      <th>subscription_fee</th>\n",
       "    </tr>\n",
       "  </thead>\n",
       "  <tbody>\n",
       "    <tr>\n",
       "      <th>6500</th>\n",
       "      <td>700</td>\n",
       "      <td>Айдар</td>\n",
       "      <td>22</td>\n",
       "      <td>Омск</td>\n",
       "      <td>free</td>\n",
       "      <td>2515.690719</td>\n",
       "      <td>14.944286</td>\n",
       "      <td>2021-01-02</td>\n",
       "      <td>1</td>\n",
       "      <td>8</td>\n",
       "      <td>50</td>\n",
       "      <td>0</td>\n",
       "    </tr>\n",
       "    <tr>\n",
       "      <th>6501</th>\n",
       "      <td>700</td>\n",
       "      <td>Айдар</td>\n",
       "      <td>22</td>\n",
       "      <td>Омск</td>\n",
       "      <td>free</td>\n",
       "      <td>846.932642</td>\n",
       "      <td>16.234663</td>\n",
       "      <td>2021-02-01</td>\n",
       "      <td>2</td>\n",
       "      <td>8</td>\n",
       "      <td>50</td>\n",
       "      <td>0</td>\n",
       "    </tr>\n",
       "    <tr>\n",
       "      <th>6502</th>\n",
       "      <td>700</td>\n",
       "      <td>Айдар</td>\n",
       "      <td>22</td>\n",
       "      <td>Омск</td>\n",
       "      <td>free</td>\n",
       "      <td>4004.434142</td>\n",
       "      <td>20.016628</td>\n",
       "      <td>2021-02-04</td>\n",
       "      <td>2</td>\n",
       "      <td>8</td>\n",
       "      <td>50</td>\n",
       "      <td>0</td>\n",
       "    </tr>\n",
       "    <tr>\n",
       "      <th>6503</th>\n",
       "      <td>700</td>\n",
       "      <td>Айдар</td>\n",
       "      <td>22</td>\n",
       "      <td>Омск</td>\n",
       "      <td>free</td>\n",
       "      <td>1205.911290</td>\n",
       "      <td>9.782872</td>\n",
       "      <td>2021-02-10</td>\n",
       "      <td>2</td>\n",
       "      <td>8</td>\n",
       "      <td>50</td>\n",
       "      <td>0</td>\n",
       "    </tr>\n",
       "    <tr>\n",
       "      <th>6504</th>\n",
       "      <td>700</td>\n",
       "      <td>Айдар</td>\n",
       "      <td>22</td>\n",
       "      <td>Омск</td>\n",
       "      <td>free</td>\n",
       "      <td>3047.379435</td>\n",
       "      <td>17.427673</td>\n",
       "      <td>2021-02-14</td>\n",
       "      <td>2</td>\n",
       "      <td>8</td>\n",
       "      <td>50</td>\n",
       "      <td>0</td>\n",
       "    </tr>\n",
       "    <tr>\n",
       "      <th>...</th>\n",
       "      <td>...</td>\n",
       "      <td>...</td>\n",
       "      <td>...</td>\n",
       "      <td>...</td>\n",
       "      <td>...</td>\n",
       "      <td>...</td>\n",
       "      <td>...</td>\n",
       "      <td>...</td>\n",
       "      <td>...</td>\n",
       "      <td>...</td>\n",
       "      <td>...</td>\n",
       "      <td>...</td>\n",
       "    </tr>\n",
       "    <tr>\n",
       "      <th>18063</th>\n",
       "      <td>1534</td>\n",
       "      <td>Альберт</td>\n",
       "      <td>25</td>\n",
       "      <td>Краснодар</td>\n",
       "      <td>free</td>\n",
       "      <td>3781.098080</td>\n",
       "      <td>19.822962</td>\n",
       "      <td>2021-11-04</td>\n",
       "      <td>11</td>\n",
       "      <td>8</td>\n",
       "      <td>50</td>\n",
       "      <td>0</td>\n",
       "    </tr>\n",
       "    <tr>\n",
       "      <th>18064</th>\n",
       "      <td>1534</td>\n",
       "      <td>Альберт</td>\n",
       "      <td>25</td>\n",
       "      <td>Краснодар</td>\n",
       "      <td>free</td>\n",
       "      <td>2840.423057</td>\n",
       "      <td>21.409799</td>\n",
       "      <td>2021-11-16</td>\n",
       "      <td>11</td>\n",
       "      <td>8</td>\n",
       "      <td>50</td>\n",
       "      <td>0</td>\n",
       "    </tr>\n",
       "    <tr>\n",
       "      <th>18065</th>\n",
       "      <td>1534</td>\n",
       "      <td>Альберт</td>\n",
       "      <td>25</td>\n",
       "      <td>Краснодар</td>\n",
       "      <td>free</td>\n",
       "      <td>3826.185507</td>\n",
       "      <td>18.435051</td>\n",
       "      <td>2021-11-18</td>\n",
       "      <td>11</td>\n",
       "      <td>8</td>\n",
       "      <td>50</td>\n",
       "      <td>0</td>\n",
       "    </tr>\n",
       "    <tr>\n",
       "      <th>18066</th>\n",
       "      <td>1534</td>\n",
       "      <td>Альберт</td>\n",
       "      <td>25</td>\n",
       "      <td>Краснодар</td>\n",
       "      <td>free</td>\n",
       "      <td>2902.308661</td>\n",
       "      <td>16.674362</td>\n",
       "      <td>2021-11-27</td>\n",
       "      <td>11</td>\n",
       "      <td>8</td>\n",
       "      <td>50</td>\n",
       "      <td>0</td>\n",
       "    </tr>\n",
       "    <tr>\n",
       "      <th>18067</th>\n",
       "      <td>1534</td>\n",
       "      <td>Альберт</td>\n",
       "      <td>25</td>\n",
       "      <td>Краснодар</td>\n",
       "      <td>free</td>\n",
       "      <td>2371.711192</td>\n",
       "      <td>15.893917</td>\n",
       "      <td>2021-12-29</td>\n",
       "      <td>12</td>\n",
       "      <td>8</td>\n",
       "      <td>50</td>\n",
       "      <td>0</td>\n",
       "    </tr>\n",
       "  </tbody>\n",
       "</table>\n",
       "<p>11568 rows × 12 columns</p>\n",
       "</div>"
      ],
      "text/plain": [
       "       user_id     name  age       city subscription_type     distance  \\\n",
       "6500       700    Айдар   22       Омск              free  2515.690719   \n",
       "6501       700    Айдар   22       Омск              free   846.932642   \n",
       "6502       700    Айдар   22       Омск              free  4004.434142   \n",
       "6503       700    Айдар   22       Омск              free  1205.911290   \n",
       "6504       700    Айдар   22       Омск              free  3047.379435   \n",
       "...        ...      ...  ...        ...               ...          ...   \n",
       "18063     1534  Альберт   25  Краснодар              free  3781.098080   \n",
       "18064     1534  Альберт   25  Краснодар              free  2840.423057   \n",
       "18065     1534  Альберт   25  Краснодар              free  3826.185507   \n",
       "18066     1534  Альберт   25  Краснодар              free  2902.308661   \n",
       "18067     1534  Альберт   25  Краснодар              free  2371.711192   \n",
       "\n",
       "        duration       date  month  minute_price  start_ride_price  \\\n",
       "6500   14.944286 2021-01-02      1             8                50   \n",
       "6501   16.234663 2021-02-01      2             8                50   \n",
       "6502   20.016628 2021-02-04      2             8                50   \n",
       "6503    9.782872 2021-02-10      2             8                50   \n",
       "6504   17.427673 2021-02-14      2             8                50   \n",
       "...          ...        ...    ...           ...               ...   \n",
       "18063  19.822962 2021-11-04     11             8                50   \n",
       "18064  21.409799 2021-11-16     11             8                50   \n",
       "18065  18.435051 2021-11-18     11             8                50   \n",
       "18066  16.674362 2021-11-27     11             8                50   \n",
       "18067  15.893917 2021-12-29     12             8                50   \n",
       "\n",
       "       subscription_fee  \n",
       "6500                  0  \n",
       "6501                  0  \n",
       "6502                  0  \n",
       "6503                  0  \n",
       "6504                  0  \n",
       "...                 ...  \n",
       "18063                 0  \n",
       "18064                 0  \n",
       "18065                 0  \n",
       "18066                 0  \n",
       "18067                 0  \n",
       "\n",
       "[11568 rows x 12 columns]"
      ]
     },
     "execution_count": 36,
     "metadata": {},
     "output_type": "execute_result"
    }
   ],
   "source": [
    "free_data = full_data.query('subscription_fee == 0')\n",
    "free_data"
   ]
  },
  {
   "cell_type": "markdown",
   "id": "c8326736",
   "metadata": {},
   "source": [
    "Создаём датафрейм c данными о пользователях c подпиской."
   ]
  },
  {
   "cell_type": "code",
   "execution_count": 37,
   "id": "b1a174e4",
   "metadata": {
    "scrolled": true
   },
   "outputs": [
    {
     "data": {
      "text/html": [
       "<div>\n",
       "<style scoped>\n",
       "    .dataframe tbody tr th:only-of-type {\n",
       "        vertical-align: middle;\n",
       "    }\n",
       "\n",
       "    .dataframe tbody tr th {\n",
       "        vertical-align: top;\n",
       "    }\n",
       "\n",
       "    .dataframe thead th {\n",
       "        text-align: right;\n",
       "    }\n",
       "</style>\n",
       "<table border=\"1\" class=\"dataframe\">\n",
       "  <thead>\n",
       "    <tr style=\"text-align: right;\">\n",
       "      <th></th>\n",
       "      <th>user_id</th>\n",
       "      <th>name</th>\n",
       "      <th>age</th>\n",
       "      <th>city</th>\n",
       "      <th>subscription_type</th>\n",
       "      <th>distance</th>\n",
       "      <th>duration</th>\n",
       "      <th>date</th>\n",
       "      <th>month</th>\n",
       "      <th>minute_price</th>\n",
       "      <th>start_ride_price</th>\n",
       "      <th>subscription_fee</th>\n",
       "    </tr>\n",
       "  </thead>\n",
       "  <tbody>\n",
       "    <tr>\n",
       "      <th>0</th>\n",
       "      <td>1</td>\n",
       "      <td>Кира</td>\n",
       "      <td>22</td>\n",
       "      <td>Тюмень</td>\n",
       "      <td>ultra</td>\n",
       "      <td>4409.919140</td>\n",
       "      <td>25.599769</td>\n",
       "      <td>2021-01-01</td>\n",
       "      <td>1</td>\n",
       "      <td>6</td>\n",
       "      <td>0</td>\n",
       "      <td>199</td>\n",
       "    </tr>\n",
       "    <tr>\n",
       "      <th>1</th>\n",
       "      <td>1</td>\n",
       "      <td>Кира</td>\n",
       "      <td>22</td>\n",
       "      <td>Тюмень</td>\n",
       "      <td>ultra</td>\n",
       "      <td>2617.592153</td>\n",
       "      <td>15.816871</td>\n",
       "      <td>2021-01-18</td>\n",
       "      <td>1</td>\n",
       "      <td>6</td>\n",
       "      <td>0</td>\n",
       "      <td>199</td>\n",
       "    </tr>\n",
       "    <tr>\n",
       "      <th>2</th>\n",
       "      <td>1</td>\n",
       "      <td>Кира</td>\n",
       "      <td>22</td>\n",
       "      <td>Тюмень</td>\n",
       "      <td>ultra</td>\n",
       "      <td>754.159807</td>\n",
       "      <td>6.232113</td>\n",
       "      <td>2021-04-20</td>\n",
       "      <td>4</td>\n",
       "      <td>6</td>\n",
       "      <td>0</td>\n",
       "      <td>199</td>\n",
       "    </tr>\n",
       "    <tr>\n",
       "      <th>3</th>\n",
       "      <td>1</td>\n",
       "      <td>Кира</td>\n",
       "      <td>22</td>\n",
       "      <td>Тюмень</td>\n",
       "      <td>ultra</td>\n",
       "      <td>2694.783254</td>\n",
       "      <td>18.511000</td>\n",
       "      <td>2021-08-11</td>\n",
       "      <td>8</td>\n",
       "      <td>6</td>\n",
       "      <td>0</td>\n",
       "      <td>199</td>\n",
       "    </tr>\n",
       "    <tr>\n",
       "      <th>4</th>\n",
       "      <td>1</td>\n",
       "      <td>Кира</td>\n",
       "      <td>22</td>\n",
       "      <td>Тюмень</td>\n",
       "      <td>ultra</td>\n",
       "      <td>4028.687306</td>\n",
       "      <td>26.265803</td>\n",
       "      <td>2021-08-28</td>\n",
       "      <td>8</td>\n",
       "      <td>6</td>\n",
       "      <td>0</td>\n",
       "      <td>199</td>\n",
       "    </tr>\n",
       "    <tr>\n",
       "      <th>...</th>\n",
       "      <td>...</td>\n",
       "      <td>...</td>\n",
       "      <td>...</td>\n",
       "      <td>...</td>\n",
       "      <td>...</td>\n",
       "      <td>...</td>\n",
       "      <td>...</td>\n",
       "      <td>...</td>\n",
       "      <td>...</td>\n",
       "      <td>...</td>\n",
       "      <td>...</td>\n",
       "      <td>...</td>\n",
       "    </tr>\n",
       "    <tr>\n",
       "      <th>6495</th>\n",
       "      <td>699</td>\n",
       "      <td>Оксана</td>\n",
       "      <td>22</td>\n",
       "      <td>Москва</td>\n",
       "      <td>ultra</td>\n",
       "      <td>3973.046497</td>\n",
       "      <td>24.671163</td>\n",
       "      <td>2021-08-29</td>\n",
       "      <td>8</td>\n",
       "      <td>6</td>\n",
       "      <td>0</td>\n",
       "      <td>199</td>\n",
       "    </tr>\n",
       "    <tr>\n",
       "      <th>6496</th>\n",
       "      <td>699</td>\n",
       "      <td>Оксана</td>\n",
       "      <td>22</td>\n",
       "      <td>Москва</td>\n",
       "      <td>ultra</td>\n",
       "      <td>3288.702563</td>\n",
       "      <td>15.892886</td>\n",
       "      <td>2021-09-12</td>\n",
       "      <td>9</td>\n",
       "      <td>6</td>\n",
       "      <td>0</td>\n",
       "      <td>199</td>\n",
       "    </tr>\n",
       "    <tr>\n",
       "      <th>6497</th>\n",
       "      <td>699</td>\n",
       "      <td>Оксана</td>\n",
       "      <td>22</td>\n",
       "      <td>Москва</td>\n",
       "      <td>ultra</td>\n",
       "      <td>3076.159348</td>\n",
       "      <td>14.389525</td>\n",
       "      <td>2021-09-26</td>\n",
       "      <td>9</td>\n",
       "      <td>6</td>\n",
       "      <td>0</td>\n",
       "      <td>199</td>\n",
       "    </tr>\n",
       "    <tr>\n",
       "      <th>6498</th>\n",
       "      <td>699</td>\n",
       "      <td>Оксана</td>\n",
       "      <td>22</td>\n",
       "      <td>Москва</td>\n",
       "      <td>ultra</td>\n",
       "      <td>4707.845501</td>\n",
       "      <td>15.839579</td>\n",
       "      <td>2021-10-17</td>\n",
       "      <td>10</td>\n",
       "      <td>6</td>\n",
       "      <td>0</td>\n",
       "      <td>199</td>\n",
       "    </tr>\n",
       "    <tr>\n",
       "      <th>6499</th>\n",
       "      <td>699</td>\n",
       "      <td>Оксана</td>\n",
       "      <td>22</td>\n",
       "      <td>Москва</td>\n",
       "      <td>ultra</td>\n",
       "      <td>3202.890770</td>\n",
       "      <td>25.217345</td>\n",
       "      <td>2021-12-03</td>\n",
       "      <td>12</td>\n",
       "      <td>6</td>\n",
       "      <td>0</td>\n",
       "      <td>199</td>\n",
       "    </tr>\n",
       "  </tbody>\n",
       "</table>\n",
       "<p>6500 rows × 12 columns</p>\n",
       "</div>"
      ],
      "text/plain": [
       "      user_id    name  age    city subscription_type     distance   duration  \\\n",
       "0           1    Кира   22  Тюмень             ultra  4409.919140  25.599769   \n",
       "1           1    Кира   22  Тюмень             ultra  2617.592153  15.816871   \n",
       "2           1    Кира   22  Тюмень             ultra   754.159807   6.232113   \n",
       "3           1    Кира   22  Тюмень             ultra  2694.783254  18.511000   \n",
       "4           1    Кира   22  Тюмень             ultra  4028.687306  26.265803   \n",
       "...       ...     ...  ...     ...               ...          ...        ...   \n",
       "6495      699  Оксана   22  Москва             ultra  3973.046497  24.671163   \n",
       "6496      699  Оксана   22  Москва             ultra  3288.702563  15.892886   \n",
       "6497      699  Оксана   22  Москва             ultra  3076.159348  14.389525   \n",
       "6498      699  Оксана   22  Москва             ultra  4707.845501  15.839579   \n",
       "6499      699  Оксана   22  Москва             ultra  3202.890770  25.217345   \n",
       "\n",
       "           date  month  minute_price  start_ride_price  subscription_fee  \n",
       "0    2021-01-01      1             6                 0               199  \n",
       "1    2021-01-18      1             6                 0               199  \n",
       "2    2021-04-20      4             6                 0               199  \n",
       "3    2021-08-11      8             6                 0               199  \n",
       "4    2021-08-28      8             6                 0               199  \n",
       "...         ...    ...           ...               ...               ...  \n",
       "6495 2021-08-29      8             6                 0               199  \n",
       "6496 2021-09-12      9             6                 0               199  \n",
       "6497 2021-09-26      9             6                 0               199  \n",
       "6498 2021-10-17     10             6                 0               199  \n",
       "6499 2021-12-03     12             6                 0               199  \n",
       "\n",
       "[6500 rows x 12 columns]"
      ]
     },
     "execution_count": 37,
     "metadata": {},
     "output_type": "execute_result"
    }
   ],
   "source": [
    "fee_data = full_data.query('subscription_fee != 0')\n",
    "fee_data"
   ]
  },
  {
   "cell_type": "markdown",
   "id": "320ea47f",
   "metadata": {},
   "source": [
    "**Визуализируем информацию о расстоянии и времени поездок для пользователей без подписки  на сервис.**"
   ]
  },
  {
   "cell_type": "markdown",
   "id": "2f9b5847",
   "metadata": {},
   "source": [
    "Описательная статистика общих данных для пользователей без продписки."
   ]
  },
  {
   "cell_type": "code",
   "execution_count": 38,
   "id": "d19a34e8",
   "metadata": {},
   "outputs": [
    {
     "data": {
      "text/html": [
       "<div>\n",
       "<style scoped>\n",
       "    .dataframe tbody tr th:only-of-type {\n",
       "        vertical-align: middle;\n",
       "    }\n",
       "\n",
       "    .dataframe tbody tr th {\n",
       "        vertical-align: top;\n",
       "    }\n",
       "\n",
       "    .dataframe thead th {\n",
       "        text-align: right;\n",
       "    }\n",
       "</style>\n",
       "<table border=\"1\" class=\"dataframe\">\n",
       "  <thead>\n",
       "    <tr style=\"text-align: right;\">\n",
       "      <th></th>\n",
       "      <th>count</th>\n",
       "      <th>mean</th>\n",
       "      <th>std</th>\n",
       "      <th>min</th>\n",
       "      <th>25%</th>\n",
       "      <th>50%</th>\n",
       "      <th>75%</th>\n",
       "      <th>max</th>\n",
       "    </tr>\n",
       "  </thead>\n",
       "  <tbody>\n",
       "    <tr>\n",
       "      <th>user_id</th>\n",
       "      <td>11568.0</td>\n",
       "      <td>1120.527230</td>\n",
       "      <td>241.165628</td>\n",
       "      <td>700.000000</td>\n",
       "      <td>915.000000</td>\n",
       "      <td>1123.000000</td>\n",
       "      <td>1328.000000</td>\n",
       "      <td>1534.000000</td>\n",
       "    </tr>\n",
       "    <tr>\n",
       "      <th>age</th>\n",
       "      <td>11568.0</td>\n",
       "      <td>24.893326</td>\n",
       "      <td>4.481100</td>\n",
       "      <td>12.000000</td>\n",
       "      <td>22.000000</td>\n",
       "      <td>25.000000</td>\n",
       "      <td>28.000000</td>\n",
       "      <td>43.000000</td>\n",
       "    </tr>\n",
       "    <tr>\n",
       "      <th>distance</th>\n",
       "      <td>11568.0</td>\n",
       "      <td>3045.495282</td>\n",
       "      <td>1246.173806</td>\n",
       "      <td>0.855683</td>\n",
       "      <td>2366.562689</td>\n",
       "      <td>3114.648465</td>\n",
       "      <td>3905.697894</td>\n",
       "      <td>7211.007745</td>\n",
       "    </tr>\n",
       "    <tr>\n",
       "      <th>duration</th>\n",
       "      <td>11568.0</td>\n",
       "      <td>17.390909</td>\n",
       "      <td>6.326803</td>\n",
       "      <td>0.500000</td>\n",
       "      <td>12.958437</td>\n",
       "      <td>17.326890</td>\n",
       "      <td>21.594071</td>\n",
       "      <td>34.948498</td>\n",
       "    </tr>\n",
       "    <tr>\n",
       "      <th>month</th>\n",
       "      <td>11568.0</td>\n",
       "      <td>6.522994</td>\n",
       "      <td>3.449770</td>\n",
       "      <td>1.000000</td>\n",
       "      <td>4.000000</td>\n",
       "      <td>7.000000</td>\n",
       "      <td>9.000000</td>\n",
       "      <td>12.000000</td>\n",
       "    </tr>\n",
       "    <tr>\n",
       "      <th>minute_price</th>\n",
       "      <td>11568.0</td>\n",
       "      <td>8.000000</td>\n",
       "      <td>0.000000</td>\n",
       "      <td>8.000000</td>\n",
       "      <td>8.000000</td>\n",
       "      <td>8.000000</td>\n",
       "      <td>8.000000</td>\n",
       "      <td>8.000000</td>\n",
       "    </tr>\n",
       "    <tr>\n",
       "      <th>start_ride_price</th>\n",
       "      <td>11568.0</td>\n",
       "      <td>50.000000</td>\n",
       "      <td>0.000000</td>\n",
       "      <td>50.000000</td>\n",
       "      <td>50.000000</td>\n",
       "      <td>50.000000</td>\n",
       "      <td>50.000000</td>\n",
       "      <td>50.000000</td>\n",
       "    </tr>\n",
       "    <tr>\n",
       "      <th>subscription_fee</th>\n",
       "      <td>11568.0</td>\n",
       "      <td>0.000000</td>\n",
       "      <td>0.000000</td>\n",
       "      <td>0.000000</td>\n",
       "      <td>0.000000</td>\n",
       "      <td>0.000000</td>\n",
       "      <td>0.000000</td>\n",
       "      <td>0.000000</td>\n",
       "    </tr>\n",
       "  </tbody>\n",
       "</table>\n",
       "</div>"
      ],
      "text/plain": [
       "                    count         mean          std         min          25%  \\\n",
       "user_id           11568.0  1120.527230   241.165628  700.000000   915.000000   \n",
       "age               11568.0    24.893326     4.481100   12.000000    22.000000   \n",
       "distance          11568.0  3045.495282  1246.173806    0.855683  2366.562689   \n",
       "duration          11568.0    17.390909     6.326803    0.500000    12.958437   \n",
       "month             11568.0     6.522994     3.449770    1.000000     4.000000   \n",
       "minute_price      11568.0     8.000000     0.000000    8.000000     8.000000   \n",
       "start_ride_price  11568.0    50.000000     0.000000   50.000000    50.000000   \n",
       "subscription_fee  11568.0     0.000000     0.000000    0.000000     0.000000   \n",
       "\n",
       "                          50%          75%          max  \n",
       "user_id           1123.000000  1328.000000  1534.000000  \n",
       "age                 25.000000    28.000000    43.000000  \n",
       "distance          3114.648465  3905.697894  7211.007745  \n",
       "duration            17.326890    21.594071    34.948498  \n",
       "month                7.000000     9.000000    12.000000  \n",
       "minute_price         8.000000     8.000000     8.000000  \n",
       "start_ride_price    50.000000    50.000000    50.000000  \n",
       "subscription_fee     0.000000     0.000000     0.000000  "
      ]
     },
     "execution_count": 38,
     "metadata": {},
     "output_type": "execute_result"
    }
   ],
   "source": [
    "free_data.describe().T"
   ]
  },
  {
   "cell_type": "markdown",
   "id": "47447eec",
   "metadata": {},
   "source": [
    "Минимальное расстояние, пройденное за одну поезду, - 0.86 м, максимальное 7211 м, медианное - 3115 м. \n",
    "Минимальная продолжительность поездки 0.5 мин, максимальная 35 мин. Медианная продолжительность поездки для пользователей без подписки 17 мин."
   ]
  },
  {
   "cell_type": "markdown",
   "id": "7fc8ce51",
   "metadata": {},
   "source": [
    "Описательная статистика общих данных для пользователей с продпиской."
   ]
  },
  {
   "cell_type": "code",
   "execution_count": 39,
   "id": "915a424d",
   "metadata": {},
   "outputs": [
    {
     "data": {
      "text/html": [
       "<div>\n",
       "<style scoped>\n",
       "    .dataframe tbody tr th:only-of-type {\n",
       "        vertical-align: middle;\n",
       "    }\n",
       "\n",
       "    .dataframe tbody tr th {\n",
       "        vertical-align: top;\n",
       "    }\n",
       "\n",
       "    .dataframe thead th {\n",
       "        text-align: right;\n",
       "    }\n",
       "</style>\n",
       "<table border=\"1\" class=\"dataframe\">\n",
       "  <thead>\n",
       "    <tr style=\"text-align: right;\">\n",
       "      <th></th>\n",
       "      <th>count</th>\n",
       "      <th>mean</th>\n",
       "      <th>std</th>\n",
       "      <th>min</th>\n",
       "      <th>25%</th>\n",
       "      <th>50%</th>\n",
       "      <th>75%</th>\n",
       "      <th>max</th>\n",
       "    </tr>\n",
       "  </thead>\n",
       "  <tbody>\n",
       "    <tr>\n",
       "      <th>user_id</th>\n",
       "      <td>6500.0</td>\n",
       "      <td>348.725385</td>\n",
       "      <td>201.099339</td>\n",
       "      <td>1.000000</td>\n",
       "      <td>175.000000</td>\n",
       "      <td>351.000000</td>\n",
       "      <td>525.000000</td>\n",
       "      <td>699.000000</td>\n",
       "    </tr>\n",
       "    <tr>\n",
       "      <th>age</th>\n",
       "      <td>6500.0</td>\n",
       "      <td>24.892615</td>\n",
       "      <td>4.757208</td>\n",
       "      <td>12.000000</td>\n",
       "      <td>22.000000</td>\n",
       "      <td>25.000000</td>\n",
       "      <td>28.000000</td>\n",
       "      <td>38.000000</td>\n",
       "    </tr>\n",
       "    <tr>\n",
       "      <th>distance</th>\n",
       "      <td>6500.0</td>\n",
       "      <td>3115.445388</td>\n",
       "      <td>836.895330</td>\n",
       "      <td>244.210438</td>\n",
       "      <td>2785.444017</td>\n",
       "      <td>3148.637229</td>\n",
       "      <td>3560.574425</td>\n",
       "      <td>5699.769662</td>\n",
       "    </tr>\n",
       "    <tr>\n",
       "      <th>duration</th>\n",
       "      <td>6500.0</td>\n",
       "      <td>18.541985</td>\n",
       "      <td>5.572048</td>\n",
       "      <td>3.760353</td>\n",
       "      <td>14.524654</td>\n",
       "      <td>18.178153</td>\n",
       "      <td>21.884129</td>\n",
       "      <td>40.823963</td>\n",
       "    </tr>\n",
       "    <tr>\n",
       "      <th>month</th>\n",
       "      <td>6500.0</td>\n",
       "      <td>6.422308</td>\n",
       "      <td>3.414616</td>\n",
       "      <td>1.000000</td>\n",
       "      <td>4.000000</td>\n",
       "      <td>6.000000</td>\n",
       "      <td>9.000000</td>\n",
       "      <td>12.000000</td>\n",
       "    </tr>\n",
       "    <tr>\n",
       "      <th>minute_price</th>\n",
       "      <td>6500.0</td>\n",
       "      <td>6.000000</td>\n",
       "      <td>0.000000</td>\n",
       "      <td>6.000000</td>\n",
       "      <td>6.000000</td>\n",
       "      <td>6.000000</td>\n",
       "      <td>6.000000</td>\n",
       "      <td>6.000000</td>\n",
       "    </tr>\n",
       "    <tr>\n",
       "      <th>start_ride_price</th>\n",
       "      <td>6500.0</td>\n",
       "      <td>0.000000</td>\n",
       "      <td>0.000000</td>\n",
       "      <td>0.000000</td>\n",
       "      <td>0.000000</td>\n",
       "      <td>0.000000</td>\n",
       "      <td>0.000000</td>\n",
       "      <td>0.000000</td>\n",
       "    </tr>\n",
       "    <tr>\n",
       "      <th>subscription_fee</th>\n",
       "      <td>6500.0</td>\n",
       "      <td>199.000000</td>\n",
       "      <td>0.000000</td>\n",
       "      <td>199.000000</td>\n",
       "      <td>199.000000</td>\n",
       "      <td>199.000000</td>\n",
       "      <td>199.000000</td>\n",
       "      <td>199.000000</td>\n",
       "    </tr>\n",
       "  </tbody>\n",
       "</table>\n",
       "</div>"
      ],
      "text/plain": [
       "                   count         mean         std         min          25%  \\\n",
       "user_id           6500.0   348.725385  201.099339    1.000000   175.000000   \n",
       "age               6500.0    24.892615    4.757208   12.000000    22.000000   \n",
       "distance          6500.0  3115.445388  836.895330  244.210438  2785.444017   \n",
       "duration          6500.0    18.541985    5.572048    3.760353    14.524654   \n",
       "month             6500.0     6.422308    3.414616    1.000000     4.000000   \n",
       "minute_price      6500.0     6.000000    0.000000    6.000000     6.000000   \n",
       "start_ride_price  6500.0     0.000000    0.000000    0.000000     0.000000   \n",
       "subscription_fee  6500.0   199.000000    0.000000  199.000000   199.000000   \n",
       "\n",
       "                          50%          75%          max  \n",
       "user_id            351.000000   525.000000   699.000000  \n",
       "age                 25.000000    28.000000    38.000000  \n",
       "distance          3148.637229  3560.574425  5699.769662  \n",
       "duration            18.178153    21.884129    40.823963  \n",
       "month                6.000000     9.000000    12.000000  \n",
       "minute_price         6.000000     6.000000     6.000000  \n",
       "start_ride_price     0.000000     0.000000     0.000000  \n",
       "subscription_fee   199.000000   199.000000   199.000000  "
      ]
     },
     "execution_count": 39,
     "metadata": {},
     "output_type": "execute_result"
    }
   ],
   "source": [
    "fee_data.describe().T"
   ]
  },
  {
   "cell_type": "markdown",
   "id": "7a2efb8c",
   "metadata": {},
   "source": [
    "Минимальное расстояние, пройденное пользователями с подпиской - 244 м, максимальное - 5700 м. Медианное значение - 3148 м.\n",
    "\n",
    "Минимальная длительность поездки - менее 4 мин, максимальная - почти 41 мин. Медианное значение длительности поезки -  чуть больше 18 мин."
   ]
  },
  {
   "cell_type": "markdown",
   "id": "3dcc9aa1",
   "metadata": {},
   "source": [
    "Построим гистограмму распределения расстояния пройденного пользователями с подпиской и без неё"
   ]
  },
  {
   "cell_type": "code",
   "execution_count": 40,
   "id": "3ed35425",
   "metadata": {
    "scrolled": true
   },
   "outputs": [
    {
     "data": {
      "image/png": "[encoded data removed]",
      "text/plain": [
       "<Figure size 504x360 with 1 Axes>"
      ]
     },
     "metadata": {
      "needs_background": "light"
     },
     "output_type": "display_data"
    }
   ],
   "source": [
    "plt.figure(figsize=(7, 5))\n",
    "plt.hist(free_data['distance'],\n",
    "         bins = 35,\n",
    "         ec='black',\n",
    "         range  = (0,7300),\n",
    "         alpha=0.5, \n",
    "         label='Без подписки') \n",
    "  \n",
    "plt.hist(fee_data['distance'], \n",
    "         bins = 35,\n",
    "         ec='black',\n",
    "         range  = (0,7300),\n",
    "         alpha=0.5, \n",
    "         label='С подпиской') \n",
    "  \n",
    "plt.legend(loc='best') \n",
    "plt.title('Расстояние, пройденное пользователями сервиса с подпиской и без неё') \n",
    "plt.xlabel('м')\n",
    "plt.ylabel('Количество пользователей')\n",
    "\n",
    "plt.show()"
   ]
  },
  {
   "cell_type": "markdown",
   "id": "616f0b01",
   "metadata": {},
   "source": [
    "**Для пользователей без подписки:**\n",
    "На визуализации отчетливо видно 2 колоколообразных распределения, близких к нормальному, с вершинами: для малого колокола около 700 м, для большого - 2,9 км. Два близких к нормальному распределения скорее всего соответствуют двум типам пользователей:\n",
    "\n",
    "1. Пользователи, арендующие самокат для коротких поездок (до 1.3 км).\n",
    "2. Пользователи, арендующие самокат для поездок на относительно длинные поездки (от 1.3 км и более).\n",
    "\n",
    "Наибольшее число пользователей проезжают за одну поездку от 2,4 до 3,9 км. Наиболее часто встречающиеся расстояние, проходимое пользователями сервиса без подписки 2.9 км. Что не полностью соответствует медианному значению из таблицы с описательной статистикой, медиана и среднее смещены в сторону больших значений.\n",
    "\n",
    "**Для пользователей с подпиской:**\n",
    "На визуализации отчетливо видно 2 колоколообразных распределения, близких к нормальному, с вершинами: для малого колокола около 1.0 км, для большого - 3,1 км. \n",
    "Как и у пользователей без подписки наблюдаются 2 пика в распределении растояний, пройденных пользователями сервиса, так же можно предположить, что это две группы пользователей:\n",
    "\n",
    "1. Пользователи, арендующие самокат для коротких поездок (до 1.9 км).\n",
    "2. Пользователи, арендующие самокат для поездок на относительно длинные поездки (от 2.0 км и более).\n",
    "\n",
    "Наибольшее число пользователей проезжают за одну поездку от 2,5 до 3,6 км. Наиболее часто встречающиеся расстояние, проходимое пользователями сервиса 3.1 км. Что соответствует медианному значению из таблицы с описательной статистикой."
   ]
  },
  {
   "cell_type": "markdown",
   "id": "676c010f",
   "metadata": {},
   "source": [
    "Построим гистограмму распределения длительности одной поездки пользователей с подпиской и без неё"
   ]
  },
  {
   "cell_type": "code",
   "execution_count": 41,
   "id": "ae8fe037",
   "metadata": {},
   "outputs": [
    {
     "data": {
      "image/png": "[encoded data removed]",
      "text/plain": [
       "<Figure size 504x360 with 1 Axes>"
      ]
     },
     "metadata": {
      "needs_background": "light"
     },
     "output_type": "display_data"
    }
   ],
   "source": [
    "plt.figure(figsize=(7, 5))\n",
    "plt.hist(free_data['duration'],\n",
    "         bins = 40,\n",
    "         ec='black',\n",
    "         range  = (0,41),\n",
    "         alpha=0.5, \n",
    "         label='Без подписки') \n",
    "  \n",
    "plt.hist(fee_data['duration'], \n",
    "         bins = 35,\n",
    "         ec='black',\n",
    "         range  = (0,41),\n",
    "         alpha=0.5, \n",
    "         label='С подпиской') \n",
    "  \n",
    "plt.legend(loc='best') \n",
    "plt.title('Длительность одной поездки пользователей с подпиской и без неё') \n",
    "plt.xlabel('мин')\n",
    "plt.ylabel('Количество пользователей')\n",
    "\n",
    "plt.show()"
   ]
  },
  {
   "cell_type": "markdown",
   "id": "0e4c1afc",
   "metadata": {},
   "source": [
    "**Для пользователей без подписки:**\n",
    "\n",
    "Длительность поездок пользователей без подписки имеет распределение, близкое к нормальному. Типичные поездки имеют длительность в диапазоне от 13 до 22 минут. Наиболее часто встречаются поездки длительностью 17 минут, что соотвествует медианному значению.\n",
    "\n",
    "**Для пользователей с подпиской:**\n",
    "\n",
    "Длительность поездок пользователей с подпиской имеет распределение, близкое к нормальному. Типичные поездки имеют длительность в диапазоне от 14 до 22 минут. Наиболее часто встречаются поездки длительностью 18 минут, что соотвествует медианному значению."
   ]
  },
  {
   "cell_type": "markdown",
   "id": "6874e491",
   "metadata": {},
   "source": [
    "**Промежуточный вывод**\n",
    "\n",
    "Для пользователей без подписки типичное время поездки составляет от 13 до 22 минуты, проезжая при этом от 2.4 до 3.9 км. Медианные значения времени поездки и расстояния, проезжаемого за 1 поедку составляют: 2.9 км и 17 мин. \n",
    "\n",
    "Для пользователей с подпиской типичное время поездки составляет от 14 до 22 минуты, проезжая при этом от 2.5 до 3.6 км. Медианные значения времени поездки и расстояния, проезжаемого за 1 поедку составляют: 3.1 км и 18 мин. \n",
    "\n",
    "Таким образом, можно сделать вывод, что пользователи с подпиской обладают более стабильным характером поездок, чем пользователи без подписки. А именно, у пользоватнелей с подпиской не наблюдается такого большого разброса в расстояниях и времени одной поездки, как у пользователей без подписки."
   ]
  },
  {
   "cell_type": "markdown",
   "id": "402d620f",
   "metadata": {},
   "source": [
    "#### Шаг 5. Подсчёт выручки"
   ]
  },
  {
   "cell_type": "markdown",
   "id": "9188f0c8",
   "metadata": {},
   "source": [
    "Округлим до целого значения продолжительность одной поезки в датасете с полными данными."
   ]
  },
  {
   "cell_type": "code",
   "execution_count": 42,
   "id": "a24d5b39",
   "metadata": {},
   "outputs": [],
   "source": [
    "full_data['duration']= np.ceil(full_data['duration']).astype(int) # округляем продолжительность поездки до целого числа - минут"
   ]
  },
  {
   "cell_type": "markdown",
   "id": "7d88e083",
   "metadata": {},
   "source": [
    "Создаём датафрейм с агрегированными данными о поездках на основе датафрейма с общими данными.\n",
    "Найдём суммарное расстояние, количество поездок и суммарное время для каждого пользователя за каждый месяц."
   ]
  },
  {
   "cell_type": "code",
   "execution_count": 43,
   "id": "7c5e45b7",
   "metadata": {},
   "outputs": [
    {
     "data": {
      "text/html": [
       "<div>\n",
       "<style scoped>\n",
       "    .dataframe tbody tr th:only-of-type {\n",
       "        vertical-align: middle;\n",
       "    }\n",
       "\n",
       "    .dataframe tbody tr th {\n",
       "        vertical-align: top;\n",
       "    }\n",
       "\n",
       "    .dataframe thead th {\n",
       "        text-align: right;\n",
       "    }\n",
       "</style>\n",
       "<table border=\"1\" class=\"dataframe\">\n",
       "  <thead>\n",
       "    <tr style=\"text-align: right;\">\n",
       "      <th></th>\n",
       "      <th></th>\n",
       "      <th>count</th>\n",
       "      <th>distance</th>\n",
       "      <th>duration</th>\n",
       "      <th>minute_price</th>\n",
       "      <th>start_ride_price</th>\n",
       "      <th>subscription_fee</th>\n",
       "    </tr>\n",
       "    <tr>\n",
       "      <th>user_id</th>\n",
       "      <th>month</th>\n",
       "      <th></th>\n",
       "      <th></th>\n",
       "      <th></th>\n",
       "      <th></th>\n",
       "      <th></th>\n",
       "      <th></th>\n",
       "    </tr>\n",
       "  </thead>\n",
       "  <tbody>\n",
       "    <tr>\n",
       "      <th rowspan=\"6\" valign=\"top\">1</th>\n",
       "      <th>1</th>\n",
       "      <td>2</td>\n",
       "      <td>7027.511294</td>\n",
       "      <td>42</td>\n",
       "      <td>12</td>\n",
       "      <td>0</td>\n",
       "      <td>398</td>\n",
       "    </tr>\n",
       "    <tr>\n",
       "      <th>4</th>\n",
       "      <td>1</td>\n",
       "      <td>754.159807</td>\n",
       "      <td>7</td>\n",
       "      <td>6</td>\n",
       "      <td>0</td>\n",
       "      <td>199</td>\n",
       "    </tr>\n",
       "    <tr>\n",
       "      <th>8</th>\n",
       "      <td>2</td>\n",
       "      <td>6723.470560</td>\n",
       "      <td>46</td>\n",
       "      <td>12</td>\n",
       "      <td>0</td>\n",
       "      <td>398</td>\n",
       "    </tr>\n",
       "    <tr>\n",
       "      <th>10</th>\n",
       "      <td>2</td>\n",
       "      <td>5809.911100</td>\n",
       "      <td>32</td>\n",
       "      <td>12</td>\n",
       "      <td>0</td>\n",
       "      <td>398</td>\n",
       "    </tr>\n",
       "    <tr>\n",
       "      <th>11</th>\n",
       "      <td>3</td>\n",
       "      <td>7003.499363</td>\n",
       "      <td>56</td>\n",
       "      <td>18</td>\n",
       "      <td>0</td>\n",
       "      <td>597</td>\n",
       "    </tr>\n",
       "    <tr>\n",
       "      <th>12</th>\n",
       "      <td>2</td>\n",
       "      <td>6751.629942</td>\n",
       "      <td>28</td>\n",
       "      <td>12</td>\n",
       "      <td>0</td>\n",
       "      <td>398</td>\n",
       "    </tr>\n",
       "    <tr>\n",
       "      <th rowspan=\"7\" valign=\"top\">2</th>\n",
       "      <th>3</th>\n",
       "      <td>3</td>\n",
       "      <td>10187.723006</td>\n",
       "      <td>63</td>\n",
       "      <td>18</td>\n",
       "      <td>0</td>\n",
       "      <td>597</td>\n",
       "    </tr>\n",
       "    <tr>\n",
       "      <th>4</th>\n",
       "      <td>2</td>\n",
       "      <td>6164.381824</td>\n",
       "      <td>40</td>\n",
       "      <td>12</td>\n",
       "      <td>0</td>\n",
       "      <td>398</td>\n",
       "    </tr>\n",
       "    <tr>\n",
       "      <th>6</th>\n",
       "      <td>1</td>\n",
       "      <td>3255.338202</td>\n",
       "      <td>14</td>\n",
       "      <td>6</td>\n",
       "      <td>0</td>\n",
       "      <td>199</td>\n",
       "    </tr>\n",
       "    <tr>\n",
       "      <th>7</th>\n",
       "      <td>2</td>\n",
       "      <td>6780.722964</td>\n",
       "      <td>48</td>\n",
       "      <td>12</td>\n",
       "      <td>0</td>\n",
       "      <td>398</td>\n",
       "    </tr>\n",
       "    <tr>\n",
       "      <th>8</th>\n",
       "      <td>1</td>\n",
       "      <td>923.007439</td>\n",
       "      <td>7</td>\n",
       "      <td>6</td>\n",
       "      <td>0</td>\n",
       "      <td>199</td>\n",
       "    </tr>\n",
       "    <tr>\n",
       "      <th>10</th>\n",
       "      <td>1</td>\n",
       "      <td>2824.636598</td>\n",
       "      <td>19</td>\n",
       "      <td>6</td>\n",
       "      <td>0</td>\n",
       "      <td>199</td>\n",
       "    </tr>\n",
       "    <tr>\n",
       "      <th>12</th>\n",
       "      <td>1</td>\n",
       "      <td>3828.248580</td>\n",
       "      <td>12</td>\n",
       "      <td>6</td>\n",
       "      <td>0</td>\n",
       "      <td>199</td>\n",
       "    </tr>\n",
       "    <tr>\n",
       "      <th rowspan=\"7\" valign=\"top\">3</th>\n",
       "      <th>1</th>\n",
       "      <td>1</td>\n",
       "      <td>3061.777147</td>\n",
       "      <td>13</td>\n",
       "      <td>6</td>\n",
       "      <td>0</td>\n",
       "      <td>199</td>\n",
       "    </tr>\n",
       "    <tr>\n",
       "      <th>2</th>\n",
       "      <td>2</td>\n",
       "      <td>5421.152016</td>\n",
       "      <td>39</td>\n",
       "      <td>12</td>\n",
       "      <td>0</td>\n",
       "      <td>398</td>\n",
       "    </tr>\n",
       "    <tr>\n",
       "      <th>4</th>\n",
       "      <td>1</td>\n",
       "      <td>2956.651632</td>\n",
       "      <td>21</td>\n",
       "      <td>6</td>\n",
       "      <td>0</td>\n",
       "      <td>199</td>\n",
       "    </tr>\n",
       "    <tr>\n",
       "      <th>5</th>\n",
       "      <td>3</td>\n",
       "      <td>9064.026918</td>\n",
       "      <td>63</td>\n",
       "      <td>18</td>\n",
       "      <td>0</td>\n",
       "      <td>597</td>\n",
       "    </tr>\n",
       "    <tr>\n",
       "      <th>7</th>\n",
       "      <td>3</td>\n",
       "      <td>10919.595403</td>\n",
       "      <td>67</td>\n",
       "      <td>18</td>\n",
       "      <td>0</td>\n",
       "      <td>597</td>\n",
       "    </tr>\n",
       "    <tr>\n",
       "      <th>9</th>\n",
       "      <td>1</td>\n",
       "      <td>2891.012822</td>\n",
       "      <td>23</td>\n",
       "      <td>6</td>\n",
       "      <td>0</td>\n",
       "      <td>199</td>\n",
       "    </tr>\n",
       "    <tr>\n",
       "      <th>12</th>\n",
       "      <td>1</td>\n",
       "      <td>2593.381928</td>\n",
       "      <td>13</td>\n",
       "      <td>6</td>\n",
       "      <td>0</td>\n",
       "      <td>199</td>\n",
       "    </tr>\n",
       "  </tbody>\n",
       "</table>\n",
       "</div>"
      ],
      "text/plain": [
       "               count      distance  duration  minute_price  start_ride_price  \\\n",
       "user_id month                                                                  \n",
       "1       1          2   7027.511294        42            12                 0   \n",
       "        4          1    754.159807         7             6                 0   \n",
       "        8          2   6723.470560        46            12                 0   \n",
       "        10         2   5809.911100        32            12                 0   \n",
       "        11         3   7003.499363        56            18                 0   \n",
       "        12         2   6751.629942        28            12                 0   \n",
       "2       3          3  10187.723006        63            18                 0   \n",
       "        4          2   6164.381824        40            12                 0   \n",
       "        6          1   3255.338202        14             6                 0   \n",
       "        7          2   6780.722964        48            12                 0   \n",
       "        8          1    923.007439         7             6                 0   \n",
       "        10         1   2824.636598        19             6                 0   \n",
       "        12         1   3828.248580        12             6                 0   \n",
       "3       1          1   3061.777147        13             6                 0   \n",
       "        2          2   5421.152016        39            12                 0   \n",
       "        4          1   2956.651632        21             6                 0   \n",
       "        5          3   9064.026918        63            18                 0   \n",
       "        7          3  10919.595403        67            18                 0   \n",
       "        9          1   2891.012822        23             6                 0   \n",
       "        12         1   2593.381928        13             6                 0   \n",
       "\n",
       "               subscription_fee  \n",
       "user_id month                    \n",
       "1       1                   398  \n",
       "        4                   199  \n",
       "        8                   398  \n",
       "        10                  398  \n",
       "        11                  597  \n",
       "        12                  398  \n",
       "2       3                   597  \n",
       "        4                   398  \n",
       "        6                   199  \n",
       "        7                   398  \n",
       "        8                   199  \n",
       "        10                  199  \n",
       "        12                  199  \n",
       "3       1                   199  \n",
       "        2                   398  \n",
       "        4                   199  \n",
       "        5                   597  \n",
       "        7                   597  \n",
       "        9                   199  \n",
       "        12                  199  "
      ]
     },
     "execution_count": 43,
     "metadata": {},
     "output_type": "execute_result"
    }
   ],
   "source": [
    "total_pivot = full_data.pivot_table(index = ('user_id','month'), values = ('distance', 'duration','minute_price','start_ride_price','subscription_fee'), aggfunc = {'count', 'sum'})\n",
    "total_pivot.columns = ['count','distance', '1','duration','2','minute_price', '3', 'start_ride_price','4', 'subscription_fee']# переименовываем столбцы\n",
    "total_pivot = total_pivot.drop(['1','2','3','4'],axis = 1)#избавляемся от повторяющихся столбцов\n",
    "total_pivot.head(20)"
   ]
  },
  {
   "cell_type": "markdown",
   "id": "5c804fde",
   "metadata": {},
   "source": [
    "Перезададим значения цен, так как при повторном заказе самоката, цена остаётся фиксированной. "
   ]
  },
  {
   "cell_type": "code",
   "execution_count": 44,
   "id": "414619a0",
   "metadata": {},
   "outputs": [
    {
     "data": {
      "text/html": [
       "<div>\n",
       "<style scoped>\n",
       "    .dataframe tbody tr th:only-of-type {\n",
       "        vertical-align: middle;\n",
       "    }\n",
       "\n",
       "    .dataframe tbody tr th {\n",
       "        vertical-align: top;\n",
       "    }\n",
       "\n",
       "    .dataframe thead th {\n",
       "        text-align: right;\n",
       "    }\n",
       "</style>\n",
       "<table border=\"1\" class=\"dataframe\">\n",
       "  <thead>\n",
       "    <tr style=\"text-align: right;\">\n",
       "      <th></th>\n",
       "      <th></th>\n",
       "      <th>count</th>\n",
       "      <th>distance</th>\n",
       "      <th>duration</th>\n",
       "      <th>minute_price</th>\n",
       "      <th>start_ride_price</th>\n",
       "      <th>subscription_fee</th>\n",
       "    </tr>\n",
       "    <tr>\n",
       "      <th>user_id</th>\n",
       "      <th>month</th>\n",
       "      <th></th>\n",
       "      <th></th>\n",
       "      <th></th>\n",
       "      <th></th>\n",
       "      <th></th>\n",
       "      <th></th>\n",
       "    </tr>\n",
       "  </thead>\n",
       "  <tbody>\n",
       "    <tr>\n",
       "      <th rowspan=\"6\" valign=\"top\">1</th>\n",
       "      <th>1</th>\n",
       "      <td>2</td>\n",
       "      <td>7027.511294</td>\n",
       "      <td>42</td>\n",
       "      <td>6.0</td>\n",
       "      <td>0.0</td>\n",
       "      <td>199.0</td>\n",
       "    </tr>\n",
       "    <tr>\n",
       "      <th>4</th>\n",
       "      <td>1</td>\n",
       "      <td>754.159807</td>\n",
       "      <td>7</td>\n",
       "      <td>6.0</td>\n",
       "      <td>0.0</td>\n",
       "      <td>199.0</td>\n",
       "    </tr>\n",
       "    <tr>\n",
       "      <th>8</th>\n",
       "      <td>2</td>\n",
       "      <td>6723.470560</td>\n",
       "      <td>46</td>\n",
       "      <td>6.0</td>\n",
       "      <td>0.0</td>\n",
       "      <td>199.0</td>\n",
       "    </tr>\n",
       "    <tr>\n",
       "      <th>10</th>\n",
       "      <td>2</td>\n",
       "      <td>5809.911100</td>\n",
       "      <td>32</td>\n",
       "      <td>6.0</td>\n",
       "      <td>0.0</td>\n",
       "      <td>199.0</td>\n",
       "    </tr>\n",
       "    <tr>\n",
       "      <th>11</th>\n",
       "      <td>3</td>\n",
       "      <td>7003.499363</td>\n",
       "      <td>56</td>\n",
       "      <td>6.0</td>\n",
       "      <td>0.0</td>\n",
       "      <td>199.0</td>\n",
       "    </tr>\n",
       "    <tr>\n",
       "      <th>12</th>\n",
       "      <td>2</td>\n",
       "      <td>6751.629942</td>\n",
       "      <td>28</td>\n",
       "      <td>6.0</td>\n",
       "      <td>0.0</td>\n",
       "      <td>199.0</td>\n",
       "    </tr>\n",
       "    <tr>\n",
       "      <th rowspan=\"7\" valign=\"top\">2</th>\n",
       "      <th>3</th>\n",
       "      <td>3</td>\n",
       "      <td>10187.723006</td>\n",
       "      <td>63</td>\n",
       "      <td>6.0</td>\n",
       "      <td>0.0</td>\n",
       "      <td>199.0</td>\n",
       "    </tr>\n",
       "    <tr>\n",
       "      <th>4</th>\n",
       "      <td>2</td>\n",
       "      <td>6164.381824</td>\n",
       "      <td>40</td>\n",
       "      <td>6.0</td>\n",
       "      <td>0.0</td>\n",
       "      <td>199.0</td>\n",
       "    </tr>\n",
       "    <tr>\n",
       "      <th>6</th>\n",
       "      <td>1</td>\n",
       "      <td>3255.338202</td>\n",
       "      <td>14</td>\n",
       "      <td>6.0</td>\n",
       "      <td>0.0</td>\n",
       "      <td>199.0</td>\n",
       "    </tr>\n",
       "    <tr>\n",
       "      <th>7</th>\n",
       "      <td>2</td>\n",
       "      <td>6780.722964</td>\n",
       "      <td>48</td>\n",
       "      <td>6.0</td>\n",
       "      <td>0.0</td>\n",
       "      <td>199.0</td>\n",
       "    </tr>\n",
       "    <tr>\n",
       "      <th>8</th>\n",
       "      <td>1</td>\n",
       "      <td>923.007439</td>\n",
       "      <td>7</td>\n",
       "      <td>6.0</td>\n",
       "      <td>0.0</td>\n",
       "      <td>199.0</td>\n",
       "    </tr>\n",
       "    <tr>\n",
       "      <th>10</th>\n",
       "      <td>1</td>\n",
       "      <td>2824.636598</td>\n",
       "      <td>19</td>\n",
       "      <td>6.0</td>\n",
       "      <td>0.0</td>\n",
       "      <td>199.0</td>\n",
       "    </tr>\n",
       "    <tr>\n",
       "      <th>12</th>\n",
       "      <td>1</td>\n",
       "      <td>3828.248580</td>\n",
       "      <td>12</td>\n",
       "      <td>6.0</td>\n",
       "      <td>0.0</td>\n",
       "      <td>199.0</td>\n",
       "    </tr>\n",
       "    <tr>\n",
       "      <th rowspan=\"7\" valign=\"top\">3</th>\n",
       "      <th>1</th>\n",
       "      <td>1</td>\n",
       "      <td>3061.777147</td>\n",
       "      <td>13</td>\n",
       "      <td>6.0</td>\n",
       "      <td>0.0</td>\n",
       "      <td>199.0</td>\n",
       "    </tr>\n",
       "    <tr>\n",
       "      <th>2</th>\n",
       "      <td>2</td>\n",
       "      <td>5421.152016</td>\n",
       "      <td>39</td>\n",
       "      <td>6.0</td>\n",
       "      <td>0.0</td>\n",
       "      <td>199.0</td>\n",
       "    </tr>\n",
       "    <tr>\n",
       "      <th>4</th>\n",
       "      <td>1</td>\n",
       "      <td>2956.651632</td>\n",
       "      <td>21</td>\n",
       "      <td>6.0</td>\n",
       "      <td>0.0</td>\n",
       "      <td>199.0</td>\n",
       "    </tr>\n",
       "    <tr>\n",
       "      <th>5</th>\n",
       "      <td>3</td>\n",
       "      <td>9064.026918</td>\n",
       "      <td>63</td>\n",
       "      <td>6.0</td>\n",
       "      <td>0.0</td>\n",
       "      <td>199.0</td>\n",
       "    </tr>\n",
       "    <tr>\n",
       "      <th>7</th>\n",
       "      <td>3</td>\n",
       "      <td>10919.595403</td>\n",
       "      <td>67</td>\n",
       "      <td>6.0</td>\n",
       "      <td>0.0</td>\n",
       "      <td>199.0</td>\n",
       "    </tr>\n",
       "    <tr>\n",
       "      <th>9</th>\n",
       "      <td>1</td>\n",
       "      <td>2891.012822</td>\n",
       "      <td>23</td>\n",
       "      <td>6.0</td>\n",
       "      <td>0.0</td>\n",
       "      <td>199.0</td>\n",
       "    </tr>\n",
       "    <tr>\n",
       "      <th>12</th>\n",
       "      <td>1</td>\n",
       "      <td>2593.381928</td>\n",
       "      <td>13</td>\n",
       "      <td>6.0</td>\n",
       "      <td>0.0</td>\n",
       "      <td>199.0</td>\n",
       "    </tr>\n",
       "  </tbody>\n",
       "</table>\n",
       "</div>"
      ],
      "text/plain": [
       "               count      distance  duration  minute_price  start_ride_price  \\\n",
       "user_id month                                                                  \n",
       "1       1          2   7027.511294        42           6.0               0.0   \n",
       "        4          1    754.159807         7           6.0               0.0   \n",
       "        8          2   6723.470560        46           6.0               0.0   \n",
       "        10         2   5809.911100        32           6.0               0.0   \n",
       "        11         3   7003.499363        56           6.0               0.0   \n",
       "        12         2   6751.629942        28           6.0               0.0   \n",
       "2       3          3  10187.723006        63           6.0               0.0   \n",
       "        4          2   6164.381824        40           6.0               0.0   \n",
       "        6          1   3255.338202        14           6.0               0.0   \n",
       "        7          2   6780.722964        48           6.0               0.0   \n",
       "        8          1    923.007439         7           6.0               0.0   \n",
       "        10         1   2824.636598        19           6.0               0.0   \n",
       "        12         1   3828.248580        12           6.0               0.0   \n",
       "3       1          1   3061.777147        13           6.0               0.0   \n",
       "        2          2   5421.152016        39           6.0               0.0   \n",
       "        4          1   2956.651632        21           6.0               0.0   \n",
       "        5          3   9064.026918        63           6.0               0.0   \n",
       "        7          3  10919.595403        67           6.0               0.0   \n",
       "        9          1   2891.012822        23           6.0               0.0   \n",
       "        12         1   2593.381928        13           6.0               0.0   \n",
       "\n",
       "               subscription_fee  \n",
       "user_id month                    \n",
       "1       1                 199.0  \n",
       "        4                 199.0  \n",
       "        8                 199.0  \n",
       "        10                199.0  \n",
       "        11                199.0  \n",
       "        12                199.0  \n",
       "2       3                 199.0  \n",
       "        4                 199.0  \n",
       "        6                 199.0  \n",
       "        7                 199.0  \n",
       "        8                 199.0  \n",
       "        10                199.0  \n",
       "        12                199.0  \n",
       "3       1                 199.0  \n",
       "        2                 199.0  \n",
       "        4                 199.0  \n",
       "        5                 199.0  \n",
       "        7                 199.0  \n",
       "        9                 199.0  \n",
       "        12                199.0  "
      ]
     },
     "execution_count": 44,
     "metadata": {},
     "output_type": "execute_result"
    }
   ],
   "source": [
    "total_pivot['minute_price'] = total_pivot['minute_price']/total_pivot['count']\n",
    "total_pivot['start_ride_price'] = total_pivot['start_ride_price']/total_pivot['count']\n",
    "total_pivot['subscription_fee'] = total_pivot['subscription_fee']/total_pivot['count']\n",
    "total_pivot.head(20)"
   ]
  },
  {
   "cell_type": "markdown",
   "id": "c5b44f99",
   "metadata": {},
   "source": [
    "В этот же датафрейм добавляем столбец с помесячной выручкой, которую принёс каждый пользователь. "
   ]
  },
  {
   "cell_type": "code",
   "execution_count": 45,
   "id": "3a95e90f",
   "metadata": {
    "scrolled": true
   },
   "outputs": [
    {
     "data": {
      "text/html": [
       "<div>\n",
       "<style scoped>\n",
       "    .dataframe tbody tr th:only-of-type {\n",
       "        vertical-align: middle;\n",
       "    }\n",
       "\n",
       "    .dataframe tbody tr th {\n",
       "        vertical-align: top;\n",
       "    }\n",
       "\n",
       "    .dataframe thead th {\n",
       "        text-align: right;\n",
       "    }\n",
       "</style>\n",
       "<table border=\"1\" class=\"dataframe\">\n",
       "  <thead>\n",
       "    <tr style=\"text-align: right;\">\n",
       "      <th></th>\n",
       "      <th></th>\n",
       "      <th>count</th>\n",
       "      <th>distance</th>\n",
       "      <th>duration</th>\n",
       "      <th>minute_price</th>\n",
       "      <th>start_ride_price</th>\n",
       "      <th>subscription_fee</th>\n",
       "      <th>proceeds</th>\n",
       "    </tr>\n",
       "    <tr>\n",
       "      <th>user_id</th>\n",
       "      <th>month</th>\n",
       "      <th></th>\n",
       "      <th></th>\n",
       "      <th></th>\n",
       "      <th></th>\n",
       "      <th></th>\n",
       "      <th></th>\n",
       "      <th></th>\n",
       "    </tr>\n",
       "  </thead>\n",
       "  <tbody>\n",
       "    <tr>\n",
       "      <th rowspan=\"6\" valign=\"top\">1</th>\n",
       "      <th>1</th>\n",
       "      <td>2</td>\n",
       "      <td>7027.511294</td>\n",
       "      <td>42</td>\n",
       "      <td>6.0</td>\n",
       "      <td>0.0</td>\n",
       "      <td>199.0</td>\n",
       "      <td>451.0</td>\n",
       "    </tr>\n",
       "    <tr>\n",
       "      <th>4</th>\n",
       "      <td>1</td>\n",
       "      <td>754.159807</td>\n",
       "      <td>7</td>\n",
       "      <td>6.0</td>\n",
       "      <td>0.0</td>\n",
       "      <td>199.0</td>\n",
       "      <td>241.0</td>\n",
       "    </tr>\n",
       "    <tr>\n",
       "      <th>8</th>\n",
       "      <td>2</td>\n",
       "      <td>6723.470560</td>\n",
       "      <td>46</td>\n",
       "      <td>6.0</td>\n",
       "      <td>0.0</td>\n",
       "      <td>199.0</td>\n",
       "      <td>475.0</td>\n",
       "    </tr>\n",
       "    <tr>\n",
       "      <th>10</th>\n",
       "      <td>2</td>\n",
       "      <td>5809.911100</td>\n",
       "      <td>32</td>\n",
       "      <td>6.0</td>\n",
       "      <td>0.0</td>\n",
       "      <td>199.0</td>\n",
       "      <td>391.0</td>\n",
       "    </tr>\n",
       "    <tr>\n",
       "      <th>11</th>\n",
       "      <td>3</td>\n",
       "      <td>7003.499363</td>\n",
       "      <td>56</td>\n",
       "      <td>6.0</td>\n",
       "      <td>0.0</td>\n",
       "      <td>199.0</td>\n",
       "      <td>535.0</td>\n",
       "    </tr>\n",
       "    <tr>\n",
       "      <th>12</th>\n",
       "      <td>2</td>\n",
       "      <td>6751.629942</td>\n",
       "      <td>28</td>\n",
       "      <td>6.0</td>\n",
       "      <td>0.0</td>\n",
       "      <td>199.0</td>\n",
       "      <td>367.0</td>\n",
       "    </tr>\n",
       "    <tr>\n",
       "      <th rowspan=\"4\" valign=\"top\">2</th>\n",
       "      <th>3</th>\n",
       "      <td>3</td>\n",
       "      <td>10187.723006</td>\n",
       "      <td>63</td>\n",
       "      <td>6.0</td>\n",
       "      <td>0.0</td>\n",
       "      <td>199.0</td>\n",
       "      <td>577.0</td>\n",
       "    </tr>\n",
       "    <tr>\n",
       "      <th>4</th>\n",
       "      <td>2</td>\n",
       "      <td>6164.381824</td>\n",
       "      <td>40</td>\n",
       "      <td>6.0</td>\n",
       "      <td>0.0</td>\n",
       "      <td>199.0</td>\n",
       "      <td>439.0</td>\n",
       "    </tr>\n",
       "    <tr>\n",
       "      <th>6</th>\n",
       "      <td>1</td>\n",
       "      <td>3255.338202</td>\n",
       "      <td>14</td>\n",
       "      <td>6.0</td>\n",
       "      <td>0.0</td>\n",
       "      <td>199.0</td>\n",
       "      <td>283.0</td>\n",
       "    </tr>\n",
       "    <tr>\n",
       "      <th>7</th>\n",
       "      <td>2</td>\n",
       "      <td>6780.722964</td>\n",
       "      <td>48</td>\n",
       "      <td>6.0</td>\n",
       "      <td>0.0</td>\n",
       "      <td>199.0</td>\n",
       "      <td>487.0</td>\n",
       "    </tr>\n",
       "  </tbody>\n",
       "</table>\n",
       "</div>"
      ],
      "text/plain": [
       "               count      distance  duration  minute_price  start_ride_price  \\\n",
       "user_id month                                                                  \n",
       "1       1          2   7027.511294        42           6.0               0.0   \n",
       "        4          1    754.159807         7           6.0               0.0   \n",
       "        8          2   6723.470560        46           6.0               0.0   \n",
       "        10         2   5809.911100        32           6.0               0.0   \n",
       "        11         3   7003.499363        56           6.0               0.0   \n",
       "        12         2   6751.629942        28           6.0               0.0   \n",
       "2       3          3  10187.723006        63           6.0               0.0   \n",
       "        4          2   6164.381824        40           6.0               0.0   \n",
       "        6          1   3255.338202        14           6.0               0.0   \n",
       "        7          2   6780.722964        48           6.0               0.0   \n",
       "\n",
       "               subscription_fee  proceeds  \n",
       "user_id month                              \n",
       "1       1                 199.0     451.0  \n",
       "        4                 199.0     241.0  \n",
       "        8                 199.0     475.0  \n",
       "        10                199.0     391.0  \n",
       "        11                199.0     535.0  \n",
       "        12                199.0     367.0  \n",
       "2       3                 199.0     577.0  \n",
       "        4                 199.0     439.0  \n",
       "        6                 199.0     283.0  \n",
       "        7                 199.0     487.0  "
      ]
     },
     "execution_count": 45,
     "metadata": {},
     "output_type": "execute_result"
    }
   ],
   "source": [
    "total_pivot['proceeds'] = ((total_pivot['start_ride_price']*total_pivot['count'])+(total_pivot['minute_price']*total_pivot['duration'])+total_pivot['subscription_fee'])\n",
    "total_pivot.head(10)"
   ]
  },
  {
   "cell_type": "markdown",
   "id": "947de199",
   "metadata": {},
   "source": [
    "**Промежуточный вывод**\n",
    "\n",
    "Создан датафрейм с агрегированными данными о поездках на основе датафрейма с общими данными: найдены суммарное расстояние, количество поездок и суммарное время для каждого пользователя за каждый месяц.\n",
    "\n",
    "В этот же датафрейм добавлен столбец с помесячной выручкой, которую принёс каждый пользователь. Для этого воспользовались информацией об условиях оплаты для подписчиков и тех, у кого нет подписки. "
   ]
  },
  {
   "cell_type": "markdown",
   "id": "41545ac0",
   "metadata": {},
   "source": [
    "#### Шаг 6. Проверка гипотез"
   ]
  },
  {
   "cell_type": "markdown",
   "id": "567898c2",
   "metadata": {},
   "source": [
    "Продакт-менеджеры сервиса хотят увеличить количество пользователей с подпиской. Для этого они будут проводить различные акции, но сначала нужно выяснить несколько важных моментов.\n",
    "1. Важно понять, тратят ли пользователи с подпиской больше времени на поездки? Если да, то пользователи с подпиской могут быть «выгоднее» для компании.\n",
    "\n",
    "**Гипотеза 1.**\n",
    "\n",
    "Нулевая гипотеза H0: Средние продолжительности поездок пользователей с подпиской и без неё равны.\n",
    "\n",
    "Альтернативная гипотеза Н1: Средняя продолжительность поездок пользователей с подпиской больше чем средняя продолжительность поездок пользователей без подписки."
   ]
  },
  {
   "cell_type": "code",
   "execution_count": 46,
   "id": "1edc6e73",
   "metadata": {},
   "outputs": [
    {
     "name": "stdout",
     "output_type": "stream",
     "text": [
      "p-value: 1.2804098316645618e-34\n",
      "Отвергаем нулевую гипотезу\n"
     ]
    }
   ],
   "source": [
    "alpha = 0.05\n",
    "result1 = st.ttest_ind(fee_data['duration'],free_data['duration'], alternative = 'greater')\n",
    "print('p-value:', result1.pvalue)\n",
    "if result1.pvalue < alpha:\n",
    "    print('Отвергаем нулевую гипотезу')\n",
    "else:\n",
    "    print('Не удалось отвергнуть нулевую гипотезу')"
   ]
  },
  {
   "cell_type": "markdown",
   "id": "cccd45e4",
   "metadata": {},
   "source": [
    "Так как нулевая гипотеза о равенстве средней продолжительности поездок пользователей с подпиской и без неё отвергнута, есть основания утверждать, что пользователи с подпиской действительно тратят больше времени на поездки, а значит, более выгодны для сервиса."
   ]
  },
  {
   "cell_type": "markdown",
   "id": "7e0af132",
   "metadata": {},
   "source": [
    "2. Расстояние одной поездки в 3130 метров — оптимальное с точки зрения износа самоката. Можно ли сказать, что среднее расстояние, которое проезжают пользователи с подпиской за одну поездку, не превышает 3130 метров?\n",
    "\n",
    "**Гипотеза 2.**\n",
    "\n",
    "Нулевая гипотеза H0: Среднее расстояние, которое проезжают пользователи с подпиской за одну поездку составляет 3130 метров.\n",
    "\n",
    "Альтернативная гипотеза Н1: Среднее расстояние, которое проезжают пользователи с подпиской за одну поездку более 3130 метров."
   ]
  },
  {
   "cell_type": "code",
   "execution_count": 47,
   "id": "73943553",
   "metadata": {
    "scrolled": false
   },
   "outputs": [
    {
     "name": "stdout",
     "output_type": "stream",
     "text": [
      "p-value: 0.9195368847849785\n",
      "Не удалось отвергнуть нулевую гипотезу\n"
     ]
    }
   ],
   "source": [
    "value = 3130\n",
    "result2 = st.ttest_1samp(fee_data['distance'], value, alternative = 'greater')\n",
    "print('p-value:', result2.pvalue)\n",
    "if result2.pvalue < alpha:\n",
    "    print('Отвергаем нулевую гипотезу')\n",
    "else:\n",
    "    print('Не удалось отвергнуть нулевую гипотезу')"
   ]
  },
  {
   "cell_type": "markdown",
   "id": "6709bf1c",
   "metadata": {},
   "source": [
    "Так как не удалось отвергнуть нулевую гипотезу о равенстве средний расстояний, пройденных пользователями без подписки и с подпиской , то нельзя сделать вывод, что пользователи с подпиской проезжают более 3130 м за одну поездку. Соответственно, пользователи с подпиской не совершают поездки, которые приводят к повышенному износу самоката. Соответственно, данная группа не создаёт дополнительную денежную нагрузку на сервис в виде дополнительных ремонтов и тех. обслуживаний самокатов. "
   ]
  },
  {
   "cell_type": "markdown",
   "id": "89e880d4",
   "metadata": {},
   "source": [
    "3. Будет ли помесячная выручка от пользователей с подпиской по месяцам выше, чем выручка от пользователей без подписки?\n",
    "\n",
    "**Гипотеза 3.**\n",
    "\n",
    "Нулевая гипотеза H0: Средняя помесячная выручка от пользователей с подпиской по месяцам равна выручке от пользователей без подписки.\n",
    "\n",
    "Альтернативная гипотеза Н1: Средняя помесячная выручка от пользователей с подпиской по месяцам выше, чем средняя помесячная выручка от пользователей без подписки."
   ]
  },
  {
   "cell_type": "code",
   "execution_count": 48,
   "id": "c2fd49e2",
   "metadata": {
    "scrolled": true
   },
   "outputs": [
    {
     "name": "stdout",
     "output_type": "stream",
     "text": [
      "p-value: 1.8850394384715216e-31\n",
      "Отвергаем нулевую гипотезу\n"
     ]
    }
   ],
   "source": [
    "ultra = total_pivot.loc[total_pivot.start_ride_price == 0, 'proceeds'] \n",
    "\n",
    "free = total_pivot.loc[total_pivot.start_ride_price != 0, 'proceeds'] \n",
    "\n",
    "\n",
    "result3 = st.ttest_ind(ultra, free, alternative = 'greater')\n",
    "\n",
    "print('p-value:', result3.pvalue)\n",
    "\n",
    "if result3.pvalue < alpha:\n",
    "    print('Отвергаем нулевую гипотезу')\n",
    "else:\n",
    "    print('Не удалось отвергнуть нулевую гипотезу')"
   ]
  },
  {
   "cell_type": "markdown",
   "id": "d6af5a20",
   "metadata": {},
   "source": [
    "Так как отвергаем нулевую гипотезу о равенстве средней помесячной выручки от пользователей с под пиской и без неё, делаем вывод, что средняя помесячная выручка с пользователей с подпиской превышает среднюю помесячную выручку с пользователей без неё. То есть пользователи с подпиской более выгодны для сервиса проката самокатов."
   ]
  },
  {
   "cell_type": "markdown",
   "id": "c1163318",
   "metadata": {},
   "source": [
    "4. Техническая команда сервиса обновила сервера, с которыми взаимодействует мобильное приложение. Она надеется, что из-за этого количество обращений в техподдержку значимо снизилось. Некоторый файл содержит для каждого пользователя данные о количестве обращений до обновления и после него. Какой тест вам понадобился бы для проверки этой гипотезы?\n",
    "\n",
    "Для проверки данной гипотезы воспользуемся двухвыборочным t - тестом для зависимых выборок. О равенстве среднего значения генеральной совокупности до и после изменения.\n",
    "\n",
    "Гипотезы будут сформулированы так:\n",
    "\n",
    "H0 : μ1 = μ2\n",
    "\n",
    "H1 : μ1 > μ2\n",
    "\n",
    "где μ1 и μ2 - средние значения количества обращений в техподдержку до и после обновления серверов.\n",
    "\n",
    "Чтобы проверить гипотезу о равенстве среднего генеральной совокупности для зависимых (парных) выборок в Python, применяют метод scipy.stats.ttest_rel()."
   ]
  },
  {
   "cell_type": "markdown",
   "id": "61213c5e",
   "metadata": {},
   "source": [
    "#### Шаг 7. Распределения"
   ]
  },
  {
   "cell_type": "code",
   "execution_count": 53,
   "id": "95cd1d51",
   "metadata": {
    "scrolled": true
   },
   "outputs": [
    {
     "data": {
      "image/png": "[encoded data removed]",
      "text/plain": [
       "<Figure size 432x288 with 1 Axes>"
      ]
     },
     "metadata": {
      "needs_background": "light"
     },
     "output_type": "display_data"
    },
    {
     "name": "stdout",
     "output_type": "stream",
     "text": [
      "Минимальное количество промокодов: 1200\n"
     ]
    }
   ],
   "source": [
    "p = 0.1\n",
    "q = 1 - p\n",
    "fail_prob= 0.05\n",
    "\n",
    "n_values = range(100, 5000, 100) # Приближаемся к значению требуемого числа промокодов с шагом 100\n",
    "\n",
    "probab = []\n",
    "for n in n_values:\n",
    "    distr = binom(n, p)\n",
    "    probabil = distr.cdf(100) # Вероятность P(X <= 100)\n",
    "    probab.append(probabil)\n",
    "\n",
    "# График распределения\n",
    "plt.plot(n_values, probab)\n",
    "plt.xlabel('Количество промокодов')\n",
    "plt.ylabel('Вероятность P(X <= 100)')\n",
    "plt.title('Распределение вероятностей при различных значениях числа промокодов')\n",
    "plt.axhline(y=fail_prob, color='g', linestyle='--') # Горизонтальная линия для ограничения вероятности\n",
    "plt.show()\n",
    "\n",
    "# Поиск минимального значения числа промокодов, удовлетворяющего ограничению\n",
    "min_n = n_values[probab.index(next(prob for prob in probab if prob <= fail_prob))]\n",
    "\n",
    "print(f'Минимальное количество промокодов: {min_n}')"
   ]
  },
  {
   "cell_type": "markdown",
   "id": "650cd507",
   "metadata": {},
   "source": [
    "1. Отделу маркетинга GoFast поставили задачу: нужно провести акцию с раздачей промокодов на один бесплатный месяц подписки, в рамках которой как минимум 100 существующих клиентов должны продлить эту подписку. То есть по завершении периода действия подписки пользователь может либо отказаться от неё, либо продлить, совершив соответствующий платёж. Эта акция уже проводилась ранее и по итогу выяснилось, что после бесплатного пробного периода подписку продлевают \n",
    "10 % пользователей. \n",
    "\n",
    "Выясним, какое минимальное количество промокодов нужно разослать, чтобы вероятность не выполнить план была примерно 5 %. "
   ]
  },
  {
   "cell_type": "markdown",
   "id": "be33c02e",
   "metadata": {},
   "source": [
    "Для выполнения условия - \"как минимум 100 существующих клиентов должны продлить эту подписку\", требуется разослать 1200 промокодов, чтобы вероятность не выполнить план была примерно 5 %."
   ]
  },
  {
   "cell_type": "markdown",
   "id": "0ce45ca0",
   "metadata": {},
   "source": [
    "2. Отдел маркетинга рассылает клиентам push-уведомления в мобильном приложении. Клиенты могут открыть его или не открывать. Известно, что уведомления открывают около 40 % получивших клиентов. Отдел планирует разослать 1 млн уведомлений. Требуется оценить вероятность, что  уведомление откроют не более 399,5 тыс. пользователей."
   ]
  },
  {
   "cell_type": "code",
   "execution_count": 50,
   "id": "46b60cff",
   "metadata": {},
   "outputs": [
    {
     "data": {
      "image/png": "[encoded data removed]",
      "text/plain": [
       "<Figure size 432x288 with 1 Axes>"
      ]
     },
     "metadata": {
      "needs_background": "light"
     },
     "output_type": "display_data"
    },
    {
     "name": "stdout",
     "output_type": "stream",
     "text": [
      "Bероятность, что  уведомление откроют не более 399,5 тыс. пользователей: 0.15371708296369768\n"
     ]
    }
   ],
   "source": [
    "# задаём параметры биномиального распределения\n",
    "n = 1000000\n",
    "p = 0.4\n",
    "\n",
    "mu = n * p\n",
    "sigma = (n * p * (1-p)) ** 0.5\n",
    "distr = st.norm(mu, sigma) \n",
    "prob = distr.cdf(399500)\n",
    "\n",
    "arange = np.arange((mu - 3 * sigma), (mu + 3 * sigma), 1)\n",
    "plt.plot(arange, norm.pdf(arange, mu,sigma), 'b-')#Массив arange определяет диапазон для оси x, а plt.plot() создает кривую для нормального распределения с указанным средним значением и стандартным отклонением.\n",
    "plt.axvline(x=399500, color='green')\n",
    "plt.xlabel('Количество пользователей')\n",
    "plt.title('Распределение вероятностей открытия push-уведомления')\n",
    "plt.show()\n",
    "\n",
    "print(f'Bероятность, что  уведомление откроют не более 399,5 тыс. пользователей: {prob}')\n"
   ]
  },
  {
   "cell_type": "markdown",
   "id": "1bec5948",
   "metadata": {},
   "source": [
    "Если разослать 1 млн. уведомлений, которые открывают клиенты с вероятностью 40%, то 399.5 тыс. клиентов откроют их с вероятностью 15.37%. "
   ]
  },
  {
   "cell_type": "markdown",
   "id": "ebcf7e8c",
   "metadata": {},
   "source": [
    "#### Общий вывод"
   ]
  },
  {
   "cell_type": "markdown",
   "id": "42b63161",
   "metadata": {},
   "source": [
    "В данной работе исследованы данные сервиса проката самокатов GoFast. А именно: данные о некоторых пользователях из нескольких городов, а также об их поездках. \n",
    "\n",
    "Цели исследования: проанализировать данные и проверить следующие гипотезы, которые могут помочь бизнесу вырасти:\n",
    "- Пользователи с подпиской тратят больше времени на поездки, чем пользователи без неё.\n",
    "- Пользователи с подпиской проезжают расстояние, не превышающее 3130 метров за одну поездку.\n",
    "- Помесячная выручка от пользователей с подпиской выше, чем выручка от пользователей без подписки\n",
    "\n",
    "Для решения данных задач были выполнены: \n",
    "1. Загружены библиотеки для работы с данными, загружены сами данные, выведена общая информация о каждом из датасетов.\n",
    "2. Проведена предобработка данных. Проверка наличия пропусков - пропуски не обнаружены. Обработаны дубликаты - удалены дубликаты в файле users, неявные дубликаты в файлах с данными не обнаружены. Приведен к формату datetime столбец с датой в датасете rides_go.csv. Добавлен столбец с номером месяца в данный датасет.\n",
    "3. Проведён исследовательский анализ данных.\n",
    "- Оценены и визуализированы частота встречаемости городов, соотношение пользователей с подпиской и без подписки, возраст пользователей, расстояние, которое пользователь преодолел за одну поездку и продолжительность поездок. Построены гистограммы и круговая диаграмма для каждого из перечисленных пунктов.\n",
    "4. Объединены данные из трёх датасетов в один общий. После чего на его основе созданы два датасета с данными о пользователях с подпиской и без неё. Визуализирована информацию о расстоянии и времени поездок для пользователей обеих категорий гистограммами.\n",
    "5. Произведен подсчёт выручки. Создана сводная таблица о суммарном расстоянии, количестве поездок и суммарном времени для каждого пользователя за каждый месяц. Добавлен столбец в данную таблицу с помесячной выручкой, но пред этим произведено округление значений в столбце с продолжительностью поездки.\n",
    "6. Произведена проверка гипотез с помощью t-тестов:\n",
    "- Пользователи с подпиской тратят больше времени на поездки, чем пользователи на бесплатном тарифе\n",
    "- Пользователи с подпиской проезжают расстояние, не превышающее 3130 метров за одну поездку\n",
    "- Помесячная выручка от пользователей с подпиской выше, чем выручка от пользователей без подписки\n",
    "7. Определено минимальное количество промокодов, которые нужно разослать, чтобы как минимум 100 существующих клиентов должны продлить эту подписку и вероятность не выполнить план была примерно 5 %. А так же, оценена вероятность того, что уведомление откроют не более 399,5 тыс. пользователей из 1 млн разосланный уведомлений с вероятностью открытия 40%. \n",
    "\n",
    "Из проделанной работы можно сделать следующие выводы:\n",
    "\n",
    "Пользователи равномерно распределились по городам. Есть небольшое смещение в двух городах. В Пятигорске количество пользователей - 219, в Москве - 168. В Пятигорске большее количество пользователей, скорее всего, обусловлено тем, что, это небольшой курортный город, в котором туристам удобнее передвигаться между достопримечательностями на самокате. В Москве же меньшее количество пользователее, скорее обусловлено, тем, что в столице существуют и другие сервисы проката самокатов, соответственно присутствует конкуренция за пользователей. \n",
    "\n",
    "Пользователей без подписки - 835 человек, с  подпиской - 699. Пользователей без подписки на 136 человек больше, чем с подпиской.\n",
    "Минимальный возраст пользователя - 12 лет, а максимальный - 43 года. Медианный возраст пользователя - 25 лет. Наибольшее количество пользователей возрастом 22 - 28 лет.\n",
    "\n",
    "Минимальное расстояние, проезжаемое пользователями примерно 86 см. Медианное расстояние, проезжаемое пользователями сервися 3,134 км, а максимальное же - 7,211 км. Наиболее часто продолеваемые пользователями растояния за одну поездку находятся в диапазоне от 2,5 до 3,8 км.\n",
    "Исходя из визуализации можно предположить, что существуют два типа пользователей:\n",
    "1. Пользователи, арендующие самокат для коротких поездок (до 1.5 км).\n",
    "2. Пользователи, арендующие самокат для поездок на относительно длинные поездки (от 1.5 км и более).\n",
    "\n",
    "Наименьшее время поездки - полминуты. Наибольшее - почти 41 минута. Медианная продолжительность поездки - почти 18 минут. Типичные поездки имеют длительность в диапазоне от 13 до 22 минут.\n",
    "\n",
    "Для пользователей без подписки типичное время поездки составляет от 13 до 22 минуты, проезжая при этом от 2.4 до 3.9 км. Медианные значения времени поездки и расстояния, проезжаемого за 1 поедку составляют: 2.9 км и 17 мин. \n",
    "\n",
    "Для пользователей с подпиской типичное время поездки составляет от 14 до 22 минуты, проезжая при этом от 2.5 до 3.6 км. Медианные значения времени поездки и расстояния, проезжаемого за 1 поедку составляют: 3.1 км и 18 мин. \n",
    "\n",
    "Таким образом, можно сделать вывод, что пользователи с подпиской обладают более стабильным характером поездок, чем пользователи без подписки. А именно, у пользоватнелей с подпиской не наблюдается такого большого разброса в расстояниях и времени одной поездки, как у пользователей без подписки.\n",
    "\n",
    "Результаты проверки гипотез:\n",
    "1. Пользователи с подпиской тратят больше времени на поездки, чем пользователи без неё.\n",
    "\n",
    "Нулевая гипотеза H0: Средние продолжительности поездок пользователей с подпиской и без неё равны.\n",
    "\n",
    "Альтернативная гипотеза Н1: Средняя продолжительность поездок пользователей с подпиской больше чем средняя продолжительность поездок пользователей без подписки.\n",
    "\n",
    "Так как нулевая гипотеза о равенстве средней продолжительности поездок пользователей с подпиской и без неё отвергнута, есть основания утверждать, что пользователи с подпиской действительно тратят больше времени на поездки, а значит, более выгодны для сервиса.\n",
    "\n",
    "2. Пользователи с подпиской проезжают расстояние, не превышающее 3130 метров за одну поездку.\n",
    "\n",
    "Нулевая гипотеза H0: Среднее расстояние, которое проезжают пользователи с подпиской за одну поездку составляет 3130 метров.\n",
    "\n",
    "Альтернативная гипотеза Н1: Среднее расстояние, которое проезжают пользователи с подпиской за одну поездку более 3130 метров.\n",
    "\n",
    "Так как не удалось отвергнуть нулевую гипотезу о равенстве средний расстояний, пройденных пользователями без подписки и с подпиской , то нельзя сделать вывод, что пользователи с подпиской проезжают более 3130 м за одну поездку. Соответственно, пользователи с подпиской не совершают поездки, которые приводят к повышенному износу самоката. Соответственно, данная группа не создаёт дополнительную денежную нагрузку на сервис в виде дополнительных ремонтов и тех. обслуживаний самокатов. \n",
    "\n",
    "3. Помесячная выручка от пользователей с подпиской выше, чем выручка от пользователей без подписки\n",
    "\n",
    "Нулевая гипотеза H0: Средняя помесячная выручка от пользователей с подпиской по месяцам равна выручке от пользователей без подписки.\n",
    "\n",
    "Альтернативная гипотеза Н1: Средняя помесячная выручка от пользователей с подпиской по месяцам выше, чем средняя помесячная выручка от пользователей без подписки.\n",
    "\n",
    "Так как отвергаем нулевую гипотезу о равенстве средней помесячной выручки от пользователей с под пиской и без неё, делаем вывод, что средняя помесячная выручка с пользователей с подпиской превышает среднюю помесячную выручку с пользователей без неё. То есть пользователи с подпиской более выгодны для сервиса проката самокатов.\n",
    "\n",
    "Исходя из результатов проверки статистических гипотез, описанных выше, можно сделать вывод, что пользователи с подпиской на сервис проката более выгодня для бизнеса, так как в среднем проезжают бóльшие расстояния, чем пользователи без подписки. При этом среднее расстояние, пройденное пользователями с подпиской не превышает 3130 м - оптимального с точки зрения износа самоката. К тому же средняя помесячная выручка с пользователей с подпиской превышает среднюю помесячную выручку с пользователей без неё.\n",
    "\n",
    "Определено минимальное количество промокодов, которые нужно разослать, чтобы как минимум 100 существующих клиентов продлят эту подписку и вероятность не выполнить план была примерно 5 % = 1200 шт.\n",
    "\n",
    "Оценена вероятность того, что уведомление откроют не более 399,5 тыс. пользователей из 1 млн разосланный уведомлений с вероятностью открытия 40% = 15.37%"
   ]
  },
  {
   "cell_type": "code",
   "execution_count": null,
   "id": "8738d53e",
   "metadata": {},
   "outputs": [],
   "source": []
  }
 ],
 "metadata": {
  "ExecuteTimeLog": [
   {
    "duration": 813,
    "start_time": "2024-01-05T19:37:44.622Z"
   },
   {
    "duration": 84,
    "start_time": "2024-01-05T19:38:09.697Z"
   },
   {
    "duration": 41,
    "start_time": "2024-01-05T19:38:17.638Z"
   },
   {
    "duration": 183,
    "start_time": "2024-01-05T19:39:17.986Z"
   },
   {
    "duration": 104,
    "start_time": "2024-01-05T19:40:06.177Z"
   },
   {
    "duration": 67,
    "start_time": "2024-01-05T19:40:16.059Z"
   },
   {
    "duration": 110,
    "start_time": "2024-01-05T19:42:41.812Z"
   },
   {
    "duration": 38,
    "start_time": "2024-01-05T19:43:33.033Z"
   },
   {
    "duration": 36,
    "start_time": "2024-01-05T19:43:33.934Z"
   },
   {
    "duration": 38,
    "start_time": "2024-01-05T19:43:46.905Z"
   },
   {
    "duration": 32,
    "start_time": "2024-01-05T19:44:03.522Z"
   },
   {
    "duration": 40,
    "start_time": "2024-01-05T19:44:10.265Z"
   },
   {
    "duration": 28,
    "start_time": "2024-01-05T19:44:16.282Z"
   },
   {
    "duration": 30,
    "start_time": "2024-01-05T19:44:29.224Z"
   },
   {
    "duration": 32,
    "start_time": "2024-01-05T19:44:41.143Z"
   },
   {
    "duration": 33,
    "start_time": "2024-01-05T19:44:53.333Z"
   },
   {
    "duration": 33,
    "start_time": "2024-01-05T19:45:10.598Z"
   },
   {
    "duration": 31,
    "start_time": "2024-01-05T19:45:28.362Z"
   },
   {
    "duration": 40,
    "start_time": "2024-01-05T19:45:31.482Z"
   },
   {
    "duration": 2,
    "start_time": "2024-01-05T19:49:24.196Z"
   },
   {
    "duration": 32,
    "start_time": "2024-01-05T19:49:25.032Z"
   },
   {
    "duration": 819,
    "start_time": "2024-01-07T14:38:28.855Z"
   },
   {
    "duration": 98,
    "start_time": "2024-01-07T14:38:29.735Z"
   },
   {
    "duration": 77,
    "start_time": "2024-01-07T14:38:30.613Z"
   },
   {
    "duration": 68,
    "start_time": "2024-01-07T14:38:31.647Z"
   },
   {
    "duration": 9,
    "start_time": "2024-01-07T14:42:46.503Z"
   },
   {
    "duration": 10,
    "start_time": "2024-01-07T14:45:27.531Z"
   },
   {
    "duration": 11,
    "start_time": "2024-01-07T14:45:43.477Z"
   },
   {
    "duration": 9,
    "start_time": "2024-01-07T14:47:00.299Z"
   },
   {
    "duration": 21,
    "start_time": "2024-01-07T14:48:44.647Z"
   },
   {
    "duration": 18,
    "start_time": "2024-01-07T14:53:25.259Z"
   },
   {
    "duration": 104,
    "start_time": "2024-01-08T08:06:14.577Z"
   },
   {
    "duration": 44,
    "start_time": "2024-01-08T08:06:23.517Z"
   },
   {
    "duration": 892,
    "start_time": "2024-01-08T08:06:31.871Z"
   },
   {
    "duration": 98,
    "start_time": "2024-01-08T08:06:32.765Z"
   },
   {
    "duration": 162,
    "start_time": "2024-01-08T08:06:32.865Z"
   },
   {
    "duration": 59,
    "start_time": "2024-01-08T08:06:33.029Z"
   },
   {
    "duration": 12,
    "start_time": "2024-01-08T08:06:33.524Z"
   },
   {
    "duration": 12,
    "start_time": "2024-01-08T08:06:34.003Z"
   },
   {
    "duration": 11,
    "start_time": "2024-01-08T08:06:34.468Z"
   },
   {
    "duration": 20,
    "start_time": "2024-01-08T08:06:35.234Z"
   },
   {
    "duration": 21,
    "start_time": "2024-01-08T08:06:36.213Z"
   },
   {
    "duration": 8,
    "start_time": "2024-01-08T08:06:38.406Z"
   },
   {
    "duration": 22,
    "start_time": "2024-01-08T08:06:45.484Z"
   },
   {
    "duration": 22,
    "start_time": "2024-01-08T08:06:56.243Z"
   },
   {
    "duration": 13,
    "start_time": "2024-01-08T08:07:25.917Z"
   },
   {
    "duration": 17,
    "start_time": "2024-01-08T08:07:30.530Z"
   },
   {
    "duration": 61,
    "start_time": "2024-01-08T08:09:24.556Z"
   },
   {
    "duration": 9,
    "start_time": "2024-01-08T08:09:38.271Z"
   },
   {
    "duration": 800,
    "start_time": "2024-01-08T08:14:01.748Z"
   },
   {
    "duration": 40,
    "start_time": "2024-01-08T08:14:03.397Z"
   },
   {
    "duration": 46,
    "start_time": "2024-01-08T08:14:04.785Z"
   },
   {
    "duration": 20,
    "start_time": "2024-01-08T08:14:05.181Z"
   },
   {
    "duration": 12,
    "start_time": "2024-01-08T08:14:05.766Z"
   },
   {
    "duration": 13,
    "start_time": "2024-01-08T08:14:06.134Z"
   },
   {
    "duration": 12,
    "start_time": "2024-01-08T08:14:06.561Z"
   },
   {
    "duration": 19,
    "start_time": "2024-01-08T08:14:07.188Z"
   },
   {
    "duration": 23,
    "start_time": "2024-01-08T08:14:07.587Z"
   },
   {
    "duration": 7,
    "start_time": "2024-01-08T08:14:09.559Z"
   },
   {
    "duration": 15,
    "start_time": "2024-01-08T08:14:10.166Z"
   },
   {
    "duration": 5,
    "start_time": "2024-01-08T08:15:30.686Z"
   },
   {
    "duration": 837,
    "start_time": "2024-01-08T09:07:04.314Z"
   },
   {
    "duration": 40,
    "start_time": "2024-01-08T09:07:05.153Z"
   },
   {
    "duration": 37,
    "start_time": "2024-01-08T09:07:05.194Z"
   },
   {
    "duration": 19,
    "start_time": "2024-01-08T09:07:05.233Z"
   },
   {
    "duration": 27,
    "start_time": "2024-01-08T09:07:05.307Z"
   },
   {
    "duration": 21,
    "start_time": "2024-01-08T09:07:05.336Z"
   },
   {
    "duration": 7,
    "start_time": "2024-01-08T09:07:05.358Z"
   },
   {
    "duration": 36,
    "start_time": "2024-01-08T09:07:05.366Z"
   },
   {
    "duration": 27,
    "start_time": "2024-01-08T09:07:05.403Z"
   },
   {
    "duration": 14,
    "start_time": "2024-01-08T09:07:05.479Z"
   },
   {
    "duration": 20,
    "start_time": "2024-01-08T09:07:05.495Z"
   },
   {
    "duration": 25,
    "start_time": "2024-01-08T09:07:05.517Z"
   },
   {
    "duration": 9,
    "start_time": "2024-01-08T09:07:05.544Z"
   },
   {
    "duration": 37,
    "start_time": "2024-01-08T09:07:05.555Z"
   },
   {
    "duration": 11,
    "start_time": "2024-01-08T09:07:05.594Z"
   },
   {
    "duration": 17,
    "start_time": "2024-01-08T09:07:05.606Z"
   },
   {
    "duration": 28,
    "start_time": "2024-01-08T09:07:05.624Z"
   },
   {
    "duration": 40,
    "start_time": "2024-01-08T09:07:05.653Z"
   },
   {
    "duration": 7,
    "start_time": "2024-01-08T09:07:05.695Z"
   },
   {
    "duration": 9,
    "start_time": "2024-01-08T09:07:05.703Z"
   },
   {
    "duration": 23,
    "start_time": "2024-01-08T09:07:05.713Z"
   },
   {
    "duration": 888,
    "start_time": "2024-01-08T09:16:14.961Z"
   },
   {
    "duration": 40,
    "start_time": "2024-01-08T09:16:15.851Z"
   },
   {
    "duration": 34,
    "start_time": "2024-01-08T09:16:15.893Z"
   },
   {
    "duration": 20,
    "start_time": "2024-01-08T09:16:15.929Z"
   },
   {
    "duration": 12,
    "start_time": "2024-01-08T09:16:15.950Z"
   },
   {
    "duration": 20,
    "start_time": "2024-01-08T09:16:15.963Z"
   },
   {
    "duration": 16,
    "start_time": "2024-01-08T09:16:15.984Z"
   },
   {
    "duration": 28,
    "start_time": "2024-01-08T09:16:16.002Z"
   },
   {
    "duration": 23,
    "start_time": "2024-01-08T09:16:16.032Z"
   },
   {
    "duration": 7,
    "start_time": "2024-01-08T09:16:16.058Z"
   },
   {
    "duration": 27,
    "start_time": "2024-01-08T09:16:16.066Z"
   },
   {
    "duration": 10,
    "start_time": "2024-01-08T09:16:16.095Z"
   },
   {
    "duration": 8,
    "start_time": "2024-01-08T09:16:16.106Z"
   },
   {
    "duration": 14,
    "start_time": "2024-01-08T09:16:52.344Z"
   },
   {
    "duration": 6,
    "start_time": "2024-01-08T09:17:13.771Z"
   },
   {
    "duration": 7,
    "start_time": "2024-01-08T09:17:20.546Z"
   },
   {
    "duration": 14,
    "start_time": "2024-01-08T09:17:21.603Z"
   },
   {
    "duration": 6,
    "start_time": "2024-01-08T09:18:09.702Z"
   },
   {
    "duration": 6,
    "start_time": "2024-01-08T09:18:16.086Z"
   },
   {
    "duration": 49,
    "start_time": "2024-01-08T16:21:34.695Z"
   },
   {
    "duration": 849,
    "start_time": "2024-01-08T16:21:45.570Z"
   },
   {
    "duration": 86,
    "start_time": "2024-01-08T16:21:46.421Z"
   },
   {
    "duration": 74,
    "start_time": "2024-01-08T16:21:46.508Z"
   },
   {
    "duration": 56,
    "start_time": "2024-01-08T16:21:46.641Z"
   },
   {
    "duration": 12,
    "start_time": "2024-01-08T16:21:47.174Z"
   },
   {
    "duration": 15,
    "start_time": "2024-01-08T16:21:47.527Z"
   },
   {
    "duration": 10,
    "start_time": "2024-01-08T16:21:47.898Z"
   },
   {
    "duration": 19,
    "start_time": "2024-01-08T16:21:48.479Z"
   },
   {
    "duration": 24,
    "start_time": "2024-01-08T16:21:48.835Z"
   },
   {
    "duration": 7,
    "start_time": "2024-01-08T16:21:50.089Z"
   },
   {
    "duration": 5,
    "start_time": "2024-01-08T16:21:50.482Z"
   },
   {
    "duration": 6,
    "start_time": "2024-01-08T16:21:51.237Z"
   },
   {
    "duration": 6,
    "start_time": "2024-01-08T16:21:51.632Z"
   },
   {
    "duration": 9,
    "start_time": "2024-01-08T16:21:51.860Z"
   },
   {
    "duration": 5,
    "start_time": "2024-01-08T16:23:06.343Z"
   },
   {
    "duration": 6,
    "start_time": "2024-01-08T16:24:17.180Z"
   },
   {
    "duration": 7,
    "start_time": "2024-01-08T16:24:17.370Z"
   },
   {
    "duration": 5,
    "start_time": "2024-01-08T16:24:18.039Z"
   },
   {
    "duration": 76,
    "start_time": "2024-01-08T16:24:18.518Z"
   },
   {
    "duration": 5,
    "start_time": "2024-01-08T16:30:28.763Z"
   },
   {
    "duration": 12,
    "start_time": "2024-01-08T16:38:04.284Z"
   },
   {
    "duration": 6,
    "start_time": "2024-01-08T16:38:16.797Z"
   },
   {
    "duration": 546,
    "start_time": "2024-01-08T16:43:16.891Z"
   },
   {
    "duration": 72,
    "start_time": "2024-01-08T16:44:32.594Z"
   },
   {
    "duration": 1262,
    "start_time": "2024-01-08T16:44:40.821Z"
   },
   {
    "duration": 16,
    "start_time": "2024-01-08T16:44:53.616Z"
   },
   {
    "duration": 23,
    "start_time": "2024-01-08T16:47:02.857Z"
   },
   {
    "duration": 19,
    "start_time": "2024-01-08T16:48:32.413Z"
   },
   {
    "duration": 148,
    "start_time": "2024-01-08T16:48:39.594Z"
   },
   {
    "duration": 129,
    "start_time": "2024-01-08T16:49:09.888Z"
   },
   {
    "duration": 116,
    "start_time": "2024-01-08T16:49:27.981Z"
   },
   {
    "duration": 121,
    "start_time": "2024-01-08T16:50:04.387Z"
   },
   {
    "duration": 92,
    "start_time": "2024-01-08T16:50:44.318Z"
   },
   {
    "duration": 8,
    "start_time": "2024-01-08T16:51:10.633Z"
   },
   {
    "duration": 82,
    "start_time": "2024-01-08T16:51:18.012Z"
   },
   {
    "duration": 8,
    "start_time": "2024-01-08T16:51:52.155Z"
   },
   {
    "duration": 8,
    "start_time": "2024-01-08T16:52:14.052Z"
   },
   {
    "duration": 78,
    "start_time": "2024-01-08T16:52:17.633Z"
   },
   {
    "duration": 9,
    "start_time": "2024-01-08T16:52:34.638Z"
   },
   {
    "duration": 83,
    "start_time": "2024-01-08T16:55:44.024Z"
   },
   {
    "duration": 126,
    "start_time": "2024-01-08T16:56:39.621Z"
   },
   {
    "duration": 12,
    "start_time": "2024-01-08T16:57:04.057Z"
   },
   {
    "duration": 18,
    "start_time": "2024-01-08T16:59:02.129Z"
   },
   {
    "duration": 1211,
    "start_time": "2024-01-08T17:00:24.389Z"
   },
   {
    "duration": 95,
    "start_time": "2024-01-08T17:00:25.602Z"
   },
   {
    "duration": 42,
    "start_time": "2024-01-08T17:00:25.699Z"
   },
   {
    "duration": 20,
    "start_time": "2024-01-08T17:00:25.743Z"
   },
   {
    "duration": 14,
    "start_time": "2024-01-08T17:00:25.766Z"
   },
   {
    "duration": 57,
    "start_time": "2024-01-08T17:00:25.782Z"
   },
   {
    "duration": 152,
    "start_time": "2024-01-08T17:00:25.841Z"
   },
   {
    "duration": 0,
    "start_time": "2024-01-08T17:00:25.995Z"
   },
   {
    "duration": 0,
    "start_time": "2024-01-08T17:00:25.996Z"
   },
   {
    "duration": 0,
    "start_time": "2024-01-08T17:00:25.998Z"
   },
   {
    "duration": 0,
    "start_time": "2024-01-08T17:00:25.999Z"
   },
   {
    "duration": 0,
    "start_time": "2024-01-08T17:00:26.001Z"
   },
   {
    "duration": 0,
    "start_time": "2024-01-08T17:00:26.002Z"
   },
   {
    "duration": 0,
    "start_time": "2024-01-08T17:00:26.004Z"
   },
   {
    "duration": 0,
    "start_time": "2024-01-08T17:00:26.006Z"
   },
   {
    "duration": 0,
    "start_time": "2024-01-08T17:00:26.007Z"
   },
   {
    "duration": 0,
    "start_time": "2024-01-08T17:00:26.025Z"
   },
   {
    "duration": 0,
    "start_time": "2024-01-08T17:00:26.026Z"
   },
   {
    "duration": 10,
    "start_time": "2024-01-08T17:00:34.166Z"
   },
   {
    "duration": 16,
    "start_time": "2024-01-08T17:01:22.619Z"
   },
   {
    "duration": 21,
    "start_time": "2024-01-08T17:01:36.357Z"
   },
   {
    "duration": 34,
    "start_time": "2024-01-08T17:01:37.407Z"
   },
   {
    "duration": 8,
    "start_time": "2024-01-08T17:01:38.766Z"
   },
   {
    "duration": 7,
    "start_time": "2024-01-08T17:01:39.218Z"
   },
   {
    "duration": 7,
    "start_time": "2024-01-08T17:01:41.051Z"
   },
   {
    "duration": 5,
    "start_time": "2024-01-08T17:01:42.718Z"
   },
   {
    "duration": 8,
    "start_time": "2024-01-08T17:01:43.238Z"
   },
   {
    "duration": 6,
    "start_time": "2024-01-08T17:01:44.264Z"
   },
   {
    "duration": 4,
    "start_time": "2024-01-08T17:01:45.607Z"
   },
   {
    "duration": 8,
    "start_time": "2024-01-08T17:01:47.133Z"
   },
   {
    "duration": 28125,
    "start_time": "2024-01-08T17:01:48.257Z"
   },
   {
    "duration": 1119,
    "start_time": "2024-01-08T17:11:12.846Z"
   },
   {
    "duration": 95,
    "start_time": "2024-01-08T17:11:13.968Z"
   },
   {
    "duration": 40,
    "start_time": "2024-01-08T17:11:14.064Z"
   },
   {
    "duration": 22,
    "start_time": "2024-01-08T17:11:14.106Z"
   },
   {
    "duration": 19,
    "start_time": "2024-01-08T17:11:14.130Z"
   },
   {
    "duration": 15,
    "start_time": "2024-01-08T17:11:14.151Z"
   },
   {
    "duration": 11,
    "start_time": "2024-01-08T17:11:14.169Z"
   },
   {
    "duration": 59,
    "start_time": "2024-01-08T17:11:14.182Z"
   },
   {
    "duration": 22,
    "start_time": "2024-01-08T17:11:14.242Z"
   },
   {
    "duration": 10,
    "start_time": "2024-01-08T17:11:14.267Z"
   },
   {
    "duration": 17,
    "start_time": "2024-01-08T17:11:14.279Z"
   },
   {
    "duration": 19,
    "start_time": "2024-01-08T17:11:14.297Z"
   },
   {
    "duration": 30,
    "start_time": "2024-01-08T17:11:14.318Z"
   },
   {
    "duration": 17,
    "start_time": "2024-01-08T17:11:14.350Z"
   },
   {
    "duration": 5,
    "start_time": "2024-01-08T17:11:14.369Z"
   },
   {
    "duration": 15,
    "start_time": "2024-01-08T17:11:14.375Z"
   },
   {
    "duration": 25,
    "start_time": "2024-01-08T17:11:14.392Z"
   },
   {
    "duration": 8,
    "start_time": "2024-01-08T18:40:42.806Z"
   },
   {
    "duration": 3,
    "start_time": "2024-01-08T18:40:53.086Z"
   },
   {
    "duration": 33,
    "start_time": "2024-01-08T18:40:53.456Z"
   },
   {
    "duration": 34,
    "start_time": "2024-01-08T18:40:53.848Z"
   },
   {
    "duration": 26,
    "start_time": "2024-01-08T18:40:54.221Z"
   },
   {
    "duration": 12,
    "start_time": "2024-01-08T18:40:54.783Z"
   },
   {
    "duration": 12,
    "start_time": "2024-01-08T18:40:55.161Z"
   },
   {
    "duration": 10,
    "start_time": "2024-01-08T18:40:55.553Z"
   },
   {
    "duration": 20,
    "start_time": "2024-01-08T18:40:56.132Z"
   },
   {
    "duration": 32,
    "start_time": "2024-01-08T18:40:56.531Z"
   },
   {
    "duration": 7,
    "start_time": "2024-01-08T18:40:57.298Z"
   },
   {
    "duration": 5,
    "start_time": "2024-01-08T18:40:57.701Z"
   },
   {
    "duration": 6,
    "start_time": "2024-01-08T18:40:58.306Z"
   },
   {
    "duration": 7,
    "start_time": "2024-01-08T18:40:59.133Z"
   },
   {
    "duration": 9,
    "start_time": "2024-01-08T18:40:59.367Z"
   },
   {
    "duration": 5,
    "start_time": "2024-01-08T18:40:59.751Z"
   },
   {
    "duration": 5,
    "start_time": "2024-01-08T18:41:00.700Z"
   },
   {
    "duration": 5,
    "start_time": "2024-01-08T18:41:01.493Z"
   },
   {
    "duration": 5,
    "start_time": "2024-01-08T18:41:02.164Z"
   },
   {
    "duration": 7,
    "start_time": "2024-01-08T18:41:09.864Z"
   },
   {
    "duration": 8,
    "start_time": "2024-01-08T18:42:02.999Z"
   },
   {
    "duration": 7,
    "start_time": "2024-01-08T18:42:25.533Z"
   },
   {
    "duration": 7,
    "start_time": "2024-01-08T18:42:39.542Z"
   },
   {
    "duration": 1049,
    "start_time": "2024-01-08T18:51:27.783Z"
   },
   {
    "duration": 75,
    "start_time": "2024-01-08T18:51:28.834Z"
   },
   {
    "duration": 44,
    "start_time": "2024-01-08T18:51:28.911Z"
   },
   {
    "duration": 19,
    "start_time": "2024-01-08T18:51:28.958Z"
   },
   {
    "duration": 11,
    "start_time": "2024-01-08T18:51:28.979Z"
   },
   {
    "duration": 11,
    "start_time": "2024-01-08T18:51:28.992Z"
   },
   {
    "duration": 9,
    "start_time": "2024-01-08T18:51:29.005Z"
   },
   {
    "duration": 36,
    "start_time": "2024-01-08T18:51:29.016Z"
   },
   {
    "duration": 21,
    "start_time": "2024-01-08T18:51:29.054Z"
   },
   {
    "duration": 7,
    "start_time": "2024-01-08T18:51:29.078Z"
   },
   {
    "duration": 6,
    "start_time": "2024-01-08T18:51:29.087Z"
   },
   {
    "duration": 34,
    "start_time": "2024-01-08T18:51:29.094Z"
   },
   {
    "duration": 6,
    "start_time": "2024-01-08T18:51:29.132Z"
   },
   {
    "duration": 9,
    "start_time": "2024-01-08T18:51:29.139Z"
   },
   {
    "duration": 5,
    "start_time": "2024-01-08T18:51:29.149Z"
   },
   {
    "duration": 6,
    "start_time": "2024-01-08T18:51:29.155Z"
   },
   {
    "duration": 5,
    "start_time": "2024-01-08T18:51:29.163Z"
   },
   {
    "duration": 9,
    "start_time": "2024-01-08T18:51:29.170Z"
   },
   {
    "duration": 294,
    "start_time": "2024-01-08T18:51:29.181Z"
   },
   {
    "duration": 172,
    "start_time": "2024-01-08T18:51:45.484Z"
   },
   {
    "duration": 1207,
    "start_time": "2024-01-08T19:01:29.894Z"
   },
   {
    "duration": 99,
    "start_time": "2024-01-08T19:01:31.103Z"
   },
   {
    "duration": 45,
    "start_time": "2024-01-08T19:01:31.203Z"
   },
   {
    "duration": 19,
    "start_time": "2024-01-08T19:01:31.250Z"
   },
   {
    "duration": 12,
    "start_time": "2024-01-08T19:01:31.271Z"
   },
   {
    "duration": 28,
    "start_time": "2024-01-08T19:01:31.285Z"
   },
   {
    "duration": 22,
    "start_time": "2024-01-08T19:01:31.315Z"
   },
   {
    "duration": 35,
    "start_time": "2024-01-08T19:01:31.339Z"
   },
   {
    "duration": 21,
    "start_time": "2024-01-08T19:01:31.376Z"
   },
   {
    "duration": 10,
    "start_time": "2024-01-08T19:01:31.399Z"
   },
   {
    "duration": 23,
    "start_time": "2024-01-08T19:01:31.410Z"
   },
   {
    "duration": 8,
    "start_time": "2024-01-08T19:01:31.435Z"
   },
   {
    "duration": 14,
    "start_time": "2024-01-08T19:01:31.445Z"
   },
   {
    "duration": 32,
    "start_time": "2024-01-08T19:01:31.461Z"
   },
   {
    "duration": 24,
    "start_time": "2024-01-08T19:01:31.494Z"
   },
   {
    "duration": 19,
    "start_time": "2024-01-08T19:01:31.519Z"
   },
   {
    "duration": 12,
    "start_time": "2024-01-08T19:01:31.540Z"
   },
   {
    "duration": 20,
    "start_time": "2024-01-08T19:01:31.554Z"
   },
   {
    "duration": 209,
    "start_time": "2024-01-08T19:01:31.576Z"
   },
   {
    "duration": 167,
    "start_time": "2024-01-08T19:01:50.490Z"
   },
   {
    "duration": 169,
    "start_time": "2024-01-08T19:02:11.836Z"
   },
   {
    "duration": 184,
    "start_time": "2024-01-08T19:02:23.583Z"
   },
   {
    "duration": 7,
    "start_time": "2024-01-08T19:06:38.186Z"
   },
   {
    "duration": 130,
    "start_time": "2024-01-08T19:09:10.100Z"
   },
   {
    "duration": 79,
    "start_time": "2024-01-08T19:10:09.174Z"
   },
   {
    "duration": 152,
    "start_time": "2024-01-08T19:10:14.912Z"
   },
   {
    "duration": 105,
    "start_time": "2024-01-08T19:12:04.324Z"
   },
   {
    "duration": 153,
    "start_time": "2024-01-08T19:12:35.991Z"
   },
   {
    "duration": 159,
    "start_time": "2024-01-08T19:13:10.688Z"
   },
   {
    "duration": 8,
    "start_time": "2024-01-08T19:13:25.725Z"
   },
   {
    "duration": 166,
    "start_time": "2024-01-08T19:13:39.394Z"
   },
   {
    "duration": 152,
    "start_time": "2024-01-08T19:13:40.340Z"
   },
   {
    "duration": 202,
    "start_time": "2024-01-08T19:15:06.698Z"
   },
   {
    "duration": 155,
    "start_time": "2024-01-08T19:15:27.835Z"
   },
   {
    "duration": 187,
    "start_time": "2024-01-08T19:16:01.082Z"
   },
   {
    "duration": 190,
    "start_time": "2024-01-08T19:18:19.170Z"
   },
   {
    "duration": 178,
    "start_time": "2024-01-08T19:18:32.146Z"
   },
   {
    "duration": 189,
    "start_time": "2024-01-08T19:21:03.214Z"
   },
   {
    "duration": 144,
    "start_time": "2024-01-08T19:22:01.563Z"
   },
   {
    "duration": 194,
    "start_time": "2024-01-08T19:22:10.790Z"
   },
   {
    "duration": 1179,
    "start_time": "2024-01-09T04:03:55.246Z"
   },
   {
    "duration": 140,
    "start_time": "2024-01-09T04:03:56.427Z"
   },
   {
    "duration": 75,
    "start_time": "2024-01-09T04:03:56.568Z"
   },
   {
    "duration": 57,
    "start_time": "2024-01-09T04:03:56.644Z"
   },
   {
    "duration": 10,
    "start_time": "2024-01-09T04:03:56.703Z"
   },
   {
    "duration": 30,
    "start_time": "2024-01-09T04:03:56.714Z"
   },
   {
    "duration": 11,
    "start_time": "2024-01-09T04:03:56.745Z"
   },
   {
    "duration": 20,
    "start_time": "2024-01-09T04:03:56.757Z"
   },
   {
    "duration": 19,
    "start_time": "2024-01-09T04:03:56.778Z"
   },
   {
    "duration": 7,
    "start_time": "2024-01-09T04:03:56.799Z"
   },
   {
    "duration": 9,
    "start_time": "2024-01-09T04:03:56.807Z"
   },
   {
    "duration": 5,
    "start_time": "2024-01-09T04:03:56.817Z"
   },
   {
    "duration": 4,
    "start_time": "2024-01-09T04:03:56.824Z"
   },
   {
    "duration": 10,
    "start_time": "2024-01-09T04:03:56.830Z"
   },
   {
    "duration": 5,
    "start_time": "2024-01-09T04:03:56.842Z"
   },
   {
    "duration": 3,
    "start_time": "2024-01-09T04:03:56.849Z"
   },
   {
    "duration": 7,
    "start_time": "2024-01-09T04:03:56.854Z"
   },
   {
    "duration": 8,
    "start_time": "2024-01-09T04:03:56.862Z"
   },
   {
    "duration": 190,
    "start_time": "2024-01-09T04:03:56.871Z"
   },
   {
    "duration": 171,
    "start_time": "2024-01-09T04:03:57.062Z"
   },
   {
    "duration": 5,
    "start_time": "2024-01-09T04:03:57.235Z"
   },
   {
    "duration": 7,
    "start_time": "2024-01-09T04:03:57.241Z"
   },
   {
    "duration": 5,
    "start_time": "2024-01-09T04:04:47.903Z"
   },
   {
    "duration": 124,
    "start_time": "2024-01-09T04:06:47.512Z"
   },
   {
    "duration": 110,
    "start_time": "2024-01-09T04:08:19.317Z"
   },
   {
    "duration": 103,
    "start_time": "2024-01-09T04:08:41.579Z"
   },
   {
    "duration": 1264,
    "start_time": "2024-01-09T16:25:53.882Z"
   },
   {
    "duration": 144,
    "start_time": "2024-01-09T16:25:55.148Z"
   },
   {
    "duration": 73,
    "start_time": "2024-01-09T16:25:55.293Z"
   },
   {
    "duration": 58,
    "start_time": "2024-01-09T16:25:55.369Z"
   },
   {
    "duration": 17,
    "start_time": "2024-01-09T16:25:55.429Z"
   },
   {
    "duration": 13,
    "start_time": "2024-01-09T16:25:55.448Z"
   },
   {
    "duration": 15,
    "start_time": "2024-01-09T16:25:55.462Z"
   },
   {
    "duration": 25,
    "start_time": "2024-01-09T16:25:55.481Z"
   },
   {
    "duration": 19,
    "start_time": "2024-01-09T16:25:55.507Z"
   },
   {
    "duration": 7,
    "start_time": "2024-01-09T16:25:55.528Z"
   },
   {
    "duration": 7,
    "start_time": "2024-01-09T16:25:55.536Z"
   },
   {
    "duration": 28,
    "start_time": "2024-01-09T16:25:55.544Z"
   },
   {
    "duration": 21,
    "start_time": "2024-01-09T16:25:55.576Z"
   },
   {
    "duration": 8,
    "start_time": "2024-01-09T16:25:55.599Z"
   },
   {
    "duration": 4,
    "start_time": "2024-01-09T16:25:55.609Z"
   },
   {
    "duration": 5,
    "start_time": "2024-01-09T16:25:55.615Z"
   },
   {
    "duration": 6,
    "start_time": "2024-01-09T16:25:55.621Z"
   },
   {
    "duration": 8,
    "start_time": "2024-01-09T16:25:55.629Z"
   },
   {
    "duration": 203,
    "start_time": "2024-01-09T16:25:55.639Z"
   },
   {
    "duration": 207,
    "start_time": "2024-01-09T16:25:55.843Z"
   },
   {
    "duration": 14,
    "start_time": "2024-01-09T16:25:56.051Z"
   },
   {
    "duration": 19,
    "start_time": "2024-01-09T16:25:56.068Z"
   },
   {
    "duration": 134,
    "start_time": "2024-01-09T16:25:56.089Z"
   },
   {
    "duration": 117,
    "start_time": "2024-01-09T16:25:56.224Z"
   },
   {
    "duration": 7,
    "start_time": "2024-01-09T16:42:41.353Z"
   },
   {
    "duration": 1156,
    "start_time": "2024-01-09T16:49:30.791Z"
   },
   {
    "duration": 87,
    "start_time": "2024-01-09T16:49:31.949Z"
   },
   {
    "duration": 34,
    "start_time": "2024-01-09T16:49:32.037Z"
   },
   {
    "duration": 20,
    "start_time": "2024-01-09T16:49:32.072Z"
   },
   {
    "duration": 15,
    "start_time": "2024-01-09T16:49:32.094Z"
   },
   {
    "duration": 22,
    "start_time": "2024-01-09T16:49:32.110Z"
   },
   {
    "duration": 9,
    "start_time": "2024-01-09T16:49:32.134Z"
   },
   {
    "duration": 40,
    "start_time": "2024-01-09T16:49:32.144Z"
   },
   {
    "duration": 19,
    "start_time": "2024-01-09T16:49:32.186Z"
   },
   {
    "duration": 6,
    "start_time": "2024-01-09T16:49:32.207Z"
   },
   {
    "duration": 12,
    "start_time": "2024-01-09T16:49:32.215Z"
   },
   {
    "duration": 8,
    "start_time": "2024-01-09T16:49:32.228Z"
   },
   {
    "duration": 10,
    "start_time": "2024-01-09T16:49:32.238Z"
   },
   {
    "duration": 17,
    "start_time": "2024-01-09T16:49:32.250Z"
   },
   {
    "duration": 4,
    "start_time": "2024-01-09T16:49:32.269Z"
   },
   {
    "duration": 9,
    "start_time": "2024-01-09T16:49:32.275Z"
   },
   {
    "duration": 7,
    "start_time": "2024-01-09T16:49:32.286Z"
   },
   {
    "duration": 13,
    "start_time": "2024-01-09T16:49:32.294Z"
   },
   {
    "duration": 163,
    "start_time": "2024-01-09T16:49:32.308Z"
   },
   {
    "duration": 179,
    "start_time": "2024-01-09T16:49:32.472Z"
   },
   {
    "duration": 13,
    "start_time": "2024-01-09T16:49:32.652Z"
   },
   {
    "duration": 24,
    "start_time": "2024-01-09T16:49:32.667Z"
   },
   {
    "duration": 143,
    "start_time": "2024-01-09T16:49:32.694Z"
   },
   {
    "duration": 118,
    "start_time": "2024-01-09T16:49:32.839Z"
   },
   {
    "duration": 18,
    "start_time": "2024-01-09T16:52:06.941Z"
   },
   {
    "duration": 16,
    "start_time": "2024-01-09T16:53:46.092Z"
   },
   {
    "duration": 4,
    "start_time": "2024-01-09T16:57:06.339Z"
   },
   {
    "duration": 6,
    "start_time": "2024-01-09T16:57:29.027Z"
   },
   {
    "duration": 94,
    "start_time": "2024-01-09T17:00:24.168Z"
   },
   {
    "duration": 102,
    "start_time": "2024-01-09T17:03:12.670Z"
   },
   {
    "duration": 206,
    "start_time": "2024-01-09T17:10:35.261Z"
   },
   {
    "duration": 235,
    "start_time": "2024-01-09T17:10:51.584Z"
   },
   {
    "duration": 225,
    "start_time": "2024-01-09T17:11:02.483Z"
   },
   {
    "duration": 204,
    "start_time": "2024-01-09T17:11:08.841Z"
   },
   {
    "duration": 276,
    "start_time": "2024-01-09T17:11:48.642Z"
   },
   {
    "duration": 189,
    "start_time": "2024-01-09T17:12:31.361Z"
   },
   {
    "duration": 216,
    "start_time": "2024-01-09T17:12:36.266Z"
   },
   {
    "duration": 217,
    "start_time": "2024-01-09T17:12:45.636Z"
   },
   {
    "duration": 226,
    "start_time": "2024-01-09T17:18:47.364Z"
   },
   {
    "duration": 204,
    "start_time": "2024-01-09T17:19:30.925Z"
   },
   {
    "duration": 233,
    "start_time": "2024-01-09T17:19:42.838Z"
   },
   {
    "duration": 238,
    "start_time": "2024-01-09T17:20:30.473Z"
   },
   {
    "duration": 122,
    "start_time": "2024-01-09T17:21:52.134Z"
   },
   {
    "duration": 196,
    "start_time": "2024-01-09T17:22:06.194Z"
   },
   {
    "duration": 151,
    "start_time": "2024-01-09T17:22:31.622Z"
   },
   {
    "duration": 134,
    "start_time": "2024-01-09T17:22:53.144Z"
   },
   {
    "duration": 966,
    "start_time": "2024-01-09T18:04:10.224Z"
   },
   {
    "duration": 79,
    "start_time": "2024-01-09T18:04:11.191Z"
   },
   {
    "duration": 33,
    "start_time": "2024-01-09T18:04:11.271Z"
   },
   {
    "duration": 18,
    "start_time": "2024-01-09T18:04:11.306Z"
   },
   {
    "duration": 10,
    "start_time": "2024-01-09T18:04:11.326Z"
   },
   {
    "duration": 27,
    "start_time": "2024-01-09T18:04:11.337Z"
   },
   {
    "duration": 8,
    "start_time": "2024-01-09T18:04:11.365Z"
   },
   {
    "duration": 25,
    "start_time": "2024-01-09T18:04:11.375Z"
   },
   {
    "duration": 18,
    "start_time": "2024-01-09T18:04:11.402Z"
   },
   {
    "duration": 6,
    "start_time": "2024-01-09T18:04:11.423Z"
   },
   {
    "duration": 6,
    "start_time": "2024-01-09T18:04:11.431Z"
   },
   {
    "duration": 5,
    "start_time": "2024-01-09T18:04:11.439Z"
   },
   {
    "duration": 24,
    "start_time": "2024-01-09T18:04:11.445Z"
   },
   {
    "duration": 32,
    "start_time": "2024-01-09T18:04:11.470Z"
   },
   {
    "duration": 5,
    "start_time": "2024-01-09T18:04:11.503Z"
   },
   {
    "duration": 15,
    "start_time": "2024-01-09T18:04:11.509Z"
   },
   {
    "duration": 5,
    "start_time": "2024-01-09T18:04:11.526Z"
   },
   {
    "duration": 28,
    "start_time": "2024-01-09T18:04:11.532Z"
   },
   {
    "duration": 162,
    "start_time": "2024-01-09T18:04:11.562Z"
   },
   {
    "duration": 191,
    "start_time": "2024-01-09T18:04:11.725Z"
   },
   {
    "duration": 5,
    "start_time": "2024-01-09T18:04:11.918Z"
   },
   {
    "duration": 22,
    "start_time": "2024-01-09T18:04:11.925Z"
   },
   {
    "duration": 169,
    "start_time": "2024-01-09T18:04:11.949Z"
   },
   {
    "duration": 116,
    "start_time": "2024-01-09T18:04:12.120Z"
   },
   {
    "duration": 28,
    "start_time": "2024-01-09T18:04:12.238Z"
   },
   {
    "duration": 228,
    "start_time": "2024-01-09T18:04:12.268Z"
   },
   {
    "duration": 253,
    "start_time": "2024-01-09T18:04:12.498Z"
   },
   {
    "duration": 33,
    "start_time": "2024-01-09T18:07:38.832Z"
   },
   {
    "duration": 24,
    "start_time": "2024-01-09T18:25:09.420Z"
   },
   {
    "duration": 221,
    "start_time": "2024-01-09T18:27:33.888Z"
   },
   {
    "duration": 258,
    "start_time": "2024-01-09T18:27:45.151Z"
   },
   {
    "duration": 349,
    "start_time": "2024-01-09T18:27:52.268Z"
   },
   {
    "duration": 209,
    "start_time": "2024-01-09T18:28:00.742Z"
   },
   {
    "duration": 216,
    "start_time": "2024-01-09T18:28:30.628Z"
   },
   {
    "duration": 986,
    "start_time": "2024-01-09T18:34:11.211Z"
   },
   {
    "duration": 95,
    "start_time": "2024-01-09T18:34:12.199Z"
   },
   {
    "duration": 33,
    "start_time": "2024-01-09T18:34:12.296Z"
   },
   {
    "duration": 19,
    "start_time": "2024-01-09T18:34:12.331Z"
   },
   {
    "duration": 36,
    "start_time": "2024-01-09T18:34:12.352Z"
   },
   {
    "duration": 43,
    "start_time": "2024-01-09T18:34:12.389Z"
   },
   {
    "duration": 25,
    "start_time": "2024-01-09T18:34:12.433Z"
   },
   {
    "duration": 53,
    "start_time": "2024-01-09T18:34:12.460Z"
   },
   {
    "duration": 39,
    "start_time": "2024-01-09T18:34:12.515Z"
   },
   {
    "duration": 9,
    "start_time": "2024-01-09T18:34:12.556Z"
   },
   {
    "duration": 31,
    "start_time": "2024-01-09T18:34:12.566Z"
   },
   {
    "duration": 25,
    "start_time": "2024-01-09T18:34:12.598Z"
   },
   {
    "duration": 20,
    "start_time": "2024-01-09T18:34:12.625Z"
   },
   {
    "duration": 33,
    "start_time": "2024-01-09T18:34:12.646Z"
   },
   {
    "duration": 21,
    "start_time": "2024-01-09T18:34:12.681Z"
   },
   {
    "duration": 41,
    "start_time": "2024-01-09T18:34:12.705Z"
   },
   {
    "duration": 30,
    "start_time": "2024-01-09T18:34:12.748Z"
   },
   {
    "duration": 40,
    "start_time": "2024-01-09T18:34:12.779Z"
   },
   {
    "duration": 177,
    "start_time": "2024-01-09T18:34:12.821Z"
   },
   {
    "duration": 174,
    "start_time": "2024-01-09T18:34:13.000Z"
   },
   {
    "duration": 5,
    "start_time": "2024-01-09T18:34:13.176Z"
   },
   {
    "duration": 35,
    "start_time": "2024-01-09T18:34:13.183Z"
   },
   {
    "duration": 165,
    "start_time": "2024-01-09T18:34:13.220Z"
   },
   {
    "duration": 113,
    "start_time": "2024-01-09T18:34:13.387Z"
   },
   {
    "duration": 18,
    "start_time": "2024-01-09T18:34:13.501Z"
   },
   {
    "duration": 243,
    "start_time": "2024-01-09T18:34:13.520Z"
   },
   {
    "duration": 23,
    "start_time": "2024-01-09T18:34:13.765Z"
   },
   {
    "duration": 245,
    "start_time": "2024-01-09T18:34:13.791Z"
   },
   {
    "duration": 30,
    "start_time": "2024-01-09T18:34:14.037Z"
   },
   {
    "duration": 215,
    "start_time": "2024-01-09T18:34:14.069Z"
   },
   {
    "duration": 205,
    "start_time": "2024-01-09T18:50:06.846Z"
   },
   {
    "duration": 1025,
    "start_time": "2024-01-09T18:53:59.832Z"
   },
   {
    "duration": 84,
    "start_time": "2024-01-09T18:54:00.859Z"
   },
   {
    "duration": 33,
    "start_time": "2024-01-09T18:54:00.945Z"
   },
   {
    "duration": 20,
    "start_time": "2024-01-09T18:54:00.980Z"
   },
   {
    "duration": 30,
    "start_time": "2024-01-09T18:54:01.001Z"
   },
   {
    "duration": 50,
    "start_time": "2024-01-09T18:54:01.033Z"
   },
   {
    "duration": 41,
    "start_time": "2024-01-09T18:54:01.084Z"
   },
   {
    "duration": 43,
    "start_time": "2024-01-09T18:54:01.127Z"
   },
   {
    "duration": 82,
    "start_time": "2024-01-09T18:54:01.172Z"
   },
   {
    "duration": 30,
    "start_time": "2024-01-09T18:54:01.258Z"
   },
   {
    "duration": 24,
    "start_time": "2024-01-09T18:54:01.290Z"
   },
   {
    "duration": 40,
    "start_time": "2024-01-09T18:54:01.315Z"
   },
   {
    "duration": 57,
    "start_time": "2024-01-09T18:54:01.356Z"
   },
   {
    "duration": 43,
    "start_time": "2024-01-09T18:54:01.414Z"
   },
   {
    "duration": 36,
    "start_time": "2024-01-09T18:54:01.458Z"
   },
   {
    "duration": 73,
    "start_time": "2024-01-09T18:54:01.495Z"
   },
   {
    "duration": 54,
    "start_time": "2024-01-09T18:54:01.569Z"
   },
   {
    "duration": 30,
    "start_time": "2024-01-09T18:54:01.624Z"
   },
   {
    "duration": 195,
    "start_time": "2024-01-09T18:54:01.655Z"
   },
   {
    "duration": 177,
    "start_time": "2024-01-09T18:54:01.851Z"
   },
   {
    "duration": 5,
    "start_time": "2024-01-09T18:54:02.029Z"
   },
   {
    "duration": 34,
    "start_time": "2024-01-09T18:54:02.035Z"
   },
   {
    "duration": 155,
    "start_time": "2024-01-09T18:54:02.070Z"
   },
   {
    "duration": 111,
    "start_time": "2024-01-09T18:54:02.227Z"
   },
   {
    "duration": 28,
    "start_time": "2024-01-09T18:54:02.340Z"
   },
   {
    "duration": 207,
    "start_time": "2024-01-09T18:54:02.369Z"
   },
   {
    "duration": 20,
    "start_time": "2024-01-09T18:54:02.578Z"
   },
   {
    "duration": 244,
    "start_time": "2024-01-09T18:54:02.601Z"
   },
   {
    "duration": 30,
    "start_time": "2024-01-09T18:54:02.846Z"
   },
   {
    "duration": 215,
    "start_time": "2024-01-09T18:54:02.878Z"
   },
   {
    "duration": 1017,
    "start_time": "2024-01-09T19:12:57.017Z"
   },
   {
    "duration": 83,
    "start_time": "2024-01-09T19:12:58.036Z"
   },
   {
    "duration": 32,
    "start_time": "2024-01-09T19:12:58.121Z"
   },
   {
    "duration": 19,
    "start_time": "2024-01-09T19:12:58.155Z"
   },
   {
    "duration": 22,
    "start_time": "2024-01-09T19:12:58.175Z"
   },
   {
    "duration": 34,
    "start_time": "2024-01-09T19:12:58.199Z"
   },
   {
    "duration": 26,
    "start_time": "2024-01-09T19:12:58.235Z"
   },
   {
    "duration": 44,
    "start_time": "2024-01-09T19:12:58.263Z"
   },
   {
    "duration": 46,
    "start_time": "2024-01-09T19:12:58.309Z"
   },
   {
    "duration": 7,
    "start_time": "2024-01-09T19:12:58.359Z"
   },
   {
    "duration": 35,
    "start_time": "2024-01-09T19:12:58.367Z"
   },
   {
    "duration": 32,
    "start_time": "2024-01-09T19:12:58.404Z"
   },
   {
    "duration": 11,
    "start_time": "2024-01-09T19:12:58.438Z"
   },
   {
    "duration": 25,
    "start_time": "2024-01-09T19:12:58.450Z"
   },
   {
    "duration": 19,
    "start_time": "2024-01-09T19:12:58.477Z"
   },
   {
    "duration": 21,
    "start_time": "2024-01-09T19:12:58.497Z"
   },
   {
    "duration": 21,
    "start_time": "2024-01-09T19:12:58.519Z"
   },
   {
    "duration": 26,
    "start_time": "2024-01-09T19:12:58.541Z"
   },
   {
    "duration": 162,
    "start_time": "2024-01-09T19:12:58.569Z"
   },
   {
    "duration": 175,
    "start_time": "2024-01-09T19:12:58.732Z"
   },
   {
    "duration": 5,
    "start_time": "2024-01-09T19:12:58.909Z"
   },
   {
    "duration": 29,
    "start_time": "2024-01-09T19:12:58.915Z"
   },
   {
    "duration": 153,
    "start_time": "2024-01-09T19:12:58.945Z"
   },
   {
    "duration": 115,
    "start_time": "2024-01-09T19:12:59.100Z"
   },
   {
    "duration": 18,
    "start_time": "2024-01-09T19:12:59.217Z"
   },
   {
    "duration": 257,
    "start_time": "2024-01-09T19:12:59.237Z"
   },
   {
    "duration": 23,
    "start_time": "2024-01-09T19:12:59.495Z"
   },
   {
    "duration": 263,
    "start_time": "2024-01-09T19:12:59.520Z"
   },
   {
    "duration": 22,
    "start_time": "2024-01-09T19:12:59.785Z"
   },
   {
    "duration": 227,
    "start_time": "2024-01-09T19:12:59.808Z"
   },
   {
    "duration": 30,
    "start_time": "2024-01-09T19:13:00.037Z"
   },
   {
    "duration": 30,
    "start_time": "2024-01-09T19:14:24.778Z"
   },
   {
    "duration": 26,
    "start_time": "2024-01-09T19:18:29.791Z"
   },
   {
    "duration": 30,
    "start_time": "2024-01-09T19:18:37.865Z"
   },
   {
    "duration": 31,
    "start_time": "2024-01-09T19:18:47.467Z"
   },
   {
    "duration": 33,
    "start_time": "2024-01-09T19:19:04.715Z"
   },
   {
    "duration": 28,
    "start_time": "2024-01-09T19:19:16.412Z"
   },
   {
    "duration": 98,
    "start_time": "2024-01-09T19:23:39.389Z"
   },
   {
    "duration": 30,
    "start_time": "2024-01-09T19:23:46.617Z"
   },
   {
    "duration": 30,
    "start_time": "2024-01-09T19:23:59.989Z"
   },
   {
    "duration": 25,
    "start_time": "2024-01-09T19:24:21.081Z"
   },
   {
    "duration": 24,
    "start_time": "2024-01-09T19:24:24.854Z"
   },
   {
    "duration": 20,
    "start_time": "2024-01-09T19:29:56.547Z"
   },
   {
    "duration": 20,
    "start_time": "2024-01-09T19:31:15.722Z"
   },
   {
    "duration": 19,
    "start_time": "2024-01-09T19:31:49.499Z"
   },
   {
    "duration": 22,
    "start_time": "2024-01-09T19:37:04.486Z"
   },
   {
    "duration": 257,
    "start_time": "2024-01-09T19:40:34.466Z"
   },
   {
    "duration": 32,
    "start_time": "2024-01-09T19:43:04.044Z"
   },
   {
    "duration": 322,
    "start_time": "2024-01-09T19:43:53.891Z"
   },
   {
    "duration": 250,
    "start_time": "2024-01-09T19:50:22.580Z"
   },
   {
    "duration": 28,
    "start_time": "2024-01-09T19:50:24.434Z"
   },
   {
    "duration": 218,
    "start_time": "2024-01-09T19:50:47.181Z"
   },
   {
    "duration": 218,
    "start_time": "2024-01-09T19:51:00.774Z"
   },
   {
    "duration": 236,
    "start_time": "2024-01-09T19:54:26.224Z"
   },
   {
    "duration": 225,
    "start_time": "2024-01-09T19:56:00.294Z"
   },
   {
    "duration": 185,
    "start_time": "2024-01-09T19:56:11.848Z"
   },
   {
    "duration": 210,
    "start_time": "2024-01-09T19:56:23.866Z"
   },
   {
    "duration": 244,
    "start_time": "2024-01-09T19:59:16.399Z"
   },
   {
    "duration": 361,
    "start_time": "2024-01-09T19:59:35.712Z"
   },
   {
    "duration": 221,
    "start_time": "2024-01-09T20:07:22.676Z"
   },
   {
    "duration": 1075,
    "start_time": "2024-01-09T20:11:29.326Z"
   },
   {
    "duration": 87,
    "start_time": "2024-01-09T20:11:30.403Z"
   },
   {
    "duration": 35,
    "start_time": "2024-01-09T20:11:30.492Z"
   },
   {
    "duration": 21,
    "start_time": "2024-01-09T20:11:30.530Z"
   },
   {
    "duration": 22,
    "start_time": "2024-01-09T20:11:30.553Z"
   },
   {
    "duration": 21,
    "start_time": "2024-01-09T20:11:30.576Z"
   },
   {
    "duration": 23,
    "start_time": "2024-01-09T20:11:30.599Z"
   },
   {
    "duration": 46,
    "start_time": "2024-01-09T20:11:30.624Z"
   },
   {
    "duration": 27,
    "start_time": "2024-01-09T20:11:30.672Z"
   },
   {
    "duration": 24,
    "start_time": "2024-01-09T20:11:30.703Z"
   },
   {
    "duration": 30,
    "start_time": "2024-01-09T20:11:30.729Z"
   },
   {
    "duration": 13,
    "start_time": "2024-01-09T20:11:30.761Z"
   },
   {
    "duration": 27,
    "start_time": "2024-01-09T20:11:30.776Z"
   },
   {
    "duration": 30,
    "start_time": "2024-01-09T20:11:30.805Z"
   },
   {
    "duration": 29,
    "start_time": "2024-01-09T20:11:30.836Z"
   },
   {
    "duration": 34,
    "start_time": "2024-01-09T20:11:30.867Z"
   },
   {
    "duration": 7,
    "start_time": "2024-01-09T20:11:30.903Z"
   },
   {
    "duration": 31,
    "start_time": "2024-01-09T20:11:30.911Z"
   },
   {
    "duration": 176,
    "start_time": "2024-01-09T20:11:30.944Z"
   },
   {
    "duration": 194,
    "start_time": "2024-01-09T20:11:31.122Z"
   },
   {
    "duration": 6,
    "start_time": "2024-01-09T20:11:31.318Z"
   },
   {
    "duration": 55,
    "start_time": "2024-01-09T20:11:31.325Z"
   },
   {
    "duration": 131,
    "start_time": "2024-01-09T20:11:31.382Z"
   },
   {
    "duration": 119,
    "start_time": "2024-01-09T20:11:31.515Z"
   },
   {
    "duration": 17,
    "start_time": "2024-01-09T20:11:31.636Z"
   },
   {
    "duration": 244,
    "start_time": "2024-01-09T20:11:31.666Z"
   },
   {
    "duration": 31,
    "start_time": "2024-01-09T20:11:31.912Z"
   },
   {
    "duration": 278,
    "start_time": "2024-01-09T20:11:31.947Z"
   },
   {
    "duration": 24,
    "start_time": "2024-01-09T20:11:32.227Z"
   },
   {
    "duration": 240,
    "start_time": "2024-01-09T20:11:32.252Z"
   },
   {
    "duration": 29,
    "start_time": "2024-01-09T20:11:32.494Z"
   },
   {
    "duration": 77,
    "start_time": "2024-01-09T20:11:32.525Z"
   },
   {
    "duration": 29,
    "start_time": "2024-01-09T20:11:32.604Z"
   },
   {
    "duration": 37,
    "start_time": "2024-01-09T20:11:32.635Z"
   },
   {
    "duration": 251,
    "start_time": "2024-01-09T20:11:32.674Z"
   },
   {
    "duration": 244,
    "start_time": "2024-01-09T20:11:32.927Z"
   },
   {
    "duration": 40,
    "start_time": "2024-01-09T20:11:33.173Z"
   },
   {
    "duration": 303,
    "start_time": "2024-01-09T20:11:33.214Z"
   },
   {
    "duration": 1272,
    "start_time": "2024-01-10T04:03:06.799Z"
   },
   {
    "duration": 150,
    "start_time": "2024-01-10T04:03:08.073Z"
   },
   {
    "duration": 74,
    "start_time": "2024-01-10T04:03:08.224Z"
   },
   {
    "duration": 57,
    "start_time": "2024-01-10T04:03:08.300Z"
   },
   {
    "duration": 11,
    "start_time": "2024-01-10T04:03:08.358Z"
   },
   {
    "duration": 22,
    "start_time": "2024-01-10T04:03:08.370Z"
   },
   {
    "duration": 22,
    "start_time": "2024-01-10T04:03:08.394Z"
   },
   {
    "duration": 28,
    "start_time": "2024-01-10T04:03:08.418Z"
   },
   {
    "duration": 19,
    "start_time": "2024-01-10T04:03:08.447Z"
   },
   {
    "duration": 11,
    "start_time": "2024-01-10T04:03:08.469Z"
   },
   {
    "duration": 21,
    "start_time": "2024-01-10T04:03:08.482Z"
   },
   {
    "duration": 19,
    "start_time": "2024-01-10T04:03:08.504Z"
   },
   {
    "duration": 12,
    "start_time": "2024-01-10T04:03:08.524Z"
   },
   {
    "duration": 25,
    "start_time": "2024-01-10T04:03:08.537Z"
   },
   {
    "duration": 27,
    "start_time": "2024-01-10T04:03:08.563Z"
   },
   {
    "duration": 11,
    "start_time": "2024-01-10T04:03:08.591Z"
   },
   {
    "duration": 13,
    "start_time": "2024-01-10T04:03:08.603Z"
   },
   {
    "duration": 20,
    "start_time": "2024-01-10T04:03:08.618Z"
   },
   {
    "duration": 172,
    "start_time": "2024-01-10T04:03:08.639Z"
   },
   {
    "duration": 184,
    "start_time": "2024-01-10T04:03:08.814Z"
   },
   {
    "duration": 5,
    "start_time": "2024-01-10T04:03:09.000Z"
   },
   {
    "duration": 17,
    "start_time": "2024-01-10T04:03:09.015Z"
   },
   {
    "duration": 134,
    "start_time": "2024-01-10T04:03:09.034Z"
   },
   {
    "duration": 112,
    "start_time": "2024-01-10T04:03:09.169Z"
   },
   {
    "duration": 19,
    "start_time": "2024-01-10T04:03:09.283Z"
   },
   {
    "duration": 222,
    "start_time": "2024-01-10T04:03:09.314Z"
   },
   {
    "duration": 23,
    "start_time": "2024-01-10T04:03:09.538Z"
   },
   {
    "duration": 258,
    "start_time": "2024-01-10T04:03:09.564Z"
   },
   {
    "duration": 22,
    "start_time": "2024-01-10T04:03:09.823Z"
   },
   {
    "duration": 240,
    "start_time": "2024-01-10T04:03:09.847Z"
   },
   {
    "duration": 38,
    "start_time": "2024-01-10T04:03:10.089Z"
   },
   {
    "duration": 19,
    "start_time": "2024-01-10T04:03:10.129Z"
   },
   {
    "duration": 17,
    "start_time": "2024-01-10T04:03:10.150Z"
   },
   {
    "duration": 47,
    "start_time": "2024-01-10T04:03:10.169Z"
   },
   {
    "duration": 237,
    "start_time": "2024-01-10T04:03:10.217Z"
   },
   {
    "duration": 297,
    "start_time": "2024-01-10T04:03:10.455Z"
   },
   {
    "duration": 28,
    "start_time": "2024-01-10T04:03:10.753Z"
   },
   {
    "duration": 232,
    "start_time": "2024-01-10T04:03:10.783Z"
   },
   {
    "duration": 223,
    "start_time": "2024-01-10T04:03:11.017Z"
   },
   {
    "duration": 211,
    "start_time": "2024-01-10T04:04:54.969Z"
   },
   {
    "duration": 228,
    "start_time": "2024-01-10T04:04:59.505Z"
   },
   {
    "duration": 228,
    "start_time": "2024-01-10T04:05:23.525Z"
   },
   {
    "duration": 231,
    "start_time": "2024-01-10T04:08:20.286Z"
   },
   {
    "duration": 226,
    "start_time": "2024-01-10T04:08:36.860Z"
   },
   {
    "duration": 205,
    "start_time": "2024-01-10T04:08:52.270Z"
   },
   {
    "duration": 223,
    "start_time": "2024-01-10T04:09:06.435Z"
   },
   {
    "duration": 1245,
    "start_time": "2024-01-10T17:40:54.268Z"
   },
   {
    "duration": 135,
    "start_time": "2024-01-10T17:40:55.515Z"
   },
   {
    "duration": 72,
    "start_time": "2024-01-10T17:40:55.652Z"
   },
   {
    "duration": 55,
    "start_time": "2024-01-10T17:40:55.725Z"
   },
   {
    "duration": 11,
    "start_time": "2024-01-10T17:40:55.782Z"
   },
   {
    "duration": 16,
    "start_time": "2024-01-10T17:40:55.795Z"
   },
   {
    "duration": 9,
    "start_time": "2024-01-10T17:40:55.812Z"
   },
   {
    "duration": 19,
    "start_time": "2024-01-10T17:40:55.823Z"
   },
   {
    "duration": 44,
    "start_time": "2024-01-10T17:40:55.844Z"
   },
   {
    "duration": 7,
    "start_time": "2024-01-10T17:40:55.891Z"
   },
   {
    "duration": 6,
    "start_time": "2024-01-10T17:40:55.899Z"
   },
   {
    "duration": 6,
    "start_time": "2024-01-10T17:40:55.906Z"
   },
   {
    "duration": 7,
    "start_time": "2024-01-10T17:40:55.913Z"
   },
   {
    "duration": 12,
    "start_time": "2024-01-10T17:40:55.921Z"
   },
   {
    "duration": 5,
    "start_time": "2024-01-10T17:40:55.934Z"
   },
   {
    "duration": 6,
    "start_time": "2024-01-10T17:40:55.941Z"
   },
   {
    "duration": 6,
    "start_time": "2024-01-10T17:40:55.982Z"
   },
   {
    "duration": 10,
    "start_time": "2024-01-10T17:40:55.989Z"
   },
   {
    "duration": 182,
    "start_time": "2024-01-10T17:40:56.001Z"
   },
   {
    "duration": 191,
    "start_time": "2024-01-10T17:40:56.185Z"
   },
   {
    "duration": 7,
    "start_time": "2024-01-10T17:40:56.378Z"
   },
   {
    "duration": 17,
    "start_time": "2024-01-10T17:40:56.386Z"
   },
   {
    "duration": 137,
    "start_time": "2024-01-10T17:40:56.404Z"
   },
   {
    "duration": 120,
    "start_time": "2024-01-10T17:40:56.543Z"
   },
   {
    "duration": 29,
    "start_time": "2024-01-10T17:40:56.665Z"
   },
   {
    "duration": 241,
    "start_time": "2024-01-10T17:40:56.695Z"
   },
   {
    "duration": 24,
    "start_time": "2024-01-10T17:40:56.937Z"
   },
   {
    "duration": 267,
    "start_time": "2024-01-10T17:40:56.964Z"
   },
   {
    "duration": 23,
    "start_time": "2024-01-10T17:40:57.233Z"
   },
   {
    "duration": 240,
    "start_time": "2024-01-10T17:40:57.258Z"
   },
   {
    "duration": 30,
    "start_time": "2024-01-10T17:40:57.500Z"
   },
   {
    "duration": 22,
    "start_time": "2024-01-10T17:40:57.532Z"
   },
   {
    "duration": 38,
    "start_time": "2024-01-10T17:40:57.555Z"
   },
   {
    "duration": 31,
    "start_time": "2024-01-10T17:40:57.594Z"
   },
   {
    "duration": 260,
    "start_time": "2024-01-10T17:40:57.626Z"
   },
   {
    "duration": 305,
    "start_time": "2024-01-10T17:40:57.889Z"
   },
   {
    "duration": 30,
    "start_time": "2024-01-10T17:40:58.196Z"
   },
   {
    "duration": 219,
    "start_time": "2024-01-10T17:40:58.227Z"
   },
   {
    "duration": 260,
    "start_time": "2024-01-10T17:40:58.447Z"
   },
   {
    "duration": 225,
    "start_time": "2024-01-10T17:41:30.482Z"
   },
   {
    "duration": 193,
    "start_time": "2024-01-10T17:46:34.702Z"
   },
   {
    "duration": 1034,
    "start_time": "2024-01-10T17:46:46.611Z"
   },
   {
    "duration": 66,
    "start_time": "2024-01-10T17:46:47.647Z"
   },
   {
    "duration": 33,
    "start_time": "2024-01-10T17:46:47.714Z"
   },
   {
    "duration": 19,
    "start_time": "2024-01-10T17:46:47.749Z"
   },
   {
    "duration": 13,
    "start_time": "2024-01-10T17:46:47.770Z"
   },
   {
    "duration": 13,
    "start_time": "2024-01-10T17:46:47.784Z"
   },
   {
    "duration": 10,
    "start_time": "2024-01-10T17:46:47.799Z"
   },
   {
    "duration": 25,
    "start_time": "2024-01-10T17:46:47.811Z"
   },
   {
    "duration": 45,
    "start_time": "2024-01-10T17:46:47.838Z"
   },
   {
    "duration": 9,
    "start_time": "2024-01-10T17:46:47.887Z"
   },
   {
    "duration": 6,
    "start_time": "2024-01-10T17:46:47.898Z"
   },
   {
    "duration": 5,
    "start_time": "2024-01-10T17:46:47.905Z"
   },
   {
    "duration": 4,
    "start_time": "2024-01-10T17:46:47.911Z"
   },
   {
    "duration": 7,
    "start_time": "2024-01-10T17:46:47.917Z"
   },
   {
    "duration": 4,
    "start_time": "2024-01-10T17:46:47.925Z"
   },
   {
    "duration": 53,
    "start_time": "2024-01-10T17:46:47.930Z"
   },
   {
    "duration": 6,
    "start_time": "2024-01-10T17:46:47.984Z"
   },
   {
    "duration": 9,
    "start_time": "2024-01-10T17:46:47.991Z"
   },
   {
    "duration": 199,
    "start_time": "2024-01-10T17:46:48.001Z"
   },
   {
    "duration": 189,
    "start_time": "2024-01-10T17:46:48.201Z"
   },
   {
    "duration": 6,
    "start_time": "2024-01-10T17:46:48.391Z"
   },
   {
    "duration": 6,
    "start_time": "2024-01-10T17:46:48.398Z"
   },
   {
    "duration": 150,
    "start_time": "2024-01-10T17:46:48.406Z"
   },
   {
    "duration": 124,
    "start_time": "2024-01-10T17:46:48.558Z"
   },
   {
    "duration": 17,
    "start_time": "2024-01-10T17:46:48.683Z"
   },
   {
    "duration": 246,
    "start_time": "2024-01-10T17:46:48.701Z"
   },
   {
    "duration": 41,
    "start_time": "2024-01-10T17:46:48.949Z"
   },
   {
    "duration": 268,
    "start_time": "2024-01-10T17:46:48.994Z"
   },
   {
    "duration": 32,
    "start_time": "2024-01-10T17:46:49.264Z"
   },
   {
    "duration": 237,
    "start_time": "2024-01-10T17:46:49.298Z"
   },
   {
    "duration": 29,
    "start_time": "2024-01-10T17:46:49.536Z"
   },
   {
    "duration": 26,
    "start_time": "2024-01-10T17:46:49.566Z"
   },
   {
    "duration": 18,
    "start_time": "2024-01-10T17:46:49.594Z"
   },
   {
    "duration": 29,
    "start_time": "2024-01-10T17:46:49.613Z"
   },
   {
    "duration": 256,
    "start_time": "2024-01-10T17:46:49.644Z"
   },
   {
    "duration": 300,
    "start_time": "2024-01-10T17:46:49.902Z"
   },
   {
    "duration": 29,
    "start_time": "2024-01-10T17:46:50.203Z"
   },
   {
    "duration": 213,
    "start_time": "2024-01-10T17:46:50.234Z"
   },
   {
    "duration": 238,
    "start_time": "2024-01-10T17:46:50.448Z"
   },
   {
    "duration": 221,
    "start_time": "2024-01-10T17:47:22.469Z"
   },
   {
    "duration": 188,
    "start_time": "2024-01-10T17:47:42.345Z"
   },
   {
    "duration": 176,
    "start_time": "2024-01-10T17:47:52.811Z"
   },
   {
    "duration": 200,
    "start_time": "2024-01-10T17:48:00.342Z"
   },
   {
    "duration": 188,
    "start_time": "2024-01-10T17:48:10.844Z"
   },
   {
    "duration": 193,
    "start_time": "2024-01-10T17:48:16.301Z"
   },
   {
    "duration": 186,
    "start_time": "2024-01-10T17:48:25.219Z"
   },
   {
    "duration": 218,
    "start_time": "2024-01-10T17:50:39.358Z"
   },
   {
    "duration": 295,
    "start_time": "2024-01-10T17:50:47.868Z"
   },
   {
    "duration": 222,
    "start_time": "2024-01-10T17:50:59.006Z"
   },
   {
    "duration": 108,
    "start_time": "2024-01-10T18:16:32.812Z"
   },
   {
    "duration": 9,
    "start_time": "2024-01-10T18:17:07.559Z"
   },
   {
    "duration": 43,
    "start_time": "2024-01-10T18:17:17.733Z"
   },
   {
    "duration": 39,
    "start_time": "2024-01-10T18:17:25.631Z"
   },
   {
    "duration": 55,
    "start_time": "2024-01-10T18:17:40.104Z"
   },
   {
    "duration": 52,
    "start_time": "2024-01-10T18:24:11.436Z"
   },
   {
    "duration": 51,
    "start_time": "2024-01-10T18:25:27.670Z"
   },
   {
    "duration": 49,
    "start_time": "2024-01-10T18:25:56.489Z"
   },
   {
    "duration": 48,
    "start_time": "2024-01-10T18:26:44.963Z"
   },
   {
    "duration": 56,
    "start_time": "2024-01-10T18:31:43.099Z"
   },
   {
    "duration": 54,
    "start_time": "2024-01-10T18:32:31.348Z"
   },
   {
    "duration": 6,
    "start_time": "2024-01-10T18:40:00.980Z"
   },
   {
    "duration": 19,
    "start_time": "2024-01-10T18:40:12.151Z"
   },
   {
    "duration": 12,
    "start_time": "2024-01-10T18:40:50.241Z"
   },
   {
    "duration": 13,
    "start_time": "2024-01-10T18:41:33.084Z"
   },
   {
    "duration": 12,
    "start_time": "2024-01-10T18:43:56.924Z"
   },
   {
    "duration": 6,
    "start_time": "2024-01-10T18:47:56.910Z"
   },
   {
    "duration": 16,
    "start_time": "2024-01-10T18:48:14.410Z"
   },
   {
    "duration": 47,
    "start_time": "2024-01-10T18:48:26.276Z"
   },
   {
    "duration": 17,
    "start_time": "2024-01-10T18:48:27.764Z"
   },
   {
    "duration": 14,
    "start_time": "2024-01-10T18:48:30.000Z"
   },
   {
    "duration": 15,
    "start_time": "2024-01-10T18:49:07.351Z"
   },
   {
    "duration": 15,
    "start_time": "2024-01-10T18:49:19.544Z"
   },
   {
    "duration": 15,
    "start_time": "2024-01-10T18:49:41.758Z"
   },
   {
    "duration": 1056,
    "start_time": "2024-01-10T19:10:15.506Z"
   },
   {
    "duration": 67,
    "start_time": "2024-01-10T19:10:16.564Z"
   },
   {
    "duration": 45,
    "start_time": "2024-01-10T19:10:16.633Z"
   },
   {
    "duration": 20,
    "start_time": "2024-01-10T19:10:16.681Z"
   },
   {
    "duration": 12,
    "start_time": "2024-01-10T19:10:16.702Z"
   },
   {
    "duration": 12,
    "start_time": "2024-01-10T19:10:16.715Z"
   },
   {
    "duration": 10,
    "start_time": "2024-01-10T19:10:16.728Z"
   },
   {
    "duration": 19,
    "start_time": "2024-01-10T19:10:16.740Z"
   },
   {
    "duration": 22,
    "start_time": "2024-01-10T19:10:16.782Z"
   },
   {
    "duration": 9,
    "start_time": "2024-01-10T19:10:16.806Z"
   },
   {
    "duration": 8,
    "start_time": "2024-01-10T19:10:16.816Z"
   },
   {
    "duration": 6,
    "start_time": "2024-01-10T19:10:16.826Z"
   },
   {
    "duration": 5,
    "start_time": "2024-01-10T19:10:16.834Z"
   },
   {
    "duration": 46,
    "start_time": "2024-01-10T19:10:16.841Z"
   },
   {
    "duration": 5,
    "start_time": "2024-01-10T19:10:16.888Z"
   },
   {
    "duration": 6,
    "start_time": "2024-01-10T19:10:16.894Z"
   },
   {
    "duration": 8,
    "start_time": "2024-01-10T19:10:16.901Z"
   },
   {
    "duration": 12,
    "start_time": "2024-01-10T19:10:16.910Z"
   },
   {
    "duration": 186,
    "start_time": "2024-01-10T19:10:16.924Z"
   },
   {
    "duration": 180,
    "start_time": "2024-01-10T19:10:17.112Z"
   },
   {
    "duration": 6,
    "start_time": "2024-01-10T19:10:17.294Z"
   },
   {
    "duration": 7,
    "start_time": "2024-01-10T19:10:17.303Z"
   },
   {
    "duration": 147,
    "start_time": "2024-01-10T19:10:17.312Z"
   },
   {
    "duration": 114,
    "start_time": "2024-01-10T19:10:17.461Z"
   },
   {
    "duration": 18,
    "start_time": "2024-01-10T19:10:17.581Z"
   },
   {
    "duration": 243,
    "start_time": "2024-01-10T19:10:17.600Z"
   },
   {
    "duration": 26,
    "start_time": "2024-01-10T19:10:17.844Z"
   },
   {
    "duration": 265,
    "start_time": "2024-01-10T19:10:17.881Z"
   },
   {
    "duration": 22,
    "start_time": "2024-01-10T19:10:18.148Z"
   },
   {
    "duration": 218,
    "start_time": "2024-01-10T19:10:18.182Z"
   },
   {
    "duration": 31,
    "start_time": "2024-01-10T19:10:18.402Z"
   },
   {
    "duration": 21,
    "start_time": "2024-01-10T19:10:18.435Z"
   },
   {
    "duration": 40,
    "start_time": "2024-01-10T19:10:18.458Z"
   },
   {
    "duration": 29,
    "start_time": "2024-01-10T19:10:18.500Z"
   },
   {
    "duration": 237,
    "start_time": "2024-01-10T19:10:18.531Z"
   },
   {
    "duration": 288,
    "start_time": "2024-01-10T19:10:18.770Z"
   },
   {
    "duration": 42,
    "start_time": "2024-01-10T19:10:19.060Z"
   },
   {
    "duration": 211,
    "start_time": "2024-01-10T19:10:19.103Z"
   },
   {
    "duration": 229,
    "start_time": "2024-01-10T19:10:19.316Z"
   },
   {
    "duration": 57,
    "start_time": "2024-01-10T19:10:19.546Z"
   },
   {
    "duration": 18,
    "start_time": "2024-01-10T19:10:19.605Z"
   },
   {
    "duration": 16,
    "start_time": "2024-01-10T19:10:19.625Z"
   },
   {
    "duration": 87,
    "start_time": "2024-01-10T19:36:01.745Z"
   },
   {
    "duration": 93,
    "start_time": "2024-01-10T19:36:31.440Z"
   },
   {
    "duration": 4,
    "start_time": "2024-01-10T19:36:48.182Z"
   },
   {
    "duration": 5,
    "start_time": "2024-01-10T19:36:57.250Z"
   },
   {
    "duration": 10,
    "start_time": "2024-01-10T19:42:01.619Z"
   },
   {
    "duration": 5,
    "start_time": "2024-01-10T19:42:10.934Z"
   },
   {
    "duration": 6,
    "start_time": "2024-01-10T19:45:21.173Z"
   },
   {
    "duration": 5,
    "start_time": "2024-01-10T19:51:06.683Z"
   },
   {
    "duration": 6,
    "start_time": "2024-01-10T19:57:02.766Z"
   },
   {
    "duration": 5,
    "start_time": "2024-01-10T19:57:04.469Z"
   },
   {
    "duration": 5,
    "start_time": "2024-01-10T20:08:22.734Z"
   },
   {
    "duration": 11,
    "start_time": "2024-01-10T20:09:04.137Z"
   },
   {
    "duration": 8,
    "start_time": "2024-01-10T20:12:14.540Z"
   },
   {
    "duration": 1186,
    "start_time": "2024-01-11T16:23:17.903Z"
   },
   {
    "duration": 1025,
    "start_time": "2024-01-11T16:23:24.275Z"
   },
   {
    "duration": 159,
    "start_time": "2024-01-11T16:23:25.302Z"
   },
   {
    "duration": 166,
    "start_time": "2024-01-11T16:23:25.463Z"
   },
   {
    "duration": 61,
    "start_time": "2024-01-11T16:23:25.631Z"
   },
   {
    "duration": 11,
    "start_time": "2024-01-11T16:23:25.694Z"
   },
   {
    "duration": 17,
    "start_time": "2024-01-11T16:23:25.706Z"
   },
   {
    "duration": 20,
    "start_time": "2024-01-11T16:23:25.724Z"
   },
   {
    "duration": 26,
    "start_time": "2024-01-11T16:23:25.746Z"
   },
   {
    "duration": 20,
    "start_time": "2024-01-11T16:23:25.774Z"
   },
   {
    "duration": 7,
    "start_time": "2024-01-11T16:23:25.796Z"
   },
   {
    "duration": 7,
    "start_time": "2024-01-11T16:23:25.805Z"
   },
   {
    "duration": 6,
    "start_time": "2024-01-11T16:23:25.813Z"
   },
   {
    "duration": 21,
    "start_time": "2024-01-11T16:23:25.821Z"
   },
   {
    "duration": 14,
    "start_time": "2024-01-11T16:23:25.843Z"
   },
   {
    "duration": 6,
    "start_time": "2024-01-11T16:23:25.859Z"
   },
   {
    "duration": 24,
    "start_time": "2024-01-11T16:23:25.867Z"
   },
   {
    "duration": 11,
    "start_time": "2024-01-11T16:23:25.892Z"
   },
   {
    "duration": 12,
    "start_time": "2024-01-11T16:23:25.905Z"
   },
   {
    "duration": 162,
    "start_time": "2024-01-11T16:23:25.918Z"
   },
   {
    "duration": 168,
    "start_time": "2024-01-11T16:23:26.082Z"
   },
   {
    "duration": 6,
    "start_time": "2024-01-11T16:23:26.252Z"
   },
   {
    "duration": 27,
    "start_time": "2024-01-11T16:23:26.260Z"
   },
   {
    "duration": 118,
    "start_time": "2024-01-11T16:23:26.289Z"
   },
   {
    "duration": 116,
    "start_time": "2024-01-11T16:23:26.409Z"
   },
   {
    "duration": 19,
    "start_time": "2024-01-11T16:23:26.526Z"
   },
   {
    "duration": 233,
    "start_time": "2024-01-11T16:23:26.546Z"
   },
   {
    "duration": 29,
    "start_time": "2024-01-11T16:23:26.781Z"
   },
   {
    "duration": 229,
    "start_time": "2024-01-11T16:23:26.814Z"
   },
   {
    "duration": 22,
    "start_time": "2024-01-11T16:23:27.045Z"
   },
   {
    "duration": 217,
    "start_time": "2024-01-11T16:23:27.069Z"
   },
   {
    "duration": 37,
    "start_time": "2024-01-11T16:23:27.288Z"
   },
   {
    "duration": 20,
    "start_time": "2024-01-11T16:23:27.327Z"
   },
   {
    "duration": 18,
    "start_time": "2024-01-11T16:23:27.348Z"
   },
   {
    "duration": 50,
    "start_time": "2024-01-11T16:23:27.367Z"
   },
   {
    "duration": 213,
    "start_time": "2024-01-11T16:23:27.419Z"
   },
   {
    "duration": 293,
    "start_time": "2024-01-11T16:23:27.634Z"
   },
   {
    "duration": 32,
    "start_time": "2024-01-11T16:23:27.929Z"
   },
   {
    "duration": 183,
    "start_time": "2024-01-11T16:23:27.963Z"
   },
   {
    "duration": 207,
    "start_time": "2024-01-11T16:23:28.148Z"
   },
   {
    "duration": 49,
    "start_time": "2024-01-11T16:23:28.356Z"
   },
   {
    "duration": 19,
    "start_time": "2024-01-11T16:23:28.407Z"
   },
   {
    "duration": 15,
    "start_time": "2024-01-11T16:23:28.427Z"
   },
   {
    "duration": 8,
    "start_time": "2024-01-11T16:23:28.444Z"
   },
   {
    "duration": 7,
    "start_time": "2024-01-11T16:23:28.454Z"
   },
   {
    "duration": 8,
    "start_time": "2024-01-11T16:23:28.463Z"
   },
   {
    "duration": 258,
    "start_time": "2024-01-11T16:23:28.500Z"
   },
   {
    "duration": 813,
    "start_time": "2024-01-11T16:29:43.106Z"
   },
   {
    "duration": 98,
    "start_time": "2024-01-11T16:39:13.449Z"
   },
   {
    "duration": 268,
    "start_time": "2024-01-11T16:39:26.370Z"
   },
   {
    "duration": 305,
    "start_time": "2024-01-11T16:40:36.246Z"
   },
   {
    "duration": 9,
    "start_time": "2024-01-11T16:51:26.226Z"
   },
   {
    "duration": 4,
    "start_time": "2024-01-11T16:51:47.010Z"
   },
   {
    "duration": 6,
    "start_time": "2024-01-11T16:51:53.166Z"
   },
   {
    "duration": 5,
    "start_time": "2024-01-11T16:52:22.275Z"
   },
   {
    "duration": 6,
    "start_time": "2024-01-11T16:59:31.519Z"
   },
   {
    "duration": 4,
    "start_time": "2024-01-11T17:02:47.711Z"
   },
   {
    "duration": 11,
    "start_time": "2024-01-11T17:03:22.102Z"
   },
   {
    "duration": 5,
    "start_time": "2024-01-11T17:03:32.950Z"
   },
   {
    "duration": 86,
    "start_time": "2024-01-11T17:03:53.849Z"
   },
   {
    "duration": 5,
    "start_time": "2024-01-11T17:04:19.648Z"
   },
   {
    "duration": 9,
    "start_time": "2024-01-11T17:05:21.187Z"
   },
   {
    "duration": 4,
    "start_time": "2024-01-11T17:05:26.574Z"
   },
   {
    "duration": 5,
    "start_time": "2024-01-11T17:07:35.823Z"
   },
   {
    "duration": 5,
    "start_time": "2024-01-11T17:08:13.639Z"
   },
   {
    "duration": 97,
    "start_time": "2024-01-11T17:13:03.302Z"
   },
   {
    "duration": 147,
    "start_time": "2024-01-11T17:13:15.606Z"
   },
   {
    "duration": 190,
    "start_time": "2024-01-11T17:14:24.059Z"
   },
   {
    "duration": 260,
    "start_time": "2024-01-11T17:14:37.580Z"
   },
   {
    "duration": 174,
    "start_time": "2024-01-11T17:15:07.758Z"
   },
   {
    "duration": 295,
    "start_time": "2024-01-11T17:15:54.957Z"
   },
   {
    "duration": 217,
    "start_time": "2024-01-11T17:16:08.824Z"
   },
   {
    "duration": 102,
    "start_time": "2024-01-11T17:21:56.856Z"
   },
   {
    "duration": 230,
    "start_time": "2024-01-11T17:22:02.404Z"
   },
   {
    "duration": 192,
    "start_time": "2024-01-11T17:22:13.648Z"
   },
   {
    "duration": 251,
    "start_time": "2024-01-11T17:34:33.613Z"
   },
   {
    "duration": 194,
    "start_time": "2024-01-11T17:34:44.350Z"
   },
   {
    "duration": 245,
    "start_time": "2024-01-11T17:35:03.398Z"
   },
   {
    "duration": 231,
    "start_time": "2024-01-11T17:35:15.097Z"
   },
   {
    "duration": 177,
    "start_time": "2024-01-11T17:35:22.167Z"
   },
   {
    "duration": 202,
    "start_time": "2024-01-11T17:38:32.842Z"
   },
   {
    "duration": 338,
    "start_time": "2024-01-11T17:39:42.913Z"
   },
   {
    "duration": 261,
    "start_time": "2024-01-11T17:41:26.464Z"
   },
   {
    "duration": 229,
    "start_time": "2024-01-11T17:41:33.235Z"
   },
   {
    "duration": 259,
    "start_time": "2024-01-11T17:41:40.902Z"
   },
   {
    "duration": 202,
    "start_time": "2024-01-11T17:41:46.551Z"
   },
   {
    "duration": 421,
    "start_time": "2024-01-11T17:42:01.387Z"
   },
   {
    "duration": 259,
    "start_time": "2024-01-11T17:42:15.373Z"
   },
   {
    "duration": 216,
    "start_time": "2024-01-11T17:42:25.039Z"
   },
   {
    "duration": 981,
    "start_time": "2024-01-11T19:25:29.320Z"
   },
   {
    "duration": 145,
    "start_time": "2024-01-11T19:25:30.303Z"
   },
   {
    "duration": 160,
    "start_time": "2024-01-11T19:25:30.453Z"
   },
   {
    "duration": 60,
    "start_time": "2024-01-11T19:25:30.614Z"
   },
   {
    "duration": 11,
    "start_time": "2024-01-11T19:25:30.676Z"
   },
   {
    "duration": 45,
    "start_time": "2024-01-11T19:25:30.688Z"
   },
   {
    "duration": 22,
    "start_time": "2024-01-11T19:25:30.734Z"
   },
   {
    "duration": 45,
    "start_time": "2024-01-11T19:25:30.757Z"
   },
   {
    "duration": 37,
    "start_time": "2024-01-11T19:25:30.804Z"
   },
   {
    "duration": 21,
    "start_time": "2024-01-11T19:25:30.843Z"
   },
   {
    "duration": 30,
    "start_time": "2024-01-11T19:25:30.865Z"
   },
   {
    "duration": 31,
    "start_time": "2024-01-11T19:25:30.897Z"
   },
   {
    "duration": 51,
    "start_time": "2024-01-11T19:25:30.929Z"
   },
   {
    "duration": 51,
    "start_time": "2024-01-11T19:25:30.981Z"
   },
   {
    "duration": 39,
    "start_time": "2024-01-11T19:25:31.034Z"
   },
   {
    "duration": 57,
    "start_time": "2024-01-11T19:25:31.075Z"
   },
   {
    "duration": 36,
    "start_time": "2024-01-11T19:25:31.133Z"
   },
   {
    "duration": 88,
    "start_time": "2024-01-11T19:25:31.171Z"
   },
   {
    "duration": 228,
    "start_time": "2024-01-11T19:25:31.261Z"
   },
   {
    "duration": 176,
    "start_time": "2024-01-11T19:25:31.491Z"
   },
   {
    "duration": 6,
    "start_time": "2024-01-11T19:25:31.669Z"
   },
   {
    "duration": 31,
    "start_time": "2024-01-11T19:25:31.676Z"
   },
   {
    "duration": 134,
    "start_time": "2024-01-11T19:25:31.709Z"
   },
   {
    "duration": 112,
    "start_time": "2024-01-11T19:25:31.844Z"
   },
   {
    "duration": 21,
    "start_time": "2024-01-11T19:25:31.958Z"
   },
   {
    "duration": 251,
    "start_time": "2024-01-11T19:25:31.980Z"
   },
   {
    "duration": 27,
    "start_time": "2024-01-11T19:25:32.234Z"
   },
   {
    "duration": 293,
    "start_time": "2024-01-11T19:25:32.263Z"
   },
   {
    "duration": 22,
    "start_time": "2024-01-11T19:25:32.557Z"
   },
   {
    "duration": 211,
    "start_time": "2024-01-11T19:25:32.580Z"
   },
   {
    "duration": 29,
    "start_time": "2024-01-11T19:25:32.793Z"
   },
   {
    "duration": 33,
    "start_time": "2024-01-11T19:25:32.823Z"
   },
   {
    "duration": 18,
    "start_time": "2024-01-11T19:25:32.858Z"
   },
   {
    "duration": 32,
    "start_time": "2024-01-11T19:25:32.877Z"
   },
   {
    "duration": 218,
    "start_time": "2024-01-11T19:25:32.911Z"
   },
   {
    "duration": 285,
    "start_time": "2024-01-11T19:25:33.131Z"
   },
   {
    "duration": 39,
    "start_time": "2024-01-11T19:25:33.417Z"
   },
   {
    "duration": 193,
    "start_time": "2024-01-11T19:25:33.458Z"
   },
   {
    "duration": 208,
    "start_time": "2024-01-11T19:25:33.655Z"
   },
   {
    "duration": 46,
    "start_time": "2024-01-11T19:25:33.864Z"
   },
   {
    "duration": 14,
    "start_time": "2024-01-11T19:25:33.911Z"
   },
   {
    "duration": 34,
    "start_time": "2024-01-11T19:25:33.927Z"
   },
   {
    "duration": 8,
    "start_time": "2024-01-11T19:25:33.962Z"
   },
   {
    "duration": 5,
    "start_time": "2024-01-11T19:25:33.972Z"
   },
   {
    "duration": 9,
    "start_time": "2024-01-11T19:25:33.978Z"
   },
   {
    "duration": 311,
    "start_time": "2024-01-11T19:25:33.988Z"
   },
   {
    "duration": 234,
    "start_time": "2024-01-11T19:25:34.300Z"
   },
   {
    "duration": 1028,
    "start_time": "2024-01-11T20:32:25.563Z"
   },
   {
    "duration": 86,
    "start_time": "2024-01-11T20:32:26.593Z"
   },
   {
    "duration": 32,
    "start_time": "2024-01-11T20:32:26.680Z"
   },
   {
    "duration": 30,
    "start_time": "2024-01-11T20:32:26.715Z"
   },
   {
    "duration": 21,
    "start_time": "2024-01-11T20:32:26.747Z"
   },
   {
    "duration": 28,
    "start_time": "2024-01-11T20:32:26.769Z"
   },
   {
    "duration": 29,
    "start_time": "2024-01-11T20:32:26.799Z"
   },
   {
    "duration": 42,
    "start_time": "2024-01-11T20:32:26.830Z"
   },
   {
    "duration": 36,
    "start_time": "2024-01-11T20:32:26.873Z"
   },
   {
    "duration": 7,
    "start_time": "2024-01-11T20:32:26.912Z"
   },
   {
    "duration": 12,
    "start_time": "2024-01-11T20:32:26.921Z"
   },
   {
    "duration": 9,
    "start_time": "2024-01-11T20:32:26.934Z"
   },
   {
    "duration": 15,
    "start_time": "2024-01-11T20:32:26.944Z"
   },
   {
    "duration": 14,
    "start_time": "2024-01-11T20:32:26.960Z"
   },
   {
    "duration": 16,
    "start_time": "2024-01-11T20:32:26.976Z"
   },
   {
    "duration": 10,
    "start_time": "2024-01-11T20:32:26.993Z"
   },
   {
    "duration": 16,
    "start_time": "2024-01-11T20:32:27.004Z"
   },
   {
    "duration": 13,
    "start_time": "2024-01-11T20:32:27.022Z"
   },
   {
    "duration": 161,
    "start_time": "2024-01-11T20:32:27.036Z"
   },
   {
    "duration": 189,
    "start_time": "2024-01-11T20:32:27.198Z"
   },
   {
    "duration": 6,
    "start_time": "2024-01-11T20:32:27.388Z"
   },
   {
    "duration": 42,
    "start_time": "2024-01-11T20:32:27.395Z"
   },
   {
    "duration": 173,
    "start_time": "2024-01-11T20:32:27.439Z"
   },
   {
    "duration": 111,
    "start_time": "2024-01-11T20:32:27.614Z"
   },
   {
    "duration": 30,
    "start_time": "2024-01-11T20:32:27.726Z"
   },
   {
    "duration": 236,
    "start_time": "2024-01-11T20:32:27.757Z"
   },
   {
    "duration": 22,
    "start_time": "2024-01-11T20:32:27.994Z"
   },
   {
    "duration": 260,
    "start_time": "2024-01-11T20:32:28.020Z"
   },
   {
    "duration": 23,
    "start_time": "2024-01-11T20:32:28.281Z"
   },
   {
    "duration": 231,
    "start_time": "2024-01-11T20:32:28.305Z"
   },
   {
    "duration": 33,
    "start_time": "2024-01-11T20:32:28.538Z"
   },
   {
    "duration": 20,
    "start_time": "2024-01-11T20:32:28.572Z"
   },
   {
    "duration": 18,
    "start_time": "2024-01-11T20:32:28.594Z"
   },
   {
    "duration": 51,
    "start_time": "2024-01-11T20:32:28.613Z"
   },
   {
    "duration": 224,
    "start_time": "2024-01-11T20:32:28.665Z"
   },
   {
    "duration": 283,
    "start_time": "2024-01-11T20:32:28.891Z"
   },
   {
    "duration": 28,
    "start_time": "2024-01-11T20:32:29.176Z"
   },
   {
    "duration": 185,
    "start_time": "2024-01-11T20:32:29.206Z"
   },
   {
    "duration": 236,
    "start_time": "2024-01-11T20:32:29.392Z"
   },
   {
    "duration": 56,
    "start_time": "2024-01-11T20:32:29.629Z"
   },
   {
    "duration": 15,
    "start_time": "2024-01-11T20:32:29.686Z"
   },
   {
    "duration": 16,
    "start_time": "2024-01-11T20:32:29.703Z"
   },
   {
    "duration": 5,
    "start_time": "2024-01-11T20:32:29.720Z"
   },
   {
    "duration": 5,
    "start_time": "2024-01-11T20:32:29.726Z"
   },
   {
    "duration": 27,
    "start_time": "2024-01-11T20:32:29.733Z"
   },
   {
    "duration": 259,
    "start_time": "2024-01-11T20:32:29.761Z"
   },
   {
    "duration": 289,
    "start_time": "2024-01-11T20:32:30.022Z"
   },
   {
    "duration": 7,
    "start_time": "2024-01-11T20:38:07.947Z"
   },
   {
    "duration": 101,
    "start_time": "2024-01-11T20:41:19.595Z"
   },
   {
    "duration": 10,
    "start_time": "2024-01-11T20:41:30.901Z"
   },
   {
    "duration": 972,
    "start_time": "2024-01-11T20:49:23.412Z"
   },
   {
    "duration": 86,
    "start_time": "2024-01-11T20:49:24.386Z"
   },
   {
    "duration": 30,
    "start_time": "2024-01-11T20:49:24.474Z"
   },
   {
    "duration": 18,
    "start_time": "2024-01-11T20:49:24.506Z"
   },
   {
    "duration": 10,
    "start_time": "2024-01-11T20:49:24.525Z"
   },
   {
    "duration": 13,
    "start_time": "2024-01-11T20:49:24.537Z"
   },
   {
    "duration": 8,
    "start_time": "2024-01-11T20:49:24.552Z"
   },
   {
    "duration": 17,
    "start_time": "2024-01-11T20:49:24.561Z"
   },
   {
    "duration": 18,
    "start_time": "2024-01-11T20:49:24.579Z"
   },
   {
    "duration": 6,
    "start_time": "2024-01-11T20:49:24.599Z"
   },
   {
    "duration": 6,
    "start_time": "2024-01-11T20:49:24.607Z"
   },
   {
    "duration": 5,
    "start_time": "2024-01-11T20:49:24.614Z"
   },
   {
    "duration": 7,
    "start_time": "2024-01-11T20:49:24.620Z"
   },
   {
    "duration": 34,
    "start_time": "2024-01-11T20:49:24.628Z"
   },
   {
    "duration": 5,
    "start_time": "2024-01-11T20:49:24.663Z"
   },
   {
    "duration": 4,
    "start_time": "2024-01-11T20:49:24.669Z"
   },
   {
    "duration": 5,
    "start_time": "2024-01-11T20:49:24.675Z"
   },
   {
    "duration": 8,
    "start_time": "2024-01-11T20:49:24.681Z"
   },
   {
    "duration": 174,
    "start_time": "2024-01-11T20:49:24.691Z"
   },
   {
    "duration": 179,
    "start_time": "2024-01-11T20:49:24.866Z"
   },
   {
    "duration": 13,
    "start_time": "2024-01-11T20:49:25.046Z"
   },
   {
    "duration": 7,
    "start_time": "2024-01-11T20:49:25.060Z"
   },
   {
    "duration": 138,
    "start_time": "2024-01-11T20:49:25.069Z"
   },
   {
    "duration": 119,
    "start_time": "2024-01-11T20:49:25.209Z"
   },
   {
    "duration": 33,
    "start_time": "2024-01-11T20:49:25.330Z"
   },
   {
    "duration": 238,
    "start_time": "2024-01-11T20:49:25.365Z"
   },
   {
    "duration": 24,
    "start_time": "2024-01-11T20:49:25.604Z"
   },
   {
    "duration": 350,
    "start_time": "2024-01-11T20:49:25.631Z"
   },
   {
    "duration": 23,
    "start_time": "2024-01-11T20:49:25.983Z"
   },
   {
    "duration": 220,
    "start_time": "2024-01-11T20:49:26.008Z"
   },
   {
    "duration": 37,
    "start_time": "2024-01-11T20:49:26.229Z"
   },
   {
    "duration": 20,
    "start_time": "2024-01-11T20:49:26.267Z"
   },
   {
    "duration": 17,
    "start_time": "2024-01-11T20:49:26.288Z"
   },
   {
    "duration": 27,
    "start_time": "2024-01-11T20:49:26.306Z"
   },
   {
    "duration": 219,
    "start_time": "2024-01-11T20:49:26.355Z"
   },
   {
    "duration": 283,
    "start_time": "2024-01-11T20:49:26.575Z"
   },
   {
    "duration": 28,
    "start_time": "2024-01-11T20:49:26.859Z"
   },
   {
    "duration": 185,
    "start_time": "2024-01-11T20:49:26.888Z"
   },
   {
    "duration": 215,
    "start_time": "2024-01-11T20:49:27.074Z"
   },
   {
    "duration": 45,
    "start_time": "2024-01-11T20:49:27.291Z"
   },
   {
    "duration": 27,
    "start_time": "2024-01-11T20:49:27.337Z"
   },
   {
    "duration": 15,
    "start_time": "2024-01-11T20:49:27.365Z"
   },
   {
    "duration": 5,
    "start_time": "2024-01-11T20:49:27.382Z"
   },
   {
    "duration": 5,
    "start_time": "2024-01-11T20:49:27.388Z"
   },
   {
    "duration": 7,
    "start_time": "2024-01-11T20:49:27.394Z"
   },
   {
    "duration": 302,
    "start_time": "2024-01-11T20:49:27.403Z"
   },
   {
    "duration": 271,
    "start_time": "2024-01-11T20:49:27.707Z"
   },
   {
    "duration": 269,
    "start_time": "2024-01-11T20:57:18.136Z"
   },
   {
    "duration": 3876,
    "start_time": "2024-01-11T20:59:55.730Z"
   },
   {
    "duration": 3940,
    "start_time": "2024-01-11T21:00:06.263Z"
   },
   {
    "duration": 1015,
    "start_time": "2024-01-11T21:02:58.877Z"
   },
   {
    "duration": 87,
    "start_time": "2024-01-11T21:02:59.893Z"
   },
   {
    "duration": 34,
    "start_time": "2024-01-11T21:02:59.981Z"
   },
   {
    "duration": 19,
    "start_time": "2024-01-11T21:03:00.017Z"
   },
   {
    "duration": 13,
    "start_time": "2024-01-11T21:03:00.037Z"
   },
   {
    "duration": 41,
    "start_time": "2024-01-11T21:03:00.051Z"
   },
   {
    "duration": 37,
    "start_time": "2024-01-11T21:03:00.094Z"
   },
   {
    "duration": 64,
    "start_time": "2024-01-11T21:03:00.132Z"
   },
   {
    "duration": 39,
    "start_time": "2024-01-11T21:03:00.198Z"
   },
   {
    "duration": 19,
    "start_time": "2024-01-11T21:03:00.240Z"
   },
   {
    "duration": 29,
    "start_time": "2024-01-11T21:03:00.260Z"
   },
   {
    "duration": 25,
    "start_time": "2024-01-11T21:03:00.291Z"
   },
   {
    "duration": 41,
    "start_time": "2024-01-11T21:03:00.318Z"
   },
   {
    "duration": 29,
    "start_time": "2024-01-11T21:03:00.361Z"
   },
   {
    "duration": 33,
    "start_time": "2024-01-11T21:03:00.392Z"
   },
   {
    "duration": 30,
    "start_time": "2024-01-11T21:03:00.426Z"
   },
   {
    "duration": 11,
    "start_time": "2024-01-11T21:03:00.458Z"
   },
   {
    "duration": 21,
    "start_time": "2024-01-11T21:03:00.470Z"
   },
   {
    "duration": 172,
    "start_time": "2024-01-11T21:03:00.492Z"
   },
   {
    "duration": 172,
    "start_time": "2024-01-11T21:03:00.666Z"
   },
   {
    "duration": 6,
    "start_time": "2024-01-11T21:03:00.839Z"
   },
   {
    "duration": 17,
    "start_time": "2024-01-11T21:03:00.846Z"
   },
   {
    "duration": 134,
    "start_time": "2024-01-11T21:03:00.864Z"
   },
   {
    "duration": 117,
    "start_time": "2024-01-11T21:03:01.000Z"
   },
   {
    "duration": 21,
    "start_time": "2024-01-11T21:03:01.119Z"
   },
   {
    "duration": 241,
    "start_time": "2024-01-11T21:03:01.142Z"
   },
   {
    "duration": 23,
    "start_time": "2024-01-11T21:03:01.385Z"
   },
   {
    "duration": 275,
    "start_time": "2024-01-11T21:03:01.412Z"
   },
   {
    "duration": 23,
    "start_time": "2024-01-11T21:03:01.688Z"
   },
   {
    "duration": 231,
    "start_time": "2024-01-11T21:03:01.713Z"
   },
   {
    "duration": 36,
    "start_time": "2024-01-11T21:03:01.946Z"
   },
   {
    "duration": 98,
    "start_time": "2024-01-11T21:03:01.983Z"
   },
   {
    "duration": 21,
    "start_time": "2024-01-11T21:03:02.082Z"
   },
   {
    "duration": 29,
    "start_time": "2024-01-11T21:03:02.104Z"
   },
   {
    "duration": 238,
    "start_time": "2024-01-11T21:03:02.135Z"
   },
   {
    "duration": 288,
    "start_time": "2024-01-11T21:03:02.374Z"
   },
   {
    "duration": 27,
    "start_time": "2024-01-11T21:03:02.664Z"
   },
   {
    "duration": 188,
    "start_time": "2024-01-11T21:03:02.693Z"
   },
   {
    "duration": 231,
    "start_time": "2024-01-11T21:03:02.883Z"
   },
   {
    "duration": 60,
    "start_time": "2024-01-11T21:03:03.116Z"
   },
   {
    "duration": 15,
    "start_time": "2024-01-11T21:03:03.177Z"
   },
   {
    "duration": 47,
    "start_time": "2024-01-11T21:03:03.194Z"
   },
   {
    "duration": 5,
    "start_time": "2024-01-11T21:03:03.243Z"
   },
   {
    "duration": 7,
    "start_time": "2024-01-11T21:03:03.249Z"
   },
   {
    "duration": 9,
    "start_time": "2024-01-11T21:03:03.257Z"
   },
   {
    "duration": 257,
    "start_time": "2024-01-11T21:03:03.268Z"
   },
   {
    "duration": 305,
    "start_time": "2024-01-11T21:03:03.526Z"
   },
   {
    "duration": 45,
    "start_time": "2024-01-12T03:31:29.432Z"
   },
   {
    "duration": 1183,
    "start_time": "2024-01-12T03:31:37.821Z"
   },
   {
    "duration": 140,
    "start_time": "2024-01-12T03:31:39.006Z"
   },
   {
    "duration": 71,
    "start_time": "2024-01-12T03:31:39.148Z"
   },
   {
    "duration": 55,
    "start_time": "2024-01-12T03:31:39.221Z"
   },
   {
    "duration": 12,
    "start_time": "2024-01-12T03:31:39.277Z"
   },
   {
    "duration": 13,
    "start_time": "2024-01-12T03:31:39.290Z"
   },
   {
    "duration": 10,
    "start_time": "2024-01-12T03:31:39.304Z"
   },
   {
    "duration": 20,
    "start_time": "2024-01-12T03:31:39.315Z"
   },
   {
    "duration": 34,
    "start_time": "2024-01-12T03:31:39.337Z"
   },
   {
    "duration": 6,
    "start_time": "2024-01-12T03:31:39.374Z"
   },
   {
    "duration": 7,
    "start_time": "2024-01-12T03:31:39.381Z"
   },
   {
    "duration": 6,
    "start_time": "2024-01-12T03:31:39.390Z"
   },
   {
    "duration": 5,
    "start_time": "2024-01-12T03:31:39.397Z"
   },
   {
    "duration": 4,
    "start_time": "2024-01-12T03:31:39.403Z"
   },
   {
    "duration": 10,
    "start_time": "2024-01-12T03:31:39.409Z"
   },
   {
    "duration": 4,
    "start_time": "2024-01-12T03:31:39.420Z"
   },
   {
    "duration": 41,
    "start_time": "2024-01-12T03:31:39.426Z"
   },
   {
    "duration": 5,
    "start_time": "2024-01-12T03:31:39.469Z"
   },
   {
    "duration": 8,
    "start_time": "2024-01-12T03:31:39.476Z"
   },
   {
    "duration": 200,
    "start_time": "2024-01-12T03:31:39.485Z"
   },
   {
    "duration": 183,
    "start_time": "2024-01-12T03:31:39.687Z"
   },
   {
    "duration": 6,
    "start_time": "2024-01-12T03:31:39.871Z"
   },
   {
    "duration": 11,
    "start_time": "2024-01-12T03:31:39.878Z"
   },
   {
    "duration": 146,
    "start_time": "2024-01-12T03:31:39.891Z"
   },
   {
    "duration": 111,
    "start_time": "2024-01-12T03:31:40.039Z"
   },
   {
    "duration": 22,
    "start_time": "2024-01-12T03:31:40.151Z"
   },
   {
    "duration": 229,
    "start_time": "2024-01-12T03:31:40.175Z"
   },
   {
    "duration": 22,
    "start_time": "2024-01-12T03:31:40.407Z"
   },
   {
    "duration": 249,
    "start_time": "2024-01-12T03:31:40.431Z"
   },
   {
    "duration": 26,
    "start_time": "2024-01-12T03:31:40.682Z"
   },
   {
    "duration": 246,
    "start_time": "2024-01-12T03:31:40.710Z"
   },
   {
    "duration": 32,
    "start_time": "2024-01-12T03:31:40.958Z"
   },
   {
    "duration": 19,
    "start_time": "2024-01-12T03:31:40.992Z"
   },
   {
    "duration": 18,
    "start_time": "2024-01-12T03:31:41.013Z"
   },
   {
    "duration": 55,
    "start_time": "2024-01-12T03:31:41.032Z"
   },
   {
    "duration": 211,
    "start_time": "2024-01-12T03:31:41.089Z"
   },
   {
    "duration": 289,
    "start_time": "2024-01-12T03:31:41.302Z"
   },
   {
    "duration": 29,
    "start_time": "2024-01-12T03:31:41.592Z"
   },
   {
    "duration": 197,
    "start_time": "2024-01-12T03:31:41.623Z"
   },
   {
    "duration": 231,
    "start_time": "2024-01-12T03:31:41.822Z"
   },
   {
    "duration": 51,
    "start_time": "2024-01-12T03:31:42.055Z"
   },
   {
    "duration": 16,
    "start_time": "2024-01-12T03:31:42.107Z"
   },
   {
    "duration": 14,
    "start_time": "2024-01-12T03:31:42.124Z"
   },
   {
    "duration": 26,
    "start_time": "2024-01-12T03:31:42.139Z"
   },
   {
    "duration": 5,
    "start_time": "2024-01-12T03:31:42.166Z"
   },
   {
    "duration": 12,
    "start_time": "2024-01-12T03:31:42.172Z"
   },
   {
    "duration": 362,
    "start_time": "2024-01-12T03:31:42.186Z"
   },
   {
    "duration": 270,
    "start_time": "2024-01-12T03:31:42.550Z"
   },
   {
    "duration": 5,
    "start_time": "2024-01-12T03:33:09.922Z"
   },
   {
    "duration": 7,
    "start_time": "2024-01-12T04:00:37.618Z"
   },
   {
    "duration": 138,
    "start_time": "2024-01-12T04:03:32.020Z"
   },
   {
    "duration": 283,
    "start_time": "2024-01-12T13:15:23.951Z"
   },
   {
    "duration": 83,
    "start_time": "2024-01-12T13:15:32.086Z"
   },
   {
    "duration": 0,
    "start_time": "2024-01-12T13:15:32.171Z"
   },
   {
    "duration": 0,
    "start_time": "2024-01-12T13:15:32.172Z"
   },
   {
    "duration": 0,
    "start_time": "2024-01-12T13:15:32.173Z"
   },
   {
    "duration": 0,
    "start_time": "2024-01-12T13:15:32.174Z"
   },
   {
    "duration": 0,
    "start_time": "2024-01-12T13:15:32.175Z"
   },
   {
    "duration": 0,
    "start_time": "2024-01-12T13:15:32.176Z"
   },
   {
    "duration": 0,
    "start_time": "2024-01-12T13:15:32.177Z"
   },
   {
    "duration": 0,
    "start_time": "2024-01-12T13:15:32.178Z"
   },
   {
    "duration": 0,
    "start_time": "2024-01-12T13:15:32.179Z"
   },
   {
    "duration": 0,
    "start_time": "2024-01-12T13:15:32.180Z"
   },
   {
    "duration": 0,
    "start_time": "2024-01-12T13:15:32.181Z"
   },
   {
    "duration": 0,
    "start_time": "2024-01-12T13:15:32.182Z"
   },
   {
    "duration": 0,
    "start_time": "2024-01-12T13:15:32.183Z"
   },
   {
    "duration": 0,
    "start_time": "2024-01-12T13:15:32.184Z"
   },
   {
    "duration": 0,
    "start_time": "2024-01-12T13:15:32.185Z"
   },
   {
    "duration": 0,
    "start_time": "2024-01-12T13:15:32.186Z"
   },
   {
    "duration": 0,
    "start_time": "2024-01-12T13:15:32.187Z"
   },
   {
    "duration": 0,
    "start_time": "2024-01-12T13:15:32.188Z"
   },
   {
    "duration": 0,
    "start_time": "2024-01-12T13:15:32.189Z"
   },
   {
    "duration": 0,
    "start_time": "2024-01-12T13:15:32.190Z"
   },
   {
    "duration": 68,
    "start_time": "2024-01-12T13:15:32.192Z"
   },
   {
    "duration": 0,
    "start_time": "2024-01-12T13:15:32.262Z"
   },
   {
    "duration": 0,
    "start_time": "2024-01-12T13:15:32.263Z"
   },
   {
    "duration": 0,
    "start_time": "2024-01-12T13:15:32.264Z"
   },
   {
    "duration": 0,
    "start_time": "2024-01-12T13:15:32.266Z"
   },
   {
    "duration": 0,
    "start_time": "2024-01-12T13:15:32.267Z"
   },
   {
    "duration": 0,
    "start_time": "2024-01-12T13:15:32.268Z"
   },
   {
    "duration": 0,
    "start_time": "2024-01-12T13:15:32.268Z"
   },
   {
    "duration": 0,
    "start_time": "2024-01-12T13:15:32.323Z"
   },
   {
    "duration": 0,
    "start_time": "2024-01-12T13:15:32.324Z"
   },
   {
    "duration": 0,
    "start_time": "2024-01-12T13:15:32.325Z"
   },
   {
    "duration": 0,
    "start_time": "2024-01-12T13:15:32.326Z"
   },
   {
    "duration": 0,
    "start_time": "2024-01-12T13:15:32.327Z"
   },
   {
    "duration": 0,
    "start_time": "2024-01-12T13:15:32.328Z"
   },
   {
    "duration": 0,
    "start_time": "2024-01-12T13:15:32.329Z"
   },
   {
    "duration": 0,
    "start_time": "2024-01-12T13:15:32.330Z"
   },
   {
    "duration": 0,
    "start_time": "2024-01-12T13:15:32.331Z"
   },
   {
    "duration": 0,
    "start_time": "2024-01-12T13:15:32.332Z"
   },
   {
    "duration": 0,
    "start_time": "2024-01-12T13:15:32.333Z"
   },
   {
    "duration": 0,
    "start_time": "2024-01-12T13:15:32.334Z"
   },
   {
    "duration": 0,
    "start_time": "2024-01-12T13:15:32.335Z"
   },
   {
    "duration": 0,
    "start_time": "2024-01-12T13:15:32.336Z"
   },
   {
    "duration": 9,
    "start_time": "2024-01-12T13:15:32.338Z"
   },
   {
    "duration": 0,
    "start_time": "2024-01-12T13:15:32.348Z"
   },
   {
    "duration": 0,
    "start_time": "2024-01-12T13:15:32.349Z"
   },
   {
    "duration": 1,
    "start_time": "2024-01-12T13:15:32.350Z"
   },
   {
    "duration": 0,
    "start_time": "2024-01-12T13:15:32.351Z"
   },
   {
    "duration": 0,
    "start_time": "2024-01-12T13:15:32.352Z"
   },
   {
    "duration": 100,
    "start_time": "2024-01-12T13:29:35.638Z"
   },
   {
    "duration": 103,
    "start_time": "2024-01-12T13:29:42.924Z"
   },
   {
    "duration": 105,
    "start_time": "2024-01-12T13:31:09.179Z"
   },
   {
    "duration": 8,
    "start_time": "2024-01-12T13:32:07.895Z"
   },
   {
    "duration": 1331,
    "start_time": "2024-01-12T13:32:26.493Z"
   },
   {
    "duration": 149,
    "start_time": "2024-01-12T13:32:27.826Z"
   },
   {
    "duration": 74,
    "start_time": "2024-01-12T13:32:27.977Z"
   },
   {
    "duration": 57,
    "start_time": "2024-01-12T13:32:28.053Z"
   },
   {
    "duration": 11,
    "start_time": "2024-01-12T13:32:28.112Z"
   },
   {
    "duration": 19,
    "start_time": "2024-01-12T13:32:28.125Z"
   },
   {
    "duration": 9,
    "start_time": "2024-01-12T13:32:28.146Z"
   },
   {
    "duration": 22,
    "start_time": "2024-01-12T13:32:28.157Z"
   },
   {
    "duration": 22,
    "start_time": "2024-01-12T13:32:28.180Z"
   },
   {
    "duration": 8,
    "start_time": "2024-01-12T13:32:28.223Z"
   },
   {
    "duration": 6,
    "start_time": "2024-01-12T13:32:28.233Z"
   },
   {
    "duration": 6,
    "start_time": "2024-01-12T13:32:28.242Z"
   },
   {
    "duration": 11,
    "start_time": "2024-01-12T13:32:28.250Z"
   },
   {
    "duration": 47,
    "start_time": "2024-01-12T13:32:28.262Z"
   },
   {
    "duration": 37,
    "start_time": "2024-01-12T13:32:28.310Z"
   },
   {
    "duration": 29,
    "start_time": "2024-01-12T13:32:28.349Z"
   },
   {
    "duration": 9,
    "start_time": "2024-01-12T13:32:28.379Z"
   },
   {
    "duration": 17,
    "start_time": "2024-01-12T13:32:28.389Z"
   },
   {
    "duration": 14,
    "start_time": "2024-01-12T13:32:28.408Z"
   },
   {
    "duration": 168,
    "start_time": "2024-01-12T13:32:28.423Z"
   },
   {
    "duration": 204,
    "start_time": "2024-01-12T13:32:28.593Z"
   },
   {
    "duration": 6,
    "start_time": "2024-01-12T13:32:28.799Z"
   },
   {
    "duration": 20,
    "start_time": "2024-01-12T13:32:28.806Z"
   },
   {
    "duration": 163,
    "start_time": "2024-01-12T13:32:28.827Z"
   },
   {
    "duration": 132,
    "start_time": "2024-01-12T13:32:28.992Z"
   },
   {
    "duration": 20,
    "start_time": "2024-01-12T13:32:29.125Z"
   },
   {
    "duration": 258,
    "start_time": "2024-01-12T13:32:29.147Z"
   },
   {
    "duration": 33,
    "start_time": "2024-01-12T13:32:29.409Z"
   },
   {
    "duration": 282,
    "start_time": "2024-01-12T13:32:29.444Z"
   },
   {
    "duration": 26,
    "start_time": "2024-01-12T13:32:29.727Z"
   },
   {
    "duration": 255,
    "start_time": "2024-01-12T13:32:29.754Z"
   },
   {
    "duration": 49,
    "start_time": "2024-01-12T13:32:30.011Z"
   },
   {
    "duration": 29,
    "start_time": "2024-01-12T13:32:30.062Z"
   },
   {
    "duration": 83,
    "start_time": "2024-01-12T13:32:30.092Z"
   },
   {
    "duration": 103,
    "start_time": "2024-01-12T13:32:30.177Z"
   },
   {
    "duration": 243,
    "start_time": "2024-01-12T13:32:30.281Z"
   },
   {
    "duration": 343,
    "start_time": "2024-01-12T13:32:30.526Z"
   },
   {
    "duration": 31,
    "start_time": "2024-01-12T13:32:30.871Z"
   },
   {
    "duration": 206,
    "start_time": "2024-01-12T13:32:30.904Z"
   },
   {
    "duration": 273,
    "start_time": "2024-01-12T13:32:31.111Z"
   },
   {
    "duration": 63,
    "start_time": "2024-01-12T13:32:31.386Z"
   },
   {
    "duration": 19,
    "start_time": "2024-01-12T13:32:31.451Z"
   },
   {
    "duration": 19,
    "start_time": "2024-01-12T13:32:31.472Z"
   },
   {
    "duration": 35,
    "start_time": "2024-01-12T13:32:31.492Z"
   },
   {
    "duration": 50,
    "start_time": "2024-01-12T13:32:31.529Z"
   },
   {
    "duration": 22,
    "start_time": "2024-01-12T13:32:31.581Z"
   },
   {
    "duration": 409,
    "start_time": "2024-01-12T13:32:31.605Z"
   },
   {
    "duration": 277,
    "start_time": "2024-01-12T13:32:32.016Z"
   },
   {
    "duration": 195,
    "start_time": "2024-01-12T13:33:32.582Z"
   },
   {
    "duration": 163,
    "start_time": "2024-01-12T13:33:45.780Z"
   },
   {
    "duration": 197,
    "start_time": "2024-01-12T13:33:55.548Z"
   },
   {
    "duration": 170,
    "start_time": "2024-01-12T13:35:13.019Z"
   },
   {
    "duration": 173,
    "start_time": "2024-01-12T13:35:32.881Z"
   },
   {
    "duration": 102,
    "start_time": "2024-01-12T13:35:58.776Z"
   },
   {
    "duration": 163,
    "start_time": "2024-01-12T13:36:07.312Z"
   },
   {
    "duration": 1241,
    "start_time": "2024-01-12T13:36:36.510Z"
   },
   {
    "duration": 184,
    "start_time": "2024-01-12T13:36:47.678Z"
   },
   {
    "duration": 5,
    "start_time": "2024-01-12T13:42:07.596Z"
   },
   {
    "duration": 68,
    "start_time": "2024-01-12T13:42:12.988Z"
   },
   {
    "duration": 5,
    "start_time": "2024-01-12T13:44:18.918Z"
   },
   {
    "duration": 53,
    "start_time": "2024-01-12T13:44:20.414Z"
   },
   {
    "duration": 49,
    "start_time": "2024-01-12T15:51:36.877Z"
   },
   {
    "duration": 1262,
    "start_time": "2024-01-12T15:51:45.185Z"
   },
   {
    "duration": 147,
    "start_time": "2024-01-12T15:51:46.449Z"
   },
   {
    "duration": 75,
    "start_time": "2024-01-12T15:51:46.598Z"
   },
   {
    "duration": 58,
    "start_time": "2024-01-12T15:51:46.675Z"
   },
   {
    "duration": 11,
    "start_time": "2024-01-12T15:51:46.734Z"
   },
   {
    "duration": 20,
    "start_time": "2024-01-12T15:51:46.746Z"
   },
   {
    "duration": 10,
    "start_time": "2024-01-12T15:51:46.767Z"
   },
   {
    "duration": 17,
    "start_time": "2024-01-12T15:51:46.778Z"
   },
   {
    "duration": 34,
    "start_time": "2024-01-12T15:51:46.797Z"
   },
   {
    "duration": 7,
    "start_time": "2024-01-12T15:51:46.833Z"
   },
   {
    "duration": 11,
    "start_time": "2024-01-12T15:51:46.842Z"
   },
   {
    "duration": 13,
    "start_time": "2024-01-12T15:51:46.854Z"
   },
   {
    "duration": 6,
    "start_time": "2024-01-12T15:51:46.869Z"
   },
   {
    "duration": 5,
    "start_time": "2024-01-12T15:51:46.877Z"
   },
   {
    "duration": 9,
    "start_time": "2024-01-12T15:51:46.884Z"
   },
   {
    "duration": 19,
    "start_time": "2024-01-12T15:51:46.916Z"
   },
   {
    "duration": 12,
    "start_time": "2024-01-12T15:51:46.936Z"
   },
   {
    "duration": 7,
    "start_time": "2024-01-12T15:51:46.950Z"
   },
   {
    "duration": 12,
    "start_time": "2024-01-12T15:51:46.959Z"
   },
   {
    "duration": 173,
    "start_time": "2024-01-12T15:51:46.972Z"
   },
   {
    "duration": 187,
    "start_time": "2024-01-12T15:51:47.147Z"
   },
   {
    "duration": 5,
    "start_time": "2024-01-12T15:51:47.336Z"
   },
   {
    "duration": 12,
    "start_time": "2024-01-12T15:51:47.343Z"
   },
   {
    "duration": 147,
    "start_time": "2024-01-12T15:51:47.356Z"
   },
   {
    "duration": 125,
    "start_time": "2024-01-12T15:51:47.504Z"
   },
   {
    "duration": 18,
    "start_time": "2024-01-12T15:51:47.630Z"
   },
   {
    "duration": 259,
    "start_time": "2024-01-12T15:51:47.649Z"
   },
   {
    "duration": 34,
    "start_time": "2024-01-12T15:51:47.914Z"
   },
   {
    "duration": 314,
    "start_time": "2024-01-12T15:51:47.950Z"
   },
   {
    "duration": 26,
    "start_time": "2024-01-12T15:51:48.266Z"
   },
   {
    "duration": 241,
    "start_time": "2024-01-12T15:51:48.293Z"
   },
   {
    "duration": 30,
    "start_time": "2024-01-12T15:51:48.536Z"
   },
   {
    "duration": 6,
    "start_time": "2024-01-12T15:51:48.568Z"
   },
   {
    "duration": 41,
    "start_time": "2024-01-12T15:51:48.575Z"
   },
   {
    "duration": 20,
    "start_time": "2024-01-12T15:51:48.617Z"
   },
   {
    "duration": 41,
    "start_time": "2024-01-12T15:51:48.639Z"
   },
   {
    "duration": 286,
    "start_time": "2024-01-12T15:51:48.682Z"
   },
   {
    "duration": 309,
    "start_time": "2024-01-12T15:51:48.969Z"
   },
   {
    "duration": 39,
    "start_time": "2024-01-12T15:51:49.280Z"
   },
   {
    "duration": 210,
    "start_time": "2024-01-12T15:51:49.320Z"
   },
   {
    "duration": 226,
    "start_time": "2024-01-12T15:51:49.531Z"
   },
   {
    "duration": 4,
    "start_time": "2024-01-12T15:51:49.758Z"
   },
   {
    "duration": 59,
    "start_time": "2024-01-12T15:51:49.764Z"
   },
   {
    "duration": 15,
    "start_time": "2024-01-12T15:51:49.825Z"
   },
   {
    "duration": 13,
    "start_time": "2024-01-12T15:51:49.842Z"
   },
   {
    "duration": 11,
    "start_time": "2024-01-12T15:51:49.857Z"
   },
   {
    "duration": 15,
    "start_time": "2024-01-12T15:51:49.870Z"
   },
   {
    "duration": 17,
    "start_time": "2024-01-12T15:51:49.886Z"
   },
   {
    "duration": 310,
    "start_time": "2024-01-12T15:51:49.914Z"
   },
   {
    "duration": 260,
    "start_time": "2024-01-12T15:51:50.225Z"
   },
   {
    "duration": 13,
    "start_time": "2024-01-12T15:58:26.532Z"
   },
   {
    "duration": 95,
    "start_time": "2024-01-12T15:59:12.900Z"
   },
   {
    "duration": 8,
    "start_time": "2024-01-12T15:59:22.726Z"
   },
   {
    "duration": 103,
    "start_time": "2024-01-12T16:05:06.452Z"
   },
   {
    "duration": 387,
    "start_time": "2024-01-12T16:08:04.464Z"
   },
   {
    "duration": 402,
    "start_time": "2024-01-12T16:08:15.147Z"
   },
   {
    "duration": 514,
    "start_time": "2024-01-12T16:09:31.834Z"
   },
   {
    "duration": 432,
    "start_time": "2024-01-12T16:09:53.432Z"
   },
   {
    "duration": 443,
    "start_time": "2024-01-12T16:12:23.469Z"
   },
   {
    "duration": 236,
    "start_time": "2024-01-12T16:12:47.103Z"
   },
   {
    "duration": 242,
    "start_time": "2024-01-12T16:13:20.126Z"
   },
   {
    "duration": 336,
    "start_time": "2024-01-12T16:15:51.120Z"
   },
   {
    "duration": 291,
    "start_time": "2024-01-12T16:15:59.796Z"
   },
   {
    "duration": 280,
    "start_time": "2024-01-12T16:16:37.482Z"
   },
   {
    "duration": 275,
    "start_time": "2024-01-12T16:18:01.924Z"
   },
   {
    "duration": 256,
    "start_time": "2024-01-12T16:18:09.382Z"
   },
   {
    "duration": 360,
    "start_time": "2024-01-12T16:18:17.912Z"
   },
   {
    "duration": 280,
    "start_time": "2024-01-12T16:18:28.060Z"
   },
   {
    "duration": 74,
    "start_time": "2024-01-12T16:19:12.967Z"
   },
   {
    "duration": 268,
    "start_time": "2024-01-12T16:19:21.892Z"
   },
   {
    "duration": 32,
    "start_time": "2024-01-12T16:21:10.858Z"
   },
   {
    "duration": 29,
    "start_time": "2024-01-12T16:21:13.502Z"
   },
   {
    "duration": 285,
    "start_time": "2024-01-12T16:21:58.276Z"
   },
   {
    "duration": 280,
    "start_time": "2024-01-12T16:22:07.828Z"
   },
   {
    "duration": 252,
    "start_time": "2024-01-12T16:24:20.028Z"
   },
   {
    "duration": 363,
    "start_time": "2024-01-12T16:27:28.244Z"
   },
   {
    "duration": 1118,
    "start_time": "2024-01-12T17:19:00.393Z"
   },
   {
    "duration": 91,
    "start_time": "2024-01-12T17:19:01.512Z"
   },
   {
    "duration": 35,
    "start_time": "2024-01-12T17:19:01.604Z"
   },
   {
    "duration": 19,
    "start_time": "2024-01-12T17:19:01.641Z"
   },
   {
    "duration": 39,
    "start_time": "2024-01-12T17:19:01.661Z"
   },
   {
    "duration": 41,
    "start_time": "2024-01-12T17:19:01.702Z"
   },
   {
    "duration": 28,
    "start_time": "2024-01-12T17:19:01.744Z"
   },
   {
    "duration": 63,
    "start_time": "2024-01-12T17:19:01.774Z"
   },
   {
    "duration": 25,
    "start_time": "2024-01-12T17:19:01.839Z"
   },
   {
    "duration": 8,
    "start_time": "2024-01-12T17:19:01.867Z"
   },
   {
    "duration": 22,
    "start_time": "2024-01-12T17:19:01.876Z"
   },
   {
    "duration": 26,
    "start_time": "2024-01-12T17:19:01.900Z"
   },
   {
    "duration": 29,
    "start_time": "2024-01-12T17:19:01.927Z"
   },
   {
    "duration": 29,
    "start_time": "2024-01-12T17:19:01.957Z"
   },
   {
    "duration": 33,
    "start_time": "2024-01-12T17:19:01.987Z"
   },
   {
    "duration": 18,
    "start_time": "2024-01-12T17:19:02.022Z"
   },
   {
    "duration": 21,
    "start_time": "2024-01-12T17:19:02.042Z"
   },
   {
    "duration": 31,
    "start_time": "2024-01-12T17:19:02.065Z"
   },
   {
    "duration": 44,
    "start_time": "2024-01-12T17:19:02.098Z"
   },
   {
    "duration": 192,
    "start_time": "2024-01-12T17:19:02.144Z"
   },
   {
    "duration": 196,
    "start_time": "2024-01-12T17:19:02.337Z"
   },
   {
    "duration": 5,
    "start_time": "2024-01-12T17:19:02.535Z"
   },
   {
    "duration": 23,
    "start_time": "2024-01-12T17:19:02.542Z"
   },
   {
    "duration": 187,
    "start_time": "2024-01-12T17:19:02.567Z"
   },
   {
    "duration": 117,
    "start_time": "2024-01-12T17:19:02.755Z"
   },
   {
    "duration": 18,
    "start_time": "2024-01-12T17:19:02.874Z"
   },
   {
    "duration": 235,
    "start_time": "2024-01-12T17:19:02.893Z"
   },
   {
    "duration": 22,
    "start_time": "2024-01-12T17:19:03.131Z"
   },
   {
    "duration": 260,
    "start_time": "2024-01-12T17:19:03.155Z"
   },
   {
    "duration": 22,
    "start_time": "2024-01-12T17:19:03.417Z"
   },
   {
    "duration": 227,
    "start_time": "2024-01-12T17:19:03.441Z"
   },
   {
    "duration": 31,
    "start_time": "2024-01-12T17:19:03.670Z"
   },
   {
    "duration": 22,
    "start_time": "2024-01-12T17:19:03.703Z"
   },
   {
    "duration": 31,
    "start_time": "2024-01-12T17:19:03.727Z"
   },
   {
    "duration": 15,
    "start_time": "2024-01-12T17:19:03.760Z"
   },
   {
    "duration": 39,
    "start_time": "2024-01-12T17:19:03.777Z"
   },
   {
    "duration": 25,
    "start_time": "2024-01-12T17:19:03.818Z"
   },
   {
    "duration": 33,
    "start_time": "2024-01-12T17:19:03.845Z"
   },
   {
    "duration": 61,
    "start_time": "2024-01-12T17:19:03.880Z"
   },
   {
    "duration": 273,
    "start_time": "2024-01-12T17:19:03.943Z"
   },
   {
    "duration": 350,
    "start_time": "2024-01-12T17:19:04.218Z"
   },
   {
    "duration": 4,
    "start_time": "2024-01-12T17:19:04.569Z"
   },
   {
    "duration": 69,
    "start_time": "2024-01-12T17:19:04.574Z"
   },
   {
    "duration": 16,
    "start_time": "2024-01-12T17:19:04.644Z"
   },
   {
    "duration": 14,
    "start_time": "2024-01-12T17:19:04.662Z"
   },
   {
    "duration": 18,
    "start_time": "2024-01-12T17:19:04.678Z"
   },
   {
    "duration": 39,
    "start_time": "2024-01-12T17:19:04.698Z"
   },
   {
    "duration": 48,
    "start_time": "2024-01-12T17:19:04.739Z"
   },
   {
    "duration": 303,
    "start_time": "2024-01-12T17:19:04.789Z"
   },
   {
    "duration": 302,
    "start_time": "2024-01-12T17:19:05.093Z"
   },
   {
    "duration": 1207,
    "start_time": "2024-01-12T18:27:51.797Z"
   },
   {
    "duration": 145,
    "start_time": "2024-01-12T18:27:53.006Z"
   },
   {
    "duration": 147,
    "start_time": "2024-01-12T18:27:53.153Z"
   },
   {
    "duration": 71,
    "start_time": "2024-01-12T18:27:53.302Z"
   },
   {
    "duration": 13,
    "start_time": "2024-01-12T18:27:53.375Z"
   },
   {
    "duration": 12,
    "start_time": "2024-01-12T18:27:53.390Z"
   },
   {
    "duration": 9,
    "start_time": "2024-01-12T18:27:53.403Z"
   },
   {
    "duration": 17,
    "start_time": "2024-01-12T18:27:53.413Z"
   },
   {
    "duration": 48,
    "start_time": "2024-01-12T18:27:53.432Z"
   },
   {
    "duration": 7,
    "start_time": "2024-01-12T18:27:53.483Z"
   },
   {
    "duration": 6,
    "start_time": "2024-01-12T18:27:53.492Z"
   },
   {
    "duration": 6,
    "start_time": "2024-01-12T18:27:53.499Z"
   },
   {
    "duration": 11,
    "start_time": "2024-01-12T18:27:53.506Z"
   },
   {
    "duration": 5,
    "start_time": "2024-01-12T18:27:53.519Z"
   },
   {
    "duration": 37,
    "start_time": "2024-01-12T18:27:53.526Z"
   },
   {
    "duration": 7,
    "start_time": "2024-01-12T18:27:53.565Z"
   },
   {
    "duration": 5,
    "start_time": "2024-01-12T18:27:53.574Z"
   },
   {
    "duration": 8,
    "start_time": "2024-01-12T18:27:53.580Z"
   },
   {
    "duration": 24,
    "start_time": "2024-01-12T18:27:53.589Z"
   },
   {
    "duration": 194,
    "start_time": "2024-01-12T18:27:53.615Z"
   },
   {
    "duration": 187,
    "start_time": "2024-01-12T18:27:53.811Z"
   },
   {
    "duration": 5,
    "start_time": "2024-01-12T18:27:54.000Z"
   },
   {
    "duration": 7,
    "start_time": "2024-01-12T18:27:54.006Z"
   },
   {
    "duration": 143,
    "start_time": "2024-01-12T18:27:54.015Z"
   },
   {
    "duration": 123,
    "start_time": "2024-01-12T18:27:54.160Z"
   },
   {
    "duration": 16,
    "start_time": "2024-01-12T18:27:54.284Z"
   },
   {
    "duration": 269,
    "start_time": "2024-01-12T18:27:54.301Z"
   },
   {
    "duration": 29,
    "start_time": "2024-01-12T18:27:54.576Z"
   },
   {
    "duration": 272,
    "start_time": "2024-01-12T18:27:54.607Z"
   },
   {
    "duration": 28,
    "start_time": "2024-01-12T18:27:54.881Z"
   },
   {
    "duration": 249,
    "start_time": "2024-01-12T18:27:54.910Z"
   },
   {
    "duration": 33,
    "start_time": "2024-01-12T18:27:55.161Z"
   },
   {
    "duration": 5,
    "start_time": "2024-01-12T18:27:55.195Z"
   },
   {
    "duration": 18,
    "start_time": "2024-01-12T18:27:55.202Z"
   },
   {
    "duration": 7,
    "start_time": "2024-01-12T18:27:55.221Z"
   },
   {
    "duration": 27,
    "start_time": "2024-01-12T18:27:55.255Z"
   },
   {
    "duration": 17,
    "start_time": "2024-01-12T18:27:55.284Z"
   },
   {
    "duration": 29,
    "start_time": "2024-01-12T18:27:55.302Z"
   },
   {
    "duration": 56,
    "start_time": "2024-01-12T18:27:55.332Z"
   },
   {
    "duration": 299,
    "start_time": "2024-01-12T18:27:55.390Z"
   },
   {
    "duration": 358,
    "start_time": "2024-01-12T18:27:55.690Z"
   },
   {
    "duration": 9,
    "start_time": "2024-01-12T18:27:56.050Z"
   },
   {
    "duration": 55,
    "start_time": "2024-01-12T18:27:56.060Z"
   },
   {
    "duration": 16,
    "start_time": "2024-01-12T18:27:56.117Z"
   },
   {
    "duration": 40,
    "start_time": "2024-01-12T18:27:56.134Z"
   },
   {
    "duration": 6,
    "start_time": "2024-01-12T18:27:56.176Z"
   },
   {
    "duration": 5,
    "start_time": "2024-01-12T18:27:56.183Z"
   },
   {
    "duration": 9,
    "start_time": "2024-01-12T18:27:56.190Z"
   },
   {
    "duration": 385,
    "start_time": "2024-01-12T18:27:56.200Z"
   },
   {
    "duration": 269,
    "start_time": "2024-01-12T18:27:56.586Z"
   },
   {
    "duration": 9,
    "start_time": "2024-01-12T18:33:19.236Z"
   },
   {
    "duration": 1033,
    "start_time": "2024-01-12T18:39:12.647Z"
   },
   {
    "duration": 82,
    "start_time": "2024-01-12T18:39:13.682Z"
   },
   {
    "duration": 31,
    "start_time": "2024-01-12T18:39:13.765Z"
   },
   {
    "duration": 18,
    "start_time": "2024-01-12T18:39:13.798Z"
   },
   {
    "duration": 10,
    "start_time": "2024-01-12T18:39:13.817Z"
   },
   {
    "duration": 9,
    "start_time": "2024-01-12T18:39:13.829Z"
   },
   {
    "duration": 8,
    "start_time": "2024-01-12T18:39:13.840Z"
   },
   {
    "duration": 16,
    "start_time": "2024-01-12T18:39:13.850Z"
   },
   {
    "duration": 21,
    "start_time": "2024-01-12T18:39:13.868Z"
   },
   {
    "duration": 7,
    "start_time": "2024-01-12T18:39:13.891Z"
   },
   {
    "duration": 7,
    "start_time": "2024-01-12T18:39:13.899Z"
   },
   {
    "duration": 13,
    "start_time": "2024-01-12T18:39:13.907Z"
   },
   {
    "duration": 5,
    "start_time": "2024-01-12T18:39:13.921Z"
   },
   {
    "duration": 31,
    "start_time": "2024-01-12T18:39:13.927Z"
   },
   {
    "duration": 8,
    "start_time": "2024-01-12T18:39:13.959Z"
   },
   {
    "duration": 4,
    "start_time": "2024-01-12T18:39:13.969Z"
   },
   {
    "duration": 5,
    "start_time": "2024-01-12T18:39:13.974Z"
   },
   {
    "duration": 5,
    "start_time": "2024-01-12T18:39:13.980Z"
   },
   {
    "duration": 8,
    "start_time": "2024-01-12T18:39:13.987Z"
   },
   {
    "duration": 183,
    "start_time": "2024-01-12T18:39:13.996Z"
   },
   {
    "duration": 178,
    "start_time": "2024-01-12T18:39:14.181Z"
   },
   {
    "duration": 5,
    "start_time": "2024-01-12T18:39:14.360Z"
   },
   {
    "duration": 9,
    "start_time": "2024-01-12T18:39:14.367Z"
   },
   {
    "duration": 131,
    "start_time": "2024-01-12T18:39:14.377Z"
   },
   {
    "duration": 112,
    "start_time": "2024-01-12T18:39:14.510Z"
   },
   {
    "duration": 17,
    "start_time": "2024-01-12T18:39:14.623Z"
   },
   {
    "duration": 231,
    "start_time": "2024-01-12T18:39:14.642Z"
   },
   {
    "duration": 24,
    "start_time": "2024-01-12T18:39:14.876Z"
   },
   {
    "duration": 253,
    "start_time": "2024-01-12T18:39:14.902Z"
   },
   {
    "duration": 22,
    "start_time": "2024-01-12T18:39:15.157Z"
   },
   {
    "duration": 211,
    "start_time": "2024-01-12T18:39:15.180Z"
   },
   {
    "duration": 28,
    "start_time": "2024-01-12T18:39:15.393Z"
   },
   {
    "duration": 6,
    "start_time": "2024-01-12T18:39:15.423Z"
   },
   {
    "duration": 37,
    "start_time": "2024-01-12T18:39:15.430Z"
   },
   {
    "duration": 9,
    "start_time": "2024-01-12T18:39:15.469Z"
   },
   {
    "duration": 21,
    "start_time": "2024-01-12T18:39:15.480Z"
   },
   {
    "duration": 19,
    "start_time": "2024-01-12T18:39:15.503Z"
   },
   {
    "duration": 50,
    "start_time": "2024-01-12T18:39:15.524Z"
   },
   {
    "duration": 28,
    "start_time": "2024-01-12T18:39:15.575Z"
   },
   {
    "duration": 259,
    "start_time": "2024-01-12T18:39:15.605Z"
   },
   {
    "duration": 348,
    "start_time": "2024-01-12T18:39:15.865Z"
   },
   {
    "duration": 4,
    "start_time": "2024-01-12T18:39:16.214Z"
   },
   {
    "duration": 64,
    "start_time": "2024-01-12T18:39:16.219Z"
   },
   {
    "duration": 16,
    "start_time": "2024-01-12T18:39:16.285Z"
   },
   {
    "duration": 14,
    "start_time": "2024-01-12T18:39:16.302Z"
   },
   {
    "duration": 5,
    "start_time": "2024-01-12T18:39:16.317Z"
   },
   {
    "duration": 5,
    "start_time": "2024-01-12T18:39:16.323Z"
   },
   {
    "duration": 33,
    "start_time": "2024-01-12T18:39:16.329Z"
   },
   {
    "duration": 260,
    "start_time": "2024-01-12T18:39:16.363Z"
   },
   {
    "duration": 277,
    "start_time": "2024-01-12T18:39:16.624Z"
   },
   {
    "duration": 1267,
    "start_time": "2024-01-13T19:39:21.036Z"
   },
   {
    "duration": 155,
    "start_time": "2024-01-13T19:39:22.304Z"
   },
   {
    "duration": 72,
    "start_time": "2024-01-13T19:39:22.461Z"
   },
   {
    "duration": 56,
    "start_time": "2024-01-13T19:39:22.535Z"
   },
   {
    "duration": 12,
    "start_time": "2024-01-13T19:39:22.593Z"
   },
   {
    "duration": 28,
    "start_time": "2024-01-13T19:39:22.607Z"
   },
   {
    "duration": 26,
    "start_time": "2024-01-13T19:39:22.637Z"
   },
   {
    "duration": 36,
    "start_time": "2024-01-13T19:39:22.664Z"
   },
   {
    "duration": 46,
    "start_time": "2024-01-13T19:39:22.702Z"
   },
   {
    "duration": 8,
    "start_time": "2024-01-13T19:39:22.751Z"
   },
   {
    "duration": 17,
    "start_time": "2024-01-13T19:39:22.760Z"
   },
   {
    "duration": 6,
    "start_time": "2024-01-13T19:39:22.778Z"
   },
   {
    "duration": 5,
    "start_time": "2024-01-13T19:39:22.786Z"
   },
   {
    "duration": 15,
    "start_time": "2024-01-13T19:39:22.792Z"
   },
   {
    "duration": 9,
    "start_time": "2024-01-13T19:39:22.808Z"
   },
   {
    "duration": 4,
    "start_time": "2024-01-13T19:39:22.819Z"
   },
   {
    "duration": 10,
    "start_time": "2024-01-13T19:39:22.825Z"
   },
   {
    "duration": 5,
    "start_time": "2024-01-13T19:39:22.836Z"
   },
   {
    "duration": 22,
    "start_time": "2024-01-13T19:39:22.843Z"
   },
   {
    "duration": 167,
    "start_time": "2024-01-13T19:39:22.867Z"
   },
   {
    "duration": 173,
    "start_time": "2024-01-13T19:39:23.035Z"
   },
   {
    "duration": 5,
    "start_time": "2024-01-13T19:39:23.210Z"
   },
   {
    "duration": 11,
    "start_time": "2024-01-13T19:39:23.217Z"
   },
   {
    "duration": 139,
    "start_time": "2024-01-13T19:39:23.229Z"
   },
   {
    "duration": 115,
    "start_time": "2024-01-13T19:39:23.370Z"
   },
   {
    "duration": 17,
    "start_time": "2024-01-13T19:39:23.487Z"
   },
   {
    "duration": 234,
    "start_time": "2024-01-13T19:39:23.506Z"
   },
   {
    "duration": 38,
    "start_time": "2024-01-13T19:39:23.743Z"
   },
   {
    "duration": 244,
    "start_time": "2024-01-13T19:39:23.782Z"
   },
   {
    "duration": 22,
    "start_time": "2024-01-13T19:39:24.027Z"
   },
   {
    "duration": 206,
    "start_time": "2024-01-13T19:39:24.051Z"
   },
   {
    "duration": 33,
    "start_time": "2024-01-13T19:39:24.258Z"
   },
   {
    "duration": 16,
    "start_time": "2024-01-13T19:39:24.293Z"
   },
   {
    "duration": 16,
    "start_time": "2024-01-13T19:39:24.311Z"
   },
   {
    "duration": 13,
    "start_time": "2024-01-13T19:39:24.329Z"
   },
   {
    "duration": 38,
    "start_time": "2024-01-13T19:39:24.344Z"
   },
   {
    "duration": 19,
    "start_time": "2024-01-13T19:39:24.383Z"
   },
   {
    "duration": 28,
    "start_time": "2024-01-13T19:39:24.403Z"
   },
   {
    "duration": 47,
    "start_time": "2024-01-13T19:39:24.433Z"
   },
   {
    "duration": 253,
    "start_time": "2024-01-13T19:39:24.481Z"
   },
   {
    "duration": 316,
    "start_time": "2024-01-13T19:39:24.736Z"
   },
   {
    "duration": 4,
    "start_time": "2024-01-13T19:39:25.053Z"
   },
   {
    "duration": 49,
    "start_time": "2024-01-13T19:39:25.064Z"
   },
   {
    "duration": 16,
    "start_time": "2024-01-13T19:39:25.114Z"
   },
   {
    "duration": 34,
    "start_time": "2024-01-13T19:39:25.131Z"
   },
   {
    "duration": 5,
    "start_time": "2024-01-13T19:39:25.167Z"
   },
   {
    "duration": 10,
    "start_time": "2024-01-13T19:39:25.173Z"
   },
   {
    "duration": 13,
    "start_time": "2024-01-13T19:39:25.184Z"
   },
   {
    "duration": 352,
    "start_time": "2024-01-13T19:39:25.199Z"
   },
   {
    "duration": 271,
    "start_time": "2024-01-13T19:39:25.553Z"
   },
   {
    "duration": 286,
    "start_time": "2024-01-13T19:39:40.417Z"
   },
   {
    "duration": 270,
    "start_time": "2024-01-13T19:39:46.872Z"
   },
   {
    "duration": 317,
    "start_time": "2024-01-13T19:39:59.709Z"
   }
  ],
  "kernelspec": {
   "display_name": "Python 3 (ipykernel)",
   "language": "python",
   "name": "python3"
  },
  "language_info": {
   "codemirror_mode": {
    "name": "ipython",
    "version": 3
   },
   "file_extension": ".py",
   "mimetype": "text/x-python",
   "name": "python",
   "nbconvert_exporter": "python",
   "pygments_lexer": "ipython3",
   "version": "3.9.5"
  },
  "toc": {
   "base_numbering": 1,
   "nav_menu": {},
   "number_sections": true,
   "sideBar": true,
   "skip_h1_title": true,
   "title_cell": "Table of Contents",
   "title_sidebar": "Contents",
   "toc_cell": false,
   "toc_position": {},
   "toc_section_display": true,
   "toc_window_display": false
  }
 },
 "nbformat": 4,
 "nbformat_minor": 5
}
