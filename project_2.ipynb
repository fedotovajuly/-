{
 "cells": [
  {
   "cell_type": "markdown",
   "id": "386f2ae7",
   "metadata": {
    "deletable": false,
    "editable": false,
    "id": "386f2ae7"
   },
   "source": [
    "# Исследование надежности заемщиков\n"
   ]
  },
  {
   "cell_type": "markdown",
   "id": "ffe86f65",
   "metadata": {
    "deletable": false,
    "editable": false,
    "id": "ffe86f65"
   },
   "source": [
    "Во второй части проекта вы выполните шаги 3 и 4. Их вручную проверит ревьюер.\n",
    "Чтобы вам не пришлось писать код заново для шагов 1 и 2, мы добавили авторские решения в ячейки с кодом. \n",
    "\n"
   ]
  },
  {
   "cell_type": "markdown",
   "id": "26613308",
   "metadata": {
    "deletable": false,
    "editable": false,
    "id": "26613308"
   },
   "source": [
    "## Откройте таблицу и изучите общую информацию о данных"
   ]
  },
  {
   "cell_type": "markdown",
   "id": "3c9f838e",
   "metadata": {
    "deletable": false,
    "editable": false,
    "id": "3c9f838e"
   },
   "source": [
    "**Задание 1. Импортируйте библиотеку pandas. Считайте данные из csv-файла в датафрейм и сохраните в переменную `data`. Путь к файлу:**\n",
    "\n",
    "`/datasets/data.csv`"
   ]
  },
  {
   "cell_type": "code",
   "execution_count": 1,
   "id": "77a68a90",
   "metadata": {
    "deletable": false,
    "id": "77a68a90"
   },
   "outputs": [],
   "source": [
    "import pandas as pd\n",
    "\n",
    "try:\n",
    "    data = pd.read_csv('/datasets/data.csv')\n",
    "except:\n",
    "    data = pd.read_csv('https://code.s3.yandex.net/datasets/data.csv')"
   ]
  },
  {
   "cell_type": "markdown",
   "id": "45365635",
   "metadata": {
    "deletable": false,
    "editable": false,
    "id": "45365635"
   },
   "source": [
    "**Задание 2. Выведите первые 20 строчек датафрейма `data` на экран.**"
   ]
  },
  {
   "cell_type": "code",
   "execution_count": 2,
   "id": "b0451a9a",
   "metadata": {
    "deletable": false,
    "id": "b0451a9a",
    "outputId": "1a8f3ef2-d323-4ec2-ddf7-89670b5944c4"
   },
   "outputs": [
    {
     "data": {
      "text/html": [
       "<div>\n",
       "<style scoped>\n",
       "    .dataframe tbody tr th:only-of-type {\n",
       "        vertical-align: middle;\n",
       "    }\n",
       "\n",
       "    .dataframe tbody tr th {\n",
       "        vertical-align: top;\n",
       "    }\n",
       "\n",
       "    .dataframe thead th {\n",
       "        text-align: right;\n",
       "    }\n",
       "</style>\n",
       "<table border=\"1\" class=\"dataframe\">\n",
       "  <thead>\n",
       "    <tr style=\"text-align: right;\">\n",
       "      <th></th>\n",
       "      <th>children</th>\n",
       "      <th>days_employed</th>\n",
       "      <th>dob_years</th>\n",
       "      <th>education</th>\n",
       "      <th>education_id</th>\n",
       "      <th>family_status</th>\n",
       "      <th>family_status_id</th>\n",
       "      <th>gender</th>\n",
       "      <th>income_type</th>\n",
       "      <th>debt</th>\n",
       "      <th>total_income</th>\n",
       "      <th>purpose</th>\n",
       "    </tr>\n",
       "  </thead>\n",
       "  <tbody>\n",
       "    <tr>\n",
       "      <th>0</th>\n",
       "      <td>1</td>\n",
       "      <td>-8437.673028</td>\n",
       "      <td>42</td>\n",
       "      <td>высшее</td>\n",
       "      <td>0</td>\n",
       "      <td>женат / замужем</td>\n",
       "      <td>0</td>\n",
       "      <td>F</td>\n",
       "      <td>сотрудник</td>\n",
       "      <td>0</td>\n",
       "      <td>253875.639453</td>\n",
       "      <td>покупка жилья</td>\n",
       "    </tr>\n",
       "    <tr>\n",
       "      <th>1</th>\n",
       "      <td>1</td>\n",
       "      <td>-4024.803754</td>\n",
       "      <td>36</td>\n",
       "      <td>среднее</td>\n",
       "      <td>1</td>\n",
       "      <td>женат / замужем</td>\n",
       "      <td>0</td>\n",
       "      <td>F</td>\n",
       "      <td>сотрудник</td>\n",
       "      <td>0</td>\n",
       "      <td>112080.014102</td>\n",
       "      <td>приобретение автомобиля</td>\n",
       "    </tr>\n",
       "    <tr>\n",
       "      <th>2</th>\n",
       "      <td>0</td>\n",
       "      <td>-5623.422610</td>\n",
       "      <td>33</td>\n",
       "      <td>Среднее</td>\n",
       "      <td>1</td>\n",
       "      <td>женат / замужем</td>\n",
       "      <td>0</td>\n",
       "      <td>M</td>\n",
       "      <td>сотрудник</td>\n",
       "      <td>0</td>\n",
       "      <td>145885.952297</td>\n",
       "      <td>покупка жилья</td>\n",
       "    </tr>\n",
       "    <tr>\n",
       "      <th>3</th>\n",
       "      <td>3</td>\n",
       "      <td>-4124.747207</td>\n",
       "      <td>32</td>\n",
       "      <td>среднее</td>\n",
       "      <td>1</td>\n",
       "      <td>женат / замужем</td>\n",
       "      <td>0</td>\n",
       "      <td>M</td>\n",
       "      <td>сотрудник</td>\n",
       "      <td>0</td>\n",
       "      <td>267628.550329</td>\n",
       "      <td>дополнительное образование</td>\n",
       "    </tr>\n",
       "    <tr>\n",
       "      <th>4</th>\n",
       "      <td>0</td>\n",
       "      <td>340266.072047</td>\n",
       "      <td>53</td>\n",
       "      <td>среднее</td>\n",
       "      <td>1</td>\n",
       "      <td>гражданский брак</td>\n",
       "      <td>1</td>\n",
       "      <td>F</td>\n",
       "      <td>пенсионер</td>\n",
       "      <td>0</td>\n",
       "      <td>158616.077870</td>\n",
       "      <td>сыграть свадьбу</td>\n",
       "    </tr>\n",
       "    <tr>\n",
       "      <th>5</th>\n",
       "      <td>0</td>\n",
       "      <td>-926.185831</td>\n",
       "      <td>27</td>\n",
       "      <td>высшее</td>\n",
       "      <td>0</td>\n",
       "      <td>гражданский брак</td>\n",
       "      <td>1</td>\n",
       "      <td>M</td>\n",
       "      <td>компаньон</td>\n",
       "      <td>0</td>\n",
       "      <td>255763.565419</td>\n",
       "      <td>покупка жилья</td>\n",
       "    </tr>\n",
       "    <tr>\n",
       "      <th>6</th>\n",
       "      <td>0</td>\n",
       "      <td>-2879.202052</td>\n",
       "      <td>43</td>\n",
       "      <td>высшее</td>\n",
       "      <td>0</td>\n",
       "      <td>женат / замужем</td>\n",
       "      <td>0</td>\n",
       "      <td>F</td>\n",
       "      <td>компаньон</td>\n",
       "      <td>0</td>\n",
       "      <td>240525.971920</td>\n",
       "      <td>операции с жильем</td>\n",
       "    </tr>\n",
       "    <tr>\n",
       "      <th>7</th>\n",
       "      <td>0</td>\n",
       "      <td>-152.779569</td>\n",
       "      <td>50</td>\n",
       "      <td>СРЕДНЕЕ</td>\n",
       "      <td>1</td>\n",
       "      <td>женат / замужем</td>\n",
       "      <td>0</td>\n",
       "      <td>M</td>\n",
       "      <td>сотрудник</td>\n",
       "      <td>0</td>\n",
       "      <td>135823.934197</td>\n",
       "      <td>образование</td>\n",
       "    </tr>\n",
       "    <tr>\n",
       "      <th>8</th>\n",
       "      <td>2</td>\n",
       "      <td>-6929.865299</td>\n",
       "      <td>35</td>\n",
       "      <td>ВЫСШЕЕ</td>\n",
       "      <td>0</td>\n",
       "      <td>гражданский брак</td>\n",
       "      <td>1</td>\n",
       "      <td>F</td>\n",
       "      <td>сотрудник</td>\n",
       "      <td>0</td>\n",
       "      <td>95856.832424</td>\n",
       "      <td>на проведение свадьбы</td>\n",
       "    </tr>\n",
       "    <tr>\n",
       "      <th>9</th>\n",
       "      <td>0</td>\n",
       "      <td>-2188.756445</td>\n",
       "      <td>41</td>\n",
       "      <td>среднее</td>\n",
       "      <td>1</td>\n",
       "      <td>женат / замужем</td>\n",
       "      <td>0</td>\n",
       "      <td>M</td>\n",
       "      <td>сотрудник</td>\n",
       "      <td>0</td>\n",
       "      <td>144425.938277</td>\n",
       "      <td>покупка жилья для семьи</td>\n",
       "    </tr>\n",
       "    <tr>\n",
       "      <th>10</th>\n",
       "      <td>2</td>\n",
       "      <td>-4171.483647</td>\n",
       "      <td>36</td>\n",
       "      <td>высшее</td>\n",
       "      <td>0</td>\n",
       "      <td>женат / замужем</td>\n",
       "      <td>0</td>\n",
       "      <td>M</td>\n",
       "      <td>компаньон</td>\n",
       "      <td>0</td>\n",
       "      <td>113943.491460</td>\n",
       "      <td>покупка недвижимости</td>\n",
       "    </tr>\n",
       "    <tr>\n",
       "      <th>11</th>\n",
       "      <td>0</td>\n",
       "      <td>-792.701887</td>\n",
       "      <td>40</td>\n",
       "      <td>среднее</td>\n",
       "      <td>1</td>\n",
       "      <td>женат / замужем</td>\n",
       "      <td>0</td>\n",
       "      <td>F</td>\n",
       "      <td>сотрудник</td>\n",
       "      <td>0</td>\n",
       "      <td>77069.234271</td>\n",
       "      <td>покупка коммерческой недвижимости</td>\n",
       "    </tr>\n",
       "    <tr>\n",
       "      <th>12</th>\n",
       "      <td>0</td>\n",
       "      <td>NaN</td>\n",
       "      <td>65</td>\n",
       "      <td>среднее</td>\n",
       "      <td>1</td>\n",
       "      <td>гражданский брак</td>\n",
       "      <td>1</td>\n",
       "      <td>M</td>\n",
       "      <td>пенсионер</td>\n",
       "      <td>0</td>\n",
       "      <td>NaN</td>\n",
       "      <td>сыграть свадьбу</td>\n",
       "    </tr>\n",
       "    <tr>\n",
       "      <th>13</th>\n",
       "      <td>0</td>\n",
       "      <td>-1846.641941</td>\n",
       "      <td>54</td>\n",
       "      <td>неоконченное высшее</td>\n",
       "      <td>2</td>\n",
       "      <td>женат / замужем</td>\n",
       "      <td>0</td>\n",
       "      <td>F</td>\n",
       "      <td>сотрудник</td>\n",
       "      <td>0</td>\n",
       "      <td>130458.228857</td>\n",
       "      <td>приобретение автомобиля</td>\n",
       "    </tr>\n",
       "    <tr>\n",
       "      <th>14</th>\n",
       "      <td>0</td>\n",
       "      <td>-1844.956182</td>\n",
       "      <td>56</td>\n",
       "      <td>высшее</td>\n",
       "      <td>0</td>\n",
       "      <td>гражданский брак</td>\n",
       "      <td>1</td>\n",
       "      <td>F</td>\n",
       "      <td>компаньон</td>\n",
       "      <td>1</td>\n",
       "      <td>165127.911772</td>\n",
       "      <td>покупка жилой недвижимости</td>\n",
       "    </tr>\n",
       "    <tr>\n",
       "      <th>15</th>\n",
       "      <td>1</td>\n",
       "      <td>-972.364419</td>\n",
       "      <td>26</td>\n",
       "      <td>среднее</td>\n",
       "      <td>1</td>\n",
       "      <td>женат / замужем</td>\n",
       "      <td>0</td>\n",
       "      <td>F</td>\n",
       "      <td>сотрудник</td>\n",
       "      <td>0</td>\n",
       "      <td>116820.904450</td>\n",
       "      <td>строительство собственной недвижимости</td>\n",
       "    </tr>\n",
       "    <tr>\n",
       "      <th>16</th>\n",
       "      <td>0</td>\n",
       "      <td>-1719.934226</td>\n",
       "      <td>35</td>\n",
       "      <td>среднее</td>\n",
       "      <td>1</td>\n",
       "      <td>женат / замужем</td>\n",
       "      <td>0</td>\n",
       "      <td>F</td>\n",
       "      <td>сотрудник</td>\n",
       "      <td>0</td>\n",
       "      <td>289202.704229</td>\n",
       "      <td>недвижимость</td>\n",
       "    </tr>\n",
       "    <tr>\n",
       "      <th>17</th>\n",
       "      <td>0</td>\n",
       "      <td>-2369.999720</td>\n",
       "      <td>33</td>\n",
       "      <td>высшее</td>\n",
       "      <td>0</td>\n",
       "      <td>гражданский брак</td>\n",
       "      <td>1</td>\n",
       "      <td>M</td>\n",
       "      <td>сотрудник</td>\n",
       "      <td>0</td>\n",
       "      <td>90410.586745</td>\n",
       "      <td>строительство недвижимости</td>\n",
       "    </tr>\n",
       "    <tr>\n",
       "      <th>18</th>\n",
       "      <td>0</td>\n",
       "      <td>400281.136913</td>\n",
       "      <td>53</td>\n",
       "      <td>среднее</td>\n",
       "      <td>1</td>\n",
       "      <td>вдовец / вдова</td>\n",
       "      <td>2</td>\n",
       "      <td>F</td>\n",
       "      <td>пенсионер</td>\n",
       "      <td>0</td>\n",
       "      <td>56823.777243</td>\n",
       "      <td>на покупку подержанного автомобиля</td>\n",
       "    </tr>\n",
       "    <tr>\n",
       "      <th>19</th>\n",
       "      <td>0</td>\n",
       "      <td>-10038.818549</td>\n",
       "      <td>48</td>\n",
       "      <td>СРЕДНЕЕ</td>\n",
       "      <td>1</td>\n",
       "      <td>в разводе</td>\n",
       "      <td>3</td>\n",
       "      <td>F</td>\n",
       "      <td>сотрудник</td>\n",
       "      <td>0</td>\n",
       "      <td>242831.107982</td>\n",
       "      <td>на покупку своего автомобиля</td>\n",
       "    </tr>\n",
       "  </tbody>\n",
       "</table>\n",
       "</div>"
      ],
      "text/plain": [
       "    children  days_employed  dob_years            education  education_id  \\\n",
       "0          1   -8437.673028         42               высшее             0   \n",
       "1          1   -4024.803754         36              среднее             1   \n",
       "2          0   -5623.422610         33              Среднее             1   \n",
       "3          3   -4124.747207         32              среднее             1   \n",
       "4          0  340266.072047         53              среднее             1   \n",
       "5          0    -926.185831         27               высшее             0   \n",
       "6          0   -2879.202052         43               высшее             0   \n",
       "7          0    -152.779569         50              СРЕДНЕЕ             1   \n",
       "8          2   -6929.865299         35               ВЫСШЕЕ             0   \n",
       "9          0   -2188.756445         41              среднее             1   \n",
       "10         2   -4171.483647         36               высшее             0   \n",
       "11         0    -792.701887         40              среднее             1   \n",
       "12         0            NaN         65              среднее             1   \n",
       "13         0   -1846.641941         54  неоконченное высшее             2   \n",
       "14         0   -1844.956182         56               высшее             0   \n",
       "15         1    -972.364419         26              среднее             1   \n",
       "16         0   -1719.934226         35              среднее             1   \n",
       "17         0   -2369.999720         33               высшее             0   \n",
       "18         0  400281.136913         53              среднее             1   \n",
       "19         0  -10038.818549         48              СРЕДНЕЕ             1   \n",
       "\n",
       "       family_status  family_status_id gender income_type  debt  \\\n",
       "0    женат / замужем                 0      F   сотрудник     0   \n",
       "1    женат / замужем                 0      F   сотрудник     0   \n",
       "2    женат / замужем                 0      M   сотрудник     0   \n",
       "3    женат / замужем                 0      M   сотрудник     0   \n",
       "4   гражданский брак                 1      F   пенсионер     0   \n",
       "5   гражданский брак                 1      M   компаньон     0   \n",
       "6    женат / замужем                 0      F   компаньон     0   \n",
       "7    женат / замужем                 0      M   сотрудник     0   \n",
       "8   гражданский брак                 1      F   сотрудник     0   \n",
       "9    женат / замужем                 0      M   сотрудник     0   \n",
       "10   женат / замужем                 0      M   компаньон     0   \n",
       "11   женат / замужем                 0      F   сотрудник     0   \n",
       "12  гражданский брак                 1      M   пенсионер     0   \n",
       "13   женат / замужем                 0      F   сотрудник     0   \n",
       "14  гражданский брак                 1      F   компаньон     1   \n",
       "15   женат / замужем                 0      F   сотрудник     0   \n",
       "16   женат / замужем                 0      F   сотрудник     0   \n",
       "17  гражданский брак                 1      M   сотрудник     0   \n",
       "18    вдовец / вдова                 2      F   пенсионер     0   \n",
       "19         в разводе                 3      F   сотрудник     0   \n",
       "\n",
       "     total_income                                 purpose  \n",
       "0   253875.639453                           покупка жилья  \n",
       "1   112080.014102                 приобретение автомобиля  \n",
       "2   145885.952297                           покупка жилья  \n",
       "3   267628.550329              дополнительное образование  \n",
       "4   158616.077870                         сыграть свадьбу  \n",
       "5   255763.565419                           покупка жилья  \n",
       "6   240525.971920                       операции с жильем  \n",
       "7   135823.934197                             образование  \n",
       "8    95856.832424                   на проведение свадьбы  \n",
       "9   144425.938277                 покупка жилья для семьи  \n",
       "10  113943.491460                    покупка недвижимости  \n",
       "11   77069.234271       покупка коммерческой недвижимости  \n",
       "12            NaN                         сыграть свадьбу  \n",
       "13  130458.228857                 приобретение автомобиля  \n",
       "14  165127.911772              покупка жилой недвижимости  \n",
       "15  116820.904450  строительство собственной недвижимости  \n",
       "16  289202.704229                            недвижимость  \n",
       "17   90410.586745              строительство недвижимости  \n",
       "18   56823.777243      на покупку подержанного автомобиля  \n",
       "19  242831.107982            на покупку своего автомобиля  "
      ]
     },
     "execution_count": 2,
     "metadata": {},
     "output_type": "execute_result"
    }
   ],
   "source": [
    "data.head(20)"
   ]
  },
  {
   "cell_type": "markdown",
   "id": "0ed8f27f",
   "metadata": {
    "deletable": false,
    "editable": false,
    "id": "0ed8f27f"
   },
   "source": [
    "**Задание 3. Выведите основную информацию о датафрейме с помощью метода `info()`.**"
   ]
  },
  {
   "cell_type": "code",
   "execution_count": 3,
   "id": "ab3f863b",
   "metadata": {
    "deletable": false,
    "id": "ab3f863b",
    "outputId": "15376089-8dad-46c9-b520-c05248d43158"
   },
   "outputs": [
    {
     "name": "stdout",
     "output_type": "stream",
     "text": [
      "<class 'pandas.core.frame.DataFrame'>\n",
      "RangeIndex: 21525 entries, 0 to 21524\n",
      "Data columns (total 12 columns):\n",
      " #   Column            Non-Null Count  Dtype  \n",
      "---  ------            --------------  -----  \n",
      " 0   children          21525 non-null  int64  \n",
      " 1   days_employed     19351 non-null  float64\n",
      " 2   dob_years         21525 non-null  int64  \n",
      " 3   education         21525 non-null  object \n",
      " 4   education_id      21525 non-null  int64  \n",
      " 5   family_status     21525 non-null  object \n",
      " 6   family_status_id  21525 non-null  int64  \n",
      " 7   gender            21525 non-null  object \n",
      " 8   income_type       21525 non-null  object \n",
      " 9   debt              21525 non-null  int64  \n",
      " 10  total_income      19351 non-null  float64\n",
      " 11  purpose           21525 non-null  object \n",
      "dtypes: float64(2), int64(5), object(5)\n",
      "memory usage: 2.0+ MB\n"
     ]
    }
   ],
   "source": [
    "data.info()"
   ]
  },
  {
   "cell_type": "markdown",
   "id": "60e3e22d",
   "metadata": {
    "deletable": false,
    "editable": false,
    "id": "60e3e22d"
   },
   "source": [
    "## Предобработка данных"
   ]
  },
  {
   "cell_type": "markdown",
   "id": "03dc170c",
   "metadata": {
    "deletable": false,
    "editable": false,
    "id": "03dc170c"
   },
   "source": [
    "### Удаление пропусков"
   ]
  },
  {
   "cell_type": "markdown",
   "id": "a4f54eef",
   "metadata": {
    "deletable": false,
    "editable": false,
    "id": "a4f54eef"
   },
   "source": [
    "**Задание 4. Выведите количество пропущенных значений для каждого столбца. Используйте комбинацию двух методов.**"
   ]
  },
  {
   "cell_type": "code",
   "execution_count": 4,
   "id": "2dc372b2",
   "metadata": {
    "deletable": false,
    "id": "2dc372b2",
    "outputId": "81f4d817-781c-465c-ed15-91ce4446810d"
   },
   "outputs": [
    {
     "data": {
      "text/plain": [
       "children               0\n",
       "days_employed       2174\n",
       "dob_years              0\n",
       "education              0\n",
       "education_id           0\n",
       "family_status          0\n",
       "family_status_id       0\n",
       "gender                 0\n",
       "income_type            0\n",
       "debt                   0\n",
       "total_income        2174\n",
       "purpose                0\n",
       "dtype: int64"
      ]
     },
     "execution_count": 4,
     "metadata": {},
     "output_type": "execute_result"
    }
   ],
   "source": [
    "data.isna().sum()"
   ]
  },
  {
   "cell_type": "markdown",
   "id": "14f011b1",
   "metadata": {
    "deletable": false,
    "editable": false,
    "id": "14f011b1"
   },
   "source": [
    "**Задание 5. В двух столбцах есть пропущенные значения. Один из них — `days_employed`. Пропуски в этом столбце вы обработаете на следующем этапе. Другой столбец с пропущенными значениями — `total_income` — хранит данные о доходах. На сумму дохода сильнее всего влияет тип занятости, поэтому заполнить пропуски в этом столбце нужно медианным значением по каждому типу из столбца `income_type`. Например, у человека с типом занятости `сотрудник` пропуск в столбце `total_income` должен быть заполнен медианным доходом среди всех записей с тем же типом.**"
   ]
  },
  {
   "cell_type": "code",
   "execution_count": 5,
   "id": "bdabfb6e",
   "metadata": {
    "deletable": false,
    "id": "bdabfb6e"
   },
   "outputs": [],
   "source": [
    "for t in data['income_type'].unique():\n",
    "    data.loc[(data['income_type'] == t) & (data['total_income'].isna()), 'total_income'] = \\\n",
    "    data.loc[(data['income_type'] == t), 'total_income'].median()"
   ]
  },
  {
   "cell_type": "markdown",
   "id": "5be34059",
   "metadata": {
    "deletable": false,
    "editable": false,
    "id": "5be34059"
   },
   "source": [
    "### Обработка аномальных значений"
   ]
  },
  {
   "cell_type": "markdown",
   "id": "a87606cb",
   "metadata": {
    "deletable": false,
    "editable": false,
    "id": "a87606cb"
   },
   "source": [
    "**Задание 6. В данных могут встречаться артефакты (аномалии) — значения, которые не отражают действительность и появились по какой-то ошибке. таким артефактом будет отрицательное количество дней трудового стажа в столбце `days_employed`. Для реальных данных это нормально. Обработайте значения в этом столбце: замените все отрицательные значения положительными с помощью метода `abs()`.**"
   ]
  },
  {
   "cell_type": "code",
   "execution_count": 6,
   "id": "020c46cc",
   "metadata": {
    "deletable": false,
    "id": "020c46cc"
   },
   "outputs": [],
   "source": [
    "data['days_employed'] = data['days_employed'].abs()"
   ]
  },
  {
   "cell_type": "markdown",
   "id": "45538a3a",
   "metadata": {
    "deletable": false,
    "editable": false,
    "id": "45538a3a"
   },
   "source": [
    "**Задание 7. Для каждого типа занятости выведите медианное значение трудового стажа `days_employed` в днях.**"
   ]
  },
  {
   "cell_type": "code",
   "execution_count": 7,
   "id": "cd3e6328",
   "metadata": {
    "deletable": false,
    "id": "cd3e6328",
    "outputId": "801ef80e-522b-4668-f34e-565af7432bcf"
   },
   "outputs": [
    {
     "data": {
      "text/plain": [
       "income_type\n",
       "безработный        366413.652744\n",
       "в декрете            3296.759962\n",
       "госслужащий          2689.368353\n",
       "компаньон            1547.382223\n",
       "пенсионер          365213.306266\n",
       "предприниматель       520.848083\n",
       "сотрудник            1574.202821\n",
       "студент               578.751554\n",
       "Name: days_employed, dtype: float64"
      ]
     },
     "execution_count": 7,
     "metadata": {},
     "output_type": "execute_result"
    }
   ],
   "source": [
    "data.groupby('income_type')['days_employed'].agg('median')"
   ]
  },
  {
   "cell_type": "markdown",
   "id": "90c5f058",
   "metadata": {
    "deletable": false,
    "editable": false,
    "id": "90c5f058"
   },
   "source": [
    "У двух типов (безработные и пенсионеры) получатся аномально большие значения. Исправить такие значения сложно, поэтому оставьте их как есть."
   ]
  },
  {
   "cell_type": "markdown",
   "id": "9652e50d",
   "metadata": {
    "deletable": false,
    "editable": false,
    "id": "9652e50d"
   },
   "source": [
    "**Задание 8. Выведите перечень уникальных значений столбца `children`.**"
   ]
  },
  {
   "cell_type": "code",
   "execution_count": 8,
   "id": "dbb37b8e",
   "metadata": {
    "deletable": false,
    "id": "dbb37b8e",
    "outputId": "6975b15c-7f95-4697-d16d-a0c79b657b03"
   },
   "outputs": [
    {
     "data": {
      "text/plain": [
       "array([ 1,  0,  3,  2, -1,  4, 20,  5])"
      ]
     },
     "execution_count": 8,
     "metadata": {},
     "output_type": "execute_result"
    }
   ],
   "source": [
    "data['children'].unique()"
   ]
  },
  {
   "cell_type": "markdown",
   "id": "2b8b0715",
   "metadata": {
    "deletable": false,
    "editable": false,
    "id": "2b8b0715"
   },
   "source": [
    "**Задание 9. В столбце `children` есть два аномальных значения. Удалите строки, в которых встречаются такие аномальные значения из датафрейма `data`.**"
   ]
  },
  {
   "cell_type": "code",
   "execution_count": 9,
   "id": "20009df8",
   "metadata": {
    "deletable": false,
    "id": "20009df8"
   },
   "outputs": [],
   "source": [
    "data = data[(data['children'] != -1) & (data['children'] != 20)]"
   ]
  },
  {
   "cell_type": "markdown",
   "id": "8c6ac9f1",
   "metadata": {
    "deletable": false,
    "editable": false,
    "id": "8c6ac9f1"
   },
   "source": [
    "**Задание 10. Ещё раз выведите перечень уникальных значений столбца `children`, чтобы убедиться, что артефакты удалены.**"
   ]
  },
  {
   "cell_type": "code",
   "execution_count": 10,
   "id": "07337b81",
   "metadata": {
    "deletable": false,
    "id": "07337b81",
    "outputId": "b2097101-d49d-44d9-901b-32a65c9463d1"
   },
   "outputs": [
    {
     "data": {
      "text/plain": [
       "array([1, 0, 3, 2, 4, 5])"
      ]
     },
     "execution_count": 10,
     "metadata": {},
     "output_type": "execute_result"
    }
   ],
   "source": [
    "data['children'].unique()"
   ]
  },
  {
   "cell_type": "markdown",
   "id": "ee3f52d4",
   "metadata": {
    "deletable": false,
    "editable": false,
    "id": "ee3f52d4"
   },
   "source": [
    "### Удаление пропусков (продолжение)"
   ]
  },
  {
   "cell_type": "markdown",
   "id": "a700b0e4",
   "metadata": {
    "deletable": false,
    "editable": false,
    "id": "a700b0e4"
   },
   "source": [
    "**Задание 11. Заполните пропуски в столбце `days_employed` медианными значениями по каждого типа занятости `income_type`.**"
   ]
  },
  {
   "cell_type": "code",
   "execution_count": 11,
   "id": "61946b83",
   "metadata": {
    "deletable": false,
    "id": "61946b83"
   },
   "outputs": [],
   "source": [
    "for t in data['income_type'].unique():\n",
    "    data.loc[(data['income_type'] == t) & (data['days_employed'].isna()), 'days_employed'] = \\\n",
    "    data.loc[(data['income_type'] == t), 'days_employed'].median()"
   ]
  },
  {
   "cell_type": "markdown",
   "id": "550dcd9b",
   "metadata": {
    "deletable": false,
    "editable": false,
    "id": "550dcd9b"
   },
   "source": [
    "**Задание 12. Убедитесь, что все пропуски заполнены. Проверьте себя и ещё раз выведите количество пропущенных значений для каждого столбца с помощью двух методов.**"
   ]
  },
  {
   "cell_type": "code",
   "execution_count": 12,
   "id": "937c7014",
   "metadata": {
    "deletable": false,
    "id": "937c7014",
    "outputId": "8da1e4e1-358e-4e87-98c9-f261bce0a7b2"
   },
   "outputs": [
    {
     "data": {
      "text/plain": [
       "children            0\n",
       "days_employed       0\n",
       "dob_years           0\n",
       "education           0\n",
       "education_id        0\n",
       "family_status       0\n",
       "family_status_id    0\n",
       "gender              0\n",
       "income_type         0\n",
       "debt                0\n",
       "total_income        0\n",
       "purpose             0\n",
       "dtype: int64"
      ]
     },
     "execution_count": 12,
     "metadata": {},
     "output_type": "execute_result"
    }
   ],
   "source": [
    "data.isna().sum()"
   ]
  },
  {
   "cell_type": "markdown",
   "id": "d522e295",
   "metadata": {
    "deletable": false,
    "editable": false,
    "id": "d522e295"
   },
   "source": [
    "### Изменение типов данных"
   ]
  },
  {
   "cell_type": "markdown",
   "id": "c229c581",
   "metadata": {
    "deletable": false,
    "editable": false,
    "id": "c229c581"
   },
   "source": [
    "**Задание 13. Замените вещественный тип данных в столбце `total_income` на целочисленный с помощью метода `astype()`.**"
   ]
  },
  {
   "cell_type": "code",
   "execution_count": 13,
   "id": "31036462",
   "metadata": {
    "deletable": false,
    "id": "31036462"
   },
   "outputs": [],
   "source": [
    "data['total_income'] = data['total_income'].astype(int)"
   ]
  },
  {
   "cell_type": "markdown",
   "id": "b8e3d1d9",
   "metadata": {
    "deletable": false,
    "editable": false,
    "id": "b8e3d1d9"
   },
   "source": [
    "### Обработка дубликатов"
   ]
  },
  {
   "cell_type": "markdown",
   "id": "9be53c49",
   "metadata": {
    "deletable": false,
    "editable": false,
    "id": "9be53c49"
   },
   "source": [
    "**Задание 14. Обработайте неявные дубликаты в столбце `education`. В этом столбце есть одни и те же значения, но записанные по-разному: с использованием заглавных и строчных букв. Приведите их к нижнему регистру.**"
   ]
  },
  {
   "cell_type": "code",
   "execution_count": 14,
   "id": "d89e73e1",
   "metadata": {
    "deletable": false,
    "id": "d89e73e1"
   },
   "outputs": [],
   "source": [
    "data['education'] = data['education'].str.lower()"
   ]
  },
  {
   "cell_type": "markdown",
   "id": "01d4500e",
   "metadata": {
    "deletable": false,
    "editable": false,
    "id": "01d4500e"
   },
   "source": [
    "**Задание 15. Выведите на экран количество строк-дубликатов в данных. Если такие строки присутствуют, удалите их.**"
   ]
  },
  {
   "cell_type": "code",
   "execution_count": 15,
   "id": "e10efb23",
   "metadata": {
    "deletable": false,
    "id": "e10efb23",
    "outputId": "9684deba-1934-42d1-99e1-cda61740f822"
   },
   "outputs": [
    {
     "data": {
      "text/plain": [
       "71"
      ]
     },
     "execution_count": 15,
     "metadata": {},
     "output_type": "execute_result"
    }
   ],
   "source": [
    "data.duplicated().sum()"
   ]
  },
  {
   "cell_type": "code",
   "execution_count": 16,
   "id": "df853f20",
   "metadata": {
    "deletable": false,
    "id": "df853f20"
   },
   "outputs": [],
   "source": [
    "data = data.drop_duplicates()"
   ]
  },
  {
   "cell_type": "markdown",
   "id": "627be38f",
   "metadata": {
    "deletable": false,
    "editable": false,
    "id": "627be38f"
   },
   "source": [
    "### Категоризация данных"
   ]
  },
  {
   "cell_type": "markdown",
   "id": "4684c3e0",
   "metadata": {
    "deletable": false,
    "editable": false,
    "id": "4684c3e0"
   },
   "source": [
    "**Задание 16. На основании диапазонов, указанных ниже, создайте в датафрейме `data` столбец `total_income_category` с категориями:**\n",
    "\n",
    "- 0–30000 — `'E'`;\n",
    "- 30001–50000 — `'D'`;\n",
    "- 50001–200000 — `'C'`;\n",
    "- 200001–1000000 — `'B'`;\n",
    "- 1000001 и выше — `'A'`.\n",
    "\n",
    "\n",
    "**Например, кредитополучателю с доходом 25000 нужно назначить категорию `'E'`, а клиенту, получающему 235000, — `'B'`. Используйте собственную функцию с именем `categorize_income()` и метод `apply()`.**"
   ]
  },
  {
   "cell_type": "code",
   "execution_count": 17,
   "id": "78965238",
   "metadata": {
    "deletable": false,
    "id": "78965238"
   },
   "outputs": [],
   "source": [
    "def categorize_income(income):\n",
    "    try:\n",
    "        if 0 <= income <= 30000:\n",
    "            return 'E'\n",
    "        elif 30001 <= income <= 50000:\n",
    "            return 'D'\n",
    "        elif 50001 <= income <= 200000:\n",
    "            return 'C'\n",
    "        elif 200001 <= income <= 1000000:\n",
    "            return 'B'\n",
    "        elif income >= 1000001:\n",
    "            return 'A'\n",
    "    except:\n",
    "        pass"
   ]
  },
  {
   "cell_type": "code",
   "execution_count": 18,
   "id": "0980ada1",
   "metadata": {
    "deletable": false,
    "id": "0980ada1"
   },
   "outputs": [],
   "source": [
    "data['total_income_category'] = data['total_income'].apply(categorize_income)"
   ]
  },
  {
   "cell_type": "markdown",
   "id": "9917bba0",
   "metadata": {
    "deletable": false,
    "editable": false,
    "id": "9917bba0"
   },
   "source": [
    "**Задание 17. Выведите на экран перечень уникальных целей взятия кредита из столбца `purpose`.**"
   ]
  },
  {
   "cell_type": "code",
   "execution_count": 19,
   "id": "ee07b65e",
   "metadata": {
    "deletable": false,
    "id": "ee07b65e",
    "outputId": "673c12d9-7d7e-4ae0-9812-c622c89dd244"
   },
   "outputs": [
    {
     "data": {
      "text/plain": [
       "array(['покупка жилья', 'приобретение автомобиля',\n",
       "       'дополнительное образование', 'сыграть свадьбу',\n",
       "       'операции с жильем', 'образование', 'на проведение свадьбы',\n",
       "       'покупка жилья для семьи', 'покупка недвижимости',\n",
       "       'покупка коммерческой недвижимости', 'покупка жилой недвижимости',\n",
       "       'строительство собственной недвижимости', 'недвижимость',\n",
       "       'строительство недвижимости', 'на покупку подержанного автомобиля',\n",
       "       'на покупку своего автомобиля',\n",
       "       'операции с коммерческой недвижимостью',\n",
       "       'строительство жилой недвижимости', 'жилье',\n",
       "       'операции со своей недвижимостью', 'автомобили',\n",
       "       'заняться образованием', 'сделка с подержанным автомобилем',\n",
       "       'получение образования', 'автомобиль', 'свадьба',\n",
       "       'получение дополнительного образования', 'покупка своего жилья',\n",
       "       'операции с недвижимостью', 'получение высшего образования',\n",
       "       'свой автомобиль', 'сделка с автомобилем',\n",
       "       'профильное образование', 'высшее образование',\n",
       "       'покупка жилья для сдачи', 'на покупку автомобиля', 'ремонт жилью',\n",
       "       'заняться высшим образованием'], dtype=object)"
      ]
     },
     "execution_count": 19,
     "metadata": {},
     "output_type": "execute_result"
    }
   ],
   "source": [
    "data['purpose'].unique()"
   ]
  },
  {
   "cell_type": "markdown",
   "id": "52b79d56",
   "metadata": {
    "deletable": false,
    "editable": false,
    "id": "52b79d56"
   },
   "source": [
    "**Задание 18. Создайте функцию, которая на основании данных из столбца `purpose` сформирует новый столбец `purpose_category`, в который войдут следующие категории:**\n",
    "\n",
    "- `'операции с автомобилем'`,\n",
    "- `'операции с недвижимостью'`,\n",
    "- `'проведение свадьбы'`,\n",
    "- `'получение образования'`.\n",
    "\n",
    "**Например, если в столбце `purpose` находится подстрока `'на покупку автомобиля'`, то в столбце `purpose_category` должна появиться строка `'операции с автомобилем'`.**\n",
    "\n",
    "**Используйте собственную функцию с именем `categorize_purpose()` и метод `apply()`. Изучите данные в столбце `purpose` и определите, какие подстроки помогут вам правильно определить категорию.**"
   ]
  },
  {
   "cell_type": "code",
   "execution_count": 20,
   "id": "be41da5d",
   "metadata": {
    "deletable": false,
    "id": "be41da5d"
   },
   "outputs": [],
   "source": [
    "def categorize_purpose(row):\n",
    "    try:\n",
    "        if 'автом' in row:\n",
    "            return 'операции с автомобилем'\n",
    "        elif 'жил' in row or 'недвиж' in row:\n",
    "            return 'операции с недвижимостью'\n",
    "        elif 'свад' in row:\n",
    "            return 'проведение свадьбы'\n",
    "        elif 'образов' in row:\n",
    "            return 'получение образования'\n",
    "    except:\n",
    "        return 'нет категории'"
   ]
  },
  {
   "cell_type": "code",
   "execution_count": 21,
   "id": "94c4a19a",
   "metadata": {
    "deletable": false,
    "id": "94c4a19a"
   },
   "outputs": [],
   "source": [
    "data['purpose_category'] = data['purpose'].apply(categorize_purpose)"
   ]
  },
  {
   "cell_type": "markdown",
   "id": "3d596c34",
   "metadata": {
    "deletable": false,
    "editable": false,
    "id": "3d596c34"
   },
   "source": [
    "### Шаг 3. Исследуйте данные и ответьте на вопросы"
   ]
  },
  {
   "cell_type": "markdown",
   "id": "648db036",
   "metadata": {
    "deletable": false,
    "editable": false,
    "id": "648db036"
   },
   "source": [
    "#### 3.1 Есть ли зависимость между количеством детей и возвратом кредита в срок?"
   ]
  },
  {
   "cell_type": "code",
   "execution_count": 22,
   "id": "7fcff25e",
   "metadata": {
    "deletable": false,
    "id": "7fcff25e"
   },
   "outputs": [
    {
     "data": {
      "text/html": [
       "<div>\n",
       "<style scoped>\n",
       "    .dataframe tbody tr th:only-of-type {\n",
       "        vertical-align: middle;\n",
       "    }\n",
       "\n",
       "    .dataframe tbody tr th {\n",
       "        vertical-align: top;\n",
       "    }\n",
       "\n",
       "    .dataframe thead th {\n",
       "        text-align: right;\n",
       "    }\n",
       "</style>\n",
       "<table border=\"1\" class=\"dataframe\">\n",
       "  <thead>\n",
       "    <tr style=\"text-align: right;\">\n",
       "      <th></th>\n",
       "      <th>total clients</th>\n",
       "      <th>debt sum</th>\n",
       "      <th>correlation</th>\n",
       "    </tr>\n",
       "    <tr>\n",
       "      <th>children</th>\n",
       "      <th></th>\n",
       "      <th></th>\n",
       "      <th></th>\n",
       "    </tr>\n",
       "  </thead>\n",
       "  <tbody>\n",
       "    <tr>\n",
       "      <th>5</th>\n",
       "      <td>9</td>\n",
       "      <td>0</td>\n",
       "      <td>0.000000</td>\n",
       "    </tr>\n",
       "    <tr>\n",
       "      <th>0</th>\n",
       "      <td>14091</td>\n",
       "      <td>1063</td>\n",
       "      <td>0.075438</td>\n",
       "    </tr>\n",
       "    <tr>\n",
       "      <th>3</th>\n",
       "      <td>330</td>\n",
       "      <td>27</td>\n",
       "      <td>0.081818</td>\n",
       "    </tr>\n",
       "    <tr>\n",
       "      <th>1</th>\n",
       "      <td>4808</td>\n",
       "      <td>444</td>\n",
       "      <td>0.092346</td>\n",
       "    </tr>\n",
       "    <tr>\n",
       "      <th>2</th>\n",
       "      <td>2052</td>\n",
       "      <td>194</td>\n",
       "      <td>0.094542</td>\n",
       "    </tr>\n",
       "    <tr>\n",
       "      <th>4</th>\n",
       "      <td>41</td>\n",
       "      <td>4</td>\n",
       "      <td>0.097561</td>\n",
       "    </tr>\n",
       "  </tbody>\n",
       "</table>\n",
       "</div>"
      ],
      "text/plain": [
       "          total clients  debt sum  correlation\n",
       "children                                      \n",
       "5                     9         0     0.000000\n",
       "0                 14091      1063     0.075438\n",
       "3                   330        27     0.081818\n",
       "1                  4808       444     0.092346\n",
       "2                  2052       194     0.094542\n",
       "4                    41         4     0.097561"
      ]
     },
     "metadata": {},
     "output_type": "display_data"
    },
    {
     "data": {
      "image/png": "[encoded data removed]",
      "text/plain": [
       "<Figure size 648x432 with 1 Axes>"
      ]
     },
     "metadata": {
      "needs_background": "light"
     },
     "output_type": "display_data"
    }
   ],
   "source": [
    "import matplotlib.pyplot as plt\n",
    "\n",
    "\n",
    "%matplotlib inline\n",
    "\n",
    "child_debt = pd.pivot_table(data, index = ['children'], values ='debt', aggfunc = {'count', 'sum'})\n",
    "child_debt.columns.tolist()\n",
    "child_debt['correlation'] = child_debt['sum'] / child_debt['count']\n",
    "child_debt = child_debt.rename(columns={'count':'total clients','sum':'debt sum'})\n",
    "child_debt = child_debt.sort_values(by = 'correlation', ascending = True)\n",
    "display(child_debt)\n",
    "\n",
    "plt.figure(figsize = (9, 6))\n",
    "plt.plot(child_debt['correlation'], marker='.', \n",
    "         markersize=9)\n",
    "plt.title('Зависимость между количеством детей и возвратом кредита в срок',fontsize=14)\n",
    "plt.xlabel('Количество детей в семье')\n",
    "plt.ylabel('Корреляция')\n",
    "plt.show()"
   ]
  },
  {
   "cell_type": "markdown",
   "id": "2eb9088e",
   "metadata": {
    "deletable": false,
    "id": "2eb9088e"
   },
   "source": [
    "**Вывод:** зависимость между количеством детей и возвратом кредита в срок существует.\n",
    "Исходя из полученных данных, заёмщики с пятью детьми в семье возвращают денежные средства в банк точно в срок. Однако прошу заметить, что количество кредитующихся клиентов с количеством детей в семье равном 5 всего 9. При увеличении числа таких заёмщиков, не факт, что сохранится тенденция в возращении денежных средств точно в срок у данной группы клентов. Можно предположить, что заёмщики данного банка с пятью детьми в семье высокоогранизованы в планировании семейного бюджета.\n",
    "\n",
    "Бездетные заёмщики допускают небольшую просрочку в выплате кредита немногим реже, чем клиенты с тремя детьми. Данное повеждение может быть обусловлено малой организованностью в планировании семейного бюджета для бездетных заёмщиков и хорошей организованностью семейного бюджета с невозможностью оценить экстенные траты для клиентов с тремя детьми. Например: детям свойственнно болеть, а заболевают они, как правило, в одно время. Соответственно, лечение трёх детей сразу - серьёзная незапланнированная нагрузка на семейный бюджет.\n",
    "\n",
    "Заёмщики с одним ребенком в семье реже допускают просрочки в платежах по кредитам, чем заёмщики с двумя детьми, но чаще чем бездетные заёмщики и клиенты с тремя и пятью детьми. Данное поведение может быть обусловлено недостаточным опытом в составлении семейного бюджета для клиентов с одним ребенком и увеличением нагрузки на семейный бюджет при появлении второго ребенка в семьях. Данное поведение частично поддтвержает гипотезу.\n",
    "\n",
    "Группа заёмщиков с чётырьмя детьми, соостоящая всего из 41 клиентов чаще всех остальных групп допускает просрочки по платежам. Данное поведение может быть обусловлено низкой организованностью семейного бюджета и/или высокой финансовой нагрузкой на бюджет семьи на содержание четырёх детей.    \n",
    "\n",
    "На графике, если не учитывать группу заёмщиков с пятью детьми в семье, прослеживается слабая тенденция к увеличению числа просрочек с увеличением числа детей в семье.  "
   ]
  },
  {
   "cell_type": "markdown",
   "id": "74c9b3a7",
   "metadata": {
    "deletable": false,
    "editable": false,
    "id": "74c9b3a7"
   },
   "source": [
    "#### 3.2 Есть ли зависимость между семейным положением и возвратом кредита в срок?"
   ]
  },
  {
   "cell_type": "code",
   "execution_count": 23,
   "id": "8098ab3b",
   "metadata": {
    "deletable": false,
    "id": "8098ab3b"
   },
   "outputs": [
    {
     "data": {
      "text/html": [
       "<div>\n",
       "<style scoped>\n",
       "    .dataframe tbody tr th:only-of-type {\n",
       "        vertical-align: middle;\n",
       "    }\n",
       "\n",
       "    .dataframe tbody tr th {\n",
       "        vertical-align: top;\n",
       "    }\n",
       "\n",
       "    .dataframe thead th {\n",
       "        text-align: right;\n",
       "    }\n",
       "</style>\n",
       "<table border=\"1\" class=\"dataframe\">\n",
       "  <thead>\n",
       "    <tr style=\"text-align: right;\">\n",
       "      <th></th>\n",
       "      <th>total clients</th>\n",
       "      <th>debt sum</th>\n",
       "      <th>correlation</th>\n",
       "    </tr>\n",
       "    <tr>\n",
       "      <th>family_status</th>\n",
       "      <th></th>\n",
       "      <th></th>\n",
       "      <th></th>\n",
       "    </tr>\n",
       "  </thead>\n",
       "  <tbody>\n",
       "    <tr>\n",
       "      <th>вдовец / вдова</th>\n",
       "      <td>951</td>\n",
       "      <td>63</td>\n",
       "      <td>0.066246</td>\n",
       "    </tr>\n",
       "    <tr>\n",
       "      <th>в разводе</th>\n",
       "      <td>1189</td>\n",
       "      <td>84</td>\n",
       "      <td>0.070648</td>\n",
       "    </tr>\n",
       "    <tr>\n",
       "      <th>женат / замужем</th>\n",
       "      <td>12261</td>\n",
       "      <td>927</td>\n",
       "      <td>0.075606</td>\n",
       "    </tr>\n",
       "    <tr>\n",
       "      <th>гражданский брак</th>\n",
       "      <td>4134</td>\n",
       "      <td>385</td>\n",
       "      <td>0.093130</td>\n",
       "    </tr>\n",
       "    <tr>\n",
       "      <th>Не женат / не замужем</th>\n",
       "      <td>2796</td>\n",
       "      <td>273</td>\n",
       "      <td>0.097639</td>\n",
       "    </tr>\n",
       "  </tbody>\n",
       "</table>\n",
       "</div>"
      ],
      "text/plain": [
       "                       total clients  debt sum  correlation\n",
       "family_status                                              \n",
       "вдовец / вдова                   951        63     0.066246\n",
       "в разводе                       1189        84     0.070648\n",
       "женат / замужем                12261       927     0.075606\n",
       "гражданский брак                4134       385     0.093130\n",
       "Не женат / не замужем           2796       273     0.097639"
      ]
     },
     "metadata": {},
     "output_type": "display_data"
    },
    {
     "data": {
      "image/png": "[encoded data removed]",
      "text/plain": [
       "<Figure size 684x432 with 1 Axes>"
      ]
     },
     "metadata": {
      "needs_background": "light"
     },
     "output_type": "display_data"
    }
   ],
   "source": [
    "marrige_debt = pd.pivot_table(data, index = ['family_status'], values ='debt', aggfunc = {'count', 'sum'})\n",
    "marrige_debt.columns.tolist()\n",
    "marrige_debt['correlation'] = marrige_debt['sum'] / marrige_debt['count']\n",
    "marrige_debt = marrige_debt.rename(columns={'count':'total clients','sum':'debt sum'})\n",
    "marrige_debt = marrige_debt.sort_values(by = 'correlation', ascending = True)\n",
    "display(marrige_debt)\n",
    "\n",
    "plt.figure(figsize = (9.5, 6))\n",
    "plt.plot(marrige_debt['correlation'], marker='.', \n",
    "         markersize=9)\n",
    "plt.title('Зависимость между семейным положением и возвратом кредита в срок',fontsize=16)\n",
    "plt.xlabel('Категория семейного положения',fontsize=12)\n",
    "plt.ylabel('Корреляция',fontsize=12)\n",
    "plt.show()"
   ]
  },
  {
   "cell_type": "markdown",
   "id": "c389ca63",
   "metadata": {
    "deletable": false,
    "id": "c389ca63"
   },
   "source": [
    "**Вывод:** Существует зависимость между семейным положением и возвратом кредита в срок.\n",
    "Клиенты вдовцы /вдовы и в разводе реже остальных групп допускают просрочки в платежах по кредиты. Обусловлено данное поведение может быть тем, что данные категории клиентов привыкли более тчательно планировать свой бюджет, поскольку уже были в браке, где требовалось умение граммотно распределять денежные средства. Схожее поведение выплат имеют клиенты состоящие в браке, что поддтвержает вышесказанное. \n",
    "\n",
    "Заёмщики, состоящие в гражданском браке, намного чаще допускают просрочки по платежам кредита, что может быть обусловлено большей свободой денежных отношений в таком виде брака, или недостатком опыта в выстраивании семейного бюджета, или ввиду молодого возраста, или другими факторами. \n",
    "\n",
    "Наиболее частые просрочки по кредиту у клиентов не состоящих в браке. Что может быть обусловлено в неумении планирования своего бюджета, реализацией своих \"хотелок\" здесь и сейчас или недостатком опыта в денежных отношениях ввиду молодого возраста.\n",
    "\n",
    "Зависимость между семейным положением и возвратом кредита в срок, описанная выше, отлично видна при визуализации полученных данных, в данном случае на графике."
   ]
  },
  {
   "cell_type": "markdown",
   "id": "9529de68",
   "metadata": {
    "deletable": false,
    "editable": false,
    "id": "9529de68"
   },
   "source": [
    "#### 3.3 Есть ли зависимость между уровнем дохода и возвратом кредита в срок?"
   ]
  },
  {
   "cell_type": "code",
   "execution_count": 24,
   "id": "8787f44a",
   "metadata": {
    "deletable": false,
    "id": "8787f44a"
   },
   "outputs": [
    {
     "data": {
      "text/html": [
       "<div>\n",
       "<style scoped>\n",
       "    .dataframe tbody tr th:only-of-type {\n",
       "        vertical-align: middle;\n",
       "    }\n",
       "\n",
       "    .dataframe tbody tr th {\n",
       "        vertical-align: top;\n",
       "    }\n",
       "\n",
       "    .dataframe thead th {\n",
       "        text-align: right;\n",
       "    }\n",
       "</style>\n",
       "<table border=\"1\" class=\"dataframe\">\n",
       "  <thead>\n",
       "    <tr style=\"text-align: right;\">\n",
       "      <th></th>\n",
       "      <th>total clients</th>\n",
       "      <th>debt sum</th>\n",
       "      <th>correlation</th>\n",
       "    </tr>\n",
       "    <tr>\n",
       "      <th>total_income_category</th>\n",
       "      <th></th>\n",
       "      <th></th>\n",
       "      <th></th>\n",
       "    </tr>\n",
       "  </thead>\n",
       "  <tbody>\n",
       "    <tr>\n",
       "      <th>D</th>\n",
       "      <td>349</td>\n",
       "      <td>21</td>\n",
       "      <td>0.060172</td>\n",
       "    </tr>\n",
       "    <tr>\n",
       "      <th>B</th>\n",
       "      <td>5014</td>\n",
       "      <td>354</td>\n",
       "      <td>0.070602</td>\n",
       "    </tr>\n",
       "    <tr>\n",
       "      <th>A</th>\n",
       "      <td>25</td>\n",
       "      <td>2</td>\n",
       "      <td>0.080000</td>\n",
       "    </tr>\n",
       "    <tr>\n",
       "      <th>C</th>\n",
       "      <td>15921</td>\n",
       "      <td>1353</td>\n",
       "      <td>0.084982</td>\n",
       "    </tr>\n",
       "    <tr>\n",
       "      <th>E</th>\n",
       "      <td>22</td>\n",
       "      <td>2</td>\n",
       "      <td>0.090909</td>\n",
       "    </tr>\n",
       "  </tbody>\n",
       "</table>\n",
       "</div>"
      ],
      "text/plain": [
       "                       total clients  debt sum  correlation\n",
       "total_income_category                                      \n",
       "D                                349        21     0.060172\n",
       "B                               5014       354     0.070602\n",
       "A                                 25         2     0.080000\n",
       "C                              15921      1353     0.084982\n",
       "E                                 22         2     0.090909"
      ]
     },
     "metadata": {},
     "output_type": "display_data"
    },
    {
     "data": {
      "image/png": "[encoded data removed]",
      "text/plain": [
       "<Figure size 684x432 with 1 Axes>"
      ]
     },
     "metadata": {
      "needs_background": "light"
     },
     "output_type": "display_data"
    }
   ],
   "source": [
    "zp_debt = pd.pivot_table(data, index = ['total_income_category'], values ='debt', aggfunc = {'count', 'sum'})\n",
    "zp_debt.columns.tolist()\n",
    "zp_debt['correlation'] = zp_debt['sum'] / zp_debt['count']\n",
    "zp_debt = zp_debt.rename(columns={'count':'total clients','sum':'debt sum'})\n",
    "zp_debt = zp_debt.sort_values(by = 'correlation', ascending = True)\n",
    "display(zp_debt)\n",
    "\n",
    "plt.figure(figsize = (9.5, 6))\n",
    "plt.plot(zp_debt['correlation'], marker='.', \n",
    "         markersize=9)\n",
    "plt.title('Зависимость между уровнем дохода и возвратом кредита в срок',fontsize=16)\n",
    "plt.xlabel('Категория дохода',fontsize=12)\n",
    "plt.ylabel('Корреляция',fontsize=12)\n",
    "plt.show()"
   ]
  },
  {
   "cell_type": "markdown",
   "id": "6dd14b57",
   "metadata": {
    "deletable": false,
    "id": "6dd14b57"
   },
   "source": [
    "**Вывод:** Существует зависимость между уровнем дохода и возвратом кредита в срок.\n",
    "Чаще всего просрочки по кредиту наблюдаются у группы заёмщиков, состоящих из 22 человек, с доходом до 30 тысяч, что может быть обусловлено недостаточным доходом для погашения кредита в срок, а непогашение кредита в срок приводит к увеличению финансовой нагрузки на платильщика ввиду штрафов, котовые дополнительно \"съедают\" часть и так низкого дохода, что приводит к увеличению просрочки по кредиту.\n",
    "\n",
    "Чуть реже просрочки по кредиту у клиентов с доходом от 50 до 200 тысяч. Это самая многочисленная группа. Чаще всего просрочки в данной группе обусловлены или неумением планировать свой бюджет или наличием у заёмщика более чем одного кредита, последнее же приводит к выбору заёмщика о погашении того кредита вовремя, где сумма штрафа за просрочку выше.\n",
    "\n",
    "Немногим реже просрочки по кредиту у клиентов с доходом более 1000000. Таких клиентов всего 25. Скорее просрочки оплаты по кредиту в данной группе обусловлены высокой занятостью таких заёмщиков, а так же денежной возможностью оплачивать штрафы за просрочку платежей.\n",
    "\n",
    "Реже всех групп просрочки по кредиту у клиентов с доходом от 30 до 50 тысяч. Это может быть обусловлено отсутствием возможности оплаты штрафных платежей сверх суммы оплаты кредита. \n",
    "\n",
    "Немногим чаще просрочки по кредиту у клиентов с доходом от 200 тысяч до 1000000. Возможно, это обуславливается тем, что данная группа людей умеет хорошо планировать свой бюджет и не хочет терять деньги за просроки, несмотря на немалый доход. \n",
    "\n",
    "Однако, прошу заметить, что категории заёмщиков с доходом менее 30 тысяч и более 1000000 весьма немногочисленны. Количество клиенов первой группы всего 22 человека, а второй - 25. И нет гарантии в том, что при увеличении количества заёмщиков из описанных выше групп сохранятся полученные в данном исследовании тенденции к просрочке выплат по кредиту. \n",
    "\n",
    "На визуалицзации, если отбросить малочисленные группы \"А\" и \"Е\" можно увидеть возрастание числа просрочек по кредиту при возрастании уровня дохода от 30 до 200 тысяч у заёмщиков данного банка. Однако при возрастании дохода дальше - от 200 тысяч до 1000000 наблюдается явный спад числа просрочек по платежам кредита.  "
   ]
  },
  {
   "cell_type": "markdown",
   "id": "1dcc9b12",
   "metadata": {
    "deletable": false,
    "editable": false,
    "id": "1dcc9b12"
   },
   "source": [
    "#### 3.4 Как разные цели кредита влияют на его возврат в срок?"
   ]
  },
  {
   "cell_type": "code",
   "execution_count": 25,
   "id": "c602bc8b",
   "metadata": {
    "deletable": false,
    "id": "c602bc8b"
   },
   "outputs": [
    {
     "data": {
      "text/html": [
       "<div>\n",
       "<style scoped>\n",
       "    .dataframe tbody tr th:only-of-type {\n",
       "        vertical-align: middle;\n",
       "    }\n",
       "\n",
       "    .dataframe tbody tr th {\n",
       "        vertical-align: top;\n",
       "    }\n",
       "\n",
       "    .dataframe thead th {\n",
       "        text-align: right;\n",
       "    }\n",
       "</style>\n",
       "<table border=\"1\" class=\"dataframe\">\n",
       "  <thead>\n",
       "    <tr style=\"text-align: right;\">\n",
       "      <th></th>\n",
       "      <th>total clients</th>\n",
       "      <th>debt sum</th>\n",
       "      <th>correlation</th>\n",
       "    </tr>\n",
       "    <tr>\n",
       "      <th>purpose_category</th>\n",
       "      <th></th>\n",
       "      <th></th>\n",
       "      <th></th>\n",
       "    </tr>\n",
       "  </thead>\n",
       "  <tbody>\n",
       "    <tr>\n",
       "      <th>операции с недвижимостью</th>\n",
       "      <td>10751</td>\n",
       "      <td>780</td>\n",
       "      <td>0.072551</td>\n",
       "    </tr>\n",
       "    <tr>\n",
       "      <th>проведение свадьбы</th>\n",
       "      <td>2313</td>\n",
       "      <td>183</td>\n",
       "      <td>0.079118</td>\n",
       "    </tr>\n",
       "    <tr>\n",
       "      <th>получение образования</th>\n",
       "      <td>3988</td>\n",
       "      <td>369</td>\n",
       "      <td>0.092528</td>\n",
       "    </tr>\n",
       "    <tr>\n",
       "      <th>операции с автомобилем</th>\n",
       "      <td>4279</td>\n",
       "      <td>400</td>\n",
       "      <td>0.093480</td>\n",
       "    </tr>\n",
       "  </tbody>\n",
       "</table>\n",
       "</div>"
      ],
      "text/plain": [
       "                          total clients  debt sum  correlation\n",
       "purpose_category                                              \n",
       "операции с недвижимостью          10751       780     0.072551\n",
       "проведение свадьбы                 2313       183     0.079118\n",
       "получение образования              3988       369     0.092528\n",
       "операции с автомобилем             4279       400     0.093480"
      ]
     },
     "metadata": {},
     "output_type": "display_data"
    },
    {
     "data": {
      "image/png": "[encoded data removed]",
      "text/plain": [
       "<Figure size 684x432 with 1 Axes>"
      ]
     },
     "metadata": {
      "needs_background": "light"
     },
     "output_type": "display_data"
    }
   ],
   "source": [
    "purpose_debt = pd.pivot_table(data, index = ['purpose_category'], values ='debt', aggfunc = {'count', 'sum'})\n",
    "purpose_debt.columns.tolist()\n",
    "purpose_debt[\"correlation\"] = purpose_debt['sum'] / purpose_debt['count']\n",
    "purpose_debt = purpose_debt.rename(columns={'count':'total clients','sum':'debt sum'})\n",
    "purpose_debt = purpose_debt.sort_values(by = 'correlation', ascending = True)\n",
    "display(purpose_debt)\n",
    "\n",
    "plt.figure(figsize = (9.5, 6))\n",
    "plt.plot(purpose_debt['correlation'], marker='.', \n",
    "         markersize=9)\n",
    "plt.title('Влияние цели кредита на возврат денежных средств в срок',fontsize=16)\n",
    "plt.xlabel('Категория дохода',fontsize=12)\n",
    "plt.ylabel('Корреляция',fontsize=12)\n",
    "plt.show()"
   ]
  },
  {
   "cell_type": "markdown",
   "id": "cf05ed63",
   "metadata": {
    "deletable": false,
    "id": "cf05ed63"
   },
   "source": [
    "**Вывод:** Существует корреляция между целью кредита влияют и его возвратом в срок. Заёмщикми покупающие недвижимость реже всего имеют просрочки по платежам кредита, что может быть обусловленно достаточно высокими штрафами за неисполнение обязательств в срок. Немногим чаще имеют просрочки заёмщики, бравшие кредит на свадьбу. Вщзможно это связано с тем, что обязательства по кредиту уже вложены в расходы при планировании семейного бюджета, а просрочки связаны больше с экстренными незапланированными тратами.\n",
    "\n",
    "Чаще всего просрочки наблюдаются у заёмщиков, бравших кредит на получение образования и на операции с автомобилем. Что может быть связано с тем, что стоимость образования существенно ниже, чем стоимость недвижимости, соответственно, штрафные платежи тоже ниже. В случае кредита на автомобиль, возможная причина просрочек: дорогостоющие ремонты агрегатов и кузова машины, а так же покупка всех возможных дополнительных расходников для эксплуатации автомобиля (например: шины или колёса).  \n",
    "\n",
    "На графике отлично видно рост числа просрочек по кредиту на категории \"получение образования\" и \"операции с автомобилем\" относительно числа просрочек на категории \"операции с недвижимостью\" и \"проведение свадьбы\". "
   ]
  },
  {
   "cell_type": "markdown",
   "id": "46c1f10b",
   "metadata": {
    "deletable": false,
    "editable": false,
    "id": "46c1f10b"
   },
   "source": [
    "#### 3.5 Приведите возможные причины появления пропусков в исходных данных."
   ]
  },
  {
   "cell_type": "markdown",
   "id": "3697d2a9",
   "metadata": {
    "deletable": false,
    "id": "3697d2a9"
   },
   "source": [
    "*Ответ:* пропуски в данных были в столбцах days_employed и total_income. Скорее всего причина - человеческий фактор. Либо заёмщики забыли заполнить эти графы, либо не пожелали это делать. Данные столбцы, вероятно, не помечены как обязательные к заполнению, поэтому и появились данные пропуски. Но детальней о причинах пропусков следут спросить у разработчика, составлявшего таблицу с данными.\n",
    "Количество пропусков в столбцах одинаковое, то есть заполненность days_employed зависит от заполненности total_income."
   ]
  },
  {
   "cell_type": "markdown",
   "id": "3137d257",
   "metadata": {
    "deletable": false,
    "editable": false,
    "id": "3137d257"
   },
   "source": [
    "#### 3.6 Объясните, почему заполнить пропуски медианным значением — лучшее решение для количественных переменных."
   ]
  },
  {
   "cell_type": "markdown",
   "id": "cf40012a",
   "metadata": {
    "deletable": false,
    "id": "cf40012a"
   },
   "source": [
    "*Ответ:* Медианное значение менее повержено влиянию выбросов и лучше всего характеризует выборку данных."
   ]
  },
  {
   "cell_type": "markdown",
   "id": "57bc304e",
   "metadata": {
    "deletable": false,
    "editable": false,
    "id": "57bc304e"
   },
   "source": [
    "### Шаг 4: общий вывод."
   ]
  },
  {
   "cell_type": "markdown",
   "id": "1ab75d1c",
   "metadata": {
    "deletable": false,
    "id": "1ab75d1c"
   },
   "source": [
    "В данном исследовании была прооведена работа с данными о клиентах - заёмщиках банка заказчика. Цели работы: выявление зависимостей количества детей в семье заёмщика, его семейного положения, уровня дохода и цели кредита на возврат денежных средств банку в срок.\n",
    "\n",
    "Для выявления данных зависимостей были составлены сводные таблицы и построены графики, а так же на каждом этапе были сделаны промежуточные выводы.\n",
    "\n",
    "Результат исследования:\n",
    "Зависимости количества детей и уровнем дохода от выплат по кредиту в срок существуют, но несущественные. Зависимости же целей кредита и семейного положения от выплат по кредиту в срок уже более очевидны.\n",
    "\n",
    "В целом, исходя из полученных данных можно сделать вывод, что с большей верояностью не будет платить в срок клент и/или с 4 детьми в семье и/или не находился/не находятся в официальном браке и/или с доходом от 30 до 200 тысяч и/или с целью кредитования: получение образования и операции с автомобилем. И наоборот, с большей долей вероятности, в срок будет платить заёмщик и/или неимеющий детей и/или ранее состоявший в браке и/или имеющий доход либо от 30 до 50 тысяч либо от 200 тысяч до 1000000 и/или с целью кредита: операции с недвижимостью или проведение свадьбы.  \n",
    "\n",
    "Рекомендации: для более корректной оценки зависимостей количества детей и уровня дохода от выплат по кредиту в срок требуется увеличение количества данных для групп:\n",
    " - заёмщики имеющие в семьё 5 детей;\n",
    " - заёмщики с доходом менее 30 тысяч;\n",
    " - заёмщики с доходом более 1000000.\n",
    " \n",
    "Так как по малым выборкам клиентов делать выводы нельзя, поскольку полученный в данной работе характер возврата денежных средств для каждой категории, маловероятно сохранится при увеличении количества заёмщиков в каждой группе. "
   ]
  }
 ],
 "metadata": {
  "ExecuteTimeLog": [
   {
    "duration": 47,
    "start_time": "2023-11-26T19:16:55.036Z"
   },
   {
    "duration": 491,
    "start_time": "2023-11-26T19:17:07.717Z"
   },
   {
    "duration": 24,
    "start_time": "2023-11-26T19:17:08.210Z"
   },
   {
    "duration": 16,
    "start_time": "2023-11-26T19:17:08.437Z"
   },
   {
    "duration": 10,
    "start_time": "2023-11-26T19:17:09.261Z"
   },
   {
    "duration": 46,
    "start_time": "2023-11-26T19:17:09.619Z"
   },
   {
    "duration": 3,
    "start_time": "2023-11-26T19:17:10.146Z"
   },
   {
    "duration": 7,
    "start_time": "2023-11-26T19:17:10.519Z"
   },
   {
    "duration": 5,
    "start_time": "2023-11-26T19:17:11.147Z"
   },
   {
    "duration": 7,
    "start_time": "2023-11-26T19:17:11.545Z"
   },
   {
    "duration": 4,
    "start_time": "2023-11-26T19:17:11.938Z"
   },
   {
    "duration": 37,
    "start_time": "2023-11-26T19:17:12.477Z"
   },
   {
    "duration": 11,
    "start_time": "2023-11-26T19:17:12.876Z"
   },
   {
    "duration": 4,
    "start_time": "2023-11-26T19:17:13.433Z"
   },
   {
    "duration": 12,
    "start_time": "2023-11-26T19:17:14.139Z"
   },
   {
    "duration": 19,
    "start_time": "2023-11-26T19:17:14.535Z"
   },
   {
    "duration": 17,
    "start_time": "2023-11-26T19:17:14.723Z"
   },
   {
    "duration": 3,
    "start_time": "2023-11-26T19:17:15.305Z"
   },
   {
    "duration": 10,
    "start_time": "2023-11-26T19:17:15.507Z"
   },
   {
    "duration": 6,
    "start_time": "2023-11-26T19:17:16.069Z"
   },
   {
    "duration": 3,
    "start_time": "2023-11-26T19:17:16.885Z"
   },
   {
    "duration": 8,
    "start_time": "2023-11-26T19:17:17.354Z"
   },
   {
    "duration": 2,
    "start_time": "2023-11-26T19:17:18.968Z"
   },
   {
    "duration": 3,
    "start_time": "2023-11-26T19:17:22.673Z"
   },
   {
    "duration": 8,
    "start_time": "2023-11-26T19:17:27.305Z"
   },
   {
    "duration": 5,
    "start_time": "2023-11-26T19:17:39.709Z"
   },
   {
    "duration": 4,
    "start_time": "2023-11-26T19:18:54.391Z"
   },
   {
    "duration": 1272,
    "start_time": "2023-11-26T19:19:11.844Z"
   },
   {
    "duration": 6,
    "start_time": "2023-11-26T19:19:50.509Z"
   },
   {
    "duration": 6,
    "start_time": "2023-11-26T19:25:38.558Z"
   },
   {
    "duration": 8,
    "start_time": "2023-11-26T19:25:44.196Z"
   },
   {
    "duration": 7,
    "start_time": "2023-11-26T19:25:55.866Z"
   },
   {
    "duration": 15,
    "start_time": "2023-11-26T19:26:09.497Z"
   },
   {
    "duration": 12,
    "start_time": "2023-11-26T19:27:18.274Z"
   },
   {
    "duration": 17,
    "start_time": "2023-11-26T19:27:28.805Z"
   },
   {
    "duration": 33,
    "start_time": "2023-11-26T19:41:57.519Z"
   },
   {
    "duration": 26,
    "start_time": "2023-11-26T19:42:10.251Z"
   },
   {
    "duration": 17,
    "start_time": "2023-11-26T19:42:43.163Z"
   },
   {
    "duration": 14,
    "start_time": "2023-11-26T19:43:47.657Z"
   },
   {
    "duration": 19,
    "start_time": "2023-11-26T19:43:58.478Z"
   },
   {
    "duration": 21,
    "start_time": "2023-11-26T19:44:11.486Z"
   },
   {
    "duration": 1139,
    "start_time": "2023-11-26T19:50:53.349Z"
   },
   {
    "duration": 6,
    "start_time": "2023-11-26T19:51:55.576Z"
   },
   {
    "duration": 3,
    "start_time": "2023-11-26T19:52:25.787Z"
   },
   {
    "duration": 8,
    "start_time": "2023-11-26T19:52:35.340Z"
   },
   {
    "duration": 1125,
    "start_time": "2023-11-26T19:54:06.490Z"
   },
   {
    "duration": 1167,
    "start_time": "2023-11-26T19:54:19.244Z"
   },
   {
    "duration": 1173,
    "start_time": "2023-11-26T19:54:38.687Z"
   },
   {
    "duration": 1184,
    "start_time": "2023-11-26T19:54:53.003Z"
   },
   {
    "duration": 2141,
    "start_time": "2023-11-26T19:55:02.114Z"
   },
   {
    "duration": 6,
    "start_time": "2023-11-26T19:56:11.829Z"
   },
   {
    "duration": 642,
    "start_time": "2023-11-27T03:26:33.613Z"
   },
   {
    "duration": 21,
    "start_time": "2023-11-27T03:26:34.257Z"
   },
   {
    "duration": 15,
    "start_time": "2023-11-27T03:26:34.319Z"
   },
   {
    "duration": 11,
    "start_time": "2023-11-27T03:26:35.103Z"
   },
   {
    "duration": 34,
    "start_time": "2023-11-27T03:26:35.465Z"
   },
   {
    "duration": 3,
    "start_time": "2023-11-27T03:26:36.028Z"
   },
   {
    "duration": 8,
    "start_time": "2023-11-27T03:26:36.412Z"
   },
   {
    "duration": 5,
    "start_time": "2023-11-27T03:26:36.987Z"
   },
   {
    "duration": 6,
    "start_time": "2023-11-27T03:26:37.362Z"
   },
   {
    "duration": 4,
    "start_time": "2023-11-27T03:26:37.752Z"
   },
   {
    "duration": 33,
    "start_time": "2023-11-27T03:26:38.292Z"
   },
   {
    "duration": 9,
    "start_time": "2023-11-27T03:26:38.695Z"
   },
   {
    "duration": 3,
    "start_time": "2023-11-27T03:26:39.280Z"
   },
   {
    "duration": 11,
    "start_time": "2023-11-27T03:26:39.831Z"
   },
   {
    "duration": 19,
    "start_time": "2023-11-27T03:26:40.327Z"
   },
   {
    "duration": 18,
    "start_time": "2023-11-27T03:26:40.524Z"
   },
   {
    "duration": 3,
    "start_time": "2023-11-27T03:26:41.089Z"
   },
   {
    "duration": 11,
    "start_time": "2023-11-27T03:26:41.297Z"
   },
   {
    "duration": 8,
    "start_time": "2023-11-27T03:26:41.675Z"
   },
   {
    "duration": 3,
    "start_time": "2023-11-27T03:26:42.063Z"
   },
   {
    "duration": 8,
    "start_time": "2023-11-27T03:26:42.253Z"
   },
   {
    "duration": 7,
    "start_time": "2023-11-27T03:26:43.323Z"
   },
   {
    "duration": 61,
    "start_time": "2023-11-27T03:27:28.544Z"
   },
   {
    "duration": 7,
    "start_time": "2023-11-27T03:53:17.099Z"
   },
   {
    "duration": 7,
    "start_time": "2023-11-27T03:54:55.402Z"
   },
   {
    "duration": 6,
    "start_time": "2023-11-27T03:55:20.854Z"
   },
   {
    "duration": 76,
    "start_time": "2023-11-27T03:55:54.428Z"
   },
   {
    "duration": 21,
    "start_time": "2023-11-27T03:56:18.316Z"
   },
   {
    "duration": 83,
    "start_time": "2023-11-27T04:09:24.164Z"
   },
   {
    "duration": 74,
    "start_time": "2023-11-27T04:09:31.027Z"
   },
   {
    "duration": 20,
    "start_time": "2023-11-27T04:09:39.384Z"
   },
   {
    "duration": 77,
    "start_time": "2023-11-27T04:09:50.594Z"
   },
   {
    "duration": 122,
    "start_time": "2023-11-27T04:10:07.457Z"
   },
   {
    "duration": 20,
    "start_time": "2023-11-27T04:10:18.314Z"
   },
   {
    "duration": 49,
    "start_time": "2023-11-27T16:46:58.513Z"
   },
   {
    "duration": 6,
    "start_time": "2023-11-27T16:47:08.505Z"
   },
   {
    "duration": 559,
    "start_time": "2023-11-27T16:47:17.762Z"
   },
   {
    "duration": 23,
    "start_time": "2023-11-27T16:47:18.323Z"
   },
   {
    "duration": 16,
    "start_time": "2023-11-27T16:47:18.460Z"
   },
   {
    "duration": 12,
    "start_time": "2023-11-27T16:47:19.146Z"
   },
   {
    "duration": 36,
    "start_time": "2023-11-27T16:47:19.498Z"
   },
   {
    "duration": 3,
    "start_time": "2023-11-27T16:47:20.033Z"
   },
   {
    "duration": 8,
    "start_time": "2023-11-27T16:47:20.376Z"
   },
   {
    "duration": 4,
    "start_time": "2023-11-27T16:47:20.899Z"
   },
   {
    "duration": 7,
    "start_time": "2023-11-27T16:47:21.283Z"
   },
   {
    "duration": 4,
    "start_time": "2023-11-27T16:47:21.646Z"
   },
   {
    "duration": 35,
    "start_time": "2023-11-27T16:47:22.185Z"
   },
   {
    "duration": 10,
    "start_time": "2023-11-27T16:47:22.550Z"
   },
   {
    "duration": 3,
    "start_time": "2023-11-27T16:47:23.152Z"
   },
   {
    "duration": 12,
    "start_time": "2023-11-27T16:47:23.660Z"
   },
   {
    "duration": 20,
    "start_time": "2023-11-27T16:47:24.116Z"
   },
   {
    "duration": 17,
    "start_time": "2023-11-27T16:47:24.284Z"
   },
   {
    "duration": 3,
    "start_time": "2023-11-27T16:47:24.788Z"
   },
   {
    "duration": 9,
    "start_time": "2023-11-27T16:47:24.959Z"
   },
   {
    "duration": 5,
    "start_time": "2023-11-27T16:47:25.292Z"
   },
   {
    "duration": 3,
    "start_time": "2023-11-27T16:47:25.657Z"
   },
   {
    "duration": 8,
    "start_time": "2023-11-27T16:47:25.839Z"
   },
   {
    "duration": 34,
    "start_time": "2023-11-27T16:47:26.434Z"
   },
   {
    "duration": 7,
    "start_time": "2023-11-27T16:47:26.991Z"
   },
   {
    "duration": 11,
    "start_time": "2023-11-27T16:47:27.570Z"
   },
   {
    "duration": 2,
    "start_time": "2023-11-27T16:47:28.148Z"
   },
   {
    "duration": 20,
    "start_time": "2023-11-27T16:54:28.246Z"
   },
   {
    "duration": 13,
    "start_time": "2023-11-27T16:54:39.493Z"
   },
   {
    "duration": 20,
    "start_time": "2023-11-27T16:54:48.283Z"
   },
   {
    "duration": 12,
    "start_time": "2023-11-27T16:55:10.610Z"
   },
   {
    "duration": 12,
    "start_time": "2023-11-27T16:56:12.157Z"
   },
   {
    "duration": 6,
    "start_time": "2023-11-27T16:56:36.427Z"
   },
   {
    "duration": 10,
    "start_time": "2023-11-27T16:58:19.159Z"
   },
   {
    "duration": 3,
    "start_time": "2023-11-27T16:59:58.413Z"
   },
   {
    "duration": 7,
    "start_time": "2023-11-27T17:00:09.589Z"
   },
   {
    "duration": 6,
    "start_time": "2023-11-27T17:00:52.308Z"
   },
   {
    "duration": 7,
    "start_time": "2023-11-27T17:01:01.726Z"
   },
   {
    "duration": 7,
    "start_time": "2023-11-27T17:01:11.855Z"
   },
   {
    "duration": 7,
    "start_time": "2023-11-27T17:01:21.650Z"
   },
   {
    "duration": 17,
    "start_time": "2023-11-27T17:03:21.114Z"
   },
   {
    "duration": 9,
    "start_time": "2023-11-27T17:03:38.132Z"
   },
   {
    "duration": 16,
    "start_time": "2023-11-27T17:03:45.816Z"
   },
   {
    "duration": 79,
    "start_time": "2023-11-27T17:05:25.847Z"
   },
   {
    "duration": 10,
    "start_time": "2023-11-27T17:25:19.552Z"
   },
   {
    "duration": 15,
    "start_time": "2023-11-27T17:38:59.764Z"
   },
   {
    "duration": 17,
    "start_time": "2023-11-27T17:39:08.383Z"
   },
   {
    "duration": 16,
    "start_time": "2023-11-27T17:39:30.469Z"
   },
   {
    "duration": 20,
    "start_time": "2023-11-27T17:40:05.175Z"
   },
   {
    "duration": 22,
    "start_time": "2023-11-27T17:57:26.424Z"
   },
   {
    "duration": 22,
    "start_time": "2023-11-27T17:58:02.739Z"
   },
   {
    "duration": 20,
    "start_time": "2023-11-27T17:58:14.340Z"
   },
   {
    "duration": 13,
    "start_time": "2023-11-27T17:58:43.999Z"
   },
   {
    "duration": 16,
    "start_time": "2023-11-27T17:59:10.877Z"
   },
   {
    "duration": 12,
    "start_time": "2023-11-27T17:59:25.325Z"
   },
   {
    "duration": 82,
    "start_time": "2023-11-27T18:00:19.452Z"
   },
   {
    "duration": 12,
    "start_time": "2023-11-27T18:00:29.510Z"
   },
   {
    "duration": 11,
    "start_time": "2023-11-27T18:00:33.900Z"
   },
   {
    "duration": 12,
    "start_time": "2023-11-27T18:00:45.686Z"
   },
   {
    "duration": 12,
    "start_time": "2023-11-27T18:00:50.273Z"
   },
   {
    "duration": 6,
    "start_time": "2023-11-27T18:02:50.489Z"
   },
   {
    "duration": 12,
    "start_time": "2023-11-27T18:03:03.140Z"
   },
   {
    "duration": 12,
    "start_time": "2023-11-27T18:03:19.197Z"
   },
   {
    "duration": 80,
    "start_time": "2023-11-27T18:03:25.168Z"
   },
   {
    "duration": 76,
    "start_time": "2023-11-27T18:03:39.786Z"
   },
   {
    "duration": 71,
    "start_time": "2023-11-27T18:03:46.517Z"
   },
   {
    "duration": 74,
    "start_time": "2023-11-27T18:03:54.836Z"
   },
   {
    "duration": 118,
    "start_time": "2023-11-27T18:04:04.960Z"
   },
   {
    "duration": 19,
    "start_time": "2023-11-27T18:40:05.814Z"
   },
   {
    "duration": 13,
    "start_time": "2023-11-27T18:40:13.337Z"
   },
   {
    "duration": 77,
    "start_time": "2023-11-27T18:58:13.057Z"
   },
   {
    "duration": 17,
    "start_time": "2023-11-27T18:58:13.422Z"
   },
   {
    "duration": 14,
    "start_time": "2023-11-27T18:58:13.755Z"
   },
   {
    "duration": 10,
    "start_time": "2023-11-27T18:58:14.485Z"
   },
   {
    "duration": 33,
    "start_time": "2023-11-27T18:58:14.839Z"
   },
   {
    "duration": 4,
    "start_time": "2023-11-27T18:58:15.362Z"
   },
   {
    "duration": 8,
    "start_time": "2023-11-27T18:58:15.725Z"
   },
   {
    "duration": 4,
    "start_time": "2023-11-27T18:58:16.262Z"
   },
   {
    "duration": 5,
    "start_time": "2023-11-27T18:58:16.643Z"
   },
   {
    "duration": 4,
    "start_time": "2023-11-27T18:58:17.004Z"
   },
   {
    "duration": 34,
    "start_time": "2023-11-27T18:58:17.550Z"
   },
   {
    "duration": 10,
    "start_time": "2023-11-27T18:58:17.925Z"
   },
   {
    "duration": 3,
    "start_time": "2023-11-27T18:58:18.480Z"
   },
   {
    "duration": 11,
    "start_time": "2023-11-27T18:58:19.049Z"
   },
   {
    "duration": 18,
    "start_time": "2023-11-27T18:58:19.411Z"
   },
   {
    "duration": 17,
    "start_time": "2023-11-27T18:58:19.596Z"
   },
   {
    "duration": 3,
    "start_time": "2023-11-27T18:58:20.149Z"
   },
   {
    "duration": 10,
    "start_time": "2023-11-27T18:58:20.342Z"
   },
   {
    "duration": 7,
    "start_time": "2023-11-27T18:58:21.153Z"
   },
   {
    "duration": 4,
    "start_time": "2023-11-27T18:58:22.239Z"
   },
   {
    "duration": 8,
    "start_time": "2023-11-27T18:58:22.661Z"
   },
   {
    "duration": 16,
    "start_time": "2023-11-27T18:58:34.425Z"
   },
   {
    "duration": 12,
    "start_time": "2023-11-27T18:58:59.778Z"
   },
   {
    "duration": 7,
    "start_time": "2023-11-27T19:02:59.066Z"
   },
   {
    "duration": 6,
    "start_time": "2023-11-27T19:03:34.958Z"
   },
   {
    "duration": 13,
    "start_time": "2023-11-27T19:05:26.275Z"
   },
   {
    "duration": 13,
    "start_time": "2023-11-27T19:05:29.686Z"
   },
   {
    "duration": 12,
    "start_time": "2023-11-27T19:32:46.311Z"
   },
   {
    "duration": 80,
    "start_time": "2023-11-27T19:32:55.255Z"
   },
   {
    "duration": 9,
    "start_time": "2023-11-27T19:33:22.410Z"
   },
   {
    "duration": 16,
    "start_time": "2023-11-27T19:33:33.440Z"
   },
   {
    "duration": 12,
    "start_time": "2023-11-27T19:34:54.612Z"
   },
   {
    "duration": 77,
    "start_time": "2023-11-27T19:36:57.823Z"
   },
   {
    "duration": 49,
    "start_time": "2023-11-28T03:48:02.794Z"
   },
   {
    "duration": 566,
    "start_time": "2023-11-28T03:48:09.684Z"
   },
   {
    "duration": 22,
    "start_time": "2023-11-28T03:48:10.252Z"
   },
   {
    "duration": 17,
    "start_time": "2023-11-28T03:48:10.440Z"
   },
   {
    "duration": 12,
    "start_time": "2023-11-28T03:48:11.178Z"
   },
   {
    "duration": 38,
    "start_time": "2023-11-28T03:48:11.534Z"
   },
   {
    "duration": 4,
    "start_time": "2023-11-28T03:48:12.086Z"
   },
   {
    "duration": 7,
    "start_time": "2023-11-28T03:48:12.462Z"
   },
   {
    "duration": 4,
    "start_time": "2023-11-28T03:48:13.011Z"
   },
   {
    "duration": 7,
    "start_time": "2023-11-28T03:48:13.387Z"
   },
   {
    "duration": 5,
    "start_time": "2023-11-28T03:48:13.778Z"
   },
   {
    "duration": 39,
    "start_time": "2023-11-28T03:48:15.350Z"
   },
   {
    "duration": 10,
    "start_time": "2023-11-28T03:48:16.501Z"
   },
   {
    "duration": 4,
    "start_time": "2023-11-28T03:48:18.137Z"
   },
   {
    "duration": 12,
    "start_time": "2023-11-28T03:48:19.488Z"
   },
   {
    "duration": 23,
    "start_time": "2023-11-28T03:48:20.482Z"
   },
   {
    "duration": 18,
    "start_time": "2023-11-28T03:48:20.978Z"
   },
   {
    "duration": 3,
    "start_time": "2023-11-28T03:48:22.371Z"
   },
   {
    "duration": 11,
    "start_time": "2023-11-28T03:48:22.560Z"
   },
   {
    "duration": 6,
    "start_time": "2023-11-28T03:48:22.968Z"
   },
   {
    "duration": 4,
    "start_time": "2023-11-28T03:48:23.612Z"
   },
   {
    "duration": 9,
    "start_time": "2023-11-28T03:48:24.404Z"
   },
   {
    "duration": 119,
    "start_time": "2023-11-28T03:48:25.429Z"
   },
   {
    "duration": 31,
    "start_time": "2023-11-28T03:48:40.073Z"
   },
   {
    "duration": 12,
    "start_time": "2023-11-28T03:48:47.763Z"
   },
   {
    "duration": 18,
    "start_time": "2023-11-28T03:48:54.355Z"
   },
   {
    "duration": 19,
    "start_time": "2023-11-28T03:49:02.889Z"
   },
   {
    "duration": 19,
    "start_time": "2023-11-28T03:49:26.077Z"
   },
   {
    "duration": 18,
    "start_time": "2023-11-28T03:49:58.782Z"
   },
   {
    "duration": 981,
    "start_time": "2023-11-28T04:02:08.858Z"
   },
   {
    "duration": 648,
    "start_time": "2023-11-28T15:37:55.100Z"
   },
   {
    "duration": 22,
    "start_time": "2023-11-28T15:37:55.750Z"
   },
   {
    "duration": 15,
    "start_time": "2023-11-28T15:37:55.874Z"
   },
   {
    "duration": 12,
    "start_time": "2023-11-28T15:37:56.599Z"
   },
   {
    "duration": 34,
    "start_time": "2023-11-28T15:37:56.998Z"
   },
   {
    "duration": 3,
    "start_time": "2023-11-28T15:37:57.557Z"
   },
   {
    "duration": 7,
    "start_time": "2023-11-28T15:37:57.941Z"
   },
   {
    "duration": 4,
    "start_time": "2023-11-28T15:37:58.574Z"
   },
   {
    "duration": 6,
    "start_time": "2023-11-28T15:37:58.959Z"
   },
   {
    "duration": 4,
    "start_time": "2023-11-28T15:37:59.350Z"
   },
   {
    "duration": 34,
    "start_time": "2023-11-28T15:38:00.194Z"
   },
   {
    "duration": 10,
    "start_time": "2023-11-28T15:38:00.590Z"
   },
   {
    "duration": 3,
    "start_time": "2023-11-28T15:38:01.170Z"
   },
   {
    "duration": 11,
    "start_time": "2023-11-28T15:38:01.761Z"
   },
   {
    "duration": 18,
    "start_time": "2023-11-28T15:38:02.137Z"
   },
   {
    "duration": 15,
    "start_time": "2023-11-28T15:38:02.320Z"
   },
   {
    "duration": 3,
    "start_time": "2023-11-28T15:38:03.275Z"
   },
   {
    "duration": 10,
    "start_time": "2023-11-28T15:38:03.676Z"
   },
   {
    "duration": 6,
    "start_time": "2023-11-28T15:38:04.130Z"
   },
   {
    "duration": 3,
    "start_time": "2023-11-28T15:38:04.825Z"
   },
   {
    "duration": 9,
    "start_time": "2023-11-28T15:38:05.650Z"
   },
   {
    "duration": 26,
    "start_time": "2023-11-28T15:39:40.103Z"
   },
   {
    "duration": 21,
    "start_time": "2023-11-28T15:44:47.210Z"
   },
   {
    "duration": 20,
    "start_time": "2023-11-28T15:45:36.492Z"
   },
   {
    "duration": 21,
    "start_time": "2023-11-28T15:48:18.773Z"
   },
   {
    "duration": 21,
    "start_time": "2023-11-28T15:49:29.920Z"
   },
   {
    "duration": 25,
    "start_time": "2023-11-28T15:51:45.188Z"
   },
   {
    "duration": 70,
    "start_time": "2023-11-28T15:52:06.800Z"
   },
   {
    "duration": 14,
    "start_time": "2023-11-28T15:52:07.233Z"
   },
   {
    "duration": 15,
    "start_time": "2023-11-28T15:52:08.669Z"
   },
   {
    "duration": 10,
    "start_time": "2023-11-28T15:52:11.632Z"
   },
   {
    "duration": 33,
    "start_time": "2023-11-28T15:52:13.748Z"
   },
   {
    "duration": 4,
    "start_time": "2023-11-28T15:52:15.416Z"
   },
   {
    "duration": 7,
    "start_time": "2023-11-28T15:52:17.527Z"
   },
   {
    "duration": 5,
    "start_time": "2023-11-28T15:52:25.169Z"
   },
   {
    "duration": 5,
    "start_time": "2023-11-28T15:52:26.858Z"
   },
   {
    "duration": 23,
    "start_time": "2023-11-28T15:52:37.282Z"
   },
   {
    "duration": 6,
    "start_time": "2023-11-28T15:52:48.280Z"
   },
   {
    "duration": 4,
    "start_time": "2023-11-28T15:52:50.860Z"
   },
   {
    "duration": 35,
    "start_time": "2023-11-28T15:52:54.326Z"
   },
   {
    "duration": 9,
    "start_time": "2023-11-28T15:52:57.525Z"
   },
   {
    "duration": 4,
    "start_time": "2023-11-28T15:53:02.250Z"
   },
   {
    "duration": 10,
    "start_time": "2023-11-28T15:53:04.824Z"
   },
   {
    "duration": 19,
    "start_time": "2023-11-28T15:53:06.785Z"
   },
   {
    "duration": 17,
    "start_time": "2023-11-28T15:53:15.836Z"
   },
   {
    "duration": 4,
    "start_time": "2023-11-28T15:53:19.393Z"
   },
   {
    "duration": 10,
    "start_time": "2023-11-28T15:53:19.963Z"
   },
   {
    "duration": 6,
    "start_time": "2023-11-28T15:53:21.702Z"
   },
   {
    "duration": 4,
    "start_time": "2023-11-28T15:53:23.446Z"
   },
   {
    "duration": 10,
    "start_time": "2023-11-28T15:53:24.372Z"
   },
   {
    "duration": 26,
    "start_time": "2023-11-28T16:20:50.580Z"
   },
   {
    "duration": 30,
    "start_time": "2023-11-28T16:21:07.964Z"
   },
   {
    "duration": 23,
    "start_time": "2023-11-28T16:21:34.234Z"
   },
   {
    "duration": 16,
    "start_time": "2023-11-28T16:23:37.858Z"
   },
   {
    "duration": 22,
    "start_time": "2023-11-28T16:23:47.069Z"
   },
   {
    "duration": 96,
    "start_time": "2023-11-28T16:25:07.572Z"
   },
   {
    "duration": 101,
    "start_time": "2023-11-28T16:25:47.717Z"
   },
   {
    "duration": 77,
    "start_time": "2023-11-28T16:25:51.752Z"
   },
   {
    "duration": 16,
    "start_time": "2023-11-28T16:30:48.978Z"
   },
   {
    "duration": 19,
    "start_time": "2023-11-28T16:30:57.919Z"
   },
   {
    "duration": 70,
    "start_time": "2023-11-28T16:33:07.784Z"
   },
   {
    "duration": 20,
    "start_time": "2023-11-28T16:33:19.485Z"
   },
   {
    "duration": 21,
    "start_time": "2023-11-28T16:33:31.072Z"
   },
   {
    "duration": 18,
    "start_time": "2023-11-28T16:34:19.894Z"
   },
   {
    "duration": 19,
    "start_time": "2023-11-28T16:35:10.297Z"
   },
   {
    "duration": 19,
    "start_time": "2023-11-28T16:36:21.122Z"
   },
   {
    "duration": 1189,
    "start_time": "2023-11-28T18:06:22.679Z"
   },
   {
    "duration": 1149,
    "start_time": "2023-11-28T18:06:25.487Z"
   },
   {
    "duration": 15,
    "start_time": "2023-11-28T18:06:36.158Z"
   },
   {
    "duration": 21,
    "start_time": "2023-11-28T18:07:08.913Z"
   },
   {
    "duration": 18,
    "start_time": "2023-11-28T18:07:41.193Z"
   },
   {
    "duration": 17,
    "start_time": "2023-11-28T18:07:49.775Z"
   },
   {
    "duration": 22,
    "start_time": "2023-11-28T18:17:40.279Z"
   },
   {
    "duration": 18,
    "start_time": "2023-11-28T18:39:51.336Z"
   },
   {
    "duration": 20,
    "start_time": "2023-11-28T18:40:54.690Z"
   },
   {
    "duration": 20,
    "start_time": "2023-11-28T18:41:14.456Z"
   },
   {
    "duration": 34,
    "start_time": "2023-11-28T19:19:31.447Z"
   },
   {
    "duration": 20,
    "start_time": "2023-11-28T19:19:53.065Z"
   },
   {
    "duration": 518,
    "start_time": "2023-11-29T10:47:11.190Z"
   },
   {
    "duration": 23,
    "start_time": "2023-11-29T10:47:11.710Z"
   },
   {
    "duration": 20,
    "start_time": "2023-11-29T10:47:11.735Z"
   },
   {
    "duration": 16,
    "start_time": "2023-11-29T10:47:11.757Z"
   },
   {
    "duration": 67,
    "start_time": "2023-11-29T10:47:11.775Z"
   },
   {
    "duration": 3,
    "start_time": "2023-11-29T10:47:11.844Z"
   },
   {
    "duration": 33,
    "start_time": "2023-11-29T10:47:11.849Z"
   },
   {
    "duration": 4,
    "start_time": "2023-11-29T10:47:11.884Z"
   },
   {
    "duration": 13,
    "start_time": "2023-11-29T10:47:11.890Z"
   },
   {
    "duration": 14,
    "start_time": "2023-11-29T10:47:11.905Z"
   },
   {
    "duration": 49,
    "start_time": "2023-11-29T10:47:11.921Z"
   },
   {
    "duration": 11,
    "start_time": "2023-11-29T10:47:11.971Z"
   },
   {
    "duration": 7,
    "start_time": "2023-11-29T10:47:11.983Z"
   },
   {
    "duration": 15,
    "start_time": "2023-11-29T10:47:11.992Z"
   },
   {
    "duration": 48,
    "start_time": "2023-11-29T10:47:12.008Z"
   },
   {
    "duration": 17,
    "start_time": "2023-11-29T10:47:12.058Z"
   },
   {
    "duration": 19,
    "start_time": "2023-11-29T10:47:12.076Z"
   },
   {
    "duration": 13,
    "start_time": "2023-11-29T10:47:12.097Z"
   },
   {
    "duration": 43,
    "start_time": "2023-11-29T10:47:12.111Z"
   },
   {
    "duration": 3,
    "start_time": "2023-11-29T10:47:12.156Z"
   },
   {
    "duration": 15,
    "start_time": "2023-11-29T10:47:12.161Z"
   },
   {
    "duration": 23,
    "start_time": "2023-11-29T10:47:12.178Z"
   },
   {
    "duration": 20,
    "start_time": "2023-11-29T10:47:12.203Z"
   },
   {
    "duration": 20,
    "start_time": "2023-11-29T10:47:12.224Z"
   },
   {
    "duration": 21,
    "start_time": "2023-11-29T10:47:12.245Z"
   },
   {
    "duration": 50,
    "start_time": "2023-11-29T16:29:18.866Z"
   },
   {
    "duration": 6,
    "start_time": "2023-11-29T16:34:18.252Z"
   },
   {
    "duration": 1408,
    "start_time": "2023-11-29T16:34:50.962Z"
   },
   {
    "duration": 10,
    "start_time": "2023-11-29T16:34:53.555Z"
   },
   {
    "duration": 11,
    "start_time": "2023-11-29T16:36:27.940Z"
   },
   {
    "duration": 296,
    "start_time": "2023-11-29T16:36:33.801Z"
   },
   {
    "duration": 19,
    "start_time": "2023-11-29T16:36:34.163Z"
   },
   {
    "duration": 15,
    "start_time": "2023-11-29T16:36:34.538Z"
   },
   {
    "duration": 11,
    "start_time": "2023-11-29T16:36:35.271Z"
   },
   {
    "duration": 37,
    "start_time": "2023-11-29T16:36:35.639Z"
   },
   {
    "duration": 3,
    "start_time": "2023-11-29T16:36:36.191Z"
   },
   {
    "duration": 8,
    "start_time": "2023-11-29T16:36:36.533Z"
   },
   {
    "duration": 5,
    "start_time": "2023-11-29T16:36:37.088Z"
   },
   {
    "duration": 8,
    "start_time": "2023-11-29T16:36:37.465Z"
   },
   {
    "duration": 4,
    "start_time": "2023-11-29T16:36:37.817Z"
   },
   {
    "duration": 34,
    "start_time": "2023-11-29T16:36:38.342Z"
   },
   {
    "duration": 10,
    "start_time": "2023-11-29T16:36:38.702Z"
   },
   {
    "duration": 4,
    "start_time": "2023-11-29T16:36:39.242Z"
   },
   {
    "duration": 13,
    "start_time": "2023-11-29T16:36:39.774Z"
   },
   {
    "duration": 20,
    "start_time": "2023-11-29T16:36:40.152Z"
   },
   {
    "duration": 17,
    "start_time": "2023-11-29T16:36:40.344Z"
   },
   {
    "duration": 3,
    "start_time": "2023-11-29T16:36:40.888Z"
   },
   {
    "duration": 10,
    "start_time": "2023-11-29T16:36:41.069Z"
   },
   {
    "duration": 6,
    "start_time": "2023-11-29T16:36:41.672Z"
   },
   {
    "duration": 3,
    "start_time": "2023-11-29T16:36:42.159Z"
   },
   {
    "duration": 8,
    "start_time": "2023-11-29T16:36:42.370Z"
   },
   {
    "duration": 1511,
    "start_time": "2023-11-29T16:36:42.949Z"
   },
   {
    "duration": 21,
    "start_time": "2023-11-29T16:36:45.922Z"
   },
   {
    "duration": 1476,
    "start_time": "2023-11-29T16:37:20.713Z"
   },
   {
    "duration": 147,
    "start_time": "2023-11-29T16:38:50.231Z"
   },
   {
    "duration": 125,
    "start_time": "2023-11-29T16:40:15.653Z"
   },
   {
    "duration": 114,
    "start_time": "2023-11-29T16:40:23.346Z"
   },
   {
    "duration": 134,
    "start_time": "2023-11-29T16:45:49.876Z"
   },
   {
    "duration": 115,
    "start_time": "2023-11-29T16:46:39.474Z"
   },
   {
    "duration": 118,
    "start_time": "2023-11-29T16:46:48.575Z"
   },
   {
    "duration": 190,
    "start_time": "2023-11-29T16:48:46.087Z"
   },
   {
    "duration": 115,
    "start_time": "2023-11-29T16:49:10.373Z"
   },
   {
    "duration": 1385,
    "start_time": "2023-11-29T16:49:28.771Z"
   },
   {
    "duration": 126,
    "start_time": "2023-11-29T16:49:44.298Z"
   },
   {
    "duration": 137,
    "start_time": "2023-11-29T16:57:17.276Z"
   },
   {
    "duration": 142,
    "start_time": "2023-11-29T17:06:16.871Z"
   },
   {
    "duration": 140,
    "start_time": "2023-11-29T17:06:31.782Z"
   },
   {
    "duration": 144,
    "start_time": "2023-11-29T17:06:40.786Z"
   },
   {
    "duration": 137,
    "start_time": "2023-11-29T17:11:28.542Z"
   },
   {
    "duration": 114,
    "start_time": "2023-11-29T17:13:39.266Z"
   },
   {
    "duration": 147,
    "start_time": "2023-11-29T17:14:05.318Z"
   },
   {
    "duration": 139,
    "start_time": "2023-11-29T17:14:17.268Z"
   },
   {
    "duration": 142,
    "start_time": "2023-11-29T17:14:23.610Z"
   },
   {
    "duration": 142,
    "start_time": "2023-11-29T17:14:48.619Z"
   },
   {
    "duration": 218,
    "start_time": "2023-11-29T17:20:42.732Z"
   },
   {
    "duration": 157,
    "start_time": "2023-11-29T17:21:15.538Z"
   },
   {
    "duration": 90,
    "start_time": "2023-11-29T17:22:14.788Z"
   },
   {
    "duration": 151,
    "start_time": "2023-11-29T17:22:19.086Z"
   },
   {
    "duration": 143,
    "start_time": "2023-11-29T17:22:26.808Z"
   },
   {
    "duration": 147,
    "start_time": "2023-11-29T17:22:32.063Z"
   },
   {
    "duration": 151,
    "start_time": "2023-11-29T17:22:39.926Z"
   },
   {
    "duration": 164,
    "start_time": "2023-11-29T17:23:45.359Z"
   },
   {
    "duration": 168,
    "start_time": "2023-11-29T17:23:54.478Z"
   },
   {
    "duration": 190,
    "start_time": "2023-11-29T17:24:01.896Z"
   },
   {
    "duration": 177,
    "start_time": "2023-11-29T17:24:29.858Z"
   },
   {
    "duration": 181,
    "start_time": "2023-11-29T17:24:39.421Z"
   },
   {
    "duration": 183,
    "start_time": "2023-11-29T17:24:50.017Z"
   },
   {
    "duration": 218,
    "start_time": "2023-11-29T17:25:26.610Z"
   },
   {
    "duration": 168,
    "start_time": "2023-11-29T17:25:49.938Z"
   },
   {
    "duration": 156,
    "start_time": "2023-11-29T17:25:58.694Z"
   },
   {
    "duration": 159,
    "start_time": "2023-11-29T17:26:10.032Z"
   },
   {
    "duration": 165,
    "start_time": "2023-11-29T17:26:22.474Z"
   },
   {
    "duration": 167,
    "start_time": "2023-11-29T17:37:56.320Z"
   },
   {
    "duration": 150,
    "start_time": "2023-11-29T17:38:59.507Z"
   },
   {
    "duration": 153,
    "start_time": "2023-11-29T17:42:12.010Z"
   },
   {
    "duration": 189,
    "start_time": "2023-11-29T17:42:30.711Z"
   },
   {
    "duration": 22,
    "start_time": "2023-11-29T17:42:44.562Z"
   },
   {
    "duration": 149,
    "start_time": "2023-11-29T17:43:01.219Z"
   },
   {
    "duration": 78,
    "start_time": "2023-11-29T18:13:21.514Z"
   },
   {
    "duration": 15,
    "start_time": "2023-11-29T18:13:21.873Z"
   },
   {
    "duration": 15,
    "start_time": "2023-11-29T18:13:22.421Z"
   },
   {
    "duration": 11,
    "start_time": "2023-11-29T18:13:23.237Z"
   },
   {
    "duration": 35,
    "start_time": "2023-11-29T18:13:23.622Z"
   },
   {
    "duration": 4,
    "start_time": "2023-11-29T18:13:24.191Z"
   },
   {
    "duration": 8,
    "start_time": "2023-11-29T18:13:24.584Z"
   },
   {
    "duration": 4,
    "start_time": "2023-11-29T18:13:25.163Z"
   },
   {
    "duration": 6,
    "start_time": "2023-11-29T18:13:25.547Z"
   },
   {
    "duration": 5,
    "start_time": "2023-11-29T18:13:25.947Z"
   },
   {
    "duration": 37,
    "start_time": "2023-11-29T18:13:26.503Z"
   },
   {
    "duration": 10,
    "start_time": "2023-11-29T18:13:26.890Z"
   },
   {
    "duration": 3,
    "start_time": "2023-11-29T18:13:27.430Z"
   },
   {
    "duration": 11,
    "start_time": "2023-11-29T18:13:27.985Z"
   },
   {
    "duration": 19,
    "start_time": "2023-11-29T18:13:28.412Z"
   },
   {
    "duration": 18,
    "start_time": "2023-11-29T18:13:28.605Z"
   },
   {
    "duration": 3,
    "start_time": "2023-11-29T18:13:29.156Z"
   },
   {
    "duration": 11,
    "start_time": "2023-11-29T18:13:29.382Z"
   },
   {
    "duration": 7,
    "start_time": "2023-11-29T18:13:29.773Z"
   },
   {
    "duration": 4,
    "start_time": "2023-11-29T18:13:30.173Z"
   },
   {
    "duration": 9,
    "start_time": "2023-11-29T18:13:30.377Z"
   },
   {
    "duration": 163,
    "start_time": "2023-11-29T18:13:30.961Z"
   },
   {
    "duration": 165,
    "start_time": "2023-11-29T18:13:32.071Z"
   },
   {
    "duration": 163,
    "start_time": "2023-11-29T18:13:33.424Z"
   },
   {
    "duration": 22,
    "start_time": "2023-11-29T18:13:34.532Z"
   },
   {
    "duration": 22,
    "start_time": "2023-11-29T18:17:32.813Z"
   },
   {
    "duration": 227,
    "start_time": "2023-11-29T18:17:43.401Z"
   },
   {
    "duration": 89,
    "start_time": "2023-11-29T18:30:39.976Z"
   },
   {
    "duration": 83,
    "start_time": "2023-11-29T18:30:57.840Z"
   },
   {
    "duration": 89,
    "start_time": "2023-11-29T18:31:24.141Z"
   },
   {
    "duration": 73,
    "start_time": "2023-11-29T18:31:35.954Z"
   },
   {
    "duration": 88,
    "start_time": "2023-11-29T18:31:54.734Z"
   },
   {
    "duration": 86,
    "start_time": "2023-11-29T18:32:24.395Z"
   },
   {
    "duration": 103,
    "start_time": "2023-11-29T18:33:08.933Z"
   },
   {
    "duration": 80,
    "start_time": "2023-11-29T18:56:11.160Z"
   },
   {
    "duration": 16,
    "start_time": "2023-11-29T18:56:11.495Z"
   },
   {
    "duration": 16,
    "start_time": "2023-11-29T18:56:11.848Z"
   },
   {
    "duration": 10,
    "start_time": "2023-11-29T18:56:12.593Z"
   },
   {
    "duration": 37,
    "start_time": "2023-11-29T18:56:12.945Z"
   },
   {
    "duration": 4,
    "start_time": "2023-11-29T18:56:13.469Z"
   },
   {
    "duration": 8,
    "start_time": "2023-11-29T18:56:14.098Z"
   },
   {
    "duration": 4,
    "start_time": "2023-11-29T18:56:14.350Z"
   },
   {
    "duration": 5,
    "start_time": "2023-11-29T18:56:14.691Z"
   },
   {
    "duration": 4,
    "start_time": "2023-11-29T18:56:15.059Z"
   },
   {
    "duration": 38,
    "start_time": "2023-11-29T18:56:15.619Z"
   },
   {
    "duration": 11,
    "start_time": "2023-11-29T18:56:15.990Z"
   },
   {
    "duration": 4,
    "start_time": "2023-11-29T18:56:16.549Z"
   },
   {
    "duration": 12,
    "start_time": "2023-11-29T18:56:17.104Z"
   },
   {
    "duration": 21,
    "start_time": "2023-11-29T18:56:17.465Z"
   },
   {
    "duration": 18,
    "start_time": "2023-11-29T18:56:17.653Z"
   },
   {
    "duration": 3,
    "start_time": "2023-11-29T18:56:18.206Z"
   },
   {
    "duration": 11,
    "start_time": "2023-11-29T18:56:18.421Z"
   },
   {
    "duration": 6,
    "start_time": "2023-11-29T18:56:18.789Z"
   },
   {
    "duration": 4,
    "start_time": "2023-11-29T18:56:19.165Z"
   },
   {
    "duration": 8,
    "start_time": "2023-11-29T18:56:19.351Z"
   },
   {
    "duration": 158,
    "start_time": "2023-11-29T18:56:19.938Z"
   },
   {
    "duration": 161,
    "start_time": "2023-11-29T18:56:21.309Z"
   },
   {
    "duration": 153,
    "start_time": "2023-11-29T18:56:22.546Z"
   },
   {
    "duration": 143,
    "start_time": "2023-11-29T18:56:23.681Z"
   },
   {
    "duration": 712,
    "start_time": "2023-12-04T18:15:38.552Z"
   },
   {
    "duration": 510,
    "start_time": "2023-12-04T18:16:01.241Z"
   },
   {
    "duration": 21,
    "start_time": "2023-12-04T18:16:01.753Z"
   },
   {
    "duration": 31,
    "start_time": "2023-12-04T18:16:01.778Z"
   },
   {
    "duration": 37,
    "start_time": "2023-12-04T18:16:01.811Z"
   },
   {
    "duration": 70,
    "start_time": "2023-12-04T18:16:01.849Z"
   },
   {
    "duration": 3,
    "start_time": "2023-12-04T18:16:01.921Z"
   },
   {
    "duration": 16,
    "start_time": "2023-12-04T18:16:01.925Z"
   },
   {
    "duration": 16,
    "start_time": "2023-12-04T18:16:01.943Z"
   },
   {
    "duration": 57,
    "start_time": "2023-12-04T18:16:01.961Z"
   },
   {
    "duration": 18,
    "start_time": "2023-12-04T18:16:02.020Z"
   },
   {
    "duration": 37,
    "start_time": "2023-12-04T18:16:02.040Z"
   },
   {
    "duration": 10,
    "start_time": "2023-12-04T18:16:02.078Z"
   },
   {
    "duration": 6,
    "start_time": "2023-12-04T18:16:02.090Z"
   },
   {
    "duration": 19,
    "start_time": "2023-12-04T18:16:02.097Z"
   },
   {
    "duration": 24,
    "start_time": "2023-12-04T18:16:02.117Z"
   },
   {
    "duration": 16,
    "start_time": "2023-12-04T18:16:02.143Z"
   },
   {
    "duration": 11,
    "start_time": "2023-12-04T18:16:02.160Z"
   },
   {
    "duration": 49,
    "start_time": "2023-12-04T18:16:02.172Z"
   },
   {
    "duration": 7,
    "start_time": "2023-12-04T18:16:02.223Z"
   },
   {
    "duration": 4,
    "start_time": "2023-12-04T18:16:02.231Z"
   },
   {
    "duration": 10,
    "start_time": "2023-12-04T18:16:02.236Z"
   },
   {
    "duration": 404,
    "start_time": "2023-12-04T18:16:02.247Z"
   },
   {
    "duration": 161,
    "start_time": "2023-12-04T18:16:02.652Z"
   },
   {
    "duration": 153,
    "start_time": "2023-12-04T18:16:02.814Z"
   },
   {
    "duration": 154,
    "start_time": "2023-12-04T18:16:02.968Z"
   }
  ],
  "colab": {
   "provenance": []
  },
  "kernelspec": {
   "display_name": "Python 3 (ipykernel)",
   "language": "python",
   "name": "python3"
  },
  "language_info": {
   "codemirror_mode": {
    "name": "ipython",
    "version": 3
   },
   "file_extension": ".py",
   "mimetype": "text/x-python",
   "name": "python",
   "nbconvert_exporter": "python",
   "pygments_lexer": "ipython3",
   "version": "3.9.5"
  },
  "toc": {
   "base_numbering": 1,
   "nav_menu": {},
   "number_sections": true,
   "sideBar": true,
   "skip_h1_title": true,
   "title_cell": "Table of Contents",
   "title_sidebar": "Contents",
   "toc_cell": false,
   "toc_position": {},
   "toc_section_display": true,
   "toc_window_display": false
  }
 },
 "nbformat": 4,
 "nbformat_minor": 5
}
